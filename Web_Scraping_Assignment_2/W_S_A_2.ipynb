{
 "cells": [
  {
   "cell_type": "code",
   "execution_count": 1,
   "id": "2f477248",
   "metadata": {},
   "outputs": [],
   "source": [
    "# (1) Write a python program to scrape data for “Data Analyst” Job position in “Bangalore” location. You have to scrape the job-title, job-location, company_name, experience_required. You have to scrape first 10 jobs data.\n",
    "#  This task will be done in following steps:\n",
    "#1. First get the webpage https://www.naukri.com/\n",
    "#2. Enter “Data Analyst” in “Skill, Designations, Companies” field and enter “Bangalore” in “enter the location” field.\n",
    "#3. Then click the search button.\n",
    "#4. Then scrape the data for the first 10 jobs results you get.\n",
    "#5. Finally create a dataframe of the scraped data."
   ]
  },
  {
   "cell_type": "code",
   "execution_count": 2,
   "id": "aa2c976c",
   "metadata": {},
   "outputs": [],
   "source": [
    "import selenium\n",
    "from selenium import webdriver\n",
    "import pandas as pd\n",
    "import warnings\n",
    "warnings.filterwarnings(\"ignore\")\n"
   ]
  },
  {
   "cell_type": "code",
   "execution_count": 3,
   "id": "ff491084",
   "metadata": {},
   "outputs": [],
   "source": [
    "driver1 = webdriver.Chrome(r'C:\\Users\\Rick\\OneDrive\\Desktop\\Softwares\\chromedriver.exe')"
   ]
  },
  {
   "cell_type": "code",
   "execution_count": 4,
   "id": "ebc61fa4",
   "metadata": {},
   "outputs": [],
   "source": [
    "url1 = 'https://www.naukri.com/'"
   ]
  },
  {
   "cell_type": "code",
   "execution_count": 5,
   "id": "11d5c291",
   "metadata": {},
   "outputs": [],
   "source": [
    "driver1.get(url1)"
   ]
  },
  {
   "cell_type": "code",
   "execution_count": 6,
   "id": "95cd90d8",
   "metadata": {},
   "outputs": [
    {
     "data": {
      "text/plain": [
       "<selenium.webdriver.remote.webelement.WebElement (session=\"6fd89dc297059c104907004da39ace07\", element=\"60c7abff-356f-4691-a654-8aad3993ae75\")>"
      ]
     },
     "execution_count": 6,
     "metadata": {},
     "output_type": "execute_result"
    }
   ],
   "source": [
    "# To automate chromedriver to search-bar of jobtitle looking from multiple companies\n",
    "\n",
    "Searchdesignation = driver1.find_element_by_class_name(\"suggestor-input\")\n",
    "Searchdesignation"
   ]
  },
  {
   "cell_type": "code",
   "execution_count": 7,
   "id": "e97670f3",
   "metadata": {},
   "outputs": [],
   "source": [
    "# To automate chromedriver to select Jobtitle as Data Analyst\n",
    "\n",
    "Searchdesignation.send_keys(\"Data Analyst\")"
   ]
  },
  {
   "cell_type": "code",
   "execution_count": 8,
   "id": "484cc36b",
   "metadata": {},
   "outputs": [
    {
     "data": {
      "text/plain": [
       "<selenium.webdriver.remote.webelement.WebElement (session=\"6fd89dc297059c104907004da39ace07\", element=\"0ad86f04-1649-4005-aa72-d73ad0a2de3a\")>"
      ]
     },
     "execution_count": 8,
     "metadata": {},
     "output_type": "execute_result"
    }
   ],
   "source": [
    "# To automate chromedriver to search-bar of location using Absolute xpath for single location\n",
    "\n",
    "Searchlocation = driver1.find_element_by_xpath(\"/html/body/div/div[2]/div[3]/div/div/div[3]/div/div/div/input\")\n",
    "Searchlocation"
   ]
  },
  {
   "cell_type": "code",
   "execution_count": 9,
   "id": "1fad709b",
   "metadata": {},
   "outputs": [],
   "source": [
    "# To automate search for banglore location\n",
    "\n",
    "Searchlocation.send_keys(\"Bangalore\")"
   ]
  },
  {
   "cell_type": "code",
   "execution_count": 10,
   "id": "22399eec",
   "metadata": {},
   "outputs": [
    {
     "data": {
      "text/plain": [
       "<selenium.webdriver.remote.webelement.WebElement (session=\"6fd89dc297059c104907004da39ace07\", element=\"a278e47a-d96d-4f0b-ba3d-c61e402a9ac0\")>"
      ]
     },
     "execution_count": 10,
     "metadata": {},
     "output_type": "execute_result"
    }
   ],
   "source": [
    "# To locate the submit key for automation\n",
    "\n",
    "Searchbutton = driver1.find_element_by_class_name(\"qsbSubmit\")\n",
    "Searchbutton"
   ]
  },
  {
   "cell_type": "code",
   "execution_count": 11,
   "id": "123abc5d",
   "metadata": {},
   "outputs": [],
   "source": [
    "Searchbutton.click()"
   ]
  },
  {
   "cell_type": "markdown",
   "id": "665e9959",
   "metadata": {},
   "source": [
    "# Extracting Job-Title"
   ]
  },
  {
   "cell_type": "code",
   "execution_count": 12,
   "id": "71b5be0a",
   "metadata": {},
   "outputs": [
    {
     "data": {
      "text/plain": [
       "20"
      ]
     },
     "execution_count": 12,
     "metadata": {},
     "output_type": "execute_result"
    }
   ],
   "source": [
    "# To automate chromedriver to scrape data of job-title \n",
    "\n",
    "titles = driver1.find_elements_by_xpath('//a[@class=\"title fw500 ellipsis\"]')\n",
    "len(titles)"
   ]
  },
  {
   "cell_type": "code",
   "execution_count": 13,
   "id": "af0f4181",
   "metadata": {},
   "outputs": [],
   "source": [
    "Jobtitles = []\n",
    "\n",
    "for i in titles:\n",
    "    Jobtitles.append(i.text)"
   ]
  },
  {
   "cell_type": "markdown",
   "id": "6071c118",
   "metadata": {},
   "source": [
    "# Extracting Company Name"
   ]
  },
  {
   "cell_type": "code",
   "execution_count": 14,
   "id": "0546f88b",
   "metadata": {},
   "outputs": [
    {
     "data": {
      "text/plain": [
       "20"
      ]
     },
     "execution_count": 14,
     "metadata": {},
     "output_type": "execute_result"
    }
   ],
   "source": [
    "# To automate chromedriver to scrape data of job-location\n",
    "\n",
    "Company = driver1.find_elements_by_xpath('//a[@class=\"subTitle ellipsis fleft\"]')\n",
    "len(Company)"
   ]
  },
  {
   "cell_type": "code",
   "execution_count": 15,
   "id": "05d7a2a5",
   "metadata": {},
   "outputs": [],
   "source": [
    "CompanyName = []\n",
    "\n",
    "for i in Company:\n",
    "    CompanyName.append(i.text)"
   ]
  },
  {
   "cell_type": "markdown",
   "id": "192e208c",
   "metadata": {},
   "source": [
    "# Extracting ExperienceRequired"
   ]
  },
  {
   "cell_type": "code",
   "execution_count": 16,
   "id": "30b9381d",
   "metadata": {},
   "outputs": [
    {
     "data": {
      "text/plain": [
       "20"
      ]
     },
     "execution_count": 16,
     "metadata": {},
     "output_type": "execute_result"
    }
   ],
   "source": [
    "Experience = driver1.find_elements_by_xpath('//span[contains(@title,\"Yrs\")]')\n",
    "\n",
    "len(Experience)"
   ]
  },
  {
   "cell_type": "code",
   "execution_count": 17,
   "id": "4c4611a4",
   "metadata": {},
   "outputs": [],
   "source": [
    "ExperienceRequired = []\n",
    "\n",
    "for i in Experience:\n",
    "    ExperienceRequired.append(i.text)"
   ]
  },
  {
   "cell_type": "markdown",
   "id": "8d20ec0a",
   "metadata": {},
   "source": [
    "# Extracting Joblocation"
   ]
  },
  {
   "cell_type": "code",
   "execution_count": 18,
   "id": "e56c99ce",
   "metadata": {},
   "outputs": [
    {
     "data": {
      "text/plain": [
       "20"
      ]
     },
     "execution_count": 18,
     "metadata": {},
     "output_type": "execute_result"
    }
   ],
   "source": [
    "location = driver1.find_elements_by_xpath('//li[@class=\"fleft grey-text br2 placeHolderLi location\"]')\n",
    "\n",
    "len(location)"
   ]
  },
  {
   "cell_type": "code",
   "execution_count": 19,
   "id": "01319af7",
   "metadata": {},
   "outputs": [],
   "source": [
    "Joblocation = []\n",
    "\n",
    "for i in location:\n",
    "    Joblocation.append(i.text)"
   ]
  },
  {
   "cell_type": "code",
   "execution_count": 20,
   "id": "c9774356",
   "metadata": {},
   "outputs": [],
   "source": [
    "ANALYST_JOBS=pd.DataFrame({})\n",
    "ANALYST_JOBS['Job-Title']=Jobtitles[:11]\n",
    "ANALYST_JOBS['Company Name']=CompanyName[:11]\n",
    "ANALYST_JOBS['ExperienceRequired']=ExperienceRequired[:11]\n",
    "ANALYST_JOBS['Joblocation']=Joblocation[:11]"
   ]
  },
  {
   "cell_type": "code",
   "execution_count": 21,
   "id": "dc8b6db9",
   "metadata": {},
   "outputs": [
    {
     "data": {
      "text/html": [
       "<div>\n",
       "<style scoped>\n",
       "    .dataframe tbody tr th:only-of-type {\n",
       "        vertical-align: middle;\n",
       "    }\n",
       "\n",
       "    .dataframe tbody tr th {\n",
       "        vertical-align: top;\n",
       "    }\n",
       "\n",
       "    .dataframe thead th {\n",
       "        text-align: right;\n",
       "    }\n",
       "</style>\n",
       "<table border=\"1\" class=\"dataframe\">\n",
       "  <thead>\n",
       "    <tr style=\"text-align: right;\">\n",
       "      <th></th>\n",
       "      <th>Job-Title</th>\n",
       "      <th>Company Name</th>\n",
       "      <th>ExperienceRequired</th>\n",
       "      <th>Joblocation</th>\n",
       "    </tr>\n",
       "  </thead>\n",
       "  <tbody>\n",
       "    <tr>\n",
       "      <th>0</th>\n",
       "      <td>Senior Data Analyst</td>\n",
       "      <td>Flipkart</td>\n",
       "      <td>4-6 Yrs</td>\n",
       "      <td>Bangalore/Bengaluru</td>\n",
       "    </tr>\n",
       "    <tr>\n",
       "      <th>1</th>\n",
       "      <td>QA Data Analyst</td>\n",
       "      <td>Ralph Lauren</td>\n",
       "      <td>0-3 Yrs</td>\n",
       "      <td>Bangalore/Bengaluru</td>\n",
       "    </tr>\n",
       "    <tr>\n",
       "      <th>2</th>\n",
       "      <td>Data Analyst</td>\n",
       "      <td>GSK India</td>\n",
       "      <td>7-10 Yrs</td>\n",
       "      <td>Bangalore/Bengaluru</td>\n",
       "    </tr>\n",
       "    <tr>\n",
       "      <th>3</th>\n",
       "      <td>Data Analyst</td>\n",
       "      <td>Ericsson Global Services</td>\n",
       "      <td>10-20 Yrs</td>\n",
       "      <td>Bangalore/Bengaluru</td>\n",
       "    </tr>\n",
       "    <tr>\n",
       "      <th>4</th>\n",
       "      <td>Data Analyst</td>\n",
       "      <td>Flipkart</td>\n",
       "      <td>1-6 Yrs</td>\n",
       "      <td>Bangalore/Bengaluru</td>\n",
       "    </tr>\n",
       "    <tr>\n",
       "      <th>5</th>\n",
       "      <td>Data Analyst</td>\n",
       "      <td>FCS Software Solutions</td>\n",
       "      <td>3-8 Yrs</td>\n",
       "      <td>Bangalore/Bengaluru\\n(WFH during Covid)</td>\n",
       "    </tr>\n",
       "    <tr>\n",
       "      <th>6</th>\n",
       "      <td>Data Analyst</td>\n",
       "      <td>FCS Software Solutions</td>\n",
       "      <td>3-8 Yrs</td>\n",
       "      <td>Bangalore/Bengaluru\\n(WFH during Covid)</td>\n",
       "    </tr>\n",
       "    <tr>\n",
       "      <th>7</th>\n",
       "      <td>Senior Data Analyst - Data Modeling/Database D...</td>\n",
       "      <td>K &amp; R Enterprises</td>\n",
       "      <td>4-6 Yrs</td>\n",
       "      <td>Bangalore/Bengaluru</td>\n",
       "    </tr>\n",
       "    <tr>\n",
       "      <th>8</th>\n",
       "      <td>Data analyst</td>\n",
       "      <td>GSK India</td>\n",
       "      <td>5-9 Yrs</td>\n",
       "      <td>Bangalore/Bengaluru</td>\n",
       "    </tr>\n",
       "    <tr>\n",
       "      <th>9</th>\n",
       "      <td>Financial Data Analyst</td>\n",
       "      <td>Moody's</td>\n",
       "      <td>0-2 Yrs</td>\n",
       "      <td>Bangalore/Bengaluru</td>\n",
       "    </tr>\n",
       "    <tr>\n",
       "      <th>10</th>\n",
       "      <td>Data Analyst</td>\n",
       "      <td>Aldius Consulting Services Pvt Ltd (Paramantra)</td>\n",
       "      <td>0-2 Yrs</td>\n",
       "      <td>Bangalore/Bengaluru</td>\n",
       "    </tr>\n",
       "  </tbody>\n",
       "</table>\n",
       "</div>"
      ],
      "text/plain": [
       "                                            Job-Title  \\\n",
       "0                                 Senior Data Analyst   \n",
       "1                                     QA Data Analyst   \n",
       "2                                        Data Analyst   \n",
       "3                                        Data Analyst   \n",
       "4                                        Data Analyst   \n",
       "5                                        Data Analyst   \n",
       "6                                        Data Analyst   \n",
       "7   Senior Data Analyst - Data Modeling/Database D...   \n",
       "8                                        Data analyst   \n",
       "9                              Financial Data Analyst   \n",
       "10                                       Data Analyst   \n",
       "\n",
       "                                       Company Name ExperienceRequired  \\\n",
       "0                                          Flipkart            4-6 Yrs   \n",
       "1                                      Ralph Lauren            0-3 Yrs   \n",
       "2                                         GSK India           7-10 Yrs   \n",
       "3                          Ericsson Global Services          10-20 Yrs   \n",
       "4                                          Flipkart            1-6 Yrs   \n",
       "5                            FCS Software Solutions            3-8 Yrs   \n",
       "6                            FCS Software Solutions            3-8 Yrs   \n",
       "7                                 K & R Enterprises            4-6 Yrs   \n",
       "8                                         GSK India            5-9 Yrs   \n",
       "9                                           Moody's            0-2 Yrs   \n",
       "10  Aldius Consulting Services Pvt Ltd (Paramantra)            0-2 Yrs   \n",
       "\n",
       "                                Joblocation  \n",
       "0                       Bangalore/Bengaluru  \n",
       "1                       Bangalore/Bengaluru  \n",
       "2                       Bangalore/Bengaluru  \n",
       "3                       Bangalore/Bengaluru  \n",
       "4                       Bangalore/Bengaluru  \n",
       "5   Bangalore/Bengaluru\\n(WFH during Covid)  \n",
       "6   Bangalore/Bengaluru\\n(WFH during Covid)  \n",
       "7                       Bangalore/Bengaluru  \n",
       "8                       Bangalore/Bengaluru  \n",
       "9                       Bangalore/Bengaluru  \n",
       "10                      Bangalore/Bengaluru  "
      ]
     },
     "execution_count": 21,
     "metadata": {},
     "output_type": "execute_result"
    }
   ],
   "source": [
    "ANALYST_JOBS"
   ]
  },
  {
   "cell_type": "code",
   "execution_count": null,
   "id": "243a8292",
   "metadata": {},
   "outputs": [],
   "source": []
  },
  {
   "cell_type": "code",
   "execution_count": 22,
   "id": "f66f9eb4",
   "metadata": {},
   "outputs": [],
   "source": [
    "# (2) Write a python program to scrape data for “Data Scientist” Job position in “Bangalore” location. You have to scrape the job-title, job-location, company_name. You have to scrape first 10 jobs data. This task will be done in following steps:\n",
    "#1. First get the webpage https://www.naukri.com/\n",
    "#2. Enter “Data Scientist” in “Skill, Designations, Companies” field and enter “Bangalore” in “enter the location” field.\n",
    "#3. Then click the search button.\n",
    "#4. Then scrape the data for the first 10 jobs results you get.\n",
    "#5. Finally create a dataframe of the scraped data.\n"
   ]
  },
  {
   "cell_type": "code",
   "execution_count": 23,
   "id": "ac6e592b",
   "metadata": {},
   "outputs": [],
   "source": [
    "import selenium\n",
    "from selenium import webdriver\n",
    "import pandas as pd\n",
    "import warnings\n",
    "warnings.filterwarnings(\"ignore\")\n"
   ]
  },
  {
   "cell_type": "code",
   "execution_count": 24,
   "id": "a08ff670",
   "metadata": {},
   "outputs": [],
   "source": [
    "driver2 = webdriver.Chrome(r'C:\\Users\\Rick\\OneDrive\\Desktop\\Softwares\\chromedriver.exe')"
   ]
  },
  {
   "cell_type": "code",
   "execution_count": 25,
   "id": "5d8d3d51",
   "metadata": {},
   "outputs": [],
   "source": [
    "url2 = 'https://www.naukri.com/'"
   ]
  },
  {
   "cell_type": "code",
   "execution_count": 26,
   "id": "d8d7f390",
   "metadata": {},
   "outputs": [],
   "source": [
    "driver2.get(url2)"
   ]
  },
  {
   "cell_type": "code",
   "execution_count": 27,
   "id": "25783469",
   "metadata": {},
   "outputs": [
    {
     "data": {
      "text/plain": [
       "<selenium.webdriver.remote.webelement.WebElement (session=\"b559114c1fd51b64a926e7962f85ecbf\", element=\"1934ef82-be06-4d20-91c5-2f7194490067\")>"
      ]
     },
     "execution_count": 27,
     "metadata": {},
     "output_type": "execute_result"
    }
   ],
   "source": [
    "# To automate chromedriver to search-bar of jobtitle looking from multiple companies\n",
    "\n",
    "Searchdesignation1 = driver2.find_element_by_class_name(\"suggestor-input\")\n",
    "Searchdesignation1"
   ]
  },
  {
   "cell_type": "code",
   "execution_count": 28,
   "id": "bd14a17c",
   "metadata": {},
   "outputs": [],
   "source": [
    "# To automate chromedriver to select Jobtitle as Data Scientist\n",
    "\n",
    "Searchdesignation1.send_keys(\"Data Scientist\")"
   ]
  },
  {
   "cell_type": "code",
   "execution_count": 29,
   "id": "42bc0488",
   "metadata": {},
   "outputs": [
    {
     "data": {
      "text/plain": [
       "<selenium.webdriver.remote.webelement.WebElement (session=\"b559114c1fd51b64a926e7962f85ecbf\", element=\"1b271c4a-4bc7-41cd-8e45-d11a77724316\")>"
      ]
     },
     "execution_count": 29,
     "metadata": {},
     "output_type": "execute_result"
    }
   ],
   "source": [
    "# To automate chromedriver to search-bar of location using Absolute xpath for single location\n",
    "\n",
    "Searchlocation = driver2.find_element_by_xpath(\"/html/body/div/div[2]/div[3]/div/div/div[3]/div/div/div/input\")\n",
    "Searchlocation"
   ]
  },
  {
   "cell_type": "code",
   "execution_count": 30,
   "id": "b7b490b4",
   "metadata": {},
   "outputs": [],
   "source": [
    "# To automate search for banglore location\n",
    "\n",
    "Searchlocation.send_keys(\"Bangalore\")"
   ]
  },
  {
   "cell_type": "code",
   "execution_count": 31,
   "id": "86496c92",
   "metadata": {},
   "outputs": [
    {
     "data": {
      "text/plain": [
       "<selenium.webdriver.remote.webelement.WebElement (session=\"b559114c1fd51b64a926e7962f85ecbf\", element=\"79b08753-a103-4706-a7de-500fc53255dc\")>"
      ]
     },
     "execution_count": 31,
     "metadata": {},
     "output_type": "execute_result"
    }
   ],
   "source": [
    "# To locate the submit key for automation\n",
    "\n",
    "Searchbutton1 = driver2.find_element_by_class_name(\"qsbSubmit\")\n",
    "Searchbutton1"
   ]
  },
  {
   "cell_type": "code",
   "execution_count": 32,
   "id": "1de579ba",
   "metadata": {},
   "outputs": [],
   "source": [
    "Searchbutton1.click()"
   ]
  },
  {
   "cell_type": "markdown",
   "id": "30d49c03",
   "metadata": {},
   "source": [
    "# Extracting Job-Title"
   ]
  },
  {
   "cell_type": "code",
   "execution_count": 33,
   "id": "bfb97086",
   "metadata": {},
   "outputs": [
    {
     "data": {
      "text/plain": [
       "20"
      ]
     },
     "execution_count": 33,
     "metadata": {},
     "output_type": "execute_result"
    }
   ],
   "source": [
    "# To automate chromedriver to scrape data of job-title \n",
    "\n",
    "titles1 = driver2.find_elements_by_xpath('//a[@class=\"title fw500 ellipsis\"]')\n",
    "len(titles1)"
   ]
  },
  {
   "cell_type": "code",
   "execution_count": 34,
   "id": "5ad0e20f",
   "metadata": {},
   "outputs": [],
   "source": [
    "Jobtitles1 = []\n",
    "\n",
    "for i in titles1:\n",
    "    Jobtitles1.append(i.text)"
   ]
  },
  {
   "cell_type": "markdown",
   "id": "76e1e786",
   "metadata": {},
   "source": [
    "# Extracting Company Name"
   ]
  },
  {
   "cell_type": "code",
   "execution_count": 35,
   "id": "f019041f",
   "metadata": {},
   "outputs": [
    {
     "data": {
      "text/plain": [
       "20"
      ]
     },
     "execution_count": 35,
     "metadata": {},
     "output_type": "execute_result"
    }
   ],
   "source": [
    "# To automate chromedriver to scrape data of job-location\n",
    "\n",
    "Company1 = driver2.find_elements_by_xpath('//a[@class=\"subTitle ellipsis fleft\"]')\n",
    "len(Company1)"
   ]
  },
  {
   "cell_type": "code",
   "execution_count": 36,
   "id": "970083cf",
   "metadata": {},
   "outputs": [],
   "source": [
    "CompanyName1 = []\n",
    "\n",
    "for i in Company1:\n",
    "    CompanyName1.append(i.text)"
   ]
  },
  {
   "cell_type": "markdown",
   "id": "6f0c4207",
   "metadata": {},
   "source": [
    "# Extracting Joblocation"
   ]
  },
  {
   "cell_type": "code",
   "execution_count": 37,
   "id": "2a583d8a",
   "metadata": {},
   "outputs": [
    {
     "data": {
      "text/plain": [
       "20"
      ]
     },
     "execution_count": 37,
     "metadata": {},
     "output_type": "execute_result"
    }
   ],
   "source": [
    "location1 = driver2.find_elements_by_xpath('//li[@class=\"fleft grey-text br2 placeHolderLi location\"]')\n",
    "\n",
    "len(location1)"
   ]
  },
  {
   "cell_type": "code",
   "execution_count": 38,
   "id": "6f44ff6d",
   "metadata": {},
   "outputs": [],
   "source": [
    "Joblocation1 = []\n",
    "\n",
    "for i in location1:\n",
    "    Joblocation1.append(i.text)"
   ]
  },
  {
   "cell_type": "code",
   "execution_count": 39,
   "id": "c4caa006",
   "metadata": {},
   "outputs": [],
   "source": [
    "SCIENTIST_JOBS=pd.DataFrame({})\n",
    "SCIENTIST_JOBS['Job-Title']=Jobtitles1[:11]\n",
    "SCIENTIST_JOBS['Company Name']=CompanyName1[:11]\n",
    "SCIENTIST_JOBS['Joblocation']=Joblocation1[:11]"
   ]
  },
  {
   "cell_type": "code",
   "execution_count": 40,
   "id": "ab064dca",
   "metadata": {},
   "outputs": [
    {
     "data": {
      "text/html": [
       "<div>\n",
       "<style scoped>\n",
       "    .dataframe tbody tr th:only-of-type {\n",
       "        vertical-align: middle;\n",
       "    }\n",
       "\n",
       "    .dataframe tbody tr th {\n",
       "        vertical-align: top;\n",
       "    }\n",
       "\n",
       "    .dataframe thead th {\n",
       "        text-align: right;\n",
       "    }\n",
       "</style>\n",
       "<table border=\"1\" class=\"dataframe\">\n",
       "  <thead>\n",
       "    <tr style=\"text-align: right;\">\n",
       "      <th></th>\n",
       "      <th>Job-Title</th>\n",
       "      <th>Company Name</th>\n",
       "      <th>Joblocation</th>\n",
       "    </tr>\n",
       "  </thead>\n",
       "  <tbody>\n",
       "    <tr>\n",
       "      <th>0</th>\n",
       "      <td>Senior Data Scientist</td>\n",
       "      <td>Shell</td>\n",
       "      <td>Chennai, Bangalore/Bengaluru</td>\n",
       "    </tr>\n",
       "    <tr>\n",
       "      <th>1</th>\n",
       "      <td>Global Tax Automation &amp; Operations - Data Scie...</td>\n",
       "      <td>Dell</td>\n",
       "      <td>Bangalore/Bengaluru</td>\n",
       "    </tr>\n",
       "    <tr>\n",
       "      <th>2</th>\n",
       "      <td>Analyst / Data Scientist</td>\n",
       "      <td>MilliporeSigma</td>\n",
       "      <td>Bangalore/Bengaluru</td>\n",
       "    </tr>\n",
       "    <tr>\n",
       "      <th>3</th>\n",
       "      <td>Opportunity For Data Scientist Internship - Be...</td>\n",
       "      <td>Corner Stone Solutions</td>\n",
       "      <td>Indore, Bangalore/Bengaluru\\n(WFH during Covid)</td>\n",
       "    </tr>\n",
       "    <tr>\n",
       "      <th>4</th>\n",
       "      <td>Data Scientist: Advanced Analytics</td>\n",
       "      <td>IBM</td>\n",
       "      <td>Bangalore/Bengaluru</td>\n",
       "    </tr>\n",
       "    <tr>\n",
       "      <th>5</th>\n",
       "      <td>Data Scientist: Advanced Analytics</td>\n",
       "      <td>IBM</td>\n",
       "      <td>Bangalore/Bengaluru</td>\n",
       "    </tr>\n",
       "    <tr>\n",
       "      <th>6</th>\n",
       "      <td>Data Scientist: Advanced Analytics</td>\n",
       "      <td>IBM</td>\n",
       "      <td>Bangalore/Bengaluru</td>\n",
       "    </tr>\n",
       "    <tr>\n",
       "      <th>7</th>\n",
       "      <td>Data Scientist: Artificial Intelligence</td>\n",
       "      <td>IBM</td>\n",
       "      <td>Bangalore/Bengaluru</td>\n",
       "    </tr>\n",
       "    <tr>\n",
       "      <th>8</th>\n",
       "      <td>Senior Data Scientist</td>\n",
       "      <td>Siemens</td>\n",
       "      <td>Bangalore/Bengaluru</td>\n",
       "    </tr>\n",
       "    <tr>\n",
       "      <th>9</th>\n",
       "      <td>Senior Data Scientist (Fintech)</td>\n",
       "      <td>NIRA</td>\n",
       "      <td>Bangalore/Bengaluru</td>\n",
       "    </tr>\n",
       "    <tr>\n",
       "      <th>10</th>\n",
       "      <td>Senior Data Scientist</td>\n",
       "      <td>Sabre</td>\n",
       "      <td>Bangalore/Bengaluru</td>\n",
       "    </tr>\n",
       "  </tbody>\n",
       "</table>\n",
       "</div>"
      ],
      "text/plain": [
       "                                            Job-Title            Company Name  \\\n",
       "0                               Senior Data Scientist                   Shell   \n",
       "1   Global Tax Automation & Operations - Data Scie...                    Dell   \n",
       "2                            Analyst / Data Scientist          MilliporeSigma   \n",
       "3   Opportunity For Data Scientist Internship - Be...  Corner Stone Solutions   \n",
       "4                  Data Scientist: Advanced Analytics                     IBM   \n",
       "5                  Data Scientist: Advanced Analytics                     IBM   \n",
       "6                  Data Scientist: Advanced Analytics                     IBM   \n",
       "7             Data Scientist: Artificial Intelligence                     IBM   \n",
       "8                               Senior Data Scientist                 Siemens   \n",
       "9                     Senior Data Scientist (Fintech)                    NIRA   \n",
       "10                              Senior Data Scientist                   Sabre   \n",
       "\n",
       "                                        Joblocation  \n",
       "0                      Chennai, Bangalore/Bengaluru  \n",
       "1                               Bangalore/Bengaluru  \n",
       "2                               Bangalore/Bengaluru  \n",
       "3   Indore, Bangalore/Bengaluru\\n(WFH during Covid)  \n",
       "4                               Bangalore/Bengaluru  \n",
       "5                               Bangalore/Bengaluru  \n",
       "6                               Bangalore/Bengaluru  \n",
       "7                               Bangalore/Bengaluru  \n",
       "8                               Bangalore/Bengaluru  \n",
       "9                               Bangalore/Bengaluru  \n",
       "10                              Bangalore/Bengaluru  "
      ]
     },
     "execution_count": 40,
     "metadata": {},
     "output_type": "execute_result"
    }
   ],
   "source": [
    "SCIENTIST_JOBS"
   ]
  },
  {
   "cell_type": "code",
   "execution_count": null,
   "id": "1bf4d074",
   "metadata": {},
   "outputs": [],
   "source": []
  },
  {
   "cell_type": "code",
   "execution_count": 41,
   "id": "92deae4c",
   "metadata": {},
   "outputs": [],
   "source": [
    "# (3) In this question you have to scrape data using the filters available on the webpage as shown below:\n",
    "# You have to use the location and salary filter.\n",
    "# You have to scrape data for “Data Scientist” designation for first 10 job results.\n",
    "# You have to scrape the job-title, job-location, company name, experience required.\n",
    "# The location filter to be used is “Delhi/NCR”. The salary filter to be used is “3-6” lakhs\n",
    "# The task will be done as shown in the below steps:\n",
    "#1. first get the webpage https://www.naukri.com/\n",
    "#2. Enter “Data Scientist” in “Skill, Designations, and Companies” field.\n",
    "#3. Then click the search button.\n",
    "#4. Then apply the location filter and salary filter by checking the respective boxes\n",
    "#5. Then scrape the data for the first 10 jobs results you get.\n",
    "#6. Finally create a dataframe of the scraped data."
   ]
  },
  {
   "cell_type": "code",
   "execution_count": 42,
   "id": "e40068c6",
   "metadata": {},
   "outputs": [],
   "source": [
    "import selenium\n",
    "from selenium import webdriver\n",
    "import pandas as pd\n",
    "import warnings\n",
    "warnings.filterwarnings(\"ignore\")\n"
   ]
  },
  {
   "cell_type": "code",
   "execution_count": 43,
   "id": "85a36c46",
   "metadata": {},
   "outputs": [],
   "source": [
    "driver3 = webdriver.Chrome(r'C:\\Users\\Rick\\OneDrive\\Desktop\\Softwares\\chromedriver.exe')"
   ]
  },
  {
   "cell_type": "code",
   "execution_count": 44,
   "id": "09197191",
   "metadata": {},
   "outputs": [],
   "source": [
    "url3 = 'https://www.naukri.com/'"
   ]
  },
  {
   "cell_type": "code",
   "execution_count": 45,
   "id": "5f6c30c7",
   "metadata": {},
   "outputs": [],
   "source": [
    "driver3.get(url3)"
   ]
  },
  {
   "cell_type": "code",
   "execution_count": 46,
   "id": "e700a720",
   "metadata": {},
   "outputs": [
    {
     "data": {
      "text/plain": [
       "<selenium.webdriver.remote.webelement.WebElement (session=\"0243829d83dea8705f1974ba50689f97\", element=\"7078ccee-6e3f-446e-a3ef-058f12bba52a\")>"
      ]
     },
     "execution_count": 46,
     "metadata": {},
     "output_type": "execute_result"
    }
   ],
   "source": [
    "# To automate chromedriver to search-bar of jobtitle looking from multiple companies\n",
    "\n",
    "Searchdesignation2 = driver3.find_element_by_class_name(\"suggestor-input\")\n",
    "Searchdesignation2"
   ]
  },
  {
   "cell_type": "code",
   "execution_count": 47,
   "id": "c6810883",
   "metadata": {},
   "outputs": [],
   "source": [
    "# To automate chromedriver to select Jobtitle as Data Analyst\n",
    "\n",
    "Searchdesignation2.send_keys(\"Data Scientist\")"
   ]
  },
  {
   "cell_type": "code",
   "execution_count": 48,
   "id": "edfa9f70",
   "metadata": {},
   "outputs": [
    {
     "data": {
      "text/plain": [
       "<selenium.webdriver.remote.webelement.WebElement (session=\"0243829d83dea8705f1974ba50689f97\", element=\"f1975e67-1873-4426-9c09-a27caecb9af7\")>"
      ]
     },
     "execution_count": 48,
     "metadata": {},
     "output_type": "execute_result"
    }
   ],
   "source": [
    "# To automate chromedriver to search-bar of location using Absolute xpath for single location\n",
    "\n",
    "Searchlocation2 = driver3.find_element_by_xpath(\"/html/body/div/div[2]/div[3]/div/div/div[3]/div/div/div/input\")\n",
    "Searchlocation2"
   ]
  },
  {
   "cell_type": "code",
   "execution_count": 49,
   "id": "4ac032d4",
   "metadata": {},
   "outputs": [],
   "source": [
    "# To automate search for banglore location\n",
    "\n",
    "Searchlocation2.send_keys(\"Delhi/NCR\")"
   ]
  },
  {
   "cell_type": "code",
   "execution_count": 50,
   "id": "d5a0b633",
   "metadata": {},
   "outputs": [
    {
     "data": {
      "text/plain": [
       "<selenium.webdriver.remote.webelement.WebElement (session=\"0243829d83dea8705f1974ba50689f97\", element=\"76a78562-2cc0-471f-a39f-408f39ea8c5e\")>"
      ]
     },
     "execution_count": 50,
     "metadata": {},
     "output_type": "execute_result"
    }
   ],
   "source": [
    "# To locate the submit key for automation\n",
    "\n",
    "Searchbutton2 = driver3.find_element_by_class_name(\"qsbSubmit\")\n",
    "Searchbutton2"
   ]
  },
  {
   "cell_type": "code",
   "execution_count": 51,
   "id": "a76955b1",
   "metadata": {},
   "outputs": [],
   "source": [
    "Searchbutton2.click()"
   ]
  },
  {
   "cell_type": "code",
   "execution_count": 52,
   "id": "64e16da1",
   "metadata": {},
   "outputs": [],
   "source": [
    "# To automate chromedriver to SalaryFilter using Absolute xpath for single SalaryJoblist\n",
    "\n",
    "setsalaryfilter = driver3.find_element_by_xpath(\"/html/body/div[1]/div[3]/div[2]/section[1]/div[2]/div[4]/div[2]/div[2]/label/p\")\n",
    "setsalaryfilter.click()"
   ]
  },
  {
   "cell_type": "markdown",
   "id": "843c5b82",
   "metadata": {},
   "source": [
    "# Extracting Job-Title"
   ]
  },
  {
   "cell_type": "code",
   "execution_count": 53,
   "id": "20805275",
   "metadata": {},
   "outputs": [
    {
     "data": {
      "text/plain": [
       "20"
      ]
     },
     "execution_count": 53,
     "metadata": {},
     "output_type": "execute_result"
    }
   ],
   "source": [
    "# To automate chromedriver to scrape data of job-title \n",
    "\n",
    "titles2 = driver3.find_elements_by_xpath('//a[@class=\"title fw500 ellipsis\"]')\n",
    "len(titles2)"
   ]
  },
  {
   "cell_type": "code",
   "execution_count": 54,
   "id": "518bce6f",
   "metadata": {},
   "outputs": [],
   "source": [
    "Jobtitles2 = []\n",
    "\n",
    "for i in titles2:\n",
    "    Jobtitles2.append(i.text)"
   ]
  },
  {
   "cell_type": "markdown",
   "id": "b53288c8",
   "metadata": {},
   "source": [
    "# Extracting Company Name"
   ]
  },
  {
   "cell_type": "code",
   "execution_count": 55,
   "id": "19c540b1",
   "metadata": {},
   "outputs": [
    {
     "data": {
      "text/plain": [
       "20"
      ]
     },
     "execution_count": 55,
     "metadata": {},
     "output_type": "execute_result"
    }
   ],
   "source": [
    "# To automate chromedriver to scrape data of job-location\n",
    "\n",
    "Company2 = driver3.find_elements_by_xpath('//a[@class=\"subTitle ellipsis fleft\"]')\n",
    "len(Company2)"
   ]
  },
  {
   "cell_type": "code",
   "execution_count": 56,
   "id": "d734f0f3",
   "metadata": {},
   "outputs": [],
   "source": [
    "CompanyName2 = []\n",
    "\n",
    "for i in Company2:\n",
    "    CompanyName2.append(i.text)"
   ]
  },
  {
   "cell_type": "markdown",
   "id": "f0830936",
   "metadata": {},
   "source": [
    "# Extracting Joblocation"
   ]
  },
  {
   "cell_type": "code",
   "execution_count": 57,
   "id": "38cfb355",
   "metadata": {},
   "outputs": [
    {
     "data": {
      "text/plain": [
       "20"
      ]
     },
     "execution_count": 57,
     "metadata": {},
     "output_type": "execute_result"
    }
   ],
   "source": [
    "location1 = driver3.find_elements_by_xpath('//li[@class=\"fleft grey-text br2 placeHolderLi location\"]')\n",
    "\n",
    "len(location1)"
   ]
  },
  {
   "cell_type": "code",
   "execution_count": 58,
   "id": "471db7c5",
   "metadata": {},
   "outputs": [],
   "source": [
    "Joblocation1 = []\n",
    "\n",
    "for i in location1:\n",
    "    Joblocation1.append(i.text)"
   ]
  },
  {
   "cell_type": "markdown",
   "id": "d075fac5",
   "metadata": {},
   "source": [
    "# Extracting ExperienceRequired"
   ]
  },
  {
   "cell_type": "code",
   "execution_count": 59,
   "id": "f49e623e",
   "metadata": {},
   "outputs": [
    {
     "data": {
      "text/plain": [
       "20"
      ]
     },
     "execution_count": 59,
     "metadata": {},
     "output_type": "execute_result"
    }
   ],
   "source": [
    "Experience1 = driver3.find_elements_by_xpath('//span[contains(@title,\"Yrs\")]')\n",
    "\n",
    "len(Experience1)"
   ]
  },
  {
   "cell_type": "code",
   "execution_count": 60,
   "id": "73819f9c",
   "metadata": {},
   "outputs": [],
   "source": [
    "ExperienceRequired1 = []\n",
    "\n",
    "for i in Experience1:\n",
    "    ExperienceRequired1.append(i.text)"
   ]
  },
  {
   "cell_type": "code",
   "execution_count": 61,
   "id": "a50498a5",
   "metadata": {},
   "outputs": [],
   "source": [
    "DELHI_SCIENTIST_JOBS=pd.DataFrame({})\n",
    "DELHI_SCIENTIST_JOBS['Job-Title']=Jobtitles2[:11]\n",
    "DELHI_SCIENTIST_JOBS['Company Name']=CompanyName2[:11]\n",
    "DELHI_SCIENTIST_JOBS['Joblocation']=Joblocation1[:11]\n",
    "DELHI_SCIENTIST_JOBS['ExperienceRequired']=Experience1[:11]"
   ]
  },
  {
   "cell_type": "code",
   "execution_count": 62,
   "id": "682d3e17",
   "metadata": {},
   "outputs": [
    {
     "data": {
      "text/html": [
       "<div>\n",
       "<style scoped>\n",
       "    .dataframe tbody tr th:only-of-type {\n",
       "        vertical-align: middle;\n",
       "    }\n",
       "\n",
       "    .dataframe tbody tr th {\n",
       "        vertical-align: top;\n",
       "    }\n",
       "\n",
       "    .dataframe thead th {\n",
       "        text-align: right;\n",
       "    }\n",
       "</style>\n",
       "<table border=\"1\" class=\"dataframe\">\n",
       "  <thead>\n",
       "    <tr style=\"text-align: right;\">\n",
       "      <th></th>\n",
       "      <th>Job-Title</th>\n",
       "      <th>Company Name</th>\n",
       "      <th>Joblocation</th>\n",
       "      <th>ExperienceRequired</th>\n",
       "    </tr>\n",
       "  </thead>\n",
       "  <tbody>\n",
       "    <tr>\n",
       "      <th>0</th>\n",
       "      <td>Data Scientist</td>\n",
       "      <td>NAVIKENZ INDIA PRIVATE LIMITED</td>\n",
       "      <td>Hyderabad/Secunderabad, Bangalore/Bengaluru, D...</td>\n",
       "      <td>&lt;selenium.webdriver.remote.webelement.WebEleme...</td>\n",
       "    </tr>\n",
       "    <tr>\n",
       "      <th>1</th>\n",
       "      <td>Data Scientist | A Fintech Organisation</td>\n",
       "      <td>Vision Beyond Resources India Private Limited</td>\n",
       "      <td>Gurgaon/Gurugram</td>\n",
       "      <td>&lt;selenium.webdriver.remote.webelement.WebEleme...</td>\n",
       "    </tr>\n",
       "    <tr>\n",
       "      <th>2</th>\n",
       "      <td>Data Scientist</td>\n",
       "      <td>Alp Consulting Limited</td>\n",
       "      <td>Kolkata, Hyderabad/Secunderabad, Pune, Chennai...</td>\n",
       "      <td>&lt;selenium.webdriver.remote.webelement.WebEleme...</td>\n",
       "    </tr>\n",
       "    <tr>\n",
       "      <th>3</th>\n",
       "      <td>Data Scientist-Onsite and offshore</td>\n",
       "      <td>PROKXIMITY</td>\n",
       "      <td>Hyderabad/Secunderabad, Pune, Chennai, Bangalo...</td>\n",
       "      <td>&lt;selenium.webdriver.remote.webelement.WebEleme...</td>\n",
       "    </tr>\n",
       "    <tr>\n",
       "      <th>4</th>\n",
       "      <td>Data Scientist (freelance)</td>\n",
       "      <td>2Coms</td>\n",
       "      <td>New Delhi, Delhi</td>\n",
       "      <td>&lt;selenium.webdriver.remote.webelement.WebEleme...</td>\n",
       "    </tr>\n",
       "    <tr>\n",
       "      <th>5</th>\n",
       "      <td>Data Scientist</td>\n",
       "      <td>CHANGE LEADERS CONSULTING</td>\n",
       "      <td>New Delhi</td>\n",
       "      <td>&lt;selenium.webdriver.remote.webelement.WebEleme...</td>\n",
       "    </tr>\n",
       "    <tr>\n",
       "      <th>6</th>\n",
       "      <td>Data Scientist</td>\n",
       "      <td>DECISION POINT PRIVATE LIMITED</td>\n",
       "      <td>Gurgaon/Gurugram, Chennai\\n(WFH during Covid)</td>\n",
       "      <td>&lt;selenium.webdriver.remote.webelement.WebEleme...</td>\n",
       "    </tr>\n",
       "    <tr>\n",
       "      <th>7</th>\n",
       "      <td>Data &amp; Applied Scientist</td>\n",
       "      <td>Microsoft</td>\n",
       "      <td>Noida, Hyderabad/Secunderabad, Bangalore/Benga...</td>\n",
       "      <td>&lt;selenium.webdriver.remote.webelement.WebEleme...</td>\n",
       "    </tr>\n",
       "    <tr>\n",
       "      <th>8</th>\n",
       "      <td>Data and applied Scientist</td>\n",
       "      <td>Microsoft</td>\n",
       "      <td>Noida, Hyderabad/Secunderabad, Bangalore/Benga...</td>\n",
       "      <td>&lt;selenium.webdriver.remote.webelement.WebEleme...</td>\n",
       "    </tr>\n",
       "    <tr>\n",
       "      <th>9</th>\n",
       "      <td>Data Scientist</td>\n",
       "      <td>Cloudstrats Technologies Private Limited</td>\n",
       "      <td>New Delhi, Delhi / NCR, Mumbai (All Areas)</td>\n",
       "      <td>&lt;selenium.webdriver.remote.webelement.WebEleme...</td>\n",
       "    </tr>\n",
       "    <tr>\n",
       "      <th>10</th>\n",
       "      <td>Urgent Requirement || Data Scientist || Noida</td>\n",
       "      <td>HCL</td>\n",
       "      <td>Noida, Delhi / NCR</td>\n",
       "      <td>&lt;selenium.webdriver.remote.webelement.WebEleme...</td>\n",
       "    </tr>\n",
       "  </tbody>\n",
       "</table>\n",
       "</div>"
      ],
      "text/plain": [
       "                                        Job-Title  \\\n",
       "0                                  Data Scientist   \n",
       "1         Data Scientist | A Fintech Organisation   \n",
       "2                                  Data Scientist   \n",
       "3              Data Scientist-Onsite and offshore   \n",
       "4                      Data Scientist (freelance)   \n",
       "5                                  Data Scientist   \n",
       "6                                  Data Scientist   \n",
       "7                        Data & Applied Scientist   \n",
       "8                      Data and applied Scientist   \n",
       "9                                  Data Scientist   \n",
       "10  Urgent Requirement || Data Scientist || Noida   \n",
       "\n",
       "                                     Company Name  \\\n",
       "0                  NAVIKENZ INDIA PRIVATE LIMITED   \n",
       "1   Vision Beyond Resources India Private Limited   \n",
       "2                          Alp Consulting Limited   \n",
       "3                                      PROKXIMITY   \n",
       "4                                           2Coms   \n",
       "5                       CHANGE LEADERS CONSULTING   \n",
       "6                  DECISION POINT PRIVATE LIMITED   \n",
       "7                                       Microsoft   \n",
       "8                                       Microsoft   \n",
       "9        Cloudstrats Technologies Private Limited   \n",
       "10                                            HCL   \n",
       "\n",
       "                                          Joblocation  \\\n",
       "0   Hyderabad/Secunderabad, Bangalore/Bengaluru, D...   \n",
       "1                                    Gurgaon/Gurugram   \n",
       "2   Kolkata, Hyderabad/Secunderabad, Pune, Chennai...   \n",
       "3   Hyderabad/Secunderabad, Pune, Chennai, Bangalo...   \n",
       "4                                    New Delhi, Delhi   \n",
       "5                                           New Delhi   \n",
       "6       Gurgaon/Gurugram, Chennai\\n(WFH during Covid)   \n",
       "7   Noida, Hyderabad/Secunderabad, Bangalore/Benga...   \n",
       "8   Noida, Hyderabad/Secunderabad, Bangalore/Benga...   \n",
       "9          New Delhi, Delhi / NCR, Mumbai (All Areas)   \n",
       "10                                 Noida, Delhi / NCR   \n",
       "\n",
       "                                   ExperienceRequired  \n",
       "0   <selenium.webdriver.remote.webelement.WebEleme...  \n",
       "1   <selenium.webdriver.remote.webelement.WebEleme...  \n",
       "2   <selenium.webdriver.remote.webelement.WebEleme...  \n",
       "3   <selenium.webdriver.remote.webelement.WebEleme...  \n",
       "4   <selenium.webdriver.remote.webelement.WebEleme...  \n",
       "5   <selenium.webdriver.remote.webelement.WebEleme...  \n",
       "6   <selenium.webdriver.remote.webelement.WebEleme...  \n",
       "7   <selenium.webdriver.remote.webelement.WebEleme...  \n",
       "8   <selenium.webdriver.remote.webelement.WebEleme...  \n",
       "9   <selenium.webdriver.remote.webelement.WebEleme...  \n",
       "10  <selenium.webdriver.remote.webelement.WebEleme...  "
      ]
     },
     "execution_count": 62,
     "metadata": {},
     "output_type": "execute_result"
    }
   ],
   "source": [
    "DELHI_SCIENTIST_JOBS"
   ]
  },
  {
   "cell_type": "code",
   "execution_count": null,
   "id": "0bdd930a",
   "metadata": {},
   "outputs": [],
   "source": []
  },
  {
   "cell_type": "code",
   "execution_count": 63,
   "id": "4394c4a5",
   "metadata": {},
   "outputs": [],
   "source": [
    "# (4) Scrape data of first 100 sunglasses listings on flipkart.com. You have to scrape four attributes:\n",
    "#1. Brand\n",
    "#2. Product Description\n",
    "#3. Price\n",
    "#The attributes which you have to scrape is ticked marked in the below image.\n",
    "#To scrape the data you have to go through following steps:\n",
    "#1. Go to Flipkart webpage by url : https://www.flipkart.com/\n",
    "#2. Enter “sunglasses” in the search field where “search for products, brands andmore” is written andclick the search icon\n",
    "#3. After that you will reach to the page having a lot of sunglasses. From this pageyou can scrap therequired data as usual."
   ]
  },
  {
   "cell_type": "code",
   "execution_count": 64,
   "id": "d459bc16",
   "metadata": {},
   "outputs": [],
   "source": [
    "import selenium\n",
    "from selenium import webdriver\n",
    "import pandas as pd\n",
    "import warnings\n",
    "warnings.filterwarnings(\"ignore\")"
   ]
  },
  {
   "cell_type": "code",
   "execution_count": 65,
   "id": "0dab982e",
   "metadata": {},
   "outputs": [],
   "source": [
    "driver4 = webdriver.Chrome(r'C:\\Users\\Rick\\OneDrive\\Desktop\\Softwares\\chromedriver.exe')"
   ]
  },
  {
   "cell_type": "code",
   "execution_count": 66,
   "id": "c7b5dbe3",
   "metadata": {},
   "outputs": [],
   "source": [
    "url4 = 'https://www.flipkart.com/'"
   ]
  },
  {
   "cell_type": "code",
   "execution_count": 67,
   "id": "7a40a5fa",
   "metadata": {},
   "outputs": [],
   "source": [
    "driver4.get(url4)"
   ]
  },
  {
   "cell_type": "code",
   "execution_count": 68,
   "id": "7998b1b1",
   "metadata": {},
   "outputs": [],
   "source": [
    "# To locate the LOGIN SKIP X key for automation\n",
    "\n",
    "Exitbutton1 = driver4.find_element_by_xpath(\"/html/body/div[2]/div/div/button\")\n",
    "Exitbutton1.click()"
   ]
  },
  {
   "cell_type": "code",
   "execution_count": 69,
   "id": "7648fffb",
   "metadata": {},
   "outputs": [
    {
     "data": {
      "text/plain": [
       "<selenium.webdriver.remote.webelement.WebElement (session=\"c34a04f15204176d2fc40e474b3b4f80\", element=\"3154458b-c030-4542-a8d9-5ac459e03ee2\")>"
      ]
     },
     "execution_count": 69,
     "metadata": {},
     "output_type": "execute_result"
    }
   ],
   "source": [
    "# To automate chromedriver to search-bar of SearchProducts looking from multiple Sunglassess\n",
    "\n",
    "Searchglassess = driver4.find_element_by_class_name(\"_3704LK\")\n",
    "Searchglassess"
   ]
  },
  {
   "cell_type": "code",
   "execution_count": 70,
   "id": "fe34c03b",
   "metadata": {},
   "outputs": [],
   "source": [
    "# To automate chromedriver to select Jobtitle as Data Scientist\n",
    "\n",
    "Searchglassess.send_keys(\"sunglasses\")"
   ]
  },
  {
   "cell_type": "code",
   "execution_count": 71,
   "id": "ea0f117d",
   "metadata": {},
   "outputs": [],
   "source": [
    "# To locate the submit key for automation\n",
    "\n",
    "Searchbutton3 = driver4.find_element_by_class_name(\"L0Z3Pu\")\n",
    "Searchbutton3.click()"
   ]
  },
  {
   "cell_type": "markdown",
   "id": "862dd73a",
   "metadata": {},
   "source": [
    "# Extracting Page 1 Data"
   ]
  },
  {
   "cell_type": "code",
   "execution_count": 72,
   "id": "c2a87f4b",
   "metadata": {},
   "outputs": [],
   "source": [
    "# To get all sunglass Brands of page 1\n",
    "\n",
    "SB1 = driver4.find_elements_by_class_name('_2WkVRV')"
   ]
  },
  {
   "cell_type": "code",
   "execution_count": 73,
   "id": "5f67083c",
   "metadata": {},
   "outputs": [
    {
     "data": {
      "text/plain": [
       "40"
      ]
     },
     "execution_count": 73,
     "metadata": {},
     "output_type": "execute_result"
    }
   ],
   "source": [
    "SunglassBrands1 = []\n",
    "\n",
    "for i in SB1:\n",
    "    SunglassBrands1.append(i.text)\n",
    "    \n",
    "len(SunglassBrands1)"
   ]
  },
  {
   "cell_type": "code",
   "execution_count": 74,
   "id": "8e98a70b",
   "metadata": {},
   "outputs": [],
   "source": [
    "# To get all sunglass Product Description of page 1\n",
    "\n",
    "PD1 = driver4.find_elements_by_class_name('IRpwTa')"
   ]
  },
  {
   "cell_type": "code",
   "execution_count": 75,
   "id": "002244a8",
   "metadata": {},
   "outputs": [
    {
     "data": {
      "text/plain": [
       "40"
      ]
     },
     "execution_count": 75,
     "metadata": {},
     "output_type": "execute_result"
    }
   ],
   "source": [
    "SunglassProductDescriptions1 = []\n",
    "\n",
    "for i in PD1:\n",
    "    SunglassProductDescriptions1.append(i.text)\n",
    "    \n",
    "len(SunglassProductDescriptions1)"
   ]
  },
  {
   "cell_type": "code",
   "execution_count": 76,
   "id": "bc51cf63",
   "metadata": {},
   "outputs": [],
   "source": [
    "# To get all sunglass Prices of page 1\n",
    "\n",
    "PP1 = driver4.find_elements_by_class_name('_30jeq3')"
   ]
  },
  {
   "cell_type": "code",
   "execution_count": 77,
   "id": "6014cae9",
   "metadata": {},
   "outputs": [
    {
     "data": {
      "text/plain": [
       "40"
      ]
     },
     "execution_count": 77,
     "metadata": {},
     "output_type": "execute_result"
    }
   ],
   "source": [
    "SunglassProductPrice1 = []\n",
    "\n",
    "for i in PP1:\n",
    "    SunglassProductPrice1.append(i.text)\n",
    "    \n",
    "len(SunglassProductPrice1[:40])"
   ]
  },
  {
   "cell_type": "code",
   "execution_count": 78,
   "id": "e2089eff",
   "metadata": {},
   "outputs": [],
   "source": [
    "# To locate the page 2 for automation:\n",
    "Page2 = driver4.find_element_by_xpath('/html/body/div[1]/div/div[3]/div[1]/div[2]/div[12]/div/div/nav/a[2]')\n",
    "Page2.click()"
   ]
  },
  {
   "cell_type": "markdown",
   "id": "3aee266f",
   "metadata": {},
   "source": [
    "# Extracting Page 2 Data"
   ]
  },
  {
   "cell_type": "code",
   "execution_count": 79,
   "id": "3c71a9e2",
   "metadata": {},
   "outputs": [],
   "source": [
    "# To get all sunglass Brands of page 2\n",
    "\n",
    "SB2 = driver4.find_elements_by_class_name('_2WkVRV')"
   ]
  },
  {
   "cell_type": "code",
   "execution_count": 80,
   "id": "551d5565",
   "metadata": {},
   "outputs": [
    {
     "data": {
      "text/plain": [
       "40"
      ]
     },
     "execution_count": 80,
     "metadata": {},
     "output_type": "execute_result"
    }
   ],
   "source": [
    "SunglassBrands2 = []\n",
    "\n",
    "for i in SB2:\n",
    "    SunglassBrands2.append(i.text)\n",
    "    \n",
    "len(SunglassBrands2)"
   ]
  },
  {
   "cell_type": "code",
   "execution_count": 81,
   "id": "30c23b3d",
   "metadata": {},
   "outputs": [],
   "source": [
    "# To get all sunglass Product Description of page 2\n",
    "\n",
    "PD2 = driver4.find_elements_by_class_name('IRpwTa')"
   ]
  },
  {
   "cell_type": "code",
   "execution_count": 82,
   "id": "cf094196",
   "metadata": {},
   "outputs": [
    {
     "data": {
      "text/plain": [
       "40"
      ]
     },
     "execution_count": 82,
     "metadata": {},
     "output_type": "execute_result"
    }
   ],
   "source": [
    "SunglassProductDescriptions2 = []\n",
    "\n",
    "for i in PD2:\n",
    "    SunglassProductDescriptions2.append(i.text)\n",
    "    \n",
    "len(SunglassProductDescriptions2)"
   ]
  },
  {
   "cell_type": "code",
   "execution_count": 83,
   "id": "872222c9",
   "metadata": {},
   "outputs": [],
   "source": [
    "# To get all sunglass Prices of page 1\n",
    "\n",
    "PP2 = driver4.find_elements_by_class_name('_30jeq3')"
   ]
  },
  {
   "cell_type": "code",
   "execution_count": 84,
   "id": "bb6ee0d5",
   "metadata": {},
   "outputs": [
    {
     "data": {
      "text/plain": [
       "40"
      ]
     },
     "execution_count": 84,
     "metadata": {},
     "output_type": "execute_result"
    }
   ],
   "source": [
    "SunglassProductPrice2 = []\n",
    "\n",
    "for i in PP2:\n",
    "    SunglassProductPrice2.append(i.text)\n",
    "    \n",
    "len(SunglassProductPrice2[:40])"
   ]
  },
  {
   "cell_type": "code",
   "execution_count": 85,
   "id": "80037950",
   "metadata": {},
   "outputs": [],
   "source": [
    "# To locate the page 2 for automation:\n",
    "Page3 = driver4.find_element_by_xpath('/html/body/div[1]/div/div[3]/div[1]/div[2]/div[12]/div/div/nav/a[4]')\n",
    "Page3.click()"
   ]
  },
  {
   "cell_type": "markdown",
   "id": "4f865b2a",
   "metadata": {},
   "source": [
    "# Extracting Page 3 Data"
   ]
  },
  {
   "cell_type": "code",
   "execution_count": 86,
   "id": "ff8f5650",
   "metadata": {},
   "outputs": [],
   "source": [
    "# To get all sunglass Brands of page 3\n",
    "\n",
    "SB3 = driver4.find_elements_by_class_name('_2WkVRV')"
   ]
  },
  {
   "cell_type": "code",
   "execution_count": 87,
   "id": "a4f39674",
   "metadata": {},
   "outputs": [
    {
     "data": {
      "text/plain": [
       "40"
      ]
     },
     "execution_count": 87,
     "metadata": {},
     "output_type": "execute_result"
    }
   ],
   "source": [
    "SunglassBrands3 = []\n",
    "\n",
    "for i in SB3:\n",
    "    SunglassBrands3.append(i.text)\n",
    "    \n",
    "len(SunglassBrands3)"
   ]
  },
  {
   "cell_type": "code",
   "execution_count": 88,
   "id": "05c0e64a",
   "metadata": {},
   "outputs": [],
   "source": [
    "# To get all sunglass Product Description of page 3\n",
    "\n",
    "PD3 = driver4.find_elements_by_class_name('IRpwTa')"
   ]
  },
  {
   "cell_type": "code",
   "execution_count": 89,
   "id": "81c556cc",
   "metadata": {},
   "outputs": [
    {
     "data": {
      "text/plain": [
       "40"
      ]
     },
     "execution_count": 89,
     "metadata": {},
     "output_type": "execute_result"
    }
   ],
   "source": [
    "SunglassProductDescriptions3 = []\n",
    "\n",
    "for i in PD3:\n",
    "    SunglassProductDescriptions3.append(i.text)\n",
    "    \n",
    "len(SunglassProductDescriptions3)"
   ]
  },
  {
   "cell_type": "code",
   "execution_count": 90,
   "id": "5ca394db",
   "metadata": {},
   "outputs": [],
   "source": [
    "# To get all sunglass Prices of page 3\n",
    "\n",
    "PP3 = driver4.find_elements_by_class_name('_30jeq3')"
   ]
  },
  {
   "cell_type": "code",
   "execution_count": 91,
   "id": "38aa6556",
   "metadata": {},
   "outputs": [
    {
     "data": {
      "text/plain": [
       "40"
      ]
     },
     "execution_count": 91,
     "metadata": {},
     "output_type": "execute_result"
    }
   ],
   "source": [
    "SunglassProductPrice3 = []\n",
    "\n",
    "for i in PP3:\n",
    "    SunglassProductPrice3.append(i.text)\n",
    "    \n",
    "len(SunglassProductPrice3[:40])"
   ]
  },
  {
   "cell_type": "code",
   "execution_count": 92,
   "id": "62c60126",
   "metadata": {},
   "outputs": [],
   "source": [
    "Flipkart=pd.DataFrame({})\n",
    "Flipkart['Sunglass-Brands']=SunglassBrands1+SunglassBrands2+SunglassBrands3\n",
    "Flipkart['Sunglass-ProductDescription']=SunglassProductDescriptions1+SunglassProductDescriptions2+SunglassProductDescriptions3\n",
    "Flipkart['Sunglass-Prices']=SunglassProductPrice1[:40]+SunglassProductPrice2[:40]+SunglassProductPrice3[:40]"
   ]
  },
  {
   "cell_type": "code",
   "execution_count": 93,
   "id": "be269f36",
   "metadata": {},
   "outputs": [
    {
     "data": {
      "text/html": [
       "<div>\n",
       "<style scoped>\n",
       "    .dataframe tbody tr th:only-of-type {\n",
       "        vertical-align: middle;\n",
       "    }\n",
       "\n",
       "    .dataframe tbody tr th {\n",
       "        vertical-align: top;\n",
       "    }\n",
       "\n",
       "    .dataframe thead th {\n",
       "        text-align: right;\n",
       "    }\n",
       "</style>\n",
       "<table border=\"1\" class=\"dataframe\">\n",
       "  <thead>\n",
       "    <tr style=\"text-align: right;\">\n",
       "      <th></th>\n",
       "      <th>Sunglass-Brands</th>\n",
       "      <th>Sunglass-ProductDescription</th>\n",
       "      <th>Sunglass-Prices</th>\n",
       "    </tr>\n",
       "  </thead>\n",
       "  <tbody>\n",
       "    <tr>\n",
       "      <th>0</th>\n",
       "      <td>PIRASO</td>\n",
       "      <td>UV Protection Aviator Sunglasses (55)</td>\n",
       "      <td>₹200</td>\n",
       "    </tr>\n",
       "    <tr>\n",
       "      <th>1</th>\n",
       "      <td>VINCENT CHASE</td>\n",
       "      <td>by Lenskart Polarized, UV Protection Round Sun...</td>\n",
       "      <td>₹1,129</td>\n",
       "    </tr>\n",
       "    <tr>\n",
       "      <th>2</th>\n",
       "      <td>GANSTA</td>\n",
       "      <td>UV Protection, Riding Glasses Wayfarer Sunglas...</td>\n",
       "      <td>₹159</td>\n",
       "    </tr>\n",
       "    <tr>\n",
       "      <th>3</th>\n",
       "      <td>Elligator</td>\n",
       "      <td>UV Protection Round Sunglasses (54)</td>\n",
       "      <td>₹198</td>\n",
       "    </tr>\n",
       "    <tr>\n",
       "      <th>4</th>\n",
       "      <td>GANSTA</td>\n",
       "      <td>UV Protection Aviator Sunglasses (57)</td>\n",
       "      <td>₹219</td>\n",
       "    </tr>\n",
       "    <tr>\n",
       "      <th>5</th>\n",
       "      <td>SRPM</td>\n",
       "      <td>UV Protection Wayfarer Sunglasses (50)</td>\n",
       "      <td>₹138</td>\n",
       "    </tr>\n",
       "    <tr>\n",
       "      <th>6</th>\n",
       "      <td>Fastrack</td>\n",
       "      <td>UV Protection Wayfarer Sunglasses (Free Size)</td>\n",
       "      <td>₹729</td>\n",
       "    </tr>\n",
       "    <tr>\n",
       "      <th>7</th>\n",
       "      <td>ROZZETTA CRAFT</td>\n",
       "      <td>UV Protection, Riding Glasses Rectangular Sung...</td>\n",
       "      <td>₹376</td>\n",
       "    </tr>\n",
       "    <tr>\n",
       "      <th>8</th>\n",
       "      <td>SUNBEE</td>\n",
       "      <td>UV Protection, Polarized Wayfarer Sunglasses (...</td>\n",
       "      <td>₹193</td>\n",
       "    </tr>\n",
       "    <tr>\n",
       "      <th>9</th>\n",
       "      <td>SHAAH COLLECTIONS</td>\n",
       "      <td>UV Protection, Polarized, Mirrored Rectangular...</td>\n",
       "      <td>₹115</td>\n",
       "    </tr>\n",
       "    <tr>\n",
       "      <th>10</th>\n",
       "      <td>New Specs</td>\n",
       "      <td>UV Protection Rectangular Sunglasses (Free Size)</td>\n",
       "      <td>₹184</td>\n",
       "    </tr>\n",
       "    <tr>\n",
       "      <th>11</th>\n",
       "      <td>PIRASO</td>\n",
       "      <td>UV Protection Aviator Sunglasses (Free Size)</td>\n",
       "      <td>₹299</td>\n",
       "    </tr>\n",
       "    <tr>\n",
       "      <th>12</th>\n",
       "      <td>PIRASO</td>\n",
       "      <td>UV Protection Aviator Sunglasses (54)</td>\n",
       "      <td>₹179</td>\n",
       "    </tr>\n",
       "    <tr>\n",
       "      <th>13</th>\n",
       "      <td>SHAAH COLLECTIONS</td>\n",
       "      <td>UV Protection, Polarized, Mirrored Rectangular...</td>\n",
       "      <td>₹131</td>\n",
       "    </tr>\n",
       "    <tr>\n",
       "      <th>14</th>\n",
       "      <td>agera</td>\n",
       "      <td>Gradient Aviator Sunglasses (55)</td>\n",
       "      <td>₹146</td>\n",
       "    </tr>\n",
       "    <tr>\n",
       "      <th>15</th>\n",
       "      <td>ROYAL SON</td>\n",
       "      <td>Polarized, UV Protection Wayfarer Sunglasses (61)</td>\n",
       "      <td>₹649</td>\n",
       "    </tr>\n",
       "    <tr>\n",
       "      <th>16</th>\n",
       "      <td>Fastrack</td>\n",
       "      <td>UV Protection Rectangular Sunglasses (Free Size)</td>\n",
       "      <td>₹579</td>\n",
       "    </tr>\n",
       "    <tr>\n",
       "      <th>17</th>\n",
       "      <td>SUNBEE</td>\n",
       "      <td>UV Protection, Polarized, Mirrored Round Sungl...</td>\n",
       "      <td>₹221</td>\n",
       "    </tr>\n",
       "    <tr>\n",
       "      <th>18</th>\n",
       "      <td>Johaena</td>\n",
       "      <td>Riding Glasses, UV Protection Oval Sunglasses ...</td>\n",
       "      <td>₹102</td>\n",
       "    </tr>\n",
       "    <tr>\n",
       "      <th>19</th>\n",
       "      <td>PIRASO</td>\n",
       "      <td>UV Protection Rectangular, Over-sized Sunglass...</td>\n",
       "      <td>₹275</td>\n",
       "    </tr>\n",
       "    <tr>\n",
       "      <th>20</th>\n",
       "      <td>kingsunglasses</td>\n",
       "      <td>UV Protection Round Sunglasses (54)</td>\n",
       "      <td>₹136</td>\n",
       "    </tr>\n",
       "    <tr>\n",
       "      <th>21</th>\n",
       "      <td>PHENOMENAL</td>\n",
       "      <td>UV Protection Retro Square Sunglasses (53)</td>\n",
       "      <td>₹215</td>\n",
       "    </tr>\n",
       "    <tr>\n",
       "      <th>22</th>\n",
       "      <td>maxa</td>\n",
       "      <td>UV Protection, Riding Glasses Rectangular, Way...</td>\n",
       "      <td>₹100</td>\n",
       "    </tr>\n",
       "    <tr>\n",
       "      <th>23</th>\n",
       "      <td>ROYAL SON</td>\n",
       "      <td>UV Protection, Gradient Butterfly Sunglasses (60)</td>\n",
       "      <td>₹614</td>\n",
       "    </tr>\n",
       "    <tr>\n",
       "      <th>24</th>\n",
       "      <td>PIRASO</td>\n",
       "      <td>UV Protection Aviator Sunglasses (54)</td>\n",
       "      <td>₹150</td>\n",
       "    </tr>\n",
       "    <tr>\n",
       "      <th>25</th>\n",
       "      <td>PIRASO</td>\n",
       "      <td>UV Protection Aviator Sunglasses (54)</td>\n",
       "      <td>₹150</td>\n",
       "    </tr>\n",
       "    <tr>\n",
       "      <th>26</th>\n",
       "      <td>ROZZETTA CRAFT</td>\n",
       "      <td>UV Protection, Gradient Rectangular Sunglasses...</td>\n",
       "      <td>₹333</td>\n",
       "    </tr>\n",
       "    <tr>\n",
       "      <th>27</th>\n",
       "      <td>ROYAL SON</td>\n",
       "      <td>Polarized Retro Square Sunglasses (58)</td>\n",
       "      <td>₹804</td>\n",
       "    </tr>\n",
       "    <tr>\n",
       "      <th>28</th>\n",
       "      <td>PHENOMENAL</td>\n",
       "      <td>UV Protection Retro Square Sunglasses (Free Size)</td>\n",
       "      <td>₹259</td>\n",
       "    </tr>\n",
       "    <tr>\n",
       "      <th>29</th>\n",
       "      <td>GANSTA</td>\n",
       "      <td>UV Protection Aviator Sunglasses (57)</td>\n",
       "      <td>₹154</td>\n",
       "    </tr>\n",
       "    <tr>\n",
       "      <th>30</th>\n",
       "      <td>Elligator</td>\n",
       "      <td>UV Protection Round Sunglasses (53)</td>\n",
       "      <td>₹139</td>\n",
       "    </tr>\n",
       "    <tr>\n",
       "      <th>31</th>\n",
       "      <td>ROZZETTA CRAFT</td>\n",
       "      <td>UV Protection, Gradient Retro Square Sunglasse...</td>\n",
       "      <td>₹281</td>\n",
       "    </tr>\n",
       "    <tr>\n",
       "      <th>32</th>\n",
       "      <td>kingsunglasses</td>\n",
       "      <td>UV Protection Round Sunglasses (Free Size)</td>\n",
       "      <td>₹226</td>\n",
       "    </tr>\n",
       "    <tr>\n",
       "      <th>33</th>\n",
       "      <td>Elligator</td>\n",
       "      <td>UV Protection Round Sunglasses (54)</td>\n",
       "      <td>₹215</td>\n",
       "    </tr>\n",
       "    <tr>\n",
       "      <th>34</th>\n",
       "      <td>Lee Topper</td>\n",
       "      <td>Riding Glasses, Night Vision Wrap-around Sungl...</td>\n",
       "      <td>₹226</td>\n",
       "    </tr>\n",
       "    <tr>\n",
       "      <th>35</th>\n",
       "      <td>VINCENT CHASE</td>\n",
       "      <td>by Lenskart Polarized, UV Protection Wayfarer ...</td>\n",
       "      <td>₹1,129</td>\n",
       "    </tr>\n",
       "    <tr>\n",
       "      <th>36</th>\n",
       "      <td>PHENOMENAL</td>\n",
       "      <td>UV Protection, Mirrored Retro Square Sunglasse...</td>\n",
       "      <td>₹249</td>\n",
       "    </tr>\n",
       "    <tr>\n",
       "      <th>37</th>\n",
       "      <td>New Specs</td>\n",
       "      <td>UV Protection Aviator Sunglasses (Free Size)</td>\n",
       "      <td>₹133</td>\n",
       "    </tr>\n",
       "    <tr>\n",
       "      <th>38</th>\n",
       "      <td>Elligator</td>\n",
       "      <td>UV Protection Round Sunglasses (50)</td>\n",
       "      <td>₹180</td>\n",
       "    </tr>\n",
       "    <tr>\n",
       "      <th>39</th>\n",
       "      <td>ROYAL SON</td>\n",
       "      <td>Polarized Retro Square Sunglasses (58)</td>\n",
       "      <td>₹804</td>\n",
       "    </tr>\n",
       "    <tr>\n",
       "      <th>40</th>\n",
       "      <td>SRPM</td>\n",
       "      <td>UV Protection Wayfarer Sunglasses (53)</td>\n",
       "      <td>₹157</td>\n",
       "    </tr>\n",
       "    <tr>\n",
       "      <th>41</th>\n",
       "      <td>New Specs</td>\n",
       "      <td>Mirrored, UV Protection, Riding Glasses, Other...</td>\n",
       "      <td>₹209</td>\n",
       "    </tr>\n",
       "    <tr>\n",
       "      <th>42</th>\n",
       "      <td>PHENOMENAL</td>\n",
       "      <td>UV Protection Clubmaster Sunglasses (Free Size)</td>\n",
       "      <td>₹239</td>\n",
       "    </tr>\n",
       "    <tr>\n",
       "      <th>43</th>\n",
       "      <td>ROYAL SON</td>\n",
       "      <td>UV Protection Wayfarer Sunglasses (54)</td>\n",
       "      <td>₹749</td>\n",
       "    </tr>\n",
       "    <tr>\n",
       "      <th>44</th>\n",
       "      <td>SUNBEE</td>\n",
       "      <td>UV Protection, Polarized, Mirrored Retro Squar...</td>\n",
       "      <td>₹183</td>\n",
       "    </tr>\n",
       "    <tr>\n",
       "      <th>45</th>\n",
       "      <td>Elligator</td>\n",
       "      <td>UV Protection Wayfarer Sunglasses (53)</td>\n",
       "      <td>₹117</td>\n",
       "    </tr>\n",
       "    <tr>\n",
       "      <th>46</th>\n",
       "      <td>New Specs</td>\n",
       "      <td>UV Protection Rectangular Sunglasses (Free Size)</td>\n",
       "      <td>₹128</td>\n",
       "    </tr>\n",
       "    <tr>\n",
       "      <th>47</th>\n",
       "      <td>ROYAL SON</td>\n",
       "      <td>UV Protection Wayfarer Sunglasses (54)</td>\n",
       "      <td>₹749</td>\n",
       "    </tr>\n",
       "    <tr>\n",
       "      <th>48</th>\n",
       "      <td>Silver Kartz</td>\n",
       "      <td>UV Protection Aviator Sunglasses (88)</td>\n",
       "      <td>₹205</td>\n",
       "    </tr>\n",
       "    <tr>\n",
       "      <th>49</th>\n",
       "      <td>PIRASO</td>\n",
       "      <td>UV Protection Aviator Sunglasses (58)</td>\n",
       "      <td>₹249</td>\n",
       "    </tr>\n",
       "    <tr>\n",
       "      <th>50</th>\n",
       "      <td>Rich Club</td>\n",
       "      <td>Polarized Round Sunglasses (48)</td>\n",
       "      <td>₹115</td>\n",
       "    </tr>\n",
       "    <tr>\n",
       "      <th>51</th>\n",
       "      <td>VINCENT CHASE</td>\n",
       "      <td>by Lenskart Polarized, UV Protection Wayfarer ...</td>\n",
       "      <td>₹1,365</td>\n",
       "    </tr>\n",
       "    <tr>\n",
       "      <th>52</th>\n",
       "      <td>GANSTA</td>\n",
       "      <td>UV Protection, Gradient Aviator Sunglasses (57)</td>\n",
       "      <td>₹174</td>\n",
       "    </tr>\n",
       "    <tr>\n",
       "      <th>53</th>\n",
       "      <td>ROYAL SON</td>\n",
       "      <td>UV Protection Rectangular Sunglasses (58)</td>\n",
       "      <td>₹399</td>\n",
       "    </tr>\n",
       "    <tr>\n",
       "      <th>54</th>\n",
       "      <td>Rich Club</td>\n",
       "      <td>UV Protection Round Sunglasses (48)</td>\n",
       "      <td>₹190</td>\n",
       "    </tr>\n",
       "    <tr>\n",
       "      <th>55</th>\n",
       "      <td>ROZZETTA CRAFT</td>\n",
       "      <td>UV Protection, Gradient Retro Square Sunglasse...</td>\n",
       "      <td>₹449</td>\n",
       "    </tr>\n",
       "    <tr>\n",
       "      <th>56</th>\n",
       "      <td>Lee Topper</td>\n",
       "      <td>UV Protection Rectangular Sunglasses (Free Size)</td>\n",
       "      <td>₹149</td>\n",
       "    </tr>\n",
       "    <tr>\n",
       "      <th>57</th>\n",
       "      <td>Fastrack</td>\n",
       "      <td>UV Protection Aviator Sunglasses (Free Size)</td>\n",
       "      <td>₹557</td>\n",
       "    </tr>\n",
       "    <tr>\n",
       "      <th>58</th>\n",
       "      <td>Silver Kartz</td>\n",
       "      <td>UV Protection Oval Sunglasses (56)</td>\n",
       "      <td>₹234</td>\n",
       "    </tr>\n",
       "    <tr>\n",
       "      <th>59</th>\n",
       "      <td>ROYAL SON</td>\n",
       "      <td>Polarized, UV Protection Rectangular Sunglasse...</td>\n",
       "      <td>₹614</td>\n",
       "    </tr>\n",
       "    <tr>\n",
       "      <th>60</th>\n",
       "      <td>DEIXELS</td>\n",
       "      <td>UV Protection Aviator, Wayfarer Sunglasses (Fr...</td>\n",
       "      <td>₹152</td>\n",
       "    </tr>\n",
       "    <tr>\n",
       "      <th>61</th>\n",
       "      <td>kingsunglasses</td>\n",
       "      <td>UV Protection Rectangular Sunglasses (Free Size)</td>\n",
       "      <td>₹130</td>\n",
       "    </tr>\n",
       "    <tr>\n",
       "      <th>62</th>\n",
       "      <td>kingsunglasses</td>\n",
       "      <td>UV Protection, Night Vision Wayfarer Sunglasse...</td>\n",
       "      <td>₹199</td>\n",
       "    </tr>\n",
       "    <tr>\n",
       "      <th>63</th>\n",
       "      <td>ROYAL SON</td>\n",
       "      <td>UV Protection, Gradient Over-sized Sunglasses ...</td>\n",
       "      <td>₹614</td>\n",
       "    </tr>\n",
       "    <tr>\n",
       "      <th>64</th>\n",
       "      <td>kingsunglasses</td>\n",
       "      <td>UV Protection, Others Round, Aviator Sunglasse...</td>\n",
       "      <td>₹124</td>\n",
       "    </tr>\n",
       "    <tr>\n",
       "      <th>65</th>\n",
       "      <td>hipe</td>\n",
       "      <td>Mirrored, UV Protection, Gradient Round Sungla...</td>\n",
       "      <td>₹139</td>\n",
       "    </tr>\n",
       "    <tr>\n",
       "      <th>66</th>\n",
       "      <td>kingsunglasses</td>\n",
       "      <td>Mirrored, UV Protection Wayfarer Sunglasses (53)</td>\n",
       "      <td>₹199</td>\n",
       "    </tr>\n",
       "    <tr>\n",
       "      <th>67</th>\n",
       "      <td>VINCENT CHASE</td>\n",
       "      <td>by Lenskart UV Protection Wayfarer Sunglasses ...</td>\n",
       "      <td>₹1,129</td>\n",
       "    </tr>\n",
       "    <tr>\n",
       "      <th>68</th>\n",
       "      <td>PIRASO</td>\n",
       "      <td>UV Protection Aviator Sunglasses (Free Size)</td>\n",
       "      <td>₹299</td>\n",
       "    </tr>\n",
       "    <tr>\n",
       "      <th>69</th>\n",
       "      <td>Rich Club</td>\n",
       "      <td>UV Protection, Mirrored, Gradient Round Sungla...</td>\n",
       "      <td>₹175</td>\n",
       "    </tr>\n",
       "    <tr>\n",
       "      <th>70</th>\n",
       "      <td>PIRASO</td>\n",
       "      <td>UV Protection Wayfarer Sunglasses (32)</td>\n",
       "      <td>₹175</td>\n",
       "    </tr>\n",
       "    <tr>\n",
       "      <th>71</th>\n",
       "      <td>ROYAL SON</td>\n",
       "      <td>Polarized, UV Protection Wrap-around Sunglasse...</td>\n",
       "      <td>₹749</td>\n",
       "    </tr>\n",
       "    <tr>\n",
       "      <th>72</th>\n",
       "      <td>Fastrack</td>\n",
       "      <td>UV Protection Aviator Sunglasses (58)</td>\n",
       "      <td>₹1,149</td>\n",
       "    </tr>\n",
       "    <tr>\n",
       "      <th>73</th>\n",
       "      <td>Elligator</td>\n",
       "      <td>UV Protection Retro Square, Round Sunglasses (54)</td>\n",
       "      <td>₹241</td>\n",
       "    </tr>\n",
       "    <tr>\n",
       "      <th>74</th>\n",
       "      <td>VILLAIN</td>\n",
       "      <td>Others Retro Square Sunglasses (Free Size)</td>\n",
       "      <td>₹499</td>\n",
       "    </tr>\n",
       "    <tr>\n",
       "      <th>75</th>\n",
       "      <td>VINCENT CHASE</td>\n",
       "      <td>by Lenskart Polarized, UV Protection Wayfarer ...</td>\n",
       "      <td>₹1,483</td>\n",
       "    </tr>\n",
       "    <tr>\n",
       "      <th>76</th>\n",
       "      <td>Singco India</td>\n",
       "      <td>Gradient, Toughened Glass Lens, UV Protection ...</td>\n",
       "      <td>₹614</td>\n",
       "    </tr>\n",
       "    <tr>\n",
       "      <th>77</th>\n",
       "      <td>GANSTA</td>\n",
       "      <td>UV Protection Rectangular Sunglasses (60)</td>\n",
       "      <td>₹161</td>\n",
       "    </tr>\n",
       "    <tr>\n",
       "      <th>78</th>\n",
       "      <td>ROYAL SON</td>\n",
       "      <td>Mirrored Aviator Sunglasses (55)</td>\n",
       "      <td>₹309</td>\n",
       "    </tr>\n",
       "    <tr>\n",
       "      <th>79</th>\n",
       "      <td>VINCENT CHASE</td>\n",
       "      <td>by Lenskart Polarized, UV Protection Wayfarer ...</td>\n",
       "      <td>₹1,365</td>\n",
       "    </tr>\n",
       "    <tr>\n",
       "      <th>80</th>\n",
       "      <td>Singco India</td>\n",
       "      <td>UV Protection, Riding Glasses, Others Aviator,...</td>\n",
       "      <td>₹153</td>\n",
       "    </tr>\n",
       "    <tr>\n",
       "      <th>81</th>\n",
       "      <td>ROZZETTA CRAFT</td>\n",
       "      <td>UV Protection, Gradient Round Sunglasses (Free...</td>\n",
       "      <td>₹292</td>\n",
       "    </tr>\n",
       "    <tr>\n",
       "      <th>82</th>\n",
       "      <td>ROZZETTA CRAFT</td>\n",
       "      <td>UV Protection Retro Square Sunglasses (Free Size)</td>\n",
       "      <td>₹424</td>\n",
       "    </tr>\n",
       "    <tr>\n",
       "      <th>83</th>\n",
       "      <td>ROYAL SON</td>\n",
       "      <td>UV Protection Rectangular Sunglasses (64)</td>\n",
       "      <td>₹649</td>\n",
       "    </tr>\n",
       "    <tr>\n",
       "      <th>84</th>\n",
       "      <td>PHENOMENAL</td>\n",
       "      <td>UV Protection, Mirrored Round Sunglasses (Free...</td>\n",
       "      <td>₹147</td>\n",
       "    </tr>\n",
       "    <tr>\n",
       "      <th>85</th>\n",
       "      <td>kingsunglasses</td>\n",
       "      <td>UV Protection, Riding Glasses, Mirrored Wayfar...</td>\n",
       "      <td>₹129</td>\n",
       "    </tr>\n",
       "    <tr>\n",
       "      <th>86</th>\n",
       "      <td>ROYAL SON</td>\n",
       "      <td>UV Protection, Gradient Butterfly Sunglasses (57)</td>\n",
       "      <td>₹614</td>\n",
       "    </tr>\n",
       "    <tr>\n",
       "      <th>87</th>\n",
       "      <td>ROYAL SON</td>\n",
       "      <td>Mirrored Rectangular Sunglasses (64)</td>\n",
       "      <td>₹649</td>\n",
       "    </tr>\n",
       "    <tr>\n",
       "      <th>88</th>\n",
       "      <td>SRPM</td>\n",
       "      <td>Night Vision, UV Protection Round Sunglasses (54)</td>\n",
       "      <td>₹149</td>\n",
       "    </tr>\n",
       "    <tr>\n",
       "      <th>89</th>\n",
       "      <td>Fastrack</td>\n",
       "      <td>Gradient, UV Protection Wayfarer Sunglasses (F...</td>\n",
       "      <td>₹669</td>\n",
       "    </tr>\n",
       "    <tr>\n",
       "      <th>90</th>\n",
       "      <td>GANSTA</td>\n",
       "      <td>Night Vision, Riding Glasses Wayfarer Sunglass...</td>\n",
       "      <td>₹148</td>\n",
       "    </tr>\n",
       "    <tr>\n",
       "      <th>91</th>\n",
       "      <td>ROYAL SON</td>\n",
       "      <td>Polarized, UV Protection Rectangular Sunglasse...</td>\n",
       "      <td>₹649</td>\n",
       "    </tr>\n",
       "    <tr>\n",
       "      <th>92</th>\n",
       "      <td>New Specs</td>\n",
       "      <td>UV Protection Round Sunglasses (Free Size)</td>\n",
       "      <td>₹182</td>\n",
       "    </tr>\n",
       "    <tr>\n",
       "      <th>93</th>\n",
       "      <td>kingsunglasses</td>\n",
       "      <td>Mirrored, UV Protection Wayfarer Sunglasses (F...</td>\n",
       "      <td>₹179</td>\n",
       "    </tr>\n",
       "    <tr>\n",
       "      <th>94</th>\n",
       "      <td>Elligator</td>\n",
       "      <td>UV Protection, Gradient Aviator Sunglasses (50)</td>\n",
       "      <td>₹213</td>\n",
       "    </tr>\n",
       "    <tr>\n",
       "      <th>95</th>\n",
       "      <td>AISLIN</td>\n",
       "      <td>Toughened Glass Lens, UV Protection Rectangula...</td>\n",
       "      <td>₹751</td>\n",
       "    </tr>\n",
       "    <tr>\n",
       "      <th>96</th>\n",
       "      <td>Fastrack</td>\n",
       "      <td>UV Protection Aviator Sunglasses (Free Size)</td>\n",
       "      <td>₹496</td>\n",
       "    </tr>\n",
       "    <tr>\n",
       "      <th>97</th>\n",
       "      <td>New Specs</td>\n",
       "      <td>UV Protection Rectangular Sunglasses (Free Size)</td>\n",
       "      <td>₹109</td>\n",
       "    </tr>\n",
       "    <tr>\n",
       "      <th>98</th>\n",
       "      <td>Badfella</td>\n",
       "      <td>Polarized, UV Protection Retro Square Sunglass...</td>\n",
       "      <td>₹149</td>\n",
       "    </tr>\n",
       "    <tr>\n",
       "      <th>99</th>\n",
       "      <td>AISLIN</td>\n",
       "      <td>Toughened Glass Lens, UV Protection Aviator Su...</td>\n",
       "      <td>₹733</td>\n",
       "    </tr>\n",
       "    <tr>\n",
       "      <th>100</th>\n",
       "      <td>PHENOMENAL</td>\n",
       "      <td>UV Protection, Mirrored Retro Square Sunglasse...</td>\n",
       "      <td>₹249</td>\n",
       "    </tr>\n",
       "  </tbody>\n",
       "</table>\n",
       "</div>"
      ],
      "text/plain": [
       "       Sunglass-Brands                        Sunglass-ProductDescription  \\\n",
       "0               PIRASO              UV Protection Aviator Sunglasses (55)   \n",
       "1        VINCENT CHASE  by Lenskart Polarized, UV Protection Round Sun...   \n",
       "2               GANSTA  UV Protection, Riding Glasses Wayfarer Sunglas...   \n",
       "3            Elligator                UV Protection Round Sunglasses (54)   \n",
       "4               GANSTA              UV Protection Aviator Sunglasses (57)   \n",
       "5                 SRPM             UV Protection Wayfarer Sunglasses (50)   \n",
       "6             Fastrack      UV Protection Wayfarer Sunglasses (Free Size)   \n",
       "7       ROZZETTA CRAFT  UV Protection, Riding Glasses Rectangular Sung...   \n",
       "8               SUNBEE  UV Protection, Polarized Wayfarer Sunglasses (...   \n",
       "9    SHAAH COLLECTIONS  UV Protection, Polarized, Mirrored Rectangular...   \n",
       "10           New Specs   UV Protection Rectangular Sunglasses (Free Size)   \n",
       "11              PIRASO       UV Protection Aviator Sunglasses (Free Size)   \n",
       "12              PIRASO              UV Protection Aviator Sunglasses (54)   \n",
       "13   SHAAH COLLECTIONS  UV Protection, Polarized, Mirrored Rectangular...   \n",
       "14               agera                   Gradient Aviator Sunglasses (55)   \n",
       "15           ROYAL SON  Polarized, UV Protection Wayfarer Sunglasses (61)   \n",
       "16            Fastrack   UV Protection Rectangular Sunglasses (Free Size)   \n",
       "17              SUNBEE  UV Protection, Polarized, Mirrored Round Sungl...   \n",
       "18             Johaena  Riding Glasses, UV Protection Oval Sunglasses ...   \n",
       "19              PIRASO  UV Protection Rectangular, Over-sized Sunglass...   \n",
       "20      kingsunglasses                UV Protection Round Sunglasses (54)   \n",
       "21          PHENOMENAL         UV Protection Retro Square Sunglasses (53)   \n",
       "22                maxa  UV Protection, Riding Glasses Rectangular, Way...   \n",
       "23           ROYAL SON  UV Protection, Gradient Butterfly Sunglasses (60)   \n",
       "24              PIRASO              UV Protection Aviator Sunglasses (54)   \n",
       "25              PIRASO              UV Protection Aviator Sunglasses (54)   \n",
       "26      ROZZETTA CRAFT  UV Protection, Gradient Rectangular Sunglasses...   \n",
       "27           ROYAL SON             Polarized Retro Square Sunglasses (58)   \n",
       "28          PHENOMENAL  UV Protection Retro Square Sunglasses (Free Size)   \n",
       "29              GANSTA              UV Protection Aviator Sunglasses (57)   \n",
       "30           Elligator                UV Protection Round Sunglasses (53)   \n",
       "31      ROZZETTA CRAFT  UV Protection, Gradient Retro Square Sunglasse...   \n",
       "32      kingsunglasses         UV Protection Round Sunglasses (Free Size)   \n",
       "33           Elligator                UV Protection Round Sunglasses (54)   \n",
       "34          Lee Topper  Riding Glasses, Night Vision Wrap-around Sungl...   \n",
       "35       VINCENT CHASE  by Lenskart Polarized, UV Protection Wayfarer ...   \n",
       "36          PHENOMENAL  UV Protection, Mirrored Retro Square Sunglasse...   \n",
       "37           New Specs       UV Protection Aviator Sunglasses (Free Size)   \n",
       "38           Elligator                UV Protection Round Sunglasses (50)   \n",
       "39           ROYAL SON             Polarized Retro Square Sunglasses (58)   \n",
       "40                SRPM             UV Protection Wayfarer Sunglasses (53)   \n",
       "41           New Specs  Mirrored, UV Protection, Riding Glasses, Other...   \n",
       "42          PHENOMENAL    UV Protection Clubmaster Sunglasses (Free Size)   \n",
       "43           ROYAL SON             UV Protection Wayfarer Sunglasses (54)   \n",
       "44              SUNBEE  UV Protection, Polarized, Mirrored Retro Squar...   \n",
       "45           Elligator             UV Protection Wayfarer Sunglasses (53)   \n",
       "46           New Specs   UV Protection Rectangular Sunglasses (Free Size)   \n",
       "47           ROYAL SON             UV Protection Wayfarer Sunglasses (54)   \n",
       "48        Silver Kartz              UV Protection Aviator Sunglasses (88)   \n",
       "49              PIRASO              UV Protection Aviator Sunglasses (58)   \n",
       "50           Rich Club                    Polarized Round Sunglasses (48)   \n",
       "51       VINCENT CHASE  by Lenskart Polarized, UV Protection Wayfarer ...   \n",
       "52              GANSTA    UV Protection, Gradient Aviator Sunglasses (57)   \n",
       "53           ROYAL SON          UV Protection Rectangular Sunglasses (58)   \n",
       "54           Rich Club                UV Protection Round Sunglasses (48)   \n",
       "55      ROZZETTA CRAFT  UV Protection, Gradient Retro Square Sunglasse...   \n",
       "56          Lee Topper   UV Protection Rectangular Sunglasses (Free Size)   \n",
       "57            Fastrack       UV Protection Aviator Sunglasses (Free Size)   \n",
       "58        Silver Kartz                 UV Protection Oval Sunglasses (56)   \n",
       "59           ROYAL SON  Polarized, UV Protection Rectangular Sunglasse...   \n",
       "60             DEIXELS  UV Protection Aviator, Wayfarer Sunglasses (Fr...   \n",
       "61      kingsunglasses   UV Protection Rectangular Sunglasses (Free Size)   \n",
       "62      kingsunglasses  UV Protection, Night Vision Wayfarer Sunglasse...   \n",
       "63           ROYAL SON  UV Protection, Gradient Over-sized Sunglasses ...   \n",
       "64      kingsunglasses  UV Protection, Others Round, Aviator Sunglasse...   \n",
       "65                hipe  Mirrored, UV Protection, Gradient Round Sungla...   \n",
       "66      kingsunglasses   Mirrored, UV Protection Wayfarer Sunglasses (53)   \n",
       "67       VINCENT CHASE  by Lenskart UV Protection Wayfarer Sunglasses ...   \n",
       "68              PIRASO       UV Protection Aviator Sunglasses (Free Size)   \n",
       "69           Rich Club  UV Protection, Mirrored, Gradient Round Sungla...   \n",
       "70              PIRASO             UV Protection Wayfarer Sunglasses (32)   \n",
       "71           ROYAL SON  Polarized, UV Protection Wrap-around Sunglasse...   \n",
       "72            Fastrack              UV Protection Aviator Sunglasses (58)   \n",
       "73           Elligator  UV Protection Retro Square, Round Sunglasses (54)   \n",
       "74             VILLAIN         Others Retro Square Sunglasses (Free Size)   \n",
       "75       VINCENT CHASE  by Lenskart Polarized, UV Protection Wayfarer ...   \n",
       "76        Singco India  Gradient, Toughened Glass Lens, UV Protection ...   \n",
       "77              GANSTA          UV Protection Rectangular Sunglasses (60)   \n",
       "78           ROYAL SON                   Mirrored Aviator Sunglasses (55)   \n",
       "79       VINCENT CHASE  by Lenskart Polarized, UV Protection Wayfarer ...   \n",
       "80        Singco India  UV Protection, Riding Glasses, Others Aviator,...   \n",
       "81      ROZZETTA CRAFT  UV Protection, Gradient Round Sunglasses (Free...   \n",
       "82      ROZZETTA CRAFT  UV Protection Retro Square Sunglasses (Free Size)   \n",
       "83           ROYAL SON          UV Protection Rectangular Sunglasses (64)   \n",
       "84          PHENOMENAL  UV Protection, Mirrored Round Sunglasses (Free...   \n",
       "85      kingsunglasses  UV Protection, Riding Glasses, Mirrored Wayfar...   \n",
       "86           ROYAL SON  UV Protection, Gradient Butterfly Sunglasses (57)   \n",
       "87           ROYAL SON               Mirrored Rectangular Sunglasses (64)   \n",
       "88                SRPM  Night Vision, UV Protection Round Sunglasses (54)   \n",
       "89            Fastrack  Gradient, UV Protection Wayfarer Sunglasses (F...   \n",
       "90              GANSTA  Night Vision, Riding Glasses Wayfarer Sunglass...   \n",
       "91           ROYAL SON  Polarized, UV Protection Rectangular Sunglasse...   \n",
       "92           New Specs         UV Protection Round Sunglasses (Free Size)   \n",
       "93      kingsunglasses  Mirrored, UV Protection Wayfarer Sunglasses (F...   \n",
       "94           Elligator    UV Protection, Gradient Aviator Sunglasses (50)   \n",
       "95              AISLIN  Toughened Glass Lens, UV Protection Rectangula...   \n",
       "96            Fastrack       UV Protection Aviator Sunglasses (Free Size)   \n",
       "97           New Specs   UV Protection Rectangular Sunglasses (Free Size)   \n",
       "98            Badfella  Polarized, UV Protection Retro Square Sunglass...   \n",
       "99              AISLIN  Toughened Glass Lens, UV Protection Aviator Su...   \n",
       "100         PHENOMENAL  UV Protection, Mirrored Retro Square Sunglasse...   \n",
       "\n",
       "    Sunglass-Prices  \n",
       "0              ₹200  \n",
       "1            ₹1,129  \n",
       "2              ₹159  \n",
       "3              ₹198  \n",
       "4              ₹219  \n",
       "5              ₹138  \n",
       "6              ₹729  \n",
       "7              ₹376  \n",
       "8              ₹193  \n",
       "9              ₹115  \n",
       "10             ₹184  \n",
       "11             ₹299  \n",
       "12             ₹179  \n",
       "13             ₹131  \n",
       "14             ₹146  \n",
       "15             ₹649  \n",
       "16             ₹579  \n",
       "17             ₹221  \n",
       "18             ₹102  \n",
       "19             ₹275  \n",
       "20             ₹136  \n",
       "21             ₹215  \n",
       "22             ₹100  \n",
       "23             ₹614  \n",
       "24             ₹150  \n",
       "25             ₹150  \n",
       "26             ₹333  \n",
       "27             ₹804  \n",
       "28             ₹259  \n",
       "29             ₹154  \n",
       "30             ₹139  \n",
       "31             ₹281  \n",
       "32             ₹226  \n",
       "33             ₹215  \n",
       "34             ₹226  \n",
       "35           ₹1,129  \n",
       "36             ₹249  \n",
       "37             ₹133  \n",
       "38             ₹180  \n",
       "39             ₹804  \n",
       "40             ₹157  \n",
       "41             ₹209  \n",
       "42             ₹239  \n",
       "43             ₹749  \n",
       "44             ₹183  \n",
       "45             ₹117  \n",
       "46             ₹128  \n",
       "47             ₹749  \n",
       "48             ₹205  \n",
       "49             ₹249  \n",
       "50             ₹115  \n",
       "51           ₹1,365  \n",
       "52             ₹174  \n",
       "53             ₹399  \n",
       "54             ₹190  \n",
       "55             ₹449  \n",
       "56             ₹149  \n",
       "57             ₹557  \n",
       "58             ₹234  \n",
       "59             ₹614  \n",
       "60             ₹152  \n",
       "61             ₹130  \n",
       "62             ₹199  \n",
       "63             ₹614  \n",
       "64             ₹124  \n",
       "65             ₹139  \n",
       "66             ₹199  \n",
       "67           ₹1,129  \n",
       "68             ₹299  \n",
       "69             ₹175  \n",
       "70             ₹175  \n",
       "71             ₹749  \n",
       "72           ₹1,149  \n",
       "73             ₹241  \n",
       "74             ₹499  \n",
       "75           ₹1,483  \n",
       "76             ₹614  \n",
       "77             ₹161  \n",
       "78             ₹309  \n",
       "79           ₹1,365  \n",
       "80             ₹153  \n",
       "81             ₹292  \n",
       "82             ₹424  \n",
       "83             ₹649  \n",
       "84             ₹147  \n",
       "85             ₹129  \n",
       "86             ₹614  \n",
       "87             ₹649  \n",
       "88             ₹149  \n",
       "89             ₹669  \n",
       "90             ₹148  \n",
       "91             ₹649  \n",
       "92             ₹182  \n",
       "93             ₹179  \n",
       "94             ₹213  \n",
       "95             ₹751  \n",
       "96             ₹496  \n",
       "97             ₹109  \n",
       "98             ₹149  \n",
       "99             ₹733  \n",
       "100            ₹249  "
      ]
     },
     "execution_count": 93,
     "metadata": {},
     "output_type": "execute_result"
    }
   ],
   "source": [
    "pd.set_option(\"display.max_rows\", 101)\n",
    "Flipkart[:101]"
   ]
  },
  {
   "cell_type": "code",
   "execution_count": null,
   "id": "6022eccf",
   "metadata": {},
   "outputs": [],
   "source": []
  },
  {
   "cell_type": "code",
   "execution_count": 94,
   "id": "ab16a80f",
   "metadata": {},
   "outputs": [],
   "source": [
    "# (5) Scrape 100 reviews data from flipkart.com for iphone11 phone. You have to go the link:\n",
    "# https://www.flipkart.com/apple-iphone-11-black-64-gb-includes- earpods-poweradapter/p/itm0f37c2240b217?pid=MOBFKCTSVZAXUHGR&lid=LSTMOBFKCTSVZAXUHGREPBFGI&marketplace.\n",
    "# When you will open the above link you will reach to the below shown webpage.\n",
    "# As shown in the above page you have to scrape the tick marked attributes.These are:\n",
    "# 1. Rating\n",
    "# 2. Review summary\n",
    "# 3. Full review\n",
    "# 4. You have to scrape this data for first 100 reviews.\n"
   ]
  },
  {
   "cell_type": "code",
   "execution_count": 95,
   "id": "6b76bb79",
   "metadata": {},
   "outputs": [],
   "source": [
    "import selenium\n",
    "from selenium import webdriver\n",
    "import pandas as pd\n",
    "import warnings\n",
    "warnings.filterwarnings(\"ignore\")"
   ]
  },
  {
   "cell_type": "code",
   "execution_count": 96,
   "id": "8cfb3b27",
   "metadata": {},
   "outputs": [],
   "source": [
    "driver5 = webdriver.Chrome(r'C:\\Users\\Rick\\OneDrive\\Desktop\\Softwares\\chromedriver.exe')"
   ]
  },
  {
   "cell_type": "code",
   "execution_count": 97,
   "id": "55918ee0",
   "metadata": {},
   "outputs": [],
   "source": [
    "url5 = 'https://www.flipkart.com/apple-iphone-11-black-128-gb/product-reviews/itm8244e8d955aba?pid=MOBFWQ6BKRYBP5X8&lid=LSTMOBFWQ6BKRYBP5X8HS0EXP&marketplace=FLIPKART'"
   ]
  },
  {
   "cell_type": "code",
   "execution_count": 98,
   "id": "cffb5dfe",
   "metadata": {},
   "outputs": [],
   "source": [
    "driver5.get(url5)"
   ]
  },
  {
   "cell_type": "code",
   "execution_count": 101,
   "id": "c76e13fd",
   "metadata": {},
   "outputs": [],
   "source": [
    "# To extract page1 10 Ratings \n",
    "\n",
    "RR1 = driver5.find_elements_by_xpath('//div[@class=\"_3LWZlK _1BLPMq\"]')"
   ]
  },
  {
   "cell_type": "code",
   "execution_count": 102,
   "id": "0b1bce28",
   "metadata": {},
   "outputs": [
    {
     "data": {
      "text/plain": [
       "10"
      ]
     },
     "execution_count": 102,
     "metadata": {},
     "output_type": "execute_result"
    }
   ],
   "source": [
    "IphoneRatings1 = []\n",
    "\n",
    "for i in RR1:\n",
    "    IphoneRatings1.append(i.text)\n",
    "    \n",
    "len(IphoneRatings1)"
   ]
  },
  {
   "cell_type": "code",
   "execution_count": 103,
   "id": "e5d059af",
   "metadata": {},
   "outputs": [],
   "source": [
    "# To extract page1 10 review summary \n",
    "\n",
    "RS1 = driver5.find_elements_by_class_name('_2-N8zT')"
   ]
  },
  {
   "cell_type": "code",
   "execution_count": 104,
   "id": "cda8cab3",
   "metadata": {},
   "outputs": [
    {
     "data": {
      "text/plain": [
       "10"
      ]
     },
     "execution_count": 104,
     "metadata": {},
     "output_type": "execute_result"
    }
   ],
   "source": [
    "ReviewSummary1 = []\n",
    "\n",
    "for i in RS1:\n",
    "    ReviewSummary1.append(i.text)\n",
    "    \n",
    "len(ReviewSummary1)"
   ]
  },
  {
   "cell_type": "code",
   "execution_count": 105,
   "id": "f6fa2fc8",
   "metadata": {},
   "outputs": [],
   "source": [
    "# To extract Page1 10 full review\n",
    "\n",
    "FR1 = driver5.find_elements_by_class_name('t-ZTKy')"
   ]
  },
  {
   "cell_type": "code",
   "execution_count": 106,
   "id": "67d65001",
   "metadata": {},
   "outputs": [
    {
     "data": {
      "text/plain": [
       "10"
      ]
     },
     "execution_count": 106,
     "metadata": {},
     "output_type": "execute_result"
    }
   ],
   "source": [
    "FullReview1 = []\n",
    "\n",
    "for i in FR1:\n",
    "    FullReview1.append(i.text.replace('\\n', ' '))\n",
    "\n",
    "len(FullReview1)"
   ]
  },
  {
   "cell_type": "code",
   "execution_count": 107,
   "id": "99cc44f5",
   "metadata": {},
   "outputs": [],
   "source": [
    "# To locate the page 2 for automation:\n",
    "ihponePage2 = driver5.find_element_by_xpath('/html/body/div/div/div[3]/div/div/div[2]/div[13]/div/div/nav/a[2]')\n",
    "ihponePage2.click()"
   ]
  },
  {
   "cell_type": "code",
   "execution_count": 108,
   "id": "7fce2541",
   "metadata": {},
   "outputs": [],
   "source": [
    "# To extract page2 10 Ratings \n",
    "\n",
    "RR2 = driver5.find_elements_by_xpath('//div[@class=\"_3LWZlK _1BLPMq\"]')"
   ]
  },
  {
   "cell_type": "code",
   "execution_count": 110,
   "id": "12e7566b",
   "metadata": {},
   "outputs": [
    {
     "data": {
      "text/plain": [
       "10"
      ]
     },
     "execution_count": 110,
     "metadata": {},
     "output_type": "execute_result"
    }
   ],
   "source": [
    "IphoneRatings2 = []\n",
    "\n",
    "for i in RR2:\n",
    "    IphoneRatings2.append(i.text)\n",
    "    \n",
    "len(IphoneRatings2)"
   ]
  },
  {
   "cell_type": "code",
   "execution_count": 111,
   "id": "34f982c6",
   "metadata": {},
   "outputs": [],
   "source": [
    "# To extract page2 10 review summary \n",
    "\n",
    "RS2 = driver5.find_elements_by_class_name('_2-N8zT')"
   ]
  },
  {
   "cell_type": "code",
   "execution_count": 112,
   "id": "7ef4a79a",
   "metadata": {},
   "outputs": [
    {
     "data": {
      "text/plain": [
       "10"
      ]
     },
     "execution_count": 112,
     "metadata": {},
     "output_type": "execute_result"
    }
   ],
   "source": [
    "ReviewSummary2 = []\n",
    "\n",
    "for i in RS2:\n",
    "    ReviewSummary2.append(i.text)\n",
    "    \n",
    "len(ReviewSummary2)"
   ]
  },
  {
   "cell_type": "code",
   "execution_count": 113,
   "id": "f399c251",
   "metadata": {},
   "outputs": [],
   "source": [
    "# To extract Page2 10 full review\n",
    "\n",
    "FR2 = driver5.find_elements_by_class_name('t-ZTKy')"
   ]
  },
  {
   "cell_type": "code",
   "execution_count": 114,
   "id": "6ca3dd1a",
   "metadata": {},
   "outputs": [
    {
     "data": {
      "text/plain": [
       "10"
      ]
     },
     "execution_count": 114,
     "metadata": {},
     "output_type": "execute_result"
    }
   ],
   "source": [
    "FullReview2 = []\n",
    "\n",
    "for i in FR2:\n",
    "    FullReview2.append(i.text.replace('\\n', ' '))\n",
    "\n",
    "len(FullReview2)"
   ]
  },
  {
   "cell_type": "code",
   "execution_count": 115,
   "id": "907c3798",
   "metadata": {},
   "outputs": [],
   "source": [
    "# To locate the page 3 for automation:\n",
    "ihponePage3 = driver5.find_element_by_xpath('/html/body/div/div/div[3]/div/div/div[2]/div[13]/div/div/nav/a[4]')\n",
    "ihponePage3.click()"
   ]
  },
  {
   "cell_type": "code",
   "execution_count": 116,
   "id": "c0deed59",
   "metadata": {},
   "outputs": [],
   "source": [
    "# To extract page3 10 Ratings \n",
    "\n",
    "RR3 = driver5.find_elements_by_xpath('//div[@class=\"_3LWZlK _1BLPMq\"]')"
   ]
  },
  {
   "cell_type": "code",
   "execution_count": 117,
   "id": "662b4820",
   "metadata": {},
   "outputs": [
    {
     "data": {
      "text/plain": [
       "10"
      ]
     },
     "execution_count": 117,
     "metadata": {},
     "output_type": "execute_result"
    }
   ],
   "source": [
    "IphoneRatings3 = []\n",
    "\n",
    "for i in RR3:\n",
    "    IphoneRatings3.append(i.text)\n",
    "    \n",
    "len(IphoneRatings3)"
   ]
  },
  {
   "cell_type": "code",
   "execution_count": 118,
   "id": "df631c85",
   "metadata": {},
   "outputs": [],
   "source": [
    "# To extract page3 10 review summary \n",
    "\n",
    "RS3 = driver5.find_elements_by_class_name('_2-N8zT')"
   ]
  },
  {
   "cell_type": "code",
   "execution_count": 119,
   "id": "0de14f62",
   "metadata": {},
   "outputs": [
    {
     "data": {
      "text/plain": [
       "10"
      ]
     },
     "execution_count": 119,
     "metadata": {},
     "output_type": "execute_result"
    }
   ],
   "source": [
    "ReviewSummary3 = []\n",
    "\n",
    "for i in RS3:\n",
    "    ReviewSummary3.append(i.text)\n",
    "    \n",
    "len(ReviewSummary3)"
   ]
  },
  {
   "cell_type": "code",
   "execution_count": 120,
   "id": "fb8bd97a",
   "metadata": {},
   "outputs": [],
   "source": [
    "# To extract Page3 10 full review\n",
    "\n",
    "FR3 = driver5.find_elements_by_class_name('t-ZTKy')"
   ]
  },
  {
   "cell_type": "code",
   "execution_count": 121,
   "id": "d3518d49",
   "metadata": {},
   "outputs": [
    {
     "data": {
      "text/plain": [
       "10"
      ]
     },
     "execution_count": 121,
     "metadata": {},
     "output_type": "execute_result"
    }
   ],
   "source": [
    "FullReview3 = []\n",
    "\n",
    "for i in FR3:\n",
    "    FullReview3.append(i.text.replace('\\n', ' '))\n",
    "\n",
    "len(FullReview3)"
   ]
  },
  {
   "cell_type": "code",
   "execution_count": 122,
   "id": "03d60345",
   "metadata": {},
   "outputs": [],
   "source": [
    "# To locate the page 4 for automation:\n",
    "ihponePage4 = driver5.find_element_by_xpath('/html/body/div/div/div[3]/div/div/div[2]/div[13]/div/div/nav/a[5]')\n",
    "ihponePage4.click()"
   ]
  },
  {
   "cell_type": "code",
   "execution_count": 123,
   "id": "f74781d0",
   "metadata": {},
   "outputs": [],
   "source": [
    "# To extract page4 10 Ratings \n",
    "\n",
    "RR4 = driver5.find_elements_by_xpath('//div[@class=\"_3LWZlK _1BLPMq\"]')"
   ]
  },
  {
   "cell_type": "code",
   "execution_count": 124,
   "id": "aadfa312",
   "metadata": {},
   "outputs": [
    {
     "data": {
      "text/plain": [
       "9"
      ]
     },
     "execution_count": 124,
     "metadata": {},
     "output_type": "execute_result"
    }
   ],
   "source": [
    "IphoneRatings4 = []\n",
    "\n",
    "for i in RR4:\n",
    "    IphoneRatings4.append(i.text)\n",
    "    \n",
    "len(IphoneRatings4)"
   ]
  },
  {
   "cell_type": "code",
   "execution_count": 125,
   "id": "933f8224",
   "metadata": {},
   "outputs": [],
   "source": [
    "# To extract page4 10 review summary \n",
    "\n",
    "RS4 = driver5.find_elements_by_class_name('_2-N8zT')"
   ]
  },
  {
   "cell_type": "code",
   "execution_count": 126,
   "id": "d154f2be",
   "metadata": {},
   "outputs": [
    {
     "data": {
      "text/plain": [
       "10"
      ]
     },
     "execution_count": 126,
     "metadata": {},
     "output_type": "execute_result"
    }
   ],
   "source": [
    "ReviewSummary4 = []\n",
    "\n",
    "for i in RS4:\n",
    "    ReviewSummary4.append(i.text)\n",
    "    \n",
    "len(ReviewSummary4)"
   ]
  },
  {
   "cell_type": "code",
   "execution_count": 127,
   "id": "30781b9a",
   "metadata": {},
   "outputs": [],
   "source": [
    "# To extract Page4 10 full review\n",
    "\n",
    "FR4 = driver5.find_elements_by_class_name('t-ZTKy')"
   ]
  },
  {
   "cell_type": "code",
   "execution_count": 128,
   "id": "9c97a623",
   "metadata": {},
   "outputs": [
    {
     "data": {
      "text/plain": [
       "10"
      ]
     },
     "execution_count": 128,
     "metadata": {},
     "output_type": "execute_result"
    }
   ],
   "source": [
    "FullReview4 = []\n",
    "\n",
    "for i in FR4:\n",
    "    FullReview4.append(i.text.replace('\\n', ' '))\n",
    "\n",
    "len(FullReview4)"
   ]
  },
  {
   "cell_type": "code",
   "execution_count": 129,
   "id": "2a5a8654",
   "metadata": {},
   "outputs": [],
   "source": [
    "# To locate the page 5 for automation:\n",
    "ihponePage5 = driver5.find_element_by_xpath('/html/body/div/div/div[3]/div/div/div[2]/div[13]/div/div/nav/a[6]')\n",
    "ihponePage5.click()"
   ]
  },
  {
   "cell_type": "code",
   "execution_count": 130,
   "id": "8041f0a1",
   "metadata": {},
   "outputs": [],
   "source": [
    "# To extract page5 10 Ratings \n",
    "\n",
    "RR5 = driver5.find_elements_by_xpath('//div[@class=\"_3LWZlK _1BLPMq\"]')"
   ]
  },
  {
   "cell_type": "code",
   "execution_count": 131,
   "id": "a3c1134d",
   "metadata": {},
   "outputs": [
    {
     "data": {
      "text/plain": [
       "9"
      ]
     },
     "execution_count": 131,
     "metadata": {},
     "output_type": "execute_result"
    }
   ],
   "source": [
    "IphoneRatings5 = []\n",
    "\n",
    "for i in RR5:\n",
    "    IphoneRatings5.append(i.text)\n",
    "    \n",
    "len(IphoneRatings5)"
   ]
  },
  {
   "cell_type": "code",
   "execution_count": 132,
   "id": "bbde59a8",
   "metadata": {},
   "outputs": [],
   "source": [
    "# To extract page5 10 review summary \n",
    "\n",
    "RS5 = driver5.find_elements_by_class_name('_2-N8zT')"
   ]
  },
  {
   "cell_type": "code",
   "execution_count": 133,
   "id": "9f884d81",
   "metadata": {},
   "outputs": [
    {
     "data": {
      "text/plain": [
       "10"
      ]
     },
     "execution_count": 133,
     "metadata": {},
     "output_type": "execute_result"
    }
   ],
   "source": [
    "ReviewSummary5 = []\n",
    "\n",
    "for i in RS5:\n",
    "    ReviewSummary5.append(i.text)\n",
    "    \n",
    "len(ReviewSummary5)"
   ]
  },
  {
   "cell_type": "code",
   "execution_count": 134,
   "id": "5e6ae7a4",
   "metadata": {},
   "outputs": [],
   "source": [
    "# To extract Page5 10 full review\n",
    "\n",
    "FR5 = driver5.find_elements_by_class_name('t-ZTKy')"
   ]
  },
  {
   "cell_type": "code",
   "execution_count": 135,
   "id": "396debc3",
   "metadata": {},
   "outputs": [
    {
     "data": {
      "text/plain": [
       "10"
      ]
     },
     "execution_count": 135,
     "metadata": {},
     "output_type": "execute_result"
    }
   ],
   "source": [
    "FullReview5 = []\n",
    "\n",
    "for i in FR5:\n",
    "    FullReview5.append(i.text.replace('\\n', ' '))\n",
    "\n",
    "len(FullReview5)"
   ]
  },
  {
   "cell_type": "code",
   "execution_count": 136,
   "id": "44c8bb53",
   "metadata": {},
   "outputs": [],
   "source": [
    "# To locate the page 6 for automation:\n",
    "ihponePage6 = driver5.find_element_by_xpath('/html/body/div/div/div[3]/div/div/div[2]/div[13]/div/div/nav/a[7]')\n",
    "ihponePage6.click()"
   ]
  },
  {
   "cell_type": "code",
   "execution_count": 137,
   "id": "cd15cec6",
   "metadata": {},
   "outputs": [],
   "source": [
    "# To extract page6 10 Ratings \n",
    "\n",
    "RR6 = driver5.find_elements_by_xpath('//div[@class=\"_3LWZlK _1BLPMq\"]')"
   ]
  },
  {
   "cell_type": "code",
   "execution_count": 138,
   "id": "1fc5be91",
   "metadata": {},
   "outputs": [
    {
     "data": {
      "text/plain": [
       "10"
      ]
     },
     "execution_count": 138,
     "metadata": {},
     "output_type": "execute_result"
    }
   ],
   "source": [
    "IphoneRatings6 = []\n",
    "\n",
    "for i in RR6:\n",
    "    IphoneRatings6.append(i.text)\n",
    "    \n",
    "len(IphoneRatings6)"
   ]
  },
  {
   "cell_type": "code",
   "execution_count": 139,
   "id": "a71fd9f6",
   "metadata": {},
   "outputs": [],
   "source": [
    "# To extract page6 10 review summary \n",
    "\n",
    "RS6 = driver5.find_elements_by_class_name('_2-N8zT')"
   ]
  },
  {
   "cell_type": "code",
   "execution_count": 140,
   "id": "0ab98eec",
   "metadata": {},
   "outputs": [
    {
     "data": {
      "text/plain": [
       "10"
      ]
     },
     "execution_count": 140,
     "metadata": {},
     "output_type": "execute_result"
    }
   ],
   "source": [
    "ReviewSummary6 = []\n",
    "\n",
    "for i in RS6:\n",
    "    ReviewSummary6.append(i.text)\n",
    "    \n",
    "len(ReviewSummary6)"
   ]
  },
  {
   "cell_type": "code",
   "execution_count": 141,
   "id": "4f7edabb",
   "metadata": {},
   "outputs": [],
   "source": [
    "# To extract Page6 10 full review\n",
    "\n",
    "FR6 = driver5.find_elements_by_class_name('t-ZTKy')"
   ]
  },
  {
   "cell_type": "code",
   "execution_count": 142,
   "id": "ffe088b3",
   "metadata": {},
   "outputs": [
    {
     "data": {
      "text/plain": [
       "10"
      ]
     },
     "execution_count": 142,
     "metadata": {},
     "output_type": "execute_result"
    }
   ],
   "source": [
    "FullReview6 = []\n",
    "\n",
    "for i in FR6:\n",
    "    FullReview6.append(i.text.replace('\\n', ' '))\n",
    "\n",
    "len(FullReview6)"
   ]
  },
  {
   "cell_type": "code",
   "execution_count": 143,
   "id": "fd1a623b",
   "metadata": {},
   "outputs": [],
   "source": [
    "# To locate the page 7 for automation:\n",
    "ihponePage7 = driver5.find_element_by_xpath('/html/body/div/div/div[3]/div/div/div[2]/div[13]/div/div/nav/a[7]')\n",
    "ihponePage7.click()"
   ]
  },
  {
   "cell_type": "code",
   "execution_count": 144,
   "id": "81e309ad",
   "metadata": {},
   "outputs": [],
   "source": [
    "# To extract page7 10 Ratings \n",
    "\n",
    "RR7 = driver5.find_elements_by_xpath('//div[@class=\"_3LWZlK _1BLPMq\"]')"
   ]
  },
  {
   "cell_type": "code",
   "execution_count": 145,
   "id": "70f9e7a3",
   "metadata": {},
   "outputs": [
    {
     "data": {
      "text/plain": [
       "10"
      ]
     },
     "execution_count": 145,
     "metadata": {},
     "output_type": "execute_result"
    }
   ],
   "source": [
    "IphoneRatings7 = []\n",
    "\n",
    "for i in RR7:\n",
    "    IphoneRatings7.append(i.text)\n",
    "    \n",
    "len(IphoneRatings7)"
   ]
  },
  {
   "cell_type": "code",
   "execution_count": 146,
   "id": "5bf13220",
   "metadata": {},
   "outputs": [],
   "source": [
    "# To extract page7 10 review summary \n",
    "\n",
    "RS7 = driver5.find_elements_by_class_name('_2-N8zT')"
   ]
  },
  {
   "cell_type": "code",
   "execution_count": 147,
   "id": "712f45a0",
   "metadata": {},
   "outputs": [
    {
     "data": {
      "text/plain": [
       "10"
      ]
     },
     "execution_count": 147,
     "metadata": {},
     "output_type": "execute_result"
    }
   ],
   "source": [
    "ReviewSummary7 = []\n",
    "\n",
    "for i in RS7:\n",
    "    ReviewSummary7.append(i.text)\n",
    "    \n",
    "len(ReviewSummary7)"
   ]
  },
  {
   "cell_type": "code",
   "execution_count": 148,
   "id": "922f06aa",
   "metadata": {},
   "outputs": [],
   "source": [
    "# To extract Page7 10 full review\n",
    "\n",
    "FR7 = driver5.find_elements_by_class_name('t-ZTKy')"
   ]
  },
  {
   "cell_type": "code",
   "execution_count": 149,
   "id": "3cb55bf7",
   "metadata": {},
   "outputs": [
    {
     "data": {
      "text/plain": [
       "10"
      ]
     },
     "execution_count": 149,
     "metadata": {},
     "output_type": "execute_result"
    }
   ],
   "source": [
    "FullReview7 = []\n",
    "\n",
    "for i in FR7:\n",
    "    FullReview7.append(i.text.replace('\\n', ' '))\n",
    "\n",
    "len(FullReview7)"
   ]
  },
  {
   "cell_type": "code",
   "execution_count": 150,
   "id": "6bb0569b",
   "metadata": {},
   "outputs": [],
   "source": [
    "# To locate the page 8 for automation:\n",
    "ihponePage8 = driver5.find_element_by_xpath('/html/body/div/div/div[3]/div/div/div[2]/div[13]/div/div/nav/a[7]')\n",
    "ihponePage8.click()"
   ]
  },
  {
   "cell_type": "code",
   "execution_count": 151,
   "id": "befe96da",
   "metadata": {},
   "outputs": [],
   "source": [
    "# To extract page 8 10 Ratings \n",
    "\n",
    "RR8 = driver5.find_elements_by_xpath('//div[@class=\"_3LWZlK _1BLPMq\"]')"
   ]
  },
  {
   "cell_type": "code",
   "execution_count": 152,
   "id": "3e4df41a",
   "metadata": {},
   "outputs": [
    {
     "data": {
      "text/plain": [
       "10"
      ]
     },
     "execution_count": 152,
     "metadata": {},
     "output_type": "execute_result"
    }
   ],
   "source": [
    "IphoneRatings8 = []\n",
    "\n",
    "for i in RR8:\n",
    "    IphoneRatings8.append(i.text)\n",
    "    \n",
    "len(IphoneRatings8)"
   ]
  },
  {
   "cell_type": "code",
   "execution_count": 153,
   "id": "a151e891",
   "metadata": {},
   "outputs": [],
   "source": [
    "# To extract page8 10 review summary \n",
    "\n",
    "RS8 = driver5.find_elements_by_class_name('_2-N8zT')"
   ]
  },
  {
   "cell_type": "code",
   "execution_count": 154,
   "id": "bcca3aff",
   "metadata": {},
   "outputs": [
    {
     "data": {
      "text/plain": [
       "10"
      ]
     },
     "execution_count": 154,
     "metadata": {},
     "output_type": "execute_result"
    }
   ],
   "source": [
    "ReviewSummary8 = []\n",
    "\n",
    "for i in RS8:\n",
    "    ReviewSummary8.append(i.text)\n",
    "    \n",
    "len(ReviewSummary8)"
   ]
  },
  {
   "cell_type": "code",
   "execution_count": 155,
   "id": "f17ec5ec",
   "metadata": {},
   "outputs": [],
   "source": [
    "# To extract Page8 10 full review\n",
    "\n",
    "FR8 = driver5.find_elements_by_class_name('t-ZTKy')"
   ]
  },
  {
   "cell_type": "code",
   "execution_count": 156,
   "id": "9d73b9c4",
   "metadata": {},
   "outputs": [
    {
     "data": {
      "text/plain": [
       "10"
      ]
     },
     "execution_count": 156,
     "metadata": {},
     "output_type": "execute_result"
    }
   ],
   "source": [
    "FullReview8 = []\n",
    "\n",
    "for i in FR8:\n",
    "    FullReview8.append(i.text.replace('\\n', ' '))\n",
    "\n",
    "len(FullReview8)"
   ]
  },
  {
   "cell_type": "code",
   "execution_count": 157,
   "id": "f86818cb",
   "metadata": {},
   "outputs": [],
   "source": [
    "# To locate the page 9 for automation:\n",
    "ihponePage9 = driver5.find_element_by_xpath('/html/body/div/div/div[3]/div/div/div[2]/div[13]/div/div/nav/a[7]')\n",
    "ihponePage9.click()"
   ]
  },
  {
   "cell_type": "code",
   "execution_count": 158,
   "id": "56354ea9",
   "metadata": {},
   "outputs": [],
   "source": [
    "# To extract page 9 10 Ratings \n",
    "\n",
    "RR9 = driver5.find_elements_by_xpath('//div[@class=\"_3LWZlK _1BLPMq\"]')"
   ]
  },
  {
   "cell_type": "code",
   "execution_count": 159,
   "id": "6ede073c",
   "metadata": {},
   "outputs": [
    {
     "data": {
      "text/plain": [
       "8"
      ]
     },
     "execution_count": 159,
     "metadata": {},
     "output_type": "execute_result"
    }
   ],
   "source": [
    "IphoneRatings9 = []\n",
    "\n",
    "for i in RR9:\n",
    "    IphoneRatings9.append(i.text)\n",
    "    \n",
    "len(IphoneRatings9)"
   ]
  },
  {
   "cell_type": "code",
   "execution_count": 160,
   "id": "bf0832eb",
   "metadata": {},
   "outputs": [],
   "source": [
    "# To extract page9 10 review summary \n",
    "\n",
    "RS9 = driver5.find_elements_by_class_name('_2-N8zT')"
   ]
  },
  {
   "cell_type": "code",
   "execution_count": 161,
   "id": "c06e9c19",
   "metadata": {},
   "outputs": [
    {
     "data": {
      "text/plain": [
       "10"
      ]
     },
     "execution_count": 161,
     "metadata": {},
     "output_type": "execute_result"
    }
   ],
   "source": [
    "ReviewSummary9 = []\n",
    "\n",
    "for i in RS9:\n",
    "    ReviewSummary9.append(i.text)\n",
    "    \n",
    "len(ReviewSummary9)"
   ]
  },
  {
   "cell_type": "code",
   "execution_count": 162,
   "id": "1da7f661",
   "metadata": {},
   "outputs": [],
   "source": [
    "# To extract Page9 10 full review\n",
    "\n",
    "FR9 = driver5.find_elements_by_class_name('t-ZTKy')"
   ]
  },
  {
   "cell_type": "code",
   "execution_count": 163,
   "id": "143426e4",
   "metadata": {},
   "outputs": [
    {
     "data": {
      "text/plain": [
       "10"
      ]
     },
     "execution_count": 163,
     "metadata": {},
     "output_type": "execute_result"
    }
   ],
   "source": [
    "FullReview9 = []\n",
    "\n",
    "for i in FR9:\n",
    "    FullReview9.append(i.text.replace('\\n', ' '))\n",
    "\n",
    "len(FullReview9)"
   ]
  },
  {
   "cell_type": "code",
   "execution_count": 164,
   "id": "477ded29",
   "metadata": {},
   "outputs": [],
   "source": [
    "# To locate the page 10 for automation:\n",
    "ihponePage10 = driver5.find_element_by_xpath('/html/body/div/div/div[3]/div/div/div[2]/div[13]/div/div/nav/a[7]')\n",
    "ihponePage10.click()"
   ]
  },
  {
   "cell_type": "code",
   "execution_count": 165,
   "id": "d461abea",
   "metadata": {},
   "outputs": [],
   "source": [
    "# To extract page 10 10 Ratings \n",
    "\n",
    "RR10 = driver5.find_elements_by_xpath('//div[@class=\"_3LWZlK _1BLPMq\"]')"
   ]
  },
  {
   "cell_type": "code",
   "execution_count": 166,
   "id": "89f5ac61",
   "metadata": {},
   "outputs": [
    {
     "data": {
      "text/plain": [
       "8"
      ]
     },
     "execution_count": 166,
     "metadata": {},
     "output_type": "execute_result"
    }
   ],
   "source": [
    "IphoneRatings10 = []\n",
    "\n",
    "for i in RR10:\n",
    "    IphoneRatings10.append(i.text)\n",
    "    \n",
    "len(IphoneRatings10)"
   ]
  },
  {
   "cell_type": "code",
   "execution_count": 167,
   "id": "cc8dd4a7",
   "metadata": {},
   "outputs": [],
   "source": [
    "# To extract page10 10 review summary \n",
    "\n",
    "RS10 = driver5.find_elements_by_class_name('_2-N8zT')"
   ]
  },
  {
   "cell_type": "code",
   "execution_count": 168,
   "id": "1a4bcd55",
   "metadata": {},
   "outputs": [
    {
     "data": {
      "text/plain": [
       "10"
      ]
     },
     "execution_count": 168,
     "metadata": {},
     "output_type": "execute_result"
    }
   ],
   "source": [
    "ReviewSummary10 = []\n",
    "\n",
    "for i in RS10:\n",
    "    ReviewSummary10.append(i.text)\n",
    "    \n",
    "len(ReviewSummary10)"
   ]
  },
  {
   "cell_type": "code",
   "execution_count": 169,
   "id": "c4451995",
   "metadata": {},
   "outputs": [],
   "source": [
    "# To extract Page10 10 full review\n",
    "\n",
    "FR10 = driver5.find_elements_by_class_name('t-ZTKy')"
   ]
  },
  {
   "cell_type": "code",
   "execution_count": 170,
   "id": "bde37e1f",
   "metadata": {},
   "outputs": [
    {
     "data": {
      "text/plain": [
       "10"
      ]
     },
     "execution_count": 170,
     "metadata": {},
     "output_type": "execute_result"
    }
   ],
   "source": [
    "FullReview10 = []\n",
    "\n",
    "for i in FR10:\n",
    "    FullReview10.append(i.text.replace('\\n', ' '))\n",
    "\n",
    "len(FullReview10)"
   ]
  },
  {
   "cell_type": "code",
   "execution_count": 194,
   "id": "f1619f58",
   "metadata": {},
   "outputs": [],
   "source": [
    "IPR = IphoneRatings1[:7]+IphoneRatings2[:7]+IphoneRatings3[:7]+IphoneRatings4[:7]+IphoneRatings5[:7]+IphoneRatings6[:7]+IphoneRatings7[:7]+IphoneRatings8[:7]+IphoneRatings9[:7]+IphoneRatings10[:7]\n",
    "\n",
    "\n",
    "RSS = ReviewSummary1+ReviewSummary2+ReviewSummary3+ReviewSummary4+ReviewSummary5+ReviewSummary6+ReviewSummary7+ReviewSummary8+ReviewSummary9+ReviewSummary10\n",
    "\n",
    "\n",
    "FRR = FullReview1+FullReview2+FullReview3+FullReview4+FullReview5+FullReview6+FullReview7+FullReview8+FullReview9+FullReview10\n"
   ]
  },
  {
   "cell_type": "code",
   "execution_count": 195,
   "id": "86b0e481",
   "metadata": {},
   "outputs": [],
   "source": [
    "IphoneFlipkart=pd.DataFrame({})\n",
    "IphoneFlipkart['Ratings']= IPR\n",
    "IphoneFlipkart['Review-Summary']= RSS[:70]\n",
    "IphoneFlipkart['Full-Review']= FRR[:70]"
   ]
  },
  {
   "cell_type": "code",
   "execution_count": 196,
   "id": "74b69b8e",
   "metadata": {},
   "outputs": [
    {
     "data": {
      "text/html": [
       "<div>\n",
       "<style scoped>\n",
       "    .dataframe tbody tr th:only-of-type {\n",
       "        vertical-align: middle;\n",
       "    }\n",
       "\n",
       "    .dataframe tbody tr th {\n",
       "        vertical-align: top;\n",
       "    }\n",
       "\n",
       "    .dataframe thead th {\n",
       "        text-align: right;\n",
       "    }\n",
       "</style>\n",
       "<table border=\"1\" class=\"dataframe\">\n",
       "  <thead>\n",
       "    <tr style=\"text-align: right;\">\n",
       "      <th></th>\n",
       "      <th>Ratings</th>\n",
       "      <th>Review-Summary</th>\n",
       "      <th>Full-Review</th>\n",
       "    </tr>\n",
       "  </thead>\n",
       "  <tbody>\n",
       "    <tr>\n",
       "      <th>0</th>\n",
       "      <td>5</td>\n",
       "      <td>Brilliant</td>\n",
       "      <td>The Best Phone for the Money  The iPhone 11 offers superb cameras, a more durable design and excellent battery life for an affordable price.  Compelling ultra-wide camera New Night mode is excellent Long battery life</td>\n",
       "    </tr>\n",
       "    <tr>\n",
       "      <th>1</th>\n",
       "      <td>5</td>\n",
       "      <td>Simply awesome</td>\n",
       "      <td>Really satisfied with the Product I received... It’s totally genuine and the packaging was also really good so if ur planning to buy just go for it.</td>\n",
       "    </tr>\n",
       "    <tr>\n",
       "      <th>2</th>\n",
       "      <td>5</td>\n",
       "      <td>Best in the market!</td>\n",
       "      <td>Great iPhone very snappy experience as apple kind. Upgraded from iPhone 7. Pros -Camera top class - Battery top performed -Chipset no need to say as apple kind -Security as you expect from apple - Display super bright industry leading colour accuracy and super responsive -Build quality as expect from apple sturdy premium durable beautiful stylish. -Os most stable os in smartphone industry  Cons -No 5G -Display is not based on OLED technology -Charger headphones and 1 apple stic... READ MORE</td>\n",
       "    </tr>\n",
       "    <tr>\n",
       "      <th>3</th>\n",
       "      <td>5</td>\n",
       "      <td>Perfect product!</td>\n",
       "      <td>Amazing phone with great cameras and better battery which gives you the best performance. I just love the camera .</td>\n",
       "    </tr>\n",
       "    <tr>\n",
       "      <th>4</th>\n",
       "      <td>5</td>\n",
       "      <td>Fabulous!</td>\n",
       "      <td>This is my first iOS phone. I am very happy with this product. Very much satisfied with this. I love this phone.</td>\n",
       "    </tr>\n",
       "    <tr>\n",
       "      <th>5</th>\n",
       "      <td>5</td>\n",
       "      <td>Worth every penny</td>\n",
       "      <td>Previously I was using one plus 3t it was a great phone And then I decided to upgrade I am stuck between Samsung s10 plus or iPhone 11 I have seen the specs and everything were good except the display it’s somewhere between 720-1080 and it’s not even an amoled it’s an LCD display But I decided to go with iPhone because I have never used an IOS device I have Been an android user from the past 9 years I ordered IPhone 11 (128gb) product red My experience after using 3 weeks 1. The delivery ... READ MORE</td>\n",
       "    </tr>\n",
       "    <tr>\n",
       "      <th>6</th>\n",
       "      <td>5</td>\n",
       "      <td>Great product</td>\n",
       "      <td>Amazing Powerful and Durable Gadget.  I’m am very happy with the camera picture quality, Amazing face id unlocked in dark room, Strong battery with perfect screen size as you can carry easily in pocket. This is my third iPhone.  I shifted from android Samsung Note series to iPhone because of the strong build quality and peace of mind for next 3-4 years.  Don’t think to much just go for it and I suggest you to go for minimum 128gb variant or more 256gb.  I’ve attached my puppy pics and no fi... READ MORE</td>\n",
       "    </tr>\n",
       "    <tr>\n",
       "      <th>7</th>\n",
       "      <td>5</td>\n",
       "      <td>Highly recommended</td>\n",
       "      <td>What a camera .....just awesome ..you can feel this iPhone just awesome . Good for gaming also ...try pubg in hd it’s just wow</td>\n",
       "    </tr>\n",
       "    <tr>\n",
       "      <th>8</th>\n",
       "      <td>5</td>\n",
       "      <td>Good choice</td>\n",
       "      <td>So far it’s been an AMAZING experience coming back to iOS after nearly a decade but it’s not as versatile as android though phone is sturdy dropped it accidentally a couple of times and nothing happened fortunately camera is awesome</td>\n",
       "    </tr>\n",
       "    <tr>\n",
       "      <th>9</th>\n",
       "      <td>5</td>\n",
       "      <td>Worth every penny</td>\n",
       "      <td>i11 is worthy to buy, too much happy with the product. Thank u flipkart I received the item on time..loved it..</td>\n",
       "    </tr>\n",
       "    <tr>\n",
       "      <th>10</th>\n",
       "      <td>5</td>\n",
       "      <td>Highly recommended</td>\n",
       "      <td>iphone 11 is a very good phone to buy only if you can compromise for the display. The display on this is device is pretty good but you can get other options with better displays in this price segment. If you can survive with an HD+ LCD panel with thicker bezels and a notch up top then this is a very good phone for you. Cameras are awesome, battery backup excellent, great performance and a decent premium look. Good job Apple !</td>\n",
       "    </tr>\n",
       "    <tr>\n",
       "      <th>11</th>\n",
       "      <td>5</td>\n",
       "      <td>Perfect product!</td>\n",
       "      <td>It’s a must buy who is looking for an upgrade from previous generation of iPhones. If you are using XR then still you can hold on for sometime and upgrade to 2020 model else this phone is a must buy . Camera quality is amazing and wide angle is something to count upon. Performance wise it’s amazing and feels premium while holding in hand. So a big YES for this device. Go for 128 GB variant as the 4K videos will occupy lots of space and the storage can get over very quickly. Try to buy it with... READ MORE</td>\n",
       "    </tr>\n",
       "    <tr>\n",
       "      <th>12</th>\n",
       "      <td>5</td>\n",
       "      <td>Perfect product!</td>\n",
       "      <td>Value for money❤️❤️ Its awesome mobile phone in the world ... Display was very good and bright .. Trust me freinds you r never regret after Buying.. Just go for it.... I love this phone and i switch to iphone x to 11</td>\n",
       "    </tr>\n",
       "    <tr>\n",
       "      <th>13</th>\n",
       "      <td>5</td>\n",
       "      <td>Highly recommended</td>\n",
       "      <td>It's my first time to use iOS phone and I am loving my upgradation 😍😍 I love the color, I love the assebility of the phone....I need to learn more about its functionality, but as far as I have seen, it's quite easy and it has a lot of functions to work on, specially if you are a content writer or a blogger you get a lot of content creation platforms and they are really amazing.  This phone not only for good quality photography but a lot of other task too.😍💯</td>\n",
       "    </tr>\n",
       "    <tr>\n",
       "      <th>14</th>\n",
       "      <td>5</td>\n",
       "      <td>Perfect product!</td>\n",
       "      <td>Iphone is just awesome.. battery backup is very very nice.. continuously for 10 hours we can use it.camera is just awesome.. display is just fab.i love it alot..i had to wait 15 days for it as i pre ordered it..overalll it's worth the price..these all images are clicked by my iPhone..and i love it.</td>\n",
       "    </tr>\n",
       "    <tr>\n",
       "      <th>15</th>\n",
       "      <td>5</td>\n",
       "      <td>Worth every penny</td>\n",
       "      <td>Best budget Iphone till date ❤️ go for it guys without second thought. Let me explain you guys about Camera, Display, battery, and performance.  Camera: at this price range there is no comparison of camera, you’ll love the picture quality as well as video quality. I am a Vlogger I wanted an iPhone with 4k video by front camera and I got this phone and I am more than happy 😃  Battery: I use this phone roughly as I am active social media person and I have a youtube channel. so the battery ba... READ MORE</td>\n",
       "    </tr>\n",
       "    <tr>\n",
       "      <th>16</th>\n",
       "      <td>5</td>\n",
       "      <td>Classy product</td>\n",
       "      <td>Totally in love with this ❤ the camera quality is amazing just love it 😘😘😘 itsss dammnnnnnn amazing... Must buy iPhone 11 this is my best experience ever ☀👌👌🧡🧡🧡🧡🧡 thanku apple ❤</td>\n",
       "    </tr>\n",
       "    <tr>\n",
       "      <th>17</th>\n",
       "      <td>5</td>\n",
       "      <td>Worth every penny</td>\n",
       "      <td>Smooth like butter, camera like fantabulous, sound is crystal clear &amp; its red color is damn attractive, i am just loving it. Must buy if you love photography.  Lucky to get it in sale, thank you Flipkart.</td>\n",
       "    </tr>\n",
       "    <tr>\n",
       "      <th>18</th>\n",
       "      <td>5</td>\n",
       "      <td>Worth every penny</td>\n",
       "      <td>It’s been almost a month since I have been using this phone. I upgraded from an iPhone 8. The main issue with my 8 was battery and this phone is just awesome when it comes to battery. It lasts a day and a half for me with my regular use , internet connected always with 4g Can’t move forward without saying this. Battery of this phone is a life saver when I am traveling or at work when I don’t get the option to charge Camera is superb. Front cam selfies and back cam photos are just awesome. ... READ MORE</td>\n",
       "    </tr>\n",
       "    <tr>\n",
       "      <th>19</th>\n",
       "      <td>5</td>\n",
       "      <td>Nice product</td>\n",
       "      <td>Awesome Phone. Slightly high price but worth. Better than iPhone XR. Camera is superb and wide angle camera is very clear. 12MP selfie camera is also very good. A13 Chip gives a very good and smooth performance.</td>\n",
       "    </tr>\n",
       "    <tr>\n",
       "      <th>20</th>\n",
       "      <td>5</td>\n",
       "      <td>Highly recommended</td>\n",
       "      <td>iphone 11 is a very good phone to buy only if you can compromise for the display. The display on this is device is pretty good but you can get other options with better displays in this price segment. If you can survive with an HD+ LCD panel with thicker bezels and a notch up top then this is a very good phone for you. Cameras are awesome, battery backup excellent, great performance and a decent premium look. Good job Apple !</td>\n",
       "    </tr>\n",
       "    <tr>\n",
       "      <th>21</th>\n",
       "      <td>5</td>\n",
       "      <td>Perfect product!</td>\n",
       "      <td>It’s a must buy who is looking for an upgrade from previous generation of iPhones. If you are using XR then still you can hold on for sometime and upgrade to 2020 model else this phone is a must buy . Camera quality is amazing and wide angle is something to count upon. Performance wise it’s amazing and feels premium while holding in hand. So a big YES for this device. Go for 128 GB variant as the 4K videos will occupy lots of space and the storage can get over very quickly. Try to buy it with... READ MORE</td>\n",
       "    </tr>\n",
       "    <tr>\n",
       "      <th>22</th>\n",
       "      <td>5</td>\n",
       "      <td>Perfect product!</td>\n",
       "      <td>Value for money❤️❤️ Its awesome mobile phone in the world ... Display was very good and bright .. Trust me freinds you r never regret after Buying.. Just go for it.... I love this phone and i switch to iphone x to 11</td>\n",
       "    </tr>\n",
       "    <tr>\n",
       "      <th>23</th>\n",
       "      <td>4</td>\n",
       "      <td>Highly recommended</td>\n",
       "      <td>It's my first time to use iOS phone and I am loving my upgradation 😍😍 I love the color, I love the assebility of the phone....I need to learn more about its functionality, but as far as I have seen, it's quite easy and it has a lot of functions to work on, specially if you are a content writer or a blogger you get a lot of content creation platforms and they are really amazing.  This phone not only for good quality photography but a lot of other task too.😍💯</td>\n",
       "    </tr>\n",
       "    <tr>\n",
       "      <th>24</th>\n",
       "      <td>5</td>\n",
       "      <td>Perfect product!</td>\n",
       "      <td>Iphone is just awesome.. battery backup is very very nice.. continuously for 10 hours we can use it.camera is just awesome.. display is just fab.i love it alot..i had to wait 15 days for it as i pre ordered it..overalll it's worth the price..these all images are clicked by my iPhone..and i love it.</td>\n",
       "    </tr>\n",
       "    <tr>\n",
       "      <th>25</th>\n",
       "      <td>5</td>\n",
       "      <td>Worth every penny</td>\n",
       "      <td>Best budget Iphone till date ❤️ go for it guys without second thought. Let me explain you guys about Camera, Display, battery, and performance.  Camera: at this price range there is no comparison of camera, you’ll love the picture quality as well as video quality. I am a Vlogger I wanted an iPhone with 4k video by front camera and I got this phone and I am more than happy 😃  Battery: I use this phone roughly as I am active social media person and I have a youtube channel. so the battery ba... READ MORE</td>\n",
       "    </tr>\n",
       "    <tr>\n",
       "      <th>26</th>\n",
       "      <td>5</td>\n",
       "      <td>Classy product</td>\n",
       "      <td>Totally in love with this ❤ the camera quality is amazing just love it 😘😘😘 itsss dammnnnnnn amazing... Must buy iPhone 11 this is my best experience ever ☀👌👌🧡🧡🧡🧡🧡 thanku apple ❤</td>\n",
       "    </tr>\n",
       "    <tr>\n",
       "      <th>27</th>\n",
       "      <td>5</td>\n",
       "      <td>Worth every penny</td>\n",
       "      <td>Smooth like butter, camera like fantabulous, sound is crystal clear &amp; its red color is damn attractive, i am just loving it. Must buy if you love photography.  Lucky to get it in sale, thank you Flipkart.</td>\n",
       "    </tr>\n",
       "    <tr>\n",
       "      <th>28</th>\n",
       "      <td>5</td>\n",
       "      <td>Worth every penny</td>\n",
       "      <td>It’s been almost a month since I have been using this phone. I upgraded from an iPhone 8. The main issue with my 8 was battery and this phone is just awesome when it comes to battery. It lasts a day and a half for me with my regular use , internet connected always with 4g Can’t move forward without saying this. Battery of this phone is a life saver when I am traveling or at work when I don’t get the option to charge Camera is superb. Front cam selfies and back cam photos are just awesome. ... READ MORE</td>\n",
       "    </tr>\n",
       "    <tr>\n",
       "      <th>29</th>\n",
       "      <td>5</td>\n",
       "      <td>Nice product</td>\n",
       "      <td>Awesome Phone. Slightly high price but worth. Better than iPhone XR. Camera is superb and wide angle camera is very clear. 12MP selfie camera is also very good. A13 Chip gives a very good and smooth performance.</td>\n",
       "    </tr>\n",
       "    <tr>\n",
       "      <th>30</th>\n",
       "      <td>4</td>\n",
       "      <td>Must buy!</td>\n",
       "      <td>I rate this product 5* as it has got amazing user experience with the best performing A13 bionic processor. The screen responds and graphics rendering is top notch. With casual gaming and internet browsing, the battery lasts for approx. 1 day. Camera is very good. You will fall in love with the portrait mode. You can call me a loyal Apple customer or whatever but I won’t stop praising the products and overall experience. That user experience matters and is worth every penny you pay.  Below ar... READ MORE</td>\n",
       "    </tr>\n",
       "    <tr>\n",
       "      <th>31</th>\n",
       "      <td>5</td>\n",
       "      <td>Great product</td>\n",
       "      <td>Again back to apple iphone after a gap of 2-3 years. It's pleasure to use iOS and the quality product by Apple. Iphone 11 still works like a beast in 2021 also. It really capable of doing day to day usage as well as hard core gaming. Battery is awesome. I'm really too much satisfied with it. Apart fto the very gorgious IPS LCD (AMOLED will be better) everything is mind boggling. Iphone💕.</td>\n",
       "    </tr>\n",
       "    <tr>\n",
       "      <th>32</th>\n",
       "      <td>5</td>\n",
       "      <td>Very Good</td>\n",
       "      <td>impressive super phone and best in class camera ,sound and face unlock is super fast just see and phone is unlock and fast in daily apps use</td>\n",
       "    </tr>\n",
       "    <tr>\n",
       "      <th>33</th>\n",
       "      <td>5</td>\n",
       "      <td>Wonderful</td>\n",
       "      <td>Super and marvellous phone look very cute and nice sound. I love this phone i think white is good colur.Excellent camer 5*😍😘♥️♥️</td>\n",
       "    </tr>\n",
       "    <tr>\n",
       "      <th>34</th>\n",
       "      <td>5</td>\n",
       "      <td>Classy product</td>\n",
       "      <td>Well while switching from android to iOS the first thing you need to be careful about is that you will loose all your whatsapp chat backups as both are different operating systems. Camera clarity is awesome and though being an lcd screen clarity and resolution is good. Battery backup is also good unlike previous gen iPhone. So far the experience is good will Padre after a few months of usage.  P.S the black is more of a dark grey shade and not jet black</td>\n",
       "    </tr>\n",
       "    <tr>\n",
       "      <th>35</th>\n",
       "      <td>5</td>\n",
       "      <td>Awesome</td>\n",
       "      <td>Very excited to have this phone. This phone has the real power unlike the android phones having SD 855 . The battery life is very good and the camera quality is excellent as comapred to redmi and other phones except google pixel. I M enjoying every single bit of it. Would recommed only if you have the budget.</td>\n",
       "    </tr>\n",
       "    <tr>\n",
       "      <th>36</th>\n",
       "      <td>5</td>\n",
       "      <td>Classy product</td>\n",
       "      <td>Best and amazing product.....phone looks so premium.... battary is also good as expected .... Wide angle camera is so addictive ...if you are a IOS lover....then this phone will be the best choice for you all!!💯🔥</td>\n",
       "    </tr>\n",
       "    <tr>\n",
       "      <th>37</th>\n",
       "      <td>5</td>\n",
       "      <td>Awesome</td>\n",
       "      <td>Always love the apple products, upgraded from old iPhone 6S plus to this after having my first baby. I just love to click baby’s photos with it. Overall I just love this phone. Battery back up is okay, sound quality is good. Haven’t tested yet waterproof yet. Only one thing I hate is apple could have given charger &amp; headphones in box.</td>\n",
       "    </tr>\n",
       "    <tr>\n",
       "      <th>38</th>\n",
       "      <td>5</td>\n",
       "      <td>Perfect product!</td>\n",
       "      <td>Value for money 5 star rating Excellent camera Battery backup full day in single charge.  Tougher and water resistant design, glossy back. The screen has excellent brightness and contrast. Apple A13 Bionic is the fastest smartphone chip on the planet. Excellent battery life, fast charging support. Stereo speakers with great quality.</td>\n",
       "    </tr>\n",
       "    <tr>\n",
       "      <th>39</th>\n",
       "      <td>5</td>\n",
       "      <td>Very poor</td>\n",
       "      <td>Please DONT buy from here,  I purchased Apple iPhone 11. with an exchange of IPhone 7, the exchange did not go well, iPhone 7 had a small scratch out side screen which i could never identify till date, but the FLIPKART person could, so he reduced 50% from exchange rate. I decided not to trade in, but paid money.  iPhone 11 Detail Below --------------------------------------------- It came with no charging, then i have put for charging, it took lot of time for charging, the phone also showe... READ MORE</td>\n",
       "    </tr>\n",
       "    <tr>\n",
       "      <th>40</th>\n",
       "      <td>5</td>\n",
       "      <td>Must buy!</td>\n",
       "      <td>I rate this product 5* as it has got amazing user experience with the best performing A13 bionic processor. The screen responds and graphics rendering is top notch. With casual gaming and internet browsing, the battery lasts for approx. 1 day. Camera is very good. You will fall in love with the portrait mode. You can call me a loyal Apple customer or whatever but I won’t stop praising the products and overall experience. That user experience matters and is worth every penny you pay.  Below ar... READ MORE</td>\n",
       "    </tr>\n",
       "    <tr>\n",
       "      <th>41</th>\n",
       "      <td>5</td>\n",
       "      <td>Great product</td>\n",
       "      <td>Again back to apple iphone after a gap of 2-3 years. It's pleasure to use iOS and the quality product by Apple. Iphone 11 still works like a beast in 2021 also. It really capable of doing day to day usage as well as hard core gaming. Battery is awesome. I'm really too much satisfied with it. Apart fto the very gorgious IPS LCD (AMOLED will be better) everything is mind boggling. Iphone💕.</td>\n",
       "    </tr>\n",
       "    <tr>\n",
       "      <th>42</th>\n",
       "      <td>5</td>\n",
       "      <td>Very Good</td>\n",
       "      <td>impressive super phone and best in class camera ,sound and face unlock is super fast just see and phone is unlock and fast in daily apps use</td>\n",
       "    </tr>\n",
       "    <tr>\n",
       "      <th>43</th>\n",
       "      <td>5</td>\n",
       "      <td>Wonderful</td>\n",
       "      <td>Super and marvellous phone look very cute and nice sound. I love this phone i think white is good colur.Excellent camer 5*😍😘♥️♥️</td>\n",
       "    </tr>\n",
       "    <tr>\n",
       "      <th>44</th>\n",
       "      <td>5</td>\n",
       "      <td>Classy product</td>\n",
       "      <td>Well while switching from android to iOS the first thing you need to be careful about is that you will loose all your whatsapp chat backups as both are different operating systems. Camera clarity is awesome and though being an lcd screen clarity and resolution is good. Battery backup is also good unlike previous gen iPhone. So far the experience is good will Padre after a few months of usage.  P.S the black is more of a dark grey shade and not jet black</td>\n",
       "    </tr>\n",
       "    <tr>\n",
       "      <th>45</th>\n",
       "      <td>5</td>\n",
       "      <td>Awesome</td>\n",
       "      <td>Very excited to have this phone. This phone has the real power unlike the android phones having SD 855 . The battery life is very good and the camera quality is excellent as comapred to redmi and other phones except google pixel. I M enjoying every single bit of it. Would recommed only if you have the budget.</td>\n",
       "    </tr>\n",
       "    <tr>\n",
       "      <th>46</th>\n",
       "      <td>5</td>\n",
       "      <td>Classy product</td>\n",
       "      <td>Best and amazing product.....phone looks so premium.... battary is also good as expected .... Wide angle camera is so addictive ...if you are a IOS lover....then this phone will be the best choice for you all!!💯🔥</td>\n",
       "    </tr>\n",
       "    <tr>\n",
       "      <th>47</th>\n",
       "      <td>5</td>\n",
       "      <td>Awesome</td>\n",
       "      <td>Always love the apple products, upgraded from old iPhone 6S plus to this after having my first baby. I just love to click baby’s photos with it. Overall I just love this phone. Battery back up is okay, sound quality is good. Haven’t tested yet waterproof yet. Only one thing I hate is apple could have given charger &amp; headphones in box.</td>\n",
       "    </tr>\n",
       "    <tr>\n",
       "      <th>48</th>\n",
       "      <td>5</td>\n",
       "      <td>Perfect product!</td>\n",
       "      <td>Value for money 5 star rating Excellent camera Battery backup full day in single charge.  Tougher and water resistant design, glossy back. The screen has excellent brightness and contrast. Apple A13 Bionic is the fastest smartphone chip on the planet. Excellent battery life, fast charging support. Stereo speakers with great quality.</td>\n",
       "    </tr>\n",
       "    <tr>\n",
       "      <th>49</th>\n",
       "      <td>5</td>\n",
       "      <td>Very poor</td>\n",
       "      <td>Please DONT buy from here,  I purchased Apple iPhone 11. with an exchange of IPhone 7, the exchange did not go well, iPhone 7 had a small scratch out side screen which i could never identify till date, but the FLIPKART person could, so he reduced 50% from exchange rate. I decided not to trade in, but paid money.  iPhone 11 Detail Below --------------------------------------------- It came with no charging, then i have put for charging, it took lot of time for charging, the phone also showe... READ MORE</td>\n",
       "    </tr>\n",
       "    <tr>\n",
       "      <th>50</th>\n",
       "      <td>4</td>\n",
       "      <td>Excellent</td>\n",
       "      <td>Awesome...🤩😍😍</td>\n",
       "    </tr>\n",
       "    <tr>\n",
       "      <th>51</th>\n",
       "      <td>5</td>\n",
       "      <td>Mind-blowing purchase</td>\n",
       "      <td>Best Quality Product OF iPhone Series , Sound Quality &amp; Camera quality is very awesome, Battery Life is very Sufficient for 24 hr Backup With Full Internet Access , I love this this Product too much , It is very fast &amp; making me Very fast in all my daily Routine Highlights; 1.Camera: 5 STAR 2.Video Recording: 5 star 3.Night mODE sHOOTING &amp; Camera:4 star 4. Audio Quality: Awesome 5. Battery : 5 Star 6. Touch:5 Star 7. Processor: Very Fast The M... READ MORE</td>\n",
       "    </tr>\n",
       "    <tr>\n",
       "      <th>52</th>\n",
       "      <td>5</td>\n",
       "      <td>Wonderful</td>\n",
       "      <td>Finally purchased iphone 11 instead of XR and its awesome decision</td>\n",
       "    </tr>\n",
       "    <tr>\n",
       "      <th>53</th>\n",
       "      <td>5</td>\n",
       "      <td>Perfect product!</td>\n",
       "      <td>Battery backup is extraordinary, camera is decent &amp; performance offered by A13 bionic is awsome. The display is good in practical usage like the visibility of display is very good in direct sun light compare to pro models. Iam extremely satisfied for the money I spent.</td>\n",
       "    </tr>\n",
       "    <tr>\n",
       "      <th>54</th>\n",
       "      <td>4</td>\n",
       "      <td>Classy product</td>\n",
       "      <td>Superb Product !!! A big and worthy upgrade from mi 3S to iphone 11 . Totally loved it !</td>\n",
       "    </tr>\n",
       "    <tr>\n",
       "      <th>55</th>\n",
       "      <td>5</td>\n",
       "      <td>Awesome</td>\n",
       "      <td>I am using this phone for 5 days and its one of the best camera out there ❤️ the screen is not oled and i am coming from iphone xs so its little bit not up to the mark i would say But overall value for money💕😍the battery back up is far better than my iphone xs and its worth in my apple ecosystem💫❤️if u are an apple User and have the eco system then go for it❤️though i will be getting the new iphone but its pretty good💫</td>\n",
       "    </tr>\n",
       "    <tr>\n",
       "      <th>56</th>\n",
       "      <td>5</td>\n",
       "      <td>Just wow!</td>\n",
       "      <td>Camera battery and it’s overall performance is good</td>\n",
       "    </tr>\n",
       "    <tr>\n",
       "      <th>57</th>\n",
       "      <td>5</td>\n",
       "      <td>Perfect product!</td>\n",
       "      <td>Awesome purchase. Amazing phone with good battery backup. It’s a top notch device. White colour looks amazing. Phone has a few extra feature than iPhone XR. Overall, this is value for money</td>\n",
       "    </tr>\n",
       "    <tr>\n",
       "      <th>58</th>\n",
       "      <td>5</td>\n",
       "      <td>Worth every penny</td>\n",
       "      <td>Here is the thing  The only reason why you should buy this phone is for the camera, iOS, and if you have headaches looking at AMOLED display.  I’m not an avid gamer but watch a lot of movies on smartphone. However, my migraine attacks increased considerably after using AMOLED Smartphone. That’s why I made a calculated decision to buy iPhone 11. It has the best LCD display and the blacks, though not as natural as an AMOLED, is better than some of the other smartphones.  Adding to this the ste... READ MORE</td>\n",
       "    </tr>\n",
       "    <tr>\n",
       "      <th>59</th>\n",
       "      <td>5</td>\n",
       "      <td>Fabulous!</td>\n",
       "      <td>awesome phone to have. it has got many smart features apart from mind blowing looks, camera, display, battery and sound. have fallen in love with this phone. must buy phone if you have got enough money. thanks to flipkart and apple of course..</td>\n",
       "    </tr>\n",
       "    <tr>\n",
       "      <th>60</th>\n",
       "      <td>5</td>\n",
       "      <td>Excellent</td>\n",
       "      <td>Awesome...🤩😍😍</td>\n",
       "    </tr>\n",
       "    <tr>\n",
       "      <th>61</th>\n",
       "      <td>5</td>\n",
       "      <td>Mind-blowing purchase</td>\n",
       "      <td>Best Quality Product OF iPhone Series , Sound Quality &amp; Camera quality is very awesome, Battery Life is very Sufficient for 24 hr Backup With Full Internet Access , I love this this Product too much , It is very fast &amp; making me Very fast in all my daily Routine Highlights; 1.Camera: 5 STAR 2.Video Recording: 5 star 3.Night mODE sHOOTING &amp; Camera:4 star 4. Audio Quality: Awesome 5. Battery : 5 Star 6. Touch:5 Star 7. Processor: Very Fast The M... READ MORE</td>\n",
       "    </tr>\n",
       "    <tr>\n",
       "      <th>62</th>\n",
       "      <td>5</td>\n",
       "      <td>Wonderful</td>\n",
       "      <td>Finally purchased iphone 11 instead of XR and its awesome decision</td>\n",
       "    </tr>\n",
       "    <tr>\n",
       "      <th>63</th>\n",
       "      <td>5</td>\n",
       "      <td>Perfect product!</td>\n",
       "      <td>Battery backup is extraordinary, camera is decent &amp; performance offered by A13 bionic is awsome. The display is good in practical usage like the visibility of display is very good in direct sun light compare to pro models. Iam extremely satisfied for the money I spent.</td>\n",
       "    </tr>\n",
       "    <tr>\n",
       "      <th>64</th>\n",
       "      <td>5</td>\n",
       "      <td>Classy product</td>\n",
       "      <td>Superb Product !!! A big and worthy upgrade from mi 3S to iphone 11 . Totally loved it !</td>\n",
       "    </tr>\n",
       "    <tr>\n",
       "      <th>65</th>\n",
       "      <td>5</td>\n",
       "      <td>Awesome</td>\n",
       "      <td>I am using this phone for 5 days and its one of the best camera out there ❤️ the screen is not oled and i am coming from iphone xs so its little bit not up to the mark i would say But overall value for money💕😍the battery back up is far better than my iphone xs and its worth in my apple ecosystem💫❤️if u are an apple User and have the eco system then go for it❤️though i will be getting the new iphone but its pretty good💫</td>\n",
       "    </tr>\n",
       "    <tr>\n",
       "      <th>66</th>\n",
       "      <td>5</td>\n",
       "      <td>Just wow!</td>\n",
       "      <td>Camera battery and it’s overall performance is good</td>\n",
       "    </tr>\n",
       "    <tr>\n",
       "      <th>67</th>\n",
       "      <td>5</td>\n",
       "      <td>Perfect product!</td>\n",
       "      <td>Awesome purchase. Amazing phone with good battery backup. It’s a top notch device. White colour looks amazing. Phone has a few extra feature than iPhone XR. Overall, this is value for money</td>\n",
       "    </tr>\n",
       "    <tr>\n",
       "      <th>68</th>\n",
       "      <td>5</td>\n",
       "      <td>Worth every penny</td>\n",
       "      <td>Here is the thing  The only reason why you should buy this phone is for the camera, iOS, and if you have headaches looking at AMOLED display.  I’m not an avid gamer but watch a lot of movies on smartphone. However, my migraine attacks increased considerably after using AMOLED Smartphone. That’s why I made a calculated decision to buy iPhone 11. It has the best LCD display and the blacks, though not as natural as an AMOLED, is better than some of the other smartphones.  Adding to this the ste... READ MORE</td>\n",
       "    </tr>\n",
       "    <tr>\n",
       "      <th>69</th>\n",
       "      <td>5</td>\n",
       "      <td>Fabulous!</td>\n",
       "      <td>awesome phone to have. it has got many smart features apart from mind blowing looks, camera, display, battery and sound. have fallen in love with this phone. must buy phone if you have got enough money. thanks to flipkart and apple of course..</td>\n",
       "    </tr>\n",
       "  </tbody>\n",
       "</table>\n",
       "</div>"
      ],
      "text/plain": [
       "   Ratings         Review-Summary  \\\n",
       "0   5       Brilliant               \n",
       "1   5       Simply awesome          \n",
       "2   5       Best in the market!     \n",
       "3   5       Perfect product!        \n",
       "4   5       Fabulous!               \n",
       "5   5       Worth every penny       \n",
       "6   5       Great product           \n",
       "7   5       Highly recommended      \n",
       "8   5       Good choice             \n",
       "9   5       Worth every penny       \n",
       "10  5       Highly recommended      \n",
       "11  5       Perfect product!        \n",
       "12  5       Perfect product!        \n",
       "13  5       Highly recommended      \n",
       "14  5       Perfect product!        \n",
       "15  5       Worth every penny       \n",
       "16  5       Classy product          \n",
       "17  5       Worth every penny       \n",
       "18  5       Worth every penny       \n",
       "19  5       Nice product            \n",
       "20  5       Highly recommended      \n",
       "21  5       Perfect product!        \n",
       "22  5       Perfect product!        \n",
       "23  4       Highly recommended      \n",
       "24  5       Perfect product!        \n",
       "25  5       Worth every penny       \n",
       "26  5       Classy product          \n",
       "27  5       Worth every penny       \n",
       "28  5       Worth every penny       \n",
       "29  5       Nice product            \n",
       "30  4       Must buy!               \n",
       "31  5       Great product           \n",
       "32  5       Very Good               \n",
       "33  5       Wonderful               \n",
       "34  5       Classy product          \n",
       "35  5       Awesome                 \n",
       "36  5       Classy product          \n",
       "37  5       Awesome                 \n",
       "38  5       Perfect product!        \n",
       "39  5       Very poor               \n",
       "40  5       Must buy!               \n",
       "41  5       Great product           \n",
       "42  5       Very Good               \n",
       "43  5       Wonderful               \n",
       "44  5       Classy product          \n",
       "45  5       Awesome                 \n",
       "46  5       Classy product          \n",
       "47  5       Awesome                 \n",
       "48  5       Perfect product!        \n",
       "49  5       Very poor               \n",
       "50  4       Excellent               \n",
       "51  5       Mind-blowing purchase   \n",
       "52  5       Wonderful               \n",
       "53  5       Perfect product!        \n",
       "54  4       Classy product          \n",
       "55  5       Awesome                 \n",
       "56  5       Just wow!               \n",
       "57  5       Perfect product!        \n",
       "58  5       Worth every penny       \n",
       "59  5       Fabulous!               \n",
       "60  5       Excellent               \n",
       "61  5       Mind-blowing purchase   \n",
       "62  5       Wonderful               \n",
       "63  5       Perfect product!        \n",
       "64  5       Classy product          \n",
       "65  5       Awesome                 \n",
       "66  5       Just wow!               \n",
       "67  5       Perfect product!        \n",
       "68  5       Worth every penny       \n",
       "69  5       Fabulous!               \n",
       "\n",
       "                                                                                                                                                                                                                                                                                                                                                                                                                                                                                                                       Full-Review  \n",
       "0   The Best Phone for the Money  The iPhone 11 offers superb cameras, a more durable design and excellent battery life for an affordable price.  Compelling ultra-wide camera New Night mode is excellent Long battery life                                                                                                                                                                                                                                                                                                        \n",
       "1   Really satisfied with the Product I received... It’s totally genuine and the packaging was also really good so if ur planning to buy just go for it.                                                                                                                                                                                                                                                                                                                                                                            \n",
       "2   Great iPhone very snappy experience as apple kind. Upgraded from iPhone 7. Pros -Camera top class - Battery top performed -Chipset no need to say as apple kind -Security as you expect from apple - Display super bright industry leading colour accuracy and super responsive -Build quality as expect from apple sturdy premium durable beautiful stylish. -Os most stable os in smartphone industry  Cons -No 5G -Display is not based on OLED technology -Charger headphones and 1 apple stic... READ MORE                 \n",
       "3   Amazing phone with great cameras and better battery which gives you the best performance. I just love the camera .                                                                                                                                                                                                                                                                                                                                                                                                              \n",
       "4   This is my first iOS phone. I am very happy with this product. Very much satisfied with this. I love this phone.                                                                                                                                                                                                                                                                                                                                                                                                                \n",
       "5   Previously I was using one plus 3t it was a great phone And then I decided to upgrade I am stuck between Samsung s10 plus or iPhone 11 I have seen the specs and everything were good except the display it’s somewhere between 720-1080 and it’s not even an amoled it’s an LCD display But I decided to go with iPhone because I have never used an IOS device I have Been an android user from the past 9 years I ordered IPhone 11 (128gb) product red My experience after using 3 weeks 1. The delivery ... READ MORE      \n",
       "6   Amazing Powerful and Durable Gadget.  I’m am very happy with the camera picture quality, Amazing face id unlocked in dark room, Strong battery with perfect screen size as you can carry easily in pocket. This is my third iPhone.  I shifted from android Samsung Note series to iPhone because of the strong build quality and peace of mind for next 3-4 years.  Don’t think to much just go for it and I suggest you to go for minimum 128gb variant or more 256gb.  I’ve attached my puppy pics and no fi... READ MORE    \n",
       "7   What a camera .....just awesome ..you can feel this iPhone just awesome . Good for gaming also ...try pubg in hd it’s just wow                                                                                                                                                                                                                                                                                                                                                                                                  \n",
       "8   So far it’s been an AMAZING experience coming back to iOS after nearly a decade but it’s not as versatile as android though phone is sturdy dropped it accidentally a couple of times and nothing happened fortunately camera is awesome                                                                                                                                                                                                                                                                                        \n",
       "9   i11 is worthy to buy, too much happy with the product. Thank u flipkart I received the item on time..loved it..                                                                                                                                                                                                                                                                                                                                                                                                                 \n",
       "10  iphone 11 is a very good phone to buy only if you can compromise for the display. The display on this is device is pretty good but you can get other options with better displays in this price segment. If you can survive with an HD+ LCD panel with thicker bezels and a notch up top then this is a very good phone for you. Cameras are awesome, battery backup excellent, great performance and a decent premium look. Good job Apple !                                                                                   \n",
       "11  It’s a must buy who is looking for an upgrade from previous generation of iPhones. If you are using XR then still you can hold on for sometime and upgrade to 2020 model else this phone is a must buy . Camera quality is amazing and wide angle is something to count upon. Performance wise it’s amazing and feels premium while holding in hand. So a big YES for this device. Go for 128 GB variant as the 4K videos will occupy lots of space and the storage can get over very quickly. Try to buy it with... READ MORE  \n",
       "12  Value for money❤️❤️ Its awesome mobile phone in the world ... Display was very good and bright .. Trust me freinds you r never regret after Buying.. Just go for it.... I love this phone and i switch to iphone x to 11                                                                                                                                                                                                                                                                                                        \n",
       "13  It's my first time to use iOS phone and I am loving my upgradation 😍😍 I love the color, I love the assebility of the phone....I need to learn more about its functionality, but as far as I have seen, it's quite easy and it has a lot of functions to work on, specially if you are a content writer or a blogger you get a lot of content creation platforms and they are really amazing.  This phone not only for good quality photography but a lot of other task too.😍💯                                                   \n",
       "14  Iphone is just awesome.. battery backup is very very nice.. continuously for 10 hours we can use it.camera is just awesome.. display is just fab.i love it alot..i had to wait 15 days for it as i pre ordered it..overalll it's worth the price..these all images are clicked by my iPhone..and i love it.                                                                                                                                                                                                                     \n",
       "15  Best budget Iphone till date ❤️ go for it guys without second thought. Let me explain you guys about Camera, Display, battery, and performance.  Camera: at this price range there is no comparison of camera, you’ll love the picture quality as well as video quality. I am a Vlogger I wanted an iPhone with 4k video by front camera and I got this phone and I am more than happy 😃  Battery: I use this phone roughly as I am active social media person and I have a youtube channel. so the battery ba... READ MORE     \n",
       "16  Totally in love with this ❤ the camera quality is amazing just love it 😘😘😘 itsss dammnnnnnn amazing... Must buy iPhone 11 this is my best experience ever ☀👌👌🧡🧡🧡🧡🧡 thanku apple ❤                                                                                                                                                                                                                                                                                                                                               \n",
       "17  Smooth like butter, camera like fantabulous, sound is crystal clear & its red color is damn attractive, i am just loving it. Must buy if you love photography.  Lucky to get it in sale, thank you Flipkart.                                                                                                                                                                                                                                                                                                                    \n",
       "18  It’s been almost a month since I have been using this phone. I upgraded from an iPhone 8. The main issue with my 8 was battery and this phone is just awesome when it comes to battery. It lasts a day and a half for me with my regular use , internet connected always with 4g Can’t move forward without saying this. Battery of this phone is a life saver when I am traveling or at work when I don’t get the option to charge Camera is superb. Front cam selfies and back cam photos are just awesome. ... READ MORE     \n",
       "19  Awesome Phone. Slightly high price but worth. Better than iPhone XR. Camera is superb and wide angle camera is very clear. 12MP selfie camera is also very good. A13 Chip gives a very good and smooth performance.                                                                                                                                                                                                                                                                                                             \n",
       "20  iphone 11 is a very good phone to buy only if you can compromise for the display. The display on this is device is pretty good but you can get other options with better displays in this price segment. If you can survive with an HD+ LCD panel with thicker bezels and a notch up top then this is a very good phone for you. Cameras are awesome, battery backup excellent, great performance and a decent premium look. Good job Apple !                                                                                   \n",
       "21  It’s a must buy who is looking for an upgrade from previous generation of iPhones. If you are using XR then still you can hold on for sometime and upgrade to 2020 model else this phone is a must buy . Camera quality is amazing and wide angle is something to count upon. Performance wise it’s amazing and feels premium while holding in hand. So a big YES for this device. Go for 128 GB variant as the 4K videos will occupy lots of space and the storage can get over very quickly. Try to buy it with... READ MORE  \n",
       "22  Value for money❤️❤️ Its awesome mobile phone in the world ... Display was very good and bright .. Trust me freinds you r never regret after Buying.. Just go for it.... I love this phone and i switch to iphone x to 11                                                                                                                                                                                                                                                                                                        \n",
       "23  It's my first time to use iOS phone and I am loving my upgradation 😍😍 I love the color, I love the assebility of the phone....I need to learn more about its functionality, but as far as I have seen, it's quite easy and it has a lot of functions to work on, specially if you are a content writer or a blogger you get a lot of content creation platforms and they are really amazing.  This phone not only for good quality photography but a lot of other task too.😍💯                                                   \n",
       "24  Iphone is just awesome.. battery backup is very very nice.. continuously for 10 hours we can use it.camera is just awesome.. display is just fab.i love it alot..i had to wait 15 days for it as i pre ordered it..overalll it's worth the price..these all images are clicked by my iPhone..and i love it.                                                                                                                                                                                                                     \n",
       "25  Best budget Iphone till date ❤️ go for it guys without second thought. Let me explain you guys about Camera, Display, battery, and performance.  Camera: at this price range there is no comparison of camera, you’ll love the picture quality as well as video quality. I am a Vlogger I wanted an iPhone with 4k video by front camera and I got this phone and I am more than happy 😃  Battery: I use this phone roughly as I am active social media person and I have a youtube channel. so the battery ba... READ MORE     \n",
       "26  Totally in love with this ❤ the camera quality is amazing just love it 😘😘😘 itsss dammnnnnnn amazing... Must buy iPhone 11 this is my best experience ever ☀👌👌🧡🧡🧡🧡🧡 thanku apple ❤                                                                                                                                                                                                                                                                                                                                               \n",
       "27  Smooth like butter, camera like fantabulous, sound is crystal clear & its red color is damn attractive, i am just loving it. Must buy if you love photography.  Lucky to get it in sale, thank you Flipkart.                                                                                                                                                                                                                                                                                                                    \n",
       "28  It’s been almost a month since I have been using this phone. I upgraded from an iPhone 8. The main issue with my 8 was battery and this phone is just awesome when it comes to battery. It lasts a day and a half for me with my regular use , internet connected always with 4g Can’t move forward without saying this. Battery of this phone is a life saver when I am traveling or at work when I don’t get the option to charge Camera is superb. Front cam selfies and back cam photos are just awesome. ... READ MORE     \n",
       "29  Awesome Phone. Slightly high price but worth. Better than iPhone XR. Camera is superb and wide angle camera is very clear. 12MP selfie camera is also very good. A13 Chip gives a very good and smooth performance.                                                                                                                                                                                                                                                                                                             \n",
       "30  I rate this product 5* as it has got amazing user experience with the best performing A13 bionic processor. The screen responds and graphics rendering is top notch. With casual gaming and internet browsing, the battery lasts for approx. 1 day. Camera is very good. You will fall in love with the portrait mode. You can call me a loyal Apple customer or whatever but I won’t stop praising the products and overall experience. That user experience matters and is worth every penny you pay.  Below ar... READ MORE  \n",
       "31  Again back to apple iphone after a gap of 2-3 years. It's pleasure to use iOS and the quality product by Apple. Iphone 11 still works like a beast in 2021 also. It really capable of doing day to day usage as well as hard core gaming. Battery is awesome. I'm really too much satisfied with it. Apart fto the very gorgious IPS LCD (AMOLED will be better) everything is mind boggling. Iphone💕.                                                                                                                          \n",
       "32  impressive super phone and best in class camera ,sound and face unlock is super fast just see and phone is unlock and fast in daily apps use                                                                                                                                                                                                                                                                                                                                                                                    \n",
       "33  Super and marvellous phone look very cute and nice sound. I love this phone i think white is good colur.Excellent camer 5*😍😘♥️♥️                                                                                                                                                                                                                                                                                                                                                                                                \n",
       "34  Well while switching from android to iOS the first thing you need to be careful about is that you will loose all your whatsapp chat backups as both are different operating systems. Camera clarity is awesome and though being an lcd screen clarity and resolution is good. Battery backup is also good unlike previous gen iPhone. So far the experience is good will Padre after a few months of usage.  P.S the black is more of a dark grey shade and not jet black                                                       \n",
       "35  Very excited to have this phone. This phone has the real power unlike the android phones having SD 855 . The battery life is very good and the camera quality is excellent as comapred to redmi and other phones except google pixel. I M enjoying every single bit of it. Would recommed only if you have the budget.                                                                                                                                                                                                          \n",
       "36  Best and amazing product.....phone looks so premium.... battary is also good as expected .... Wide angle camera is so addictive ...if you are a IOS lover....then this phone will be the best choice for you all!!💯🔥                                                                                                                                                                                                                                                                                                            \n",
       "37  Always love the apple products, upgraded from old iPhone 6S plus to this after having my first baby. I just love to click baby’s photos with it. Overall I just love this phone. Battery back up is okay, sound quality is good. Haven’t tested yet waterproof yet. Only one thing I hate is apple could have given charger & headphones in box.                                                                                                                                                                                \n",
       "38  Value for money 5 star rating Excellent camera Battery backup full day in single charge.  Tougher and water resistant design, glossy back. The screen has excellent brightness and contrast. Apple A13 Bionic is the fastest smartphone chip on the planet. Excellent battery life, fast charging support. Stereo speakers with great quality.                                                                                                                                                                                  \n",
       "39  Please DONT buy from here,  I purchased Apple iPhone 11. with an exchange of IPhone 7, the exchange did not go well, iPhone 7 had a small scratch out side screen which i could never identify till date, but the FLIPKART person could, so he reduced 50% from exchange rate. I decided not to trade in, but paid money.  iPhone 11 Detail Below --------------------------------------------- It came with no charging, then i have put for charging, it took lot of time for charging, the phone also showe... READ MORE     \n",
       "40  I rate this product 5* as it has got amazing user experience with the best performing A13 bionic processor. The screen responds and graphics rendering is top notch. With casual gaming and internet browsing, the battery lasts for approx. 1 day. Camera is very good. You will fall in love with the portrait mode. You can call me a loyal Apple customer or whatever but I won’t stop praising the products and overall experience. That user experience matters and is worth every penny you pay.  Below ar... READ MORE  \n",
       "41  Again back to apple iphone after a gap of 2-3 years. It's pleasure to use iOS and the quality product by Apple. Iphone 11 still works like a beast in 2021 also. It really capable of doing day to day usage as well as hard core gaming. Battery is awesome. I'm really too much satisfied with it. Apart fto the very gorgious IPS LCD (AMOLED will be better) everything is mind boggling. Iphone💕.                                                                                                                          \n",
       "42  impressive super phone and best in class camera ,sound and face unlock is super fast just see and phone is unlock and fast in daily apps use                                                                                                                                                                                                                                                                                                                                                                                    \n",
       "43  Super and marvellous phone look very cute and nice sound. I love this phone i think white is good colur.Excellent camer 5*😍😘♥️♥️                                                                                                                                                                                                                                                                                                                                                                                                \n",
       "44  Well while switching from android to iOS the first thing you need to be careful about is that you will loose all your whatsapp chat backups as both are different operating systems. Camera clarity is awesome and though being an lcd screen clarity and resolution is good. Battery backup is also good unlike previous gen iPhone. So far the experience is good will Padre after a few months of usage.  P.S the black is more of a dark grey shade and not jet black                                                       \n",
       "45  Very excited to have this phone. This phone has the real power unlike the android phones having SD 855 . The battery life is very good and the camera quality is excellent as comapred to redmi and other phones except google pixel. I M enjoying every single bit of it. Would recommed only if you have the budget.                                                                                                                                                                                                          \n",
       "46  Best and amazing product.....phone looks so premium.... battary is also good as expected .... Wide angle camera is so addictive ...if you are a IOS lover....then this phone will be the best choice for you all!!💯🔥                                                                                                                                                                                                                                                                                                            \n",
       "47  Always love the apple products, upgraded from old iPhone 6S plus to this after having my first baby. I just love to click baby’s photos with it. Overall I just love this phone. Battery back up is okay, sound quality is good. Haven’t tested yet waterproof yet. Only one thing I hate is apple could have given charger & headphones in box.                                                                                                                                                                                \n",
       "48  Value for money 5 star rating Excellent camera Battery backup full day in single charge.  Tougher and water resistant design, glossy back. The screen has excellent brightness and contrast. Apple A13 Bionic is the fastest smartphone chip on the planet. Excellent battery life, fast charging support. Stereo speakers with great quality.                                                                                                                                                                                  \n",
       "49  Please DONT buy from here,  I purchased Apple iPhone 11. with an exchange of IPhone 7, the exchange did not go well, iPhone 7 had a small scratch out side screen which i could never identify till date, but the FLIPKART person could, so he reduced 50% from exchange rate. I decided not to trade in, but paid money.  iPhone 11 Detail Below --------------------------------------------- It came with no charging, then i have put for charging, it took lot of time for charging, the phone also showe... READ MORE     \n",
       "50  Awesome...🤩😍😍                                                                                                                                                                                                                                                                                                                                                                                                                                                                                                                   \n",
       "51  Best Quality Product OF iPhone Series , Sound Quality & Camera quality is very awesome, Battery Life is very Sufficient for 24 hr Backup With Full Internet Access , I love this this Product too much , It is very fast & making me Very fast in all my daily Routine Highlights; 1.Camera: 5 STAR 2.Video Recording: 5 star 3.Night mODE sHOOTING & Camera:4 star 4. Audio Quality: Awesome 5. Battery : 5 Star 6. Touch:5 Star 7. Processor: Very Fast The M... READ MORE                                                    \n",
       "52  Finally purchased iphone 11 instead of XR and its awesome decision                                                                                                                                                                                                                                                                                                                                                                                                                                                              \n",
       "53  Battery backup is extraordinary, camera is decent & performance offered by A13 bionic is awsome. The display is good in practical usage like the visibility of display is very good in direct sun light compare to pro models. Iam extremely satisfied for the money I spent.                                                                                                                                                                                                                                                   \n",
       "54  Superb Product !!! A big and worthy upgrade from mi 3S to iphone 11 . Totally loved it !                                                                                                                                                                                                                                                                                                                                                                                                                                        \n",
       "55  I am using this phone for 5 days and its one of the best camera out there ❤️ the screen is not oled and i am coming from iphone xs so its little bit not up to the mark i would say But overall value for money💕😍the battery back up is far better than my iphone xs and its worth in my apple ecosystem💫❤️if u are an apple User and have the eco system then go for it❤️though i will be getting the new iphone but its pretty good💫                                                                                          \n",
       "56  Camera battery and it’s overall performance is good                                                                                                                                                                                                                                                                                                                                                                                                                                                                             \n",
       "57  Awesome purchase. Amazing phone with good battery backup. It’s a top notch device. White colour looks amazing. Phone has a few extra feature than iPhone XR. Overall, this is value for money                                                                                                                                                                                                                                                                                                                                   \n",
       "58  Here is the thing  The only reason why you should buy this phone is for the camera, iOS, and if you have headaches looking at AMOLED display.  I’m not an avid gamer but watch a lot of movies on smartphone. However, my migraine attacks increased considerably after using AMOLED Smartphone. That’s why I made a calculated decision to buy iPhone 11. It has the best LCD display and the blacks, though not as natural as an AMOLED, is better than some of the other smartphones.  Adding to this the ste... READ MORE   \n",
       "59  awesome phone to have. it has got many smart features apart from mind blowing looks, camera, display, battery and sound. have fallen in love with this phone. must buy phone if you have got enough money. thanks to flipkart and apple of course..                                                                                                                                                                                                                                                                             \n",
       "60  Awesome...🤩😍😍                                                                                                                                                                                                                                                                                                                                                                                                                                                                                                                   \n",
       "61  Best Quality Product OF iPhone Series , Sound Quality & Camera quality is very awesome, Battery Life is very Sufficient for 24 hr Backup With Full Internet Access , I love this this Product too much , It is very fast & making me Very fast in all my daily Routine Highlights; 1.Camera: 5 STAR 2.Video Recording: 5 star 3.Night mODE sHOOTING & Camera:4 star 4. Audio Quality: Awesome 5. Battery : 5 Star 6. Touch:5 Star 7. Processor: Very Fast The M... READ MORE                                                    \n",
       "62  Finally purchased iphone 11 instead of XR and its awesome decision                                                                                                                                                                                                                                                                                                                                                                                                                                                              \n",
       "63  Battery backup is extraordinary, camera is decent & performance offered by A13 bionic is awsome. The display is good in practical usage like the visibility of display is very good in direct sun light compare to pro models. Iam extremely satisfied for the money I spent.                                                                                                                                                                                                                                                   \n",
       "64  Superb Product !!! A big and worthy upgrade from mi 3S to iphone 11 . Totally loved it !                                                                                                                                                                                                                                                                                                                                                                                                                                        \n",
       "65  I am using this phone for 5 days and its one of the best camera out there ❤️ the screen is not oled and i am coming from iphone xs so its little bit not up to the mark i would say But overall value for money💕😍the battery back up is far better than my iphone xs and its worth in my apple ecosystem💫❤️if u are an apple User and have the eco system then go for it❤️though i will be getting the new iphone but its pretty good💫                                                                                          \n",
       "66  Camera battery and it’s overall performance is good                                                                                                                                                                                                                                                                                                                                                                                                                                                                             \n",
       "67  Awesome purchase. Amazing phone with good battery backup. It’s a top notch device. White colour looks amazing. Phone has a few extra feature than iPhone XR. Overall, this is value for money                                                                                                                                                                                                                                                                                                                                   \n",
       "68  Here is the thing  The only reason why you should buy this phone is for the camera, iOS, and if you have headaches looking at AMOLED display.  I’m not an avid gamer but watch a lot of movies on smartphone. However, my migraine attacks increased considerably after using AMOLED Smartphone. That’s why I made a calculated decision to buy iPhone 11. It has the best LCD display and the blacks, though not as natural as an AMOLED, is better than some of the other smartphones.  Adding to this the ste... READ MORE   \n",
       "69  awesome phone to have. it has got many smart features apart from mind blowing looks, camera, display, battery and sound. have fallen in love with this phone. must buy phone if you have got enough money. thanks to flipkart and apple of course..                                                                                                                                                                                                                                                                             "
      ]
     },
     "execution_count": 196,
     "metadata": {},
     "output_type": "execute_result"
    }
   ],
   "source": [
    "pd.set_option(\"display.max_colwidth\", -1)\n",
    "IphoneFlipkart"
   ]
  },
  {
   "cell_type": "code",
   "execution_count": 197,
   "id": "7e0c53a9",
   "metadata": {},
   "outputs": [],
   "source": [
    "# (6) Scrape data for first 100 sneakers you find when you visit flipkart.com andsearch for “sneakers” in the search field.\n",
    "# You have to scrape 4 attributes of each sneaker:\n",
    "# 1. Brand\n",
    "# 2. Product Description\n",
    "# 3. Price\n",
    "# As shown in the below image, you have to scrape the tick marked attributes."
   ]
  },
  {
   "cell_type": "code",
   "execution_count": 198,
   "id": "6154fb94",
   "metadata": {},
   "outputs": [],
   "source": [
    "import selenium\n",
    "from selenium import webdriver\n",
    "import pandas as pd\n",
    "import warnings\n",
    "warnings.filterwarnings(\"ignore\")"
   ]
  },
  {
   "cell_type": "code",
   "execution_count": 199,
   "id": "8e224562",
   "metadata": {},
   "outputs": [],
   "source": [
    "driver6 = webdriver.Chrome(r'C:\\Users\\Rick\\OneDrive\\Desktop\\Softwares\\chromedriver.exe')"
   ]
  },
  {
   "cell_type": "code",
   "execution_count": 200,
   "id": "8fdded79",
   "metadata": {},
   "outputs": [],
   "source": [
    "url6 = 'https://www.flipkart.com/'"
   ]
  },
  {
   "cell_type": "code",
   "execution_count": 201,
   "id": "0792eecd",
   "metadata": {},
   "outputs": [],
   "source": [
    "driver6.get(url6)"
   ]
  },
  {
   "cell_type": "code",
   "execution_count": 202,
   "id": "be325353",
   "metadata": {},
   "outputs": [],
   "source": [
    "# To locate the LOGIN SKIP X key for automation\n",
    "\n",
    "Exitbutton2 = driver6.find_element_by_xpath(\"/html/body/div[2]/div/div/button\")\n",
    "Exitbutton2.click()"
   ]
  },
  {
   "cell_type": "code",
   "execution_count": 203,
   "id": "c80c7847",
   "metadata": {},
   "outputs": [
    {
     "data": {
      "text/plain": [
       "<selenium.webdriver.remote.webelement.WebElement (session=\"10c6d71f21be4c374ca71e659441d84b\", element=\"51bba1c2-3d03-42ad-a6f5-5d85aa9c597c\")>"
      ]
     },
     "execution_count": 203,
     "metadata": {},
     "output_type": "execute_result"
    }
   ],
   "source": [
    "# To automate chromedriver to search-bar of SearchProducts looking from multiple Sneakers\n",
    "\n",
    "Searchsneakers = driver6.find_element_by_class_name(\"_3704LK\")\n",
    "Searchsneakers"
   ]
  },
  {
   "cell_type": "code",
   "execution_count": 204,
   "id": "7bae15a3",
   "metadata": {},
   "outputs": [],
   "source": [
    "# To automate chromedriver to select Jobtitle as Data Scientist\n",
    "\n",
    "Searchsneakers.send_keys(\"sneakers\")"
   ]
  },
  {
   "cell_type": "code",
   "execution_count": 205,
   "id": "a0ace1d7",
   "metadata": {},
   "outputs": [],
   "source": [
    "# To locate the submit key for automation\n",
    "\n",
    "Searchbutton3 = driver6.find_element_by_class_name(\"L0Z3Pu\")\n",
    "Searchbutton3.click()"
   ]
  },
  {
   "cell_type": "markdown",
   "id": "2ce73118",
   "metadata": {},
   "source": [
    "# Extracting Page 1 Data"
   ]
  },
  {
   "cell_type": "code",
   "execution_count": 206,
   "id": "407b879d",
   "metadata": {},
   "outputs": [],
   "source": [
    "# To get all sneakers Brands of page 1\n",
    "\n",
    "SN1 = driver6.find_elements_by_class_name('_2WkVRV')"
   ]
  },
  {
   "cell_type": "code",
   "execution_count": 207,
   "id": "3f8da9b4",
   "metadata": {},
   "outputs": [
    {
     "data": {
      "text/plain": [
       "40"
      ]
     },
     "execution_count": 207,
     "metadata": {},
     "output_type": "execute_result"
    }
   ],
   "source": [
    "SneakersBrands1 = []\n",
    "\n",
    "for i in SN1:\n",
    "    SneakersBrands1.append(i.text)\n",
    "    \n",
    "len(SneakersBrands1)"
   ]
  },
  {
   "cell_type": "code",
   "execution_count": 208,
   "id": "70b87296",
   "metadata": {},
   "outputs": [],
   "source": [
    "# To get all sneakers Product Description of page 1\n",
    "\n",
    "SNPD1 = driver6.find_elements_by_class_name('IRpwTa')"
   ]
  },
  {
   "cell_type": "code",
   "execution_count": 209,
   "id": "4ef89fa6",
   "metadata": {},
   "outputs": [
    {
     "data": {
      "text/plain": [
       "40"
      ]
     },
     "execution_count": 209,
     "metadata": {},
     "output_type": "execute_result"
    }
   ],
   "source": [
    "SneakerProductDescriptions1 = []\n",
    "\n",
    "for i in SNPD1:\n",
    "    SneakerProductDescriptions1.append(i.text)\n",
    "    \n",
    "len(SneakerProductDescriptions1)"
   ]
  },
  {
   "cell_type": "code",
   "execution_count": 210,
   "id": "b00cf383",
   "metadata": {},
   "outputs": [],
   "source": [
    "# To get all sneakers Prices of page 1\n",
    "\n",
    "SNP1 = driver6.find_elements_by_class_name('_30jeq3')"
   ]
  },
  {
   "cell_type": "code",
   "execution_count": 211,
   "id": "bd0f619e",
   "metadata": {},
   "outputs": [
    {
     "data": {
      "text/plain": [
       "40"
      ]
     },
     "execution_count": 211,
     "metadata": {},
     "output_type": "execute_result"
    }
   ],
   "source": [
    "SneakerPrices1 = []\n",
    "\n",
    "for i in SNP1:\n",
    "    SneakerPrices1.append(i.text)\n",
    "    \n",
    "len(SneakerPrices1[:40])"
   ]
  },
  {
   "cell_type": "code",
   "execution_count": 212,
   "id": "bc5443f3",
   "metadata": {},
   "outputs": [],
   "source": [
    "# To locate the page 2 for automation:\n",
    "sneakersPage2 = driver6.find_element_by_xpath('/html/body/div[1]/div/div[3]/div[1]/div[2]/div[12]/div/div/nav/a[2]')\n",
    "sneakersPage2.click()"
   ]
  },
  {
   "cell_type": "markdown",
   "id": "e0b744ea",
   "metadata": {},
   "source": [
    "# Extracting Page 2 Data"
   ]
  },
  {
   "cell_type": "code",
   "execution_count": 213,
   "id": "fa3da6b9",
   "metadata": {},
   "outputs": [],
   "source": [
    "# To get all sneakers Brands of page 2\n",
    "\n",
    "SN2 = driver6.find_elements_by_class_name('_2WkVRV')"
   ]
  },
  {
   "cell_type": "code",
   "execution_count": 214,
   "id": "ce77baef",
   "metadata": {},
   "outputs": [
    {
     "data": {
      "text/plain": [
       "40"
      ]
     },
     "execution_count": 214,
     "metadata": {},
     "output_type": "execute_result"
    }
   ],
   "source": [
    "SneakersBrands2 = []\n",
    "\n",
    "for i in SN2:\n",
    "    SneakersBrands2.append(i.text)\n",
    "    \n",
    "len(SneakersBrands2)"
   ]
  },
  {
   "cell_type": "code",
   "execution_count": 215,
   "id": "101859ae",
   "metadata": {},
   "outputs": [],
   "source": [
    "# To get all sneakers Product Description of page 2\n",
    "\n",
    "SNPD2 = driver6.find_elements_by_class_name('IRpwTa')"
   ]
  },
  {
   "cell_type": "code",
   "execution_count": 216,
   "id": "76af9163",
   "metadata": {},
   "outputs": [
    {
     "data": {
      "text/plain": [
       "40"
      ]
     },
     "execution_count": 216,
     "metadata": {},
     "output_type": "execute_result"
    }
   ],
   "source": [
    "SneakerProductDescriptions2 = []\n",
    "\n",
    "for i in SNPD2:\n",
    "    SneakerProductDescriptions2.append(i.text)\n",
    "    \n",
    "len(SneakerProductDescriptions2)"
   ]
  },
  {
   "cell_type": "code",
   "execution_count": 217,
   "id": "aa400b41",
   "metadata": {},
   "outputs": [],
   "source": [
    "# To get all sneakers Prices of page 2\n",
    "\n",
    "SNP2 = driver6.find_elements_by_class_name('_30jeq3')"
   ]
  },
  {
   "cell_type": "code",
   "execution_count": 218,
   "id": "f87df60a",
   "metadata": {},
   "outputs": [
    {
     "data": {
      "text/plain": [
       "40"
      ]
     },
     "execution_count": 218,
     "metadata": {},
     "output_type": "execute_result"
    }
   ],
   "source": [
    "SneakerPrices2 = []\n",
    "\n",
    "for i in SNP2:\n",
    "    SneakerPrices2.append(i.text)\n",
    "    \n",
    "len(SneakerPrices2[:40])"
   ]
  },
  {
   "cell_type": "code",
   "execution_count": 219,
   "id": "97a6575c",
   "metadata": {},
   "outputs": [],
   "source": [
    "# To locate the page 3 for automation:\n",
    "sneakersPage3 = driver6.find_element_by_xpath('/html/body/div[1]/div/div[3]/div[1]/div[2]/div[12]/div/div/nav/a[4]')\n",
    "sneakersPage3.click()"
   ]
  },
  {
   "cell_type": "markdown",
   "id": "803506ea",
   "metadata": {},
   "source": [
    "# Extracting Page 3 Data"
   ]
  },
  {
   "cell_type": "code",
   "execution_count": 220,
   "id": "463c33f0",
   "metadata": {},
   "outputs": [],
   "source": [
    "# To get all sneakers Brands of page 3\n",
    "\n",
    "SN3 = driver6.find_elements_by_class_name('_2WkVRV')"
   ]
  },
  {
   "cell_type": "code",
   "execution_count": 221,
   "id": "8e73c758",
   "metadata": {},
   "outputs": [
    {
     "data": {
      "text/plain": [
       "40"
      ]
     },
     "execution_count": 221,
     "metadata": {},
     "output_type": "execute_result"
    }
   ],
   "source": [
    "SneakersBrands3 = []\n",
    "\n",
    "for i in SN3:\n",
    "    SneakersBrands3.append(i.text)\n",
    "    \n",
    "len(SneakersBrands3)"
   ]
  },
  {
   "cell_type": "code",
   "execution_count": 222,
   "id": "d2c00095",
   "metadata": {},
   "outputs": [],
   "source": [
    "# To get all sneakers Product Description of page 3\n",
    "\n",
    "SNPD3 = driver6.find_elements_by_class_name('IRpwTa')"
   ]
  },
  {
   "cell_type": "code",
   "execution_count": 223,
   "id": "e25dd46f",
   "metadata": {},
   "outputs": [
    {
     "data": {
      "text/plain": [
       "40"
      ]
     },
     "execution_count": 223,
     "metadata": {},
     "output_type": "execute_result"
    }
   ],
   "source": [
    "SneakerProductDescriptions3 = []\n",
    "\n",
    "for i in SNPD3:\n",
    "    SneakerProductDescriptions3.append(i.text)\n",
    "    \n",
    "len(SneakerProductDescriptions3)"
   ]
  },
  {
   "cell_type": "code",
   "execution_count": 224,
   "id": "c0b72a63",
   "metadata": {},
   "outputs": [],
   "source": [
    "# To get all sneakers Prices of page 3\n",
    "\n",
    "SNP3 = driver6.find_elements_by_class_name('_30jeq3')"
   ]
  },
  {
   "cell_type": "code",
   "execution_count": 225,
   "id": "a4d8a13f",
   "metadata": {},
   "outputs": [
    {
     "data": {
      "text/plain": [
       "40"
      ]
     },
     "execution_count": 225,
     "metadata": {},
     "output_type": "execute_result"
    }
   ],
   "source": [
    "SneakerPrices3 = []\n",
    "\n",
    "for i in SNP3:\n",
    "    SneakerPrices3.append(i.text)\n",
    "    \n",
    "len(SneakerPrices3[:40])"
   ]
  },
  {
   "cell_type": "code",
   "execution_count": 226,
   "id": "c5a812dc",
   "metadata": {},
   "outputs": [],
   "source": [
    "SneakersFlipkart=pd.DataFrame({})\n",
    "SneakersFlipkart['Sneakers-Brands']=SneakersBrands1+SneakersBrands2+SneakersBrands3\n",
    "SneakersFlipkart['Sneakers-ProductDescription']=SneakerProductDescriptions1+SneakerProductDescriptions2+SneakerProductDescriptions3\n",
    "SneakersFlipkart['Sneakers-Prices']=SneakerPrices1[:40]+SneakerPrices2[:40]+SneakerPrices3[:40]"
   ]
  },
  {
   "cell_type": "code",
   "execution_count": 227,
   "id": "44722b2e",
   "metadata": {},
   "outputs": [
    {
     "data": {
      "text/html": [
       "<div>\n",
       "<style scoped>\n",
       "    .dataframe tbody tr th:only-of-type {\n",
       "        vertical-align: middle;\n",
       "    }\n",
       "\n",
       "    .dataframe tbody tr th {\n",
       "        vertical-align: top;\n",
       "    }\n",
       "\n",
       "    .dataframe thead th {\n",
       "        text-align: right;\n",
       "    }\n",
       "</style>\n",
       "<table border=\"1\" class=\"dataframe\">\n",
       "  <thead>\n",
       "    <tr style=\"text-align: right;\">\n",
       "      <th></th>\n",
       "      <th>Sneakers-Brands</th>\n",
       "      <th>Sneakers-ProductDescription</th>\n",
       "      <th>Sneakers-Prices</th>\n",
       "    </tr>\n",
       "  </thead>\n",
       "  <tbody>\n",
       "    <tr>\n",
       "      <th>0</th>\n",
       "      <td>Echor</td>\n",
       "      <td>Stylish &amp; Trendy Shoe For Men Sneakers Sneakers For Men</td>\n",
       "      <td>₹449</td>\n",
       "    </tr>\n",
       "    <tr>\n",
       "      <th>1</th>\n",
       "      <td>Echor</td>\n",
       "      <td>Sneakers For Men</td>\n",
       "      <td>₹449</td>\n",
       "    </tr>\n",
       "    <tr>\n",
       "      <th>2</th>\n",
       "      <td>BRUTON</td>\n",
       "      <td>Modern Trendy Sneakers Shoes Sneakers For Men</td>\n",
       "      <td>₹209</td>\n",
       "    </tr>\n",
       "    <tr>\n",
       "      <th>3</th>\n",
       "      <td>Elevarse</td>\n",
       "      <td>Sneakers For Men</td>\n",
       "      <td>₹299</td>\n",
       "    </tr>\n",
       "    <tr>\n",
       "      <th>4</th>\n",
       "      <td>BRUTON</td>\n",
       "      <td>Combo Pack Of 2 Latest Stylish Casual Shoes for Men Lac...</td>\n",
       "      <td>₹449</td>\n",
       "    </tr>\n",
       "    <tr>\n",
       "      <th>5</th>\n",
       "      <td>BRUTON</td>\n",
       "      <td>Combo Pack Of 4 Casual Shoes Loafer Shoes Sneakers For ...</td>\n",
       "      <td>₹374</td>\n",
       "    </tr>\n",
       "    <tr>\n",
       "      <th>6</th>\n",
       "      <td>World Wear Footwear</td>\n",
       "      <td>5011-Latest Collection Stylish Casual Loafer Sneakers S...</td>\n",
       "      <td>₹149</td>\n",
       "    </tr>\n",
       "    <tr>\n",
       "      <th>7</th>\n",
       "      <td>HRX by Hrithik Roshan</td>\n",
       "      <td>Men White Printed Sneakers Sneakers For Men</td>\n",
       "      <td>₹2,549</td>\n",
       "    </tr>\n",
       "    <tr>\n",
       "      <th>8</th>\n",
       "      <td>corsac</td>\n",
       "      <td>STYLISH MENS BLACK AND WHITE SNEAKER Sneakers For Men</td>\n",
       "      <td>₹449</td>\n",
       "    </tr>\n",
       "    <tr>\n",
       "      <th>9</th>\n",
       "      <td>URBANBOX</td>\n",
       "      <td>Sneakers Sneakers For Men</td>\n",
       "      <td>₹170</td>\n",
       "    </tr>\n",
       "    <tr>\n",
       "      <th>10</th>\n",
       "      <td>Labbin</td>\n",
       "      <td>Sneakers For Men</td>\n",
       "      <td>₹424</td>\n",
       "    </tr>\n",
       "    <tr>\n",
       "      <th>11</th>\n",
       "      <td>BIRDE</td>\n",
       "      <td>Stylish Comfortable Lightweight, Breathable Sports Walk...</td>\n",
       "      <td>₹476</td>\n",
       "    </tr>\n",
       "    <tr>\n",
       "      <th>12</th>\n",
       "      <td>DUNKASTON</td>\n",
       "      <td>Sneakers For Men</td>\n",
       "      <td>₹349</td>\n",
       "    </tr>\n",
       "    <tr>\n",
       "      <th>13</th>\n",
       "      <td>RapidBox</td>\n",
       "      <td>Sneakers For Men</td>\n",
       "      <td>₹630</td>\n",
       "    </tr>\n",
       "    <tr>\n",
       "      <th>14</th>\n",
       "      <td>SCATCHITE</td>\n",
       "      <td>Sneakers Sneakers For Men</td>\n",
       "      <td>₹327</td>\n",
       "    </tr>\n",
       "    <tr>\n",
       "      <th>15</th>\n",
       "      <td>BIRDE</td>\n",
       "      <td>Stylish Comfortable Lightweight, Breathable Casual Shoe...</td>\n",
       "      <td>₹476</td>\n",
       "    </tr>\n",
       "    <tr>\n",
       "      <th>16</th>\n",
       "      <td>Chevit</td>\n",
       "      <td>Super Stylish &amp; Trendy Combo Pack of 02 Pairs Sneakers ...</td>\n",
       "      <td>₹599</td>\n",
       "    </tr>\n",
       "    <tr>\n",
       "      <th>17</th>\n",
       "      <td>D-SNEAKERZ</td>\n",
       "      <td>Casual , Partywear Sneakers Shoes For Men's And Boys Wh...</td>\n",
       "      <td>₹249</td>\n",
       "    </tr>\n",
       "    <tr>\n",
       "      <th>18</th>\n",
       "      <td>Shoes Bank</td>\n",
       "      <td>White Sneaker For Men's/Boy's Sneakers For Men</td>\n",
       "      <td>₹295</td>\n",
       "    </tr>\n",
       "    <tr>\n",
       "      <th>19</th>\n",
       "      <td>HOTSTYLE</td>\n",
       "      <td>Sneakers For Men</td>\n",
       "      <td>₹139</td>\n",
       "    </tr>\n",
       "    <tr>\n",
       "      <th>20</th>\n",
       "      <td>Trendmode</td>\n",
       "      <td>Sneakers For Men</td>\n",
       "      <td>₹209</td>\n",
       "    </tr>\n",
       "    <tr>\n",
       "      <th>21</th>\n",
       "      <td>Noztile</td>\n",
       "      <td>Sneakers For Men</td>\n",
       "      <td>₹349</td>\n",
       "    </tr>\n",
       "    <tr>\n",
       "      <th>22</th>\n",
       "      <td>World Wear Footwear</td>\n",
       "      <td>Sneakers For Men</td>\n",
       "      <td>₹199</td>\n",
       "    </tr>\n",
       "    <tr>\n",
       "      <th>23</th>\n",
       "      <td>RapidBox</td>\n",
       "      <td>Sneakers For Men</td>\n",
       "      <td>₹590</td>\n",
       "    </tr>\n",
       "    <tr>\n",
       "      <th>24</th>\n",
       "      <td>ASTEROID</td>\n",
       "      <td>Original Luxury Branded Fashionable Men's Casual Walkin...</td>\n",
       "      <td>₹424</td>\n",
       "    </tr>\n",
       "    <tr>\n",
       "      <th>25</th>\n",
       "      <td>Rzisbo</td>\n",
       "      <td>Sneakers For Men</td>\n",
       "      <td>₹499</td>\n",
       "    </tr>\n",
       "    <tr>\n",
       "      <th>26</th>\n",
       "      <td>RapidBox</td>\n",
       "      <td>RapidBox Men Shoes Sneakers For Men</td>\n",
       "      <td>₹640</td>\n",
       "    </tr>\n",
       "    <tr>\n",
       "      <th>27</th>\n",
       "      <td>HRX by Hrithik Roshan</td>\n",
       "      <td>Sneakers For Men</td>\n",
       "      <td>₹2,744</td>\n",
       "    </tr>\n",
       "    <tr>\n",
       "      <th>28</th>\n",
       "      <td>luxury fashion</td>\n",
       "      <td>Luxury Fashionable casual shoes Sneakers For Men</td>\n",
       "      <td>₹357</td>\n",
       "    </tr>\n",
       "    <tr>\n",
       "      <th>29</th>\n",
       "      <td>Numenzo</td>\n",
       "      <td>411 Casual Sneakers For Men</td>\n",
       "      <td>₹376</td>\n",
       "    </tr>\n",
       "    <tr>\n",
       "      <th>30</th>\n",
       "      <td>aadi</td>\n",
       "      <td>Sneakers For Men</td>\n",
       "      <td>₹269</td>\n",
       "    </tr>\n",
       "    <tr>\n",
       "      <th>31</th>\n",
       "      <td>RapidBox</td>\n",
       "      <td>Stylish &amp; Trendy Sneakers For Men</td>\n",
       "      <td>₹570</td>\n",
       "    </tr>\n",
       "    <tr>\n",
       "      <th>32</th>\n",
       "      <td>BIRDE</td>\n",
       "      <td>Sports Running Shoes Sneakers For Men</td>\n",
       "      <td>₹249</td>\n",
       "    </tr>\n",
       "    <tr>\n",
       "      <th>33</th>\n",
       "      <td>Xtoon</td>\n",
       "      <td>white Casual shoes,Sneakers for men's Sneakers For Men</td>\n",
       "      <td>₹429</td>\n",
       "    </tr>\n",
       "    <tr>\n",
       "      <th>34</th>\n",
       "      <td>HOTSTYLE</td>\n",
       "      <td>Sneakers For Men</td>\n",
       "      <td>₹195</td>\n",
       "    </tr>\n",
       "    <tr>\n",
       "      <th>35</th>\n",
       "      <td>aadi</td>\n",
       "      <td>Sneakers For Men</td>\n",
       "      <td>₹349</td>\n",
       "    </tr>\n",
       "    <tr>\n",
       "      <th>36</th>\n",
       "      <td>Robbie jones</td>\n",
       "      <td>Sneakers For Men</td>\n",
       "      <td>₹449</td>\n",
       "    </tr>\n",
       "    <tr>\n",
       "      <th>37</th>\n",
       "      <td>CLYMB</td>\n",
       "      <td>Perfect Sports Shoes for Men's Running ,Cycling &amp; Trekk...</td>\n",
       "      <td>₹199</td>\n",
       "    </tr>\n",
       "    <tr>\n",
       "      <th>38</th>\n",
       "      <td>World Wear Footwear</td>\n",
       "      <td>Latest Collection-1227 Stylish Casual Sports Sneakers F...</td>\n",
       "      <td>₹209</td>\n",
       "    </tr>\n",
       "    <tr>\n",
       "      <th>39</th>\n",
       "      <td>HOTSTYLE</td>\n",
       "      <td>Shoes Sneakers Casuals Boots Slip On Sneakers Outdoors ...</td>\n",
       "      <td>₹249</td>\n",
       "    </tr>\n",
       "    <tr>\n",
       "      <th>40</th>\n",
       "      <td>BRUTON</td>\n",
       "      <td>Lightweight Pack Of 1 Trendy Sneakers Sneakers Sneakers...</td>\n",
       "      <td>₹139</td>\n",
       "    </tr>\n",
       "    <tr>\n",
       "      <th>41</th>\n",
       "      <td>bluemaker</td>\n",
       "      <td>casual for men Sneakers For Men</td>\n",
       "      <td>₹399</td>\n",
       "    </tr>\n",
       "    <tr>\n",
       "      <th>42</th>\n",
       "      <td>CLYMB</td>\n",
       "      <td>Sneakers For Men</td>\n",
       "      <td>₹566</td>\n",
       "    </tr>\n",
       "    <tr>\n",
       "      <th>43</th>\n",
       "      <td>CALCADOS</td>\n",
       "      <td>Sneakers For Men</td>\n",
       "      <td>₹618</td>\n",
       "    </tr>\n",
       "    <tr>\n",
       "      <th>44</th>\n",
       "      <td>URBANBOX</td>\n",
       "      <td>STYLISH-WHITE-9 Sneakers For Men</td>\n",
       "      <td>₹116</td>\n",
       "    </tr>\n",
       "    <tr>\n",
       "      <th>45</th>\n",
       "      <td>Kraasa</td>\n",
       "      <td>Series 7 Sneakers For Men</td>\n",
       "      <td>₹394</td>\n",
       "    </tr>\n",
       "    <tr>\n",
       "      <th>46</th>\n",
       "      <td>Chevit</td>\n",
       "      <td>Perfect &amp; Affordable Combo Pack of 02 Pairs Sneakers Ou...</td>\n",
       "      <td>₹499</td>\n",
       "    </tr>\n",
       "    <tr>\n",
       "      <th>47</th>\n",
       "      <td>FOOTSTAIR</td>\n",
       "      <td>Sneakers For Men</td>\n",
       "      <td>₹729</td>\n",
       "    </tr>\n",
       "    <tr>\n",
       "      <th>48</th>\n",
       "      <td>BRUTON</td>\n",
       "      <td>Lattest Sneakers Shoe Sneakers For Men</td>\n",
       "      <td>₹209</td>\n",
       "    </tr>\n",
       "    <tr>\n",
       "      <th>49</th>\n",
       "      <td>Kraasa</td>\n",
       "      <td>Shark-41 Sneakers For Men</td>\n",
       "      <td>₹394</td>\n",
       "    </tr>\n",
       "    <tr>\n",
       "      <th>50</th>\n",
       "      <td>BRUTON</td>\n",
       "      <td>Lightweight Pack Of 1 Trendy Sneakers Sneakers For Men</td>\n",
       "      <td>₹148</td>\n",
       "    </tr>\n",
       "    <tr>\n",
       "      <th>51</th>\n",
       "      <td>ADIDAS</td>\n",
       "      <td>GRAND COURT BASE Sneakers For Men</td>\n",
       "      <td>₹2,595</td>\n",
       "    </tr>\n",
       "    <tr>\n",
       "      <th>52</th>\n",
       "      <td>aadi</td>\n",
       "      <td>Sneakers For Men</td>\n",
       "      <td>₹449</td>\n",
       "    </tr>\n",
       "    <tr>\n",
       "      <th>53</th>\n",
       "      <td>World Wear Footwear</td>\n",
       "      <td>Men 5014 Latest Collection Stylish Casual Sports Loafer...</td>\n",
       "      <td>₹209</td>\n",
       "    </tr>\n",
       "    <tr>\n",
       "      <th>54</th>\n",
       "      <td>RODDICK SHOES</td>\n",
       "      <td>Fashion Outdoor Canvas Casual Light Weight Lace-up Even...</td>\n",
       "      <td>₹374</td>\n",
       "    </tr>\n",
       "    <tr>\n",
       "      <th>55</th>\n",
       "      <td>HRX by Hrithik Roshan</td>\n",
       "      <td>Men Grey Woven Design Sneakers Sneakers For Men</td>\n",
       "      <td>₹2,649</td>\n",
       "    </tr>\n",
       "    <tr>\n",
       "      <th>56</th>\n",
       "      <td>Echor</td>\n",
       "      <td>Men's Sneakers Fashion Lightweight Running Shoes Tennis...</td>\n",
       "      <td>₹449</td>\n",
       "    </tr>\n",
       "    <tr>\n",
       "      <th>57</th>\n",
       "      <td>Zsyto</td>\n",
       "      <td>Sneakers For Men</td>\n",
       "      <td>₹278</td>\n",
       "    </tr>\n",
       "    <tr>\n",
       "      <th>58</th>\n",
       "      <td>DRESTA</td>\n",
       "      <td>Original Luxury Branded Fashionable Men's Casual Walkin...</td>\n",
       "      <td>₹398</td>\n",
       "    </tr>\n",
       "    <tr>\n",
       "      <th>59</th>\n",
       "      <td>Religre</td>\n",
       "      <td>Sneakers For Men</td>\n",
       "      <td>₹339</td>\n",
       "    </tr>\n",
       "    <tr>\n",
       "      <th>60</th>\n",
       "      <td>Chevit</td>\n",
       "      <td>494 Perfect Sports Shoes for Running Training Hikking &amp;...</td>\n",
       "      <td>₹204</td>\n",
       "    </tr>\n",
       "    <tr>\n",
       "      <th>61</th>\n",
       "      <td>SPARX</td>\n",
       "      <td>SM-439 Sneakers For Men</td>\n",
       "      <td>₹799</td>\n",
       "    </tr>\n",
       "    <tr>\n",
       "      <th>62</th>\n",
       "      <td>aadi</td>\n",
       "      <td>Sneakers For Men</td>\n",
       "      <td>₹349</td>\n",
       "    </tr>\n",
       "    <tr>\n",
       "      <th>63</th>\n",
       "      <td>Jabra</td>\n",
       "      <td>Perfect Sports Shoes for Running Training Hiking Footba...</td>\n",
       "      <td>₹349</td>\n",
       "    </tr>\n",
       "    <tr>\n",
       "      <th>64</th>\n",
       "      <td>ASTEROID</td>\n",
       "      <td>Original Luxury Branded Fashionable Men's Casual Walkin...</td>\n",
       "      <td>₹424</td>\n",
       "    </tr>\n",
       "    <tr>\n",
       "      <th>65</th>\n",
       "      <td>Robbie jones</td>\n",
       "      <td>Casual Sneakers White Shoes For Men Sneakers For Men</td>\n",
       "      <td>₹449</td>\n",
       "    </tr>\n",
       "    <tr>\n",
       "      <th>66</th>\n",
       "      <td>Robbie jones</td>\n",
       "      <td>Sneakers For Men</td>\n",
       "      <td>₹424</td>\n",
       "    </tr>\n",
       "    <tr>\n",
       "      <th>67</th>\n",
       "      <td>PROVOGUE</td>\n",
       "      <td>Sneakers For Men</td>\n",
       "      <td>₹1,849</td>\n",
       "    </tr>\n",
       "    <tr>\n",
       "      <th>68</th>\n",
       "      <td>T-ROCK</td>\n",
       "      <td>Stylish White Casual Sneakers shoes Men and Boys Sneake...</td>\n",
       "      <td>₹349</td>\n",
       "    </tr>\n",
       "    <tr>\n",
       "      <th>69</th>\n",
       "      <td>Trendmode</td>\n",
       "      <td>Sneakers For Men</td>\n",
       "      <td>₹199</td>\n",
       "    </tr>\n",
       "    <tr>\n",
       "      <th>70</th>\n",
       "      <td>Stefano Rads</td>\n",
       "      <td>Classy Sneakers For Men</td>\n",
       "      <td>₹190</td>\n",
       "    </tr>\n",
       "    <tr>\n",
       "      <th>71</th>\n",
       "      <td>HRX by Hrithik Roshan</td>\n",
       "      <td>Sneakers For Men</td>\n",
       "      <td>₹3,249</td>\n",
       "    </tr>\n",
       "    <tr>\n",
       "      <th>72</th>\n",
       "      <td>AMICO</td>\n",
       "      <td>Sneakers For Men</td>\n",
       "      <td>₹499</td>\n",
       "    </tr>\n",
       "    <tr>\n",
       "      <th>73</th>\n",
       "      <td>Echor</td>\n",
       "      <td>Men's Sneakers Fashion Lightweight Running Shoes Tennis...</td>\n",
       "      <td>₹449</td>\n",
       "    </tr>\n",
       "    <tr>\n",
       "      <th>74</th>\n",
       "      <td>Vellinto</td>\n",
       "      <td>Casual Sneakrs For Men Sneakers For Men</td>\n",
       "      <td>₹549</td>\n",
       "    </tr>\n",
       "    <tr>\n",
       "      <th>75</th>\n",
       "      <td>Skechers</td>\n",
       "      <td>GLIDE-STEP SPORT - WAVE HEAT Sneakers For Men</td>\n",
       "      <td>₹3,549</td>\n",
       "    </tr>\n",
       "    <tr>\n",
       "      <th>76</th>\n",
       "      <td>D-SNEAKERZ</td>\n",
       "      <td>Casual , Partywear Sneakers Shoes For Men's And Boys Wh...</td>\n",
       "      <td>₹334</td>\n",
       "    </tr>\n",
       "    <tr>\n",
       "      <th>77</th>\n",
       "      <td>RapidBox</td>\n",
       "      <td>Sneakers For Men</td>\n",
       "      <td>₹630</td>\n",
       "    </tr>\n",
       "    <tr>\n",
       "      <th>78</th>\n",
       "      <td>LE GREEM</td>\n",
       "      <td>Comfortable &amp; Ultra Light Weight Sneaker Sneakers For M...</td>\n",
       "      <td>₹399</td>\n",
       "    </tr>\n",
       "    <tr>\n",
       "      <th>79</th>\n",
       "      <td>HRX by Hrithik Roshan</td>\n",
       "      <td>Men White Solid Sneakers Sneakers For Men</td>\n",
       "      <td>₹3,049</td>\n",
       "    </tr>\n",
       "    <tr>\n",
       "      <th>80</th>\n",
       "      <td>Numenzo</td>\n",
       "      <td>Sneakers For Men</td>\n",
       "      <td>₹348</td>\n",
       "    </tr>\n",
       "    <tr>\n",
       "      <th>81</th>\n",
       "      <td>ESSENCE</td>\n",
       "      <td>Trendy Sneakers For Men</td>\n",
       "      <td>₹349</td>\n",
       "    </tr>\n",
       "    <tr>\n",
       "      <th>82</th>\n",
       "      <td>KNIGHT WALKERS</td>\n",
       "      <td>Sneakers For Men</td>\n",
       "      <td>₹549</td>\n",
       "    </tr>\n",
       "    <tr>\n",
       "      <th>83</th>\n",
       "      <td>HANIIY</td>\n",
       "      <td>Believe Partywear Casual Shoes for Men's Sneakers For M...</td>\n",
       "      <td>₹449</td>\n",
       "    </tr>\n",
       "    <tr>\n",
       "      <th>84</th>\n",
       "      <td>ASIAN</td>\n",
       "      <td>Skypy-31 Walking Shoes,Training Shoes,Sneakers,Loafers,...</td>\n",
       "      <td>₹549</td>\n",
       "    </tr>\n",
       "    <tr>\n",
       "      <th>85</th>\n",
       "      <td>PUMA</td>\n",
       "      <td>Smash v2 L White- Black Sneakers For Men</td>\n",
       "      <td>₹3,449</td>\n",
       "    </tr>\n",
       "    <tr>\n",
       "      <th>86</th>\n",
       "      <td>RODDICK SHOES</td>\n",
       "      <td>Fashion Outdoor Canvas Casual Light Weight Lace-up Even...</td>\n",
       "      <td>₹374</td>\n",
       "    </tr>\n",
       "    <tr>\n",
       "      <th>87</th>\n",
       "      <td>BIG FOX</td>\n",
       "      <td>Classic Boat -1 Sneakers Sneakers For Men</td>\n",
       "      <td>₹614</td>\n",
       "    </tr>\n",
       "    <tr>\n",
       "      <th>88</th>\n",
       "      <td>Chevit</td>\n",
       "      <td>516 Trendy Star Perfect Sneakers For Men</td>\n",
       "      <td>₹209</td>\n",
       "    </tr>\n",
       "    <tr>\n",
       "      <th>89</th>\n",
       "      <td>Chevit</td>\n",
       "      <td>Men's Combo Pack of 02 Shoes for Men Casual Sneakers Ou...</td>\n",
       "      <td>₹449</td>\n",
       "    </tr>\n",
       "    <tr>\n",
       "      <th>90</th>\n",
       "      <td>BRUTON</td>\n",
       "      <td>Modern &amp; Trendy Collection Combo Pack of 02 Shoes for M...</td>\n",
       "      <td>₹374</td>\n",
       "    </tr>\n",
       "    <tr>\n",
       "      <th>91</th>\n",
       "      <td>U.S. POLO ASSN.</td>\n",
       "      <td>Sneakers For Men</td>\n",
       "      <td>₹2,349</td>\n",
       "    </tr>\n",
       "    <tr>\n",
       "      <th>92</th>\n",
       "      <td>Ktiz</td>\n",
       "      <td>Sneakers For Men</td>\n",
       "      <td>₹398</td>\n",
       "    </tr>\n",
       "    <tr>\n",
       "      <th>93</th>\n",
       "      <td>Zorth</td>\n",
       "      <td>New Fashion Outdoor Trendy Lightweight Casual,Canvas St...</td>\n",
       "      <td>₹385</td>\n",
       "    </tr>\n",
       "    <tr>\n",
       "      <th>94</th>\n",
       "      <td>EZDEZARIO</td>\n",
       "      <td>Shoes in Black Color Party wear/Outdoor/Casual Shoes Fo...</td>\n",
       "      <td>₹249</td>\n",
       "    </tr>\n",
       "    <tr>\n",
       "      <th>95</th>\n",
       "      <td>ASIAN</td>\n",
       "      <td>Sneakers For Men</td>\n",
       "      <td>₹599</td>\n",
       "    </tr>\n",
       "    <tr>\n",
       "      <th>96</th>\n",
       "      <td>RODDICK SHOES</td>\n",
       "      <td>Fashion Outdoor Canvas Casual Light Weight Lace-up Even...</td>\n",
       "      <td>₹374</td>\n",
       "    </tr>\n",
       "    <tr>\n",
       "      <th>97</th>\n",
       "      <td>RANZAG</td>\n",
       "      <td>Running Shoes Stylish Comfortable Shoes For Men Sneaker...</td>\n",
       "      <td>₹335</td>\n",
       "    </tr>\n",
       "    <tr>\n",
       "      <th>98</th>\n",
       "      <td>Magnolia</td>\n",
       "      <td>Sneakers For Men</td>\n",
       "      <td>₹422</td>\n",
       "    </tr>\n",
       "    <tr>\n",
       "      <th>99</th>\n",
       "      <td>HRX by Hrithik Roshan</td>\n",
       "      <td>Sneakers For Men</td>\n",
       "      <td>₹3,149</td>\n",
       "    </tr>\n",
       "  </tbody>\n",
       "</table>\n",
       "</div>"
      ],
      "text/plain": [
       "          Sneakers-Brands  \\\n",
       "0   Echor                   \n",
       "1   Echor                   \n",
       "2   BRUTON                  \n",
       "3   Elevarse                \n",
       "4   BRUTON                  \n",
       "5   BRUTON                  \n",
       "6   World Wear Footwear     \n",
       "7   HRX by Hrithik Roshan   \n",
       "8   corsac                  \n",
       "9   URBANBOX                \n",
       "10  Labbin                  \n",
       "11  BIRDE                   \n",
       "12  DUNKASTON               \n",
       "13  RapidBox                \n",
       "14  SCATCHITE               \n",
       "15  BIRDE                   \n",
       "16  Chevit                  \n",
       "17  D-SNEAKERZ              \n",
       "18  Shoes Bank              \n",
       "19  HOTSTYLE                \n",
       "20  Trendmode               \n",
       "21  Noztile                 \n",
       "22  World Wear Footwear     \n",
       "23  RapidBox                \n",
       "24  ASTEROID                \n",
       "25  Rzisbo                  \n",
       "26  RapidBox                \n",
       "27  HRX by Hrithik Roshan   \n",
       "28  luxury fashion          \n",
       "29  Numenzo                 \n",
       "30  aadi                    \n",
       "31  RapidBox                \n",
       "32  BIRDE                   \n",
       "33  Xtoon                   \n",
       "34  HOTSTYLE                \n",
       "35  aadi                    \n",
       "36  Robbie jones            \n",
       "37  CLYMB                   \n",
       "38  World Wear Footwear     \n",
       "39  HOTSTYLE                \n",
       "40  BRUTON                  \n",
       "41  bluemaker               \n",
       "42  CLYMB                   \n",
       "43  CALCADOS                \n",
       "44  URBANBOX                \n",
       "45  Kraasa                  \n",
       "46  Chevit                  \n",
       "47  FOOTSTAIR               \n",
       "48  BRUTON                  \n",
       "49  Kraasa                  \n",
       "50  BRUTON                  \n",
       "51  ADIDAS                  \n",
       "52  aadi                    \n",
       "53  World Wear Footwear     \n",
       "54  RODDICK SHOES           \n",
       "55  HRX by Hrithik Roshan   \n",
       "56  Echor                   \n",
       "57  Zsyto                   \n",
       "58  DRESTA                  \n",
       "59  Religre                 \n",
       "60  Chevit                  \n",
       "61  SPARX                   \n",
       "62  aadi                    \n",
       "63  Jabra                   \n",
       "64  ASTEROID                \n",
       "65  Robbie jones            \n",
       "66  Robbie jones            \n",
       "67  PROVOGUE                \n",
       "68  T-ROCK                  \n",
       "69  Trendmode               \n",
       "70  Stefano Rads            \n",
       "71  HRX by Hrithik Roshan   \n",
       "72  AMICO                   \n",
       "73  Echor                   \n",
       "74  Vellinto                \n",
       "75  Skechers                \n",
       "76  D-SNEAKERZ              \n",
       "77  RapidBox                \n",
       "78  LE GREEM                \n",
       "79  HRX by Hrithik Roshan   \n",
       "80  Numenzo                 \n",
       "81  ESSENCE                 \n",
       "82  KNIGHT WALKERS          \n",
       "83  HANIIY                  \n",
       "84  ASIAN                   \n",
       "85  PUMA                    \n",
       "86  RODDICK SHOES           \n",
       "87  BIG FOX                 \n",
       "88  Chevit                  \n",
       "89  Chevit                  \n",
       "90  BRUTON                  \n",
       "91  U.S. POLO ASSN.         \n",
       "92  Ktiz                    \n",
       "93  Zorth                   \n",
       "94  EZDEZARIO               \n",
       "95  ASIAN                   \n",
       "96  RODDICK SHOES           \n",
       "97  RANZAG                  \n",
       "98  Magnolia                \n",
       "99  HRX by Hrithik Roshan   \n",
       "\n",
       "                                   Sneakers-ProductDescription Sneakers-Prices  \n",
       "0   Stylish & Trendy Shoe For Men Sneakers Sneakers For Men     ₹449            \n",
       "1   Sneakers For Men                                            ₹449            \n",
       "2   Modern Trendy Sneakers Shoes Sneakers For Men               ₹209            \n",
       "3   Sneakers For Men                                            ₹299            \n",
       "4   Combo Pack Of 2 Latest Stylish Casual Shoes for Men Lac...  ₹449            \n",
       "5   Combo Pack Of 4 Casual Shoes Loafer Shoes Sneakers For ...  ₹374            \n",
       "6   5011-Latest Collection Stylish Casual Loafer Sneakers S...  ₹149            \n",
       "7   Men White Printed Sneakers Sneakers For Men                 ₹2,549          \n",
       "8   STYLISH MENS BLACK AND WHITE SNEAKER Sneakers For Men       ₹449            \n",
       "9   Sneakers Sneakers For Men                                   ₹170            \n",
       "10  Sneakers For Men                                            ₹424            \n",
       "11  Stylish Comfortable Lightweight, Breathable Sports Walk...  ₹476            \n",
       "12  Sneakers For Men                                            ₹349            \n",
       "13  Sneakers For Men                                            ₹630            \n",
       "14  Sneakers Sneakers For Men                                   ₹327            \n",
       "15  Stylish Comfortable Lightweight, Breathable Casual Shoe...  ₹476            \n",
       "16  Super Stylish & Trendy Combo Pack of 02 Pairs Sneakers ...  ₹599            \n",
       "17  Casual , Partywear Sneakers Shoes For Men's And Boys Wh...  ₹249            \n",
       "18  White Sneaker For Men's/Boy's Sneakers For Men              ₹295            \n",
       "19  Sneakers For Men                                            ₹139            \n",
       "20  Sneakers For Men                                            ₹209            \n",
       "21  Sneakers For Men                                            ₹349            \n",
       "22  Sneakers For Men                                            ₹199            \n",
       "23  Sneakers For Men                                            ₹590            \n",
       "24  Original Luxury Branded Fashionable Men's Casual Walkin...  ₹424            \n",
       "25  Sneakers For Men                                            ₹499            \n",
       "26  RapidBox Men Shoes Sneakers For Men                         ₹640            \n",
       "27  Sneakers For Men                                            ₹2,744          \n",
       "28  Luxury Fashionable casual shoes Sneakers For Men            ₹357            \n",
       "29  411 Casual Sneakers For Men                                 ₹376            \n",
       "30  Sneakers For Men                                            ₹269            \n",
       "31  Stylish & Trendy Sneakers For Men                           ₹570            \n",
       "32  Sports Running Shoes Sneakers For Men                       ₹249            \n",
       "33  white Casual shoes,Sneakers for men's Sneakers For Men      ₹429            \n",
       "34  Sneakers For Men                                            ₹195            \n",
       "35  Sneakers For Men                                            ₹349            \n",
       "36  Sneakers For Men                                            ₹449            \n",
       "37  Perfect Sports Shoes for Men's Running ,Cycling & Trekk...  ₹199            \n",
       "38  Latest Collection-1227 Stylish Casual Sports Sneakers F...  ₹209            \n",
       "39  Shoes Sneakers Casuals Boots Slip On Sneakers Outdoors ...  ₹249            \n",
       "40  Lightweight Pack Of 1 Trendy Sneakers Sneakers Sneakers...  ₹139            \n",
       "41  casual for men Sneakers For Men                             ₹399            \n",
       "42  Sneakers For Men                                            ₹566            \n",
       "43  Sneakers For Men                                            ₹618            \n",
       "44  STYLISH-WHITE-9 Sneakers For Men                            ₹116            \n",
       "45  Series 7 Sneakers For Men                                   ₹394            \n",
       "46  Perfect & Affordable Combo Pack of 02 Pairs Sneakers Ou...  ₹499            \n",
       "47  Sneakers For Men                                            ₹729            \n",
       "48  Lattest Sneakers Shoe Sneakers For Men                      ₹209            \n",
       "49  Shark-41 Sneakers For Men                                   ₹394            \n",
       "50  Lightweight Pack Of 1 Trendy Sneakers Sneakers For Men      ₹148            \n",
       "51  GRAND COURT BASE Sneakers For Men                           ₹2,595          \n",
       "52  Sneakers For Men                                            ₹449            \n",
       "53  Men 5014 Latest Collection Stylish Casual Sports Loafer...  ₹209            \n",
       "54  Fashion Outdoor Canvas Casual Light Weight Lace-up Even...  ₹374            \n",
       "55  Men Grey Woven Design Sneakers Sneakers For Men             ₹2,649          \n",
       "56  Men's Sneakers Fashion Lightweight Running Shoes Tennis...  ₹449            \n",
       "57  Sneakers For Men                                            ₹278            \n",
       "58  Original Luxury Branded Fashionable Men's Casual Walkin...  ₹398            \n",
       "59  Sneakers For Men                                            ₹339            \n",
       "60  494 Perfect Sports Shoes for Running Training Hikking &...  ₹204            \n",
       "61  SM-439 Sneakers For Men                                     ₹799            \n",
       "62  Sneakers For Men                                            ₹349            \n",
       "63  Perfect Sports Shoes for Running Training Hiking Footba...  ₹349            \n",
       "64  Original Luxury Branded Fashionable Men's Casual Walkin...  ₹424            \n",
       "65  Casual Sneakers White Shoes For Men Sneakers For Men        ₹449            \n",
       "66  Sneakers For Men                                            ₹424            \n",
       "67  Sneakers For Men                                            ₹1,849          \n",
       "68  Stylish White Casual Sneakers shoes Men and Boys Sneake...  ₹349            \n",
       "69  Sneakers For Men                                            ₹199            \n",
       "70  Classy Sneakers For Men                                     ₹190            \n",
       "71  Sneakers For Men                                            ₹3,249          \n",
       "72  Sneakers For Men                                            ₹499            \n",
       "73  Men's Sneakers Fashion Lightweight Running Shoes Tennis...  ₹449            \n",
       "74  Casual Sneakrs For Men Sneakers For Men                     ₹549            \n",
       "75  GLIDE-STEP SPORT - WAVE HEAT Sneakers For Men               ₹3,549          \n",
       "76  Casual , Partywear Sneakers Shoes For Men's And Boys Wh...  ₹334            \n",
       "77  Sneakers For Men                                            ₹630            \n",
       "78  Comfortable & Ultra Light Weight Sneaker Sneakers For M...  ₹399            \n",
       "79  Men White Solid Sneakers Sneakers For Men                   ₹3,049          \n",
       "80  Sneakers For Men                                            ₹348            \n",
       "81  Trendy Sneakers For Men                                     ₹349            \n",
       "82  Sneakers For Men                                            ₹549            \n",
       "83  Believe Partywear Casual Shoes for Men's Sneakers For M...  ₹449            \n",
       "84  Skypy-31 Walking Shoes,Training Shoes,Sneakers,Loafers,...  ₹549            \n",
       "85  Smash v2 L White- Black Sneakers For Men                    ₹3,449          \n",
       "86  Fashion Outdoor Canvas Casual Light Weight Lace-up Even...  ₹374            \n",
       "87  Classic Boat -1 Sneakers Sneakers For Men                   ₹614            \n",
       "88  516 Trendy Star Perfect Sneakers For Men                    ₹209            \n",
       "89  Men's Combo Pack of 02 Shoes for Men Casual Sneakers Ou...  ₹449            \n",
       "90  Modern & Trendy Collection Combo Pack of 02 Shoes for M...  ₹374            \n",
       "91  Sneakers For Men                                            ₹2,349          \n",
       "92  Sneakers For Men                                            ₹398            \n",
       "93  New Fashion Outdoor Trendy Lightweight Casual,Canvas St...  ₹385            \n",
       "94  Shoes in Black Color Party wear/Outdoor/Casual Shoes Fo...  ₹249            \n",
       "95  Sneakers For Men                                            ₹599            \n",
       "96  Fashion Outdoor Canvas Casual Light Weight Lace-up Even...  ₹374            \n",
       "97  Running Shoes Stylish Comfortable Shoes For Men Sneaker...  ₹335            \n",
       "98  Sneakers For Men                                            ₹422            \n",
       "99  Sneakers For Men                                            ₹3,149          "
      ]
     },
     "execution_count": 227,
     "metadata": {},
     "output_type": "execute_result"
    }
   ],
   "source": [
    "SneakersFlipkart[:100]"
   ]
  },
  {
   "cell_type": "code",
   "execution_count": null,
   "id": "eecbc0b9",
   "metadata": {},
   "outputs": [],
   "source": []
  },
  {
   "cell_type": "code",
   "execution_count": 228,
   "id": "eef80bb4",
   "metadata": {},
   "outputs": [],
   "source": [
    "# (7) Go to the link - https://www.myntra.com/shoes\n",
    "# Set Price filter to “Rs. 7149 to Rs. 14099 ” , Color filter to “Black”, as shown inthe below image.\n",
    "# And then scrape First 100 shoes data you get. The data should include “Brand” of the shoes , Short Shoe description, price of the shoe as shown in the below image."
   ]
  },
  {
   "cell_type": "code",
   "execution_count": 229,
   "id": "d7f039bc",
   "metadata": {},
   "outputs": [],
   "source": [
    "import selenium\n",
    "from selenium import webdriver\n",
    "import pandas as pd\n",
    "import warnings\n",
    "warnings.filterwarnings(\"ignore\")"
   ]
  },
  {
   "cell_type": "code",
   "execution_count": 230,
   "id": "07e0e1b3",
   "metadata": {},
   "outputs": [],
   "source": [
    "driver7 = webdriver.Chrome(r'C:\\Users\\Rick\\OneDrive\\Desktop\\Softwares\\chromedriver.exe')"
   ]
  },
  {
   "cell_type": "code",
   "execution_count": 231,
   "id": "6ad4679d",
   "metadata": {},
   "outputs": [],
   "source": [
    "url7 = 'https://www.myntra.com/shoes'"
   ]
  },
  {
   "cell_type": "code",
   "execution_count": 232,
   "id": "bdf5d3da",
   "metadata": {},
   "outputs": [],
   "source": [
    "driver7.get(url7)"
   ]
  },
  {
   "cell_type": "code",
   "execution_count": 233,
   "id": "aca2cc8a",
   "metadata": {},
   "outputs": [],
   "source": [
    "# To automate chromedriver to ColorFilter using Absolute xpath for Shoecolor\n",
    "\n",
    "setcolorfilter = driver7.find_element_by_xpath(\"/html/body/div[2]/div/div[1]/main/div[3]/div[1]/section/div/div[6]/ul/li[1]/label\")\n",
    "setcolorfilter.click()"
   ]
  },
  {
   "cell_type": "code",
   "execution_count": 234,
   "id": "adc2918f",
   "metadata": {},
   "outputs": [],
   "source": [
    "# To automate chromedriver to PriceFilter using Absolute xpath for Pricerange\n",
    "\n",
    "setpricefilter = driver7.find_element_by_xpath(\"/html/body/div[2]/div/div[1]/main/div[3]/div[1]/section/div/div[5]/ul/li[2]/label\")\n",
    "setpricefilter.click()"
   ]
  },
  {
   "cell_type": "markdown",
   "id": "b2ae455c",
   "metadata": {},
   "source": [
    "# Extracting Page 1 Data"
   ]
  },
  {
   "cell_type": "code",
   "execution_count": 235,
   "id": "3414fa77",
   "metadata": {},
   "outputs": [],
   "source": [
    "# To get all Blackshoes Brands of page 1\n",
    "\n",
    "BS1 = driver7.find_elements_by_class_name('product-brand')"
   ]
  },
  {
   "cell_type": "code",
   "execution_count": 236,
   "id": "3e529dd5",
   "metadata": {},
   "outputs": [
    {
     "data": {
      "text/plain": [
       "50"
      ]
     },
     "execution_count": 236,
     "metadata": {},
     "output_type": "execute_result"
    }
   ],
   "source": [
    "BlackShoesBrands1 = []\n",
    "\n",
    "for i in BS1:\n",
    "    BlackShoesBrands1.append(i.text)\n",
    "    \n",
    "len(BlackShoesBrands1)"
   ]
  },
  {
   "cell_type": "code",
   "execution_count": 237,
   "id": "923b687d",
   "metadata": {},
   "outputs": [],
   "source": [
    "# To get all BlackshoesDescription of page 1\n",
    "\n",
    "BSD1 = driver7.find_elements_by_class_name('product-product')"
   ]
  },
  {
   "cell_type": "code",
   "execution_count": 238,
   "id": "49d1ec2e",
   "metadata": {},
   "outputs": [
    {
     "data": {
      "text/plain": [
       "50"
      ]
     },
     "execution_count": 238,
     "metadata": {},
     "output_type": "execute_result"
    }
   ],
   "source": [
    "BlackShoesDescription1 = []\n",
    "\n",
    "for i in BSD1:\n",
    "    BlackShoesDescription1.append(i.text)\n",
    "    \n",
    "len(BlackShoesDescription1)"
   ]
  },
  {
   "cell_type": "code",
   "execution_count": 239,
   "id": "b07328bb",
   "metadata": {},
   "outputs": [],
   "source": [
    "# To get all BlackshoesPrice of page 1\n",
    "\n",
    "BSP1 = driver7.find_elements_by_class_name('product-price')"
   ]
  },
  {
   "cell_type": "code",
   "execution_count": 240,
   "id": "d1f0b6a1",
   "metadata": {},
   "outputs": [
    {
     "data": {
      "text/plain": [
       "50"
      ]
     },
     "execution_count": 240,
     "metadata": {},
     "output_type": "execute_result"
    }
   ],
   "source": [
    "BlackShoesPrices1 = []\n",
    "\n",
    "for i in BSP1:\n",
    "    BlackShoesPrices1.append(i.text)\n",
    "    \n",
    "len(BlackShoesPrices1)"
   ]
  },
  {
   "cell_type": "code",
   "execution_count": 241,
   "id": "51a716dd",
   "metadata": {},
   "outputs": [],
   "source": [
    "# To locate the page 2 for automation:\n",
    "BlackShoesPage2 = driver7.find_element_by_xpath('/html/body/div[2]/div/div[1]/main/div[3]/div[2]/div/div[2]/section/div[2]/ul/li[3]/a')\n",
    "BlackShoesPage2.click()"
   ]
  },
  {
   "cell_type": "markdown",
   "id": "655d84ae",
   "metadata": {},
   "source": [
    "# Extracting Page 2 Data"
   ]
  },
  {
   "cell_type": "code",
   "execution_count": 242,
   "id": "643f25f9",
   "metadata": {},
   "outputs": [],
   "source": [
    "# To get all Blackshoes Brands of page 2\n",
    "\n",
    "BS2 = driver7.find_elements_by_class_name('product-brand')"
   ]
  },
  {
   "cell_type": "code",
   "execution_count": 243,
   "id": "cbb59e2f",
   "metadata": {},
   "outputs": [
    {
     "data": {
      "text/plain": [
       "50"
      ]
     },
     "execution_count": 243,
     "metadata": {},
     "output_type": "execute_result"
    }
   ],
   "source": [
    "BlackShoesBrands2 = []\n",
    "\n",
    "for i in BS2:\n",
    "    BlackShoesBrands2.append(i.text)\n",
    "    \n",
    "len(BlackShoesBrands2)"
   ]
  },
  {
   "cell_type": "code",
   "execution_count": 244,
   "id": "602d53f5",
   "metadata": {},
   "outputs": [],
   "source": [
    "# To get all BlackshoesDescription of page 2\n",
    "\n",
    "BSD2 = driver7.find_elements_by_class_name('product-product')"
   ]
  },
  {
   "cell_type": "code",
   "execution_count": 245,
   "id": "f290a948",
   "metadata": {},
   "outputs": [
    {
     "data": {
      "text/plain": [
       "50"
      ]
     },
     "execution_count": 245,
     "metadata": {},
     "output_type": "execute_result"
    }
   ],
   "source": [
    "BlackShoesDescription2 = []\n",
    "\n",
    "for i in BSD2:\n",
    "    BlackShoesDescription2.append(i.text)\n",
    "    \n",
    "len(BlackShoesDescription2)"
   ]
  },
  {
   "cell_type": "code",
   "execution_count": 246,
   "id": "87451ed0",
   "metadata": {},
   "outputs": [],
   "source": [
    "# To get all BlackshoesPrice of page 2\n",
    "\n",
    "BSP2 = driver7.find_elements_by_class_name('product-price')"
   ]
  },
  {
   "cell_type": "code",
   "execution_count": 247,
   "id": "e9433a32",
   "metadata": {},
   "outputs": [
    {
     "data": {
      "text/plain": [
       "50"
      ]
     },
     "execution_count": 247,
     "metadata": {},
     "output_type": "execute_result"
    }
   ],
   "source": [
    "BlackShoesPrices2 = []\n",
    "\n",
    "for i in BSP2:\n",
    "    BlackShoesPrices2.append(i.text)\n",
    "    \n",
    "len(BlackShoesPrices2)"
   ]
  },
  {
   "cell_type": "code",
   "execution_count": 248,
   "id": "a4651569",
   "metadata": {},
   "outputs": [],
   "source": [
    "Myntra=pd.DataFrame({})\n",
    "Myntra['BlackShoe-Brands']=BlackShoesBrands1+BlackShoesBrands2\n",
    "Myntra['BlackShoe-ProductDescription']=BlackShoesDescription1+BlackShoesDescription2\n",
    "Myntra['BlackShoe-Prices']=BlackShoesPrices1+BlackShoesPrices2"
   ]
  },
  {
   "cell_type": "code",
   "execution_count": 249,
   "id": "73446c85",
   "metadata": {},
   "outputs": [
    {
     "data": {
      "text/html": [
       "<div>\n",
       "<style scoped>\n",
       "    .dataframe tbody tr th:only-of-type {\n",
       "        vertical-align: middle;\n",
       "    }\n",
       "\n",
       "    .dataframe tbody tr th {\n",
       "        vertical-align: top;\n",
       "    }\n",
       "\n",
       "    .dataframe thead th {\n",
       "        text-align: right;\n",
       "    }\n",
       "</style>\n",
       "<table border=\"1\" class=\"dataframe\">\n",
       "  <thead>\n",
       "    <tr style=\"text-align: right;\">\n",
       "      <th></th>\n",
       "      <th>BlackShoe-Brands</th>\n",
       "      <th>BlackShoe-ProductDescription</th>\n",
       "      <th>BlackShoe-Prices</th>\n",
       "    </tr>\n",
       "  </thead>\n",
       "  <tbody>\n",
       "    <tr>\n",
       "      <th>0</th>\n",
       "      <td>Puma</td>\n",
       "      <td>Men Magnify Nitro Running</td>\n",
       "      <td>Rs. 7799Rs. 12999(40% OFF)</td>\n",
       "    </tr>\n",
       "    <tr>\n",
       "      <th>1</th>\n",
       "      <td>Nike</td>\n",
       "      <td>Men Air Max Dawn Sneakers</td>\n",
       "      <td>Rs. 10995</td>\n",
       "    </tr>\n",
       "    <tr>\n",
       "      <th>2</th>\n",
       "      <td>Nike</td>\n",
       "      <td>Men Blazer Court Skateboarding</td>\n",
       "      <td>Rs. 7495</td>\n",
       "    </tr>\n",
       "    <tr>\n",
       "      <th>3</th>\n",
       "      <td>Nike</td>\n",
       "      <td>Men Winflo 7 Running Shoes</td>\n",
       "      <td>Rs. 7995</td>\n",
       "    </tr>\n",
       "    <tr>\n",
       "      <th>4</th>\n",
       "      <td>Tommy Hilfiger</td>\n",
       "      <td>Men Leather Sneakers</td>\n",
       "      <td>Rs. 7999</td>\n",
       "    </tr>\n",
       "    <tr>\n",
       "      <th>5</th>\n",
       "      <td>Puma</td>\n",
       "      <td>Men Jamming 2.0 Running Shoes</td>\n",
       "      <td>Rs. 12999</td>\n",
       "    </tr>\n",
       "    <tr>\n",
       "      <th>6</th>\n",
       "      <td>Puma</td>\n",
       "      <td>Men Running Shoes</td>\n",
       "      <td>Rs. 12999</td>\n",
       "    </tr>\n",
       "    <tr>\n",
       "      <th>7</th>\n",
       "      <td>Puma</td>\n",
       "      <td>Men Deviate Nitro Running Shoe</td>\n",
       "      <td>Rs. 10499Rs. 14999(30% OFF)</td>\n",
       "    </tr>\n",
       "    <tr>\n",
       "      <th>8</th>\n",
       "      <td>Puma</td>\n",
       "      <td>Men Electrify Nitro Running</td>\n",
       "      <td>Rs. 9999</td>\n",
       "    </tr>\n",
       "    <tr>\n",
       "      <th>9</th>\n",
       "      <td>Tommy Hilfiger</td>\n",
       "      <td>Men Leather Sneakers</td>\n",
       "      <td>Rs. 7999</td>\n",
       "    </tr>\n",
       "    <tr>\n",
       "      <th>10</th>\n",
       "      <td>Skechers</td>\n",
       "      <td>Men Go Run Hyper Burst Running</td>\n",
       "      <td>Rs. 7224Rs. 8499(15% OFF)</td>\n",
       "    </tr>\n",
       "    <tr>\n",
       "      <th>11</th>\n",
       "      <td>RARE RABBIT</td>\n",
       "      <td>Men Leather Slip-On Sneakers</td>\n",
       "      <td>Rs. 7999</td>\n",
       "    </tr>\n",
       "    <tr>\n",
       "      <th>12</th>\n",
       "      <td>Hush Puppies</td>\n",
       "      <td>Men Solid Leather Formal Slip-Ons</td>\n",
       "      <td>Rs. 8999</td>\n",
       "    </tr>\n",
       "    <tr>\n",
       "      <th>13</th>\n",
       "      <td>Puma</td>\n",
       "      <td>Women Magnify Nitro Shoes</td>\n",
       "      <td>Rs. 7799Rs. 12999(40% OFF)</td>\n",
       "    </tr>\n",
       "    <tr>\n",
       "      <th>14</th>\n",
       "      <td>ASICS</td>\n",
       "      <td>Women Running Shoes</td>\n",
       "      <td>Rs. 7999</td>\n",
       "    </tr>\n",
       "    <tr>\n",
       "      <th>15</th>\n",
       "      <td>Puma</td>\n",
       "      <td>Men Liberate Nitro Running</td>\n",
       "      <td>Rs. 7499Rs. 9999(25% OFF)</td>\n",
       "    </tr>\n",
       "    <tr>\n",
       "      <th>16</th>\n",
       "      <td>Hush Puppies</td>\n",
       "      <td>Men Perforations Leather Slip-On Sneakers</td>\n",
       "      <td>Rs. 7999</td>\n",
       "    </tr>\n",
       "    <tr>\n",
       "      <th>17</th>\n",
       "      <td>DAVINCHI</td>\n",
       "      <td>Men Textured Formal Leather Loafers</td>\n",
       "      <td>Rs. 8990</td>\n",
       "    </tr>\n",
       "    <tr>\n",
       "      <th>18</th>\n",
       "      <td>PUMA Motorsport</td>\n",
       "      <td>Unisex Ferrari Drift8 Sneakers</td>\n",
       "      <td>Rs. 7999</td>\n",
       "    </tr>\n",
       "    <tr>\n",
       "      <th>19</th>\n",
       "      <td>Puma</td>\n",
       "      <td>Men Training or Gym Shoes</td>\n",
       "      <td>Rs. 7999</td>\n",
       "    </tr>\n",
       "    <tr>\n",
       "      <th>20</th>\n",
       "      <td>Hush Puppies</td>\n",
       "      <td>Men Solid Formal Slip-Ons</td>\n",
       "      <td>Rs. 9999</td>\n",
       "    </tr>\n",
       "    <tr>\n",
       "      <th>21</th>\n",
       "      <td>Tommy Hilfiger</td>\n",
       "      <td>Leather Sandals</td>\n",
       "      <td>Rs. 7599</td>\n",
       "    </tr>\n",
       "    <tr>\n",
       "      <th>22</th>\n",
       "      <td>Columbia</td>\n",
       "      <td>Women REDMOND V2 TrekkingShoe</td>\n",
       "      <td>Rs. 7999</td>\n",
       "    </tr>\n",
       "    <tr>\n",
       "      <th>23</th>\n",
       "      <td>Xtep</td>\n",
       "      <td>Men Running Shoes</td>\n",
       "      <td>Rs. 7699</td>\n",
       "    </tr>\n",
       "    <tr>\n",
       "      <th>24</th>\n",
       "      <td>Tommy Hilfiger</td>\n",
       "      <td>Women CLEAT Textured Sneakers</td>\n",
       "      <td>Rs. 7739Rs. 8599(10% OFF)</td>\n",
       "    </tr>\n",
       "    <tr>\n",
       "      <th>25</th>\n",
       "      <td>Puma</td>\n",
       "      <td>Women Eternity NITRO Shoes</td>\n",
       "      <td>Rs. 7799Rs. 12999(40% OFF)</td>\n",
       "    </tr>\n",
       "    <tr>\n",
       "      <th>26</th>\n",
       "      <td>Saint G</td>\n",
       "      <td>Leather Block Heeled Boots</td>\n",
       "      <td>Rs. 9265Rs. 10900(15% OFF)</td>\n",
       "    </tr>\n",
       "    <tr>\n",
       "      <th>27</th>\n",
       "      <td>Saint G</td>\n",
       "      <td>Men Mid-Top Chelsea Boots</td>\n",
       "      <td>Rs. 10500Rs. 10900(Rs. 400 OFF)</td>\n",
       "    </tr>\n",
       "    <tr>\n",
       "      <th>28</th>\n",
       "      <td>ASICS</td>\n",
       "      <td>Men Colourblocked PU Sneakers</td>\n",
       "      <td>Rs. 9999</td>\n",
       "    </tr>\n",
       "    <tr>\n",
       "      <th>29</th>\n",
       "      <td>ALDO</td>\n",
       "      <td>Wedge Sandals</td>\n",
       "      <td>Rs. 7999</td>\n",
       "    </tr>\n",
       "    <tr>\n",
       "      <th>30</th>\n",
       "      <td>Royal Enfield</td>\n",
       "      <td>Cabo WP Riding Boots</td>\n",
       "      <td>Rs. 8500</td>\n",
       "    </tr>\n",
       "    <tr>\n",
       "      <th>31</th>\n",
       "      <td>J.FONTINI</td>\n",
       "      <td>Men Textured Leather Loafers</td>\n",
       "      <td>Rs. 8490</td>\n",
       "    </tr>\n",
       "    <tr>\n",
       "      <th>32</th>\n",
       "      <td>Clarks</td>\n",
       "      <td>Men Solid Formal Leather Derbys</td>\n",
       "      <td>Rs. 9999</td>\n",
       "    </tr>\n",
       "    <tr>\n",
       "      <th>33</th>\n",
       "      <td>Bugatti</td>\n",
       "      <td>Men Textured Leather High-Top Flat Boots</td>\n",
       "      <td>Rs. 8399Rs. 11999(30% OFF)</td>\n",
       "    </tr>\n",
       "    <tr>\n",
       "      <th>34</th>\n",
       "      <td>RARE RABBIT</td>\n",
       "      <td>Men Leather Flat Boots</td>\n",
       "      <td>Rs. 7999Rs. 9999(20% OFF)</td>\n",
       "    </tr>\n",
       "    <tr>\n",
       "      <th>35</th>\n",
       "      <td>Hush Puppies</td>\n",
       "      <td>Men Solid Leather Formal Derbys</td>\n",
       "      <td>Rs. 9999</td>\n",
       "    </tr>\n",
       "    <tr>\n",
       "      <th>36</th>\n",
       "      <td>DAVINCHI</td>\n",
       "      <td>Ustraa black</td>\n",
       "      <td>Rs. 8990</td>\n",
       "    </tr>\n",
       "    <tr>\n",
       "      <th>37</th>\n",
       "      <td>Saint G</td>\n",
       "      <td>Women Leather Heeled Boots</td>\n",
       "      <td>Rs. 11473Rs. 14900(23% OFF)</td>\n",
       "    </tr>\n",
       "    <tr>\n",
       "      <th>38</th>\n",
       "      <td>DAVINCHI</td>\n",
       "      <td>Men Solid Leather Formal Loafers</td>\n",
       "      <td>Rs. 8490</td>\n",
       "    </tr>\n",
       "    <tr>\n",
       "      <th>39</th>\n",
       "      <td>Clarks</td>\n",
       "      <td>Men Solid Leather Formal Brogues</td>\n",
       "      <td>Rs. 7999</td>\n",
       "    </tr>\n",
       "    <tr>\n",
       "      <th>40</th>\n",
       "      <td>Clarks</td>\n",
       "      <td>Men Solid Leather Formal Loafers</td>\n",
       "      <td>Rs. 7999</td>\n",
       "    </tr>\n",
       "    <tr>\n",
       "      <th>41</th>\n",
       "      <td>DAVINCHI</td>\n",
       "      <td>Solid Slip On Shoes</td>\n",
       "      <td>Rs. 7990</td>\n",
       "    </tr>\n",
       "    <tr>\n",
       "      <th>42</th>\n",
       "      <td>Nike</td>\n",
       "      <td>Women Air Max Furyosa Sneakers</td>\n",
       "      <td>Rs. 11470Rs. 13495(15% OFF)</td>\n",
       "    </tr>\n",
       "    <tr>\n",
       "      <th>43</th>\n",
       "      <td>Saint G</td>\n",
       "      <td>Leather Boots with Buckles</td>\n",
       "      <td>Rs. 8925Rs. 10500(15% OFF)</td>\n",
       "    </tr>\n",
       "    <tr>\n",
       "      <th>44</th>\n",
       "      <td>Saint G</td>\n",
       "      <td>Embellished Leather Block Heeled Boots</td>\n",
       "      <td>Rs. 7869Rs. 12900(39% OFF)</td>\n",
       "    </tr>\n",
       "    <tr>\n",
       "      <th>45</th>\n",
       "      <td>Saint G</td>\n",
       "      <td>Women Kitten Heeled Boots</td>\n",
       "      <td>Rs. 7565Rs. 8900(15% OFF)</td>\n",
       "    </tr>\n",
       "    <tr>\n",
       "      <th>46</th>\n",
       "      <td>FILA</td>\n",
       "      <td>Women Leather Sneakers</td>\n",
       "      <td>Rs. 8499</td>\n",
       "    </tr>\n",
       "    <tr>\n",
       "      <th>47</th>\n",
       "      <td>Geox</td>\n",
       "      <td>Women Solid Leather Loafers</td>\n",
       "      <td>Rs. 7999</td>\n",
       "    </tr>\n",
       "    <tr>\n",
       "      <th>48</th>\n",
       "      <td>Geox</td>\n",
       "      <td>Women Leather Loafers</td>\n",
       "      <td>Rs. 7999</td>\n",
       "    </tr>\n",
       "    <tr>\n",
       "      <th>49</th>\n",
       "      <td>Columbia</td>\n",
       "      <td>Men FACET OUTDRY Trekking Shoe</td>\n",
       "      <td>Rs. 12999</td>\n",
       "    </tr>\n",
       "    <tr>\n",
       "      <th>50</th>\n",
       "      <td>Columbia</td>\n",
       "      <td>Men FACET OUTDRY Trekking Shoe</td>\n",
       "      <td>Rs. 12999</td>\n",
       "    </tr>\n",
       "    <tr>\n",
       "      <th>51</th>\n",
       "      <td>New Balance</td>\n",
       "      <td>Women Woven Running Shoes</td>\n",
       "      <td>Rs. 8449Rs. 12999(35% OFF)</td>\n",
       "    </tr>\n",
       "    <tr>\n",
       "      <th>52</th>\n",
       "      <td>Geox</td>\n",
       "      <td>Men Leather Driving Shoes</td>\n",
       "      <td>Rs. 9499</td>\n",
       "    </tr>\n",
       "    <tr>\n",
       "      <th>53</th>\n",
       "      <td>Columbia</td>\n",
       "      <td>PEAKFREAK OUTDRY Trekking Shoe</td>\n",
       "      <td>Rs. 9999</td>\n",
       "    </tr>\n",
       "    <tr>\n",
       "      <th>54</th>\n",
       "      <td>Cole Haan</td>\n",
       "      <td>Men GENERATION ZEROGRAND STITCHLITE</td>\n",
       "      <td>Rs. 11999</td>\n",
       "    </tr>\n",
       "    <tr>\n",
       "      <th>55</th>\n",
       "      <td>J.FONTINI</td>\n",
       "      <td>Men Textured Leather Loafers</td>\n",
       "      <td>Rs. 7990</td>\n",
       "    </tr>\n",
       "    <tr>\n",
       "      <th>56</th>\n",
       "      <td>Hush Puppies</td>\n",
       "      <td>Men Leather Derbys</td>\n",
       "      <td>Rs. 7999</td>\n",
       "    </tr>\n",
       "    <tr>\n",
       "      <th>57</th>\n",
       "      <td>Clarks</td>\n",
       "      <td>Men Leather Formal Loafers</td>\n",
       "      <td>Rs. 7499</td>\n",
       "    </tr>\n",
       "    <tr>\n",
       "      <th>58</th>\n",
       "      <td>J.FONTINI</td>\n",
       "      <td>Men Solid Loafers</td>\n",
       "      <td>Rs. 8990</td>\n",
       "    </tr>\n",
       "    <tr>\n",
       "      <th>59</th>\n",
       "      <td>Saint G</td>\n",
       "      <td>Striped Suede Flatform Heeled Boots</td>\n",
       "      <td>Rs. 8415Rs. 9900(15% OFF)</td>\n",
       "    </tr>\n",
       "    <tr>\n",
       "      <th>60</th>\n",
       "      <td>Heel &amp; Buckle London</td>\n",
       "      <td>Men Formal Leather Derby</td>\n",
       "      <td>Rs. 7990</td>\n",
       "    </tr>\n",
       "    <tr>\n",
       "      <th>61</th>\n",
       "      <td>Geox</td>\n",
       "      <td>Men Printed Slip-On Sneakers</td>\n",
       "      <td>Rs. 9899Rs. 10999(10% OFF)</td>\n",
       "    </tr>\n",
       "    <tr>\n",
       "      <th>62</th>\n",
       "      <td>Hush Puppies</td>\n",
       "      <td>Men Solid Leather Formal Slip-Ons</td>\n",
       "      <td>Rs. 9999</td>\n",
       "    </tr>\n",
       "    <tr>\n",
       "      <th>63</th>\n",
       "      <td>Hush Puppies</td>\n",
       "      <td>Men Formal Derbys</td>\n",
       "      <td>Rs. 9999</td>\n",
       "    </tr>\n",
       "    <tr>\n",
       "      <th>64</th>\n",
       "      <td>J.FONTINI</td>\n",
       "      <td>Men Black Leather Loafers</td>\n",
       "      <td>Rs. 8490</td>\n",
       "    </tr>\n",
       "    <tr>\n",
       "      <th>65</th>\n",
       "      <td>Geox</td>\n",
       "      <td>Women Leather Pumps</td>\n",
       "      <td>Rs. 8999</td>\n",
       "    </tr>\n",
       "    <tr>\n",
       "      <th>66</th>\n",
       "      <td>Geox</td>\n",
       "      <td>Women Solid Leather Pumps</td>\n",
       "      <td>Rs. 7999</td>\n",
       "    </tr>\n",
       "    <tr>\n",
       "      <th>67</th>\n",
       "      <td>Geox</td>\n",
       "      <td>Women Solid Leather Pumps</td>\n",
       "      <td>Rs. 10990</td>\n",
       "    </tr>\n",
       "    <tr>\n",
       "      <th>68</th>\n",
       "      <td>New Balance</td>\n",
       "      <td>Men Fuelcell Running Shoes</td>\n",
       "      <td>Rs. 7799Rs. 11999(35% OFF)</td>\n",
       "    </tr>\n",
       "    <tr>\n",
       "      <th>69</th>\n",
       "      <td>J.FONTINI</td>\n",
       "      <td>Men Leather Formal Loafers</td>\n",
       "      <td>Rs. 7490</td>\n",
       "    </tr>\n",
       "    <tr>\n",
       "      <th>70</th>\n",
       "      <td>Nike</td>\n",
       "      <td>Men AIRMAX IMPACT 3 Basketball</td>\n",
       "      <td>Rs. 7375Rs. 8195(10% OFF)</td>\n",
       "    </tr>\n",
       "    <tr>\n",
       "      <th>71</th>\n",
       "      <td>J.FONTINI</td>\n",
       "      <td>Men Leather Formal Loafers</td>\n",
       "      <td>Rs. 7490</td>\n",
       "    </tr>\n",
       "    <tr>\n",
       "      <th>72</th>\n",
       "      <td>Geox</td>\n",
       "      <td>Men Leather Loafers</td>\n",
       "      <td>Rs. 9999</td>\n",
       "    </tr>\n",
       "    <tr>\n",
       "      <th>73</th>\n",
       "      <td>Geox</td>\n",
       "      <td>Men Leather Driving Shoes</td>\n",
       "      <td>Rs. 9999</td>\n",
       "    </tr>\n",
       "    <tr>\n",
       "      <th>74</th>\n",
       "      <td>Bugatti</td>\n",
       "      <td>Men Sneakers</td>\n",
       "      <td>Rs. 8799Rs. 10999(20% OFF)</td>\n",
       "    </tr>\n",
       "    <tr>\n",
       "      <th>75</th>\n",
       "      <td>DAVINCHI</td>\n",
       "      <td>Men Formal Leather Slip-Ons</td>\n",
       "      <td>Rs. 8990</td>\n",
       "    </tr>\n",
       "    <tr>\n",
       "      <th>76</th>\n",
       "      <td>J.FONTINI</td>\n",
       "      <td>Men Textured Leather Formal Loafers</td>\n",
       "      <td>Rs. 8990</td>\n",
       "    </tr>\n",
       "    <tr>\n",
       "      <th>77</th>\n",
       "      <td>DAVINCHI</td>\n",
       "      <td>Men Textured Formal Leather Loafers</td>\n",
       "      <td>Rs. 8990</td>\n",
       "    </tr>\n",
       "    <tr>\n",
       "      <th>78</th>\n",
       "      <td>DAVINCHI</td>\n",
       "      <td>Men Solid Leather Formal Derbys</td>\n",
       "      <td>Rs. 9990</td>\n",
       "    </tr>\n",
       "    <tr>\n",
       "      <th>79</th>\n",
       "      <td>Pavers England</td>\n",
       "      <td>Men Leather Driving Shoes</td>\n",
       "      <td>Rs. 7499</td>\n",
       "    </tr>\n",
       "    <tr>\n",
       "      <th>80</th>\n",
       "      <td>Saint G</td>\n",
       "      <td>Men Leather Chelsea Boots</td>\n",
       "      <td>Rs. 10710Rs. 11900(10% OFF)</td>\n",
       "    </tr>\n",
       "    <tr>\n",
       "      <th>81</th>\n",
       "      <td>Cole Haan</td>\n",
       "      <td>Women Sneakers</td>\n",
       "      <td>Rs. 7799Rs. 12999(40% OFF)</td>\n",
       "    </tr>\n",
       "    <tr>\n",
       "      <th>82</th>\n",
       "      <td>Geox</td>\n",
       "      <td>Women Solid Leather Ballerinas</td>\n",
       "      <td>Rs. 8999</td>\n",
       "    </tr>\n",
       "    <tr>\n",
       "      <th>83</th>\n",
       "      <td>Cole Haan</td>\n",
       "      <td>Women Solid Leather Ballerinas</td>\n",
       "      <td>Rs. 9799Rs. 13999(30% OFF)</td>\n",
       "    </tr>\n",
       "    <tr>\n",
       "      <th>84</th>\n",
       "      <td>Tommy Hilfiger</td>\n",
       "      <td>Men Textured Loafers</td>\n",
       "      <td>Rs. 8999</td>\n",
       "    </tr>\n",
       "    <tr>\n",
       "      <th>85</th>\n",
       "      <td>Cole Haan</td>\n",
       "      <td>Women Leather Loafers</td>\n",
       "      <td>Rs. 11899Rs. 16999(30% OFF)</td>\n",
       "    </tr>\n",
       "    <tr>\n",
       "      <th>86</th>\n",
       "      <td>Saint G</td>\n",
       "      <td>Women Leather Heeled Boots</td>\n",
       "      <td>Rs. 12325Rs. 14500(15% OFF)</td>\n",
       "    </tr>\n",
       "    <tr>\n",
       "      <th>87</th>\n",
       "      <td>Saint G</td>\n",
       "      <td>Women Leather Heeled Boots</td>\n",
       "      <td>Rs. 12325Rs. 14500(15% OFF)</td>\n",
       "    </tr>\n",
       "    <tr>\n",
       "      <th>88</th>\n",
       "      <td>Saint G</td>\n",
       "      <td>Women Leather Heeled Boots</td>\n",
       "      <td>Rs. 14025Rs. 16500(15% OFF)</td>\n",
       "    </tr>\n",
       "    <tr>\n",
       "      <th>89</th>\n",
       "      <td>Pavers England</td>\n",
       "      <td>Men Printed Loafers</td>\n",
       "      <td>Rs. 11999</td>\n",
       "    </tr>\n",
       "    <tr>\n",
       "      <th>90</th>\n",
       "      <td>Saint G</td>\n",
       "      <td>Women Leather Heeled Boots</td>\n",
       "      <td>Rs. 11815Rs. 13900(15% OFF)</td>\n",
       "    </tr>\n",
       "    <tr>\n",
       "      <th>91</th>\n",
       "      <td>Geox</td>\n",
       "      <td>Men Leather Loafers</td>\n",
       "      <td>Rs. 10990</td>\n",
       "    </tr>\n",
       "    <tr>\n",
       "      <th>92</th>\n",
       "      <td>Geox</td>\n",
       "      <td>Men Striped Leather Sneakers</td>\n",
       "      <td>Rs. 9990</td>\n",
       "    </tr>\n",
       "    <tr>\n",
       "      <th>93</th>\n",
       "      <td>Pavers England</td>\n",
       "      <td>Men Textured Leather Driving Shoes</td>\n",
       "      <td>Rs. 9999</td>\n",
       "    </tr>\n",
       "    <tr>\n",
       "      <th>94</th>\n",
       "      <td>Vans</td>\n",
       "      <td>Men Printed Sneakers</td>\n",
       "      <td>Rs. 7499</td>\n",
       "    </tr>\n",
       "    <tr>\n",
       "      <th>95</th>\n",
       "      <td>ALDO</td>\n",
       "      <td>Leather Slim Heels</td>\n",
       "      <td>Rs. 8399Rs. 11999(30% OFF)</td>\n",
       "    </tr>\n",
       "    <tr>\n",
       "      <th>96</th>\n",
       "      <td>Vans</td>\n",
       "      <td>Men Sneakers</td>\n",
       "      <td>Rs. 7999</td>\n",
       "    </tr>\n",
       "    <tr>\n",
       "      <th>97</th>\n",
       "      <td>Geox</td>\n",
       "      <td>Leather Platform Sandals</td>\n",
       "      <td>Rs. 9999</td>\n",
       "    </tr>\n",
       "    <tr>\n",
       "      <th>98</th>\n",
       "      <td>Saint G</td>\n",
       "      <td>Leather Wedge Heeled Boots with Buckles</td>\n",
       "      <td>Rs. 12665Rs. 14900(15% OFF)</td>\n",
       "    </tr>\n",
       "    <tr>\n",
       "      <th>99</th>\n",
       "      <td>Vans</td>\n",
       "      <td>Men Perforations Sneakers</td>\n",
       "      <td>Rs. 9999</td>\n",
       "    </tr>\n",
       "  </tbody>\n",
       "</table>\n",
       "</div>"
      ],
      "text/plain": [
       "        BlackShoe-Brands               BlackShoe-ProductDescription  \\\n",
       "0   Puma                  Men Magnify Nitro Running                   \n",
       "1   Nike                  Men Air Max Dawn Sneakers                   \n",
       "2   Nike                  Men Blazer Court Skateboarding              \n",
       "3   Nike                  Men Winflo 7 Running Shoes                  \n",
       "4   Tommy Hilfiger        Men Leather Sneakers                        \n",
       "5   Puma                  Men Jamming 2.0 Running Shoes               \n",
       "6   Puma                  Men Running Shoes                           \n",
       "7   Puma                  Men Deviate Nitro Running Shoe              \n",
       "8   Puma                  Men Electrify Nitro Running                 \n",
       "9   Tommy Hilfiger        Men Leather Sneakers                        \n",
       "10  Skechers              Men Go Run Hyper Burst Running              \n",
       "11  RARE RABBIT           Men Leather Slip-On Sneakers                \n",
       "12  Hush Puppies          Men Solid Leather Formal Slip-Ons           \n",
       "13  Puma                  Women Magnify Nitro Shoes                   \n",
       "14  ASICS                 Women Running Shoes                         \n",
       "15  Puma                  Men Liberate Nitro Running                  \n",
       "16  Hush Puppies          Men Perforations Leather Slip-On Sneakers   \n",
       "17  DAVINCHI              Men Textured Formal Leather Loafers         \n",
       "18  PUMA Motorsport       Unisex Ferrari Drift8 Sneakers              \n",
       "19  Puma                  Men Training or Gym Shoes                   \n",
       "20  Hush Puppies          Men Solid Formal Slip-Ons                   \n",
       "21  Tommy Hilfiger        Leather Sandals                             \n",
       "22  Columbia              Women REDMOND V2 TrekkingShoe               \n",
       "23  Xtep                  Men Running Shoes                           \n",
       "24  Tommy Hilfiger        Women CLEAT Textured Sneakers               \n",
       "25  Puma                  Women Eternity NITRO Shoes                  \n",
       "26  Saint G               Leather Block Heeled Boots                  \n",
       "27  Saint G               Men Mid-Top Chelsea Boots                   \n",
       "28  ASICS                 Men Colourblocked PU Sneakers               \n",
       "29  ALDO                  Wedge Sandals                               \n",
       "30  Royal Enfield         Cabo WP Riding Boots                        \n",
       "31  J.FONTINI             Men Textured Leather Loafers                \n",
       "32  Clarks                Men Solid Formal Leather Derbys             \n",
       "33  Bugatti               Men Textured Leather High-Top Flat Boots    \n",
       "34  RARE RABBIT           Men Leather Flat Boots                      \n",
       "35  Hush Puppies          Men Solid Leather Formal Derbys             \n",
       "36  DAVINCHI              Ustraa black                                \n",
       "37  Saint G               Women Leather Heeled Boots                  \n",
       "38  DAVINCHI              Men Solid Leather Formal Loafers            \n",
       "39  Clarks                Men Solid Leather Formal Brogues            \n",
       "40  Clarks                Men Solid Leather Formal Loafers            \n",
       "41  DAVINCHI              Solid Slip On Shoes                         \n",
       "42  Nike                  Women Air Max Furyosa Sneakers              \n",
       "43  Saint G               Leather Boots with Buckles                  \n",
       "44  Saint G               Embellished Leather Block Heeled Boots      \n",
       "45  Saint G               Women Kitten Heeled Boots                   \n",
       "46  FILA                  Women Leather Sneakers                      \n",
       "47  Geox                  Women Solid Leather Loafers                 \n",
       "48  Geox                  Women Leather Loafers                       \n",
       "49  Columbia              Men FACET OUTDRY Trekking Shoe              \n",
       "50  Columbia              Men FACET OUTDRY Trekking Shoe              \n",
       "51  New Balance           Women Woven Running Shoes                   \n",
       "52  Geox                  Men Leather Driving Shoes                   \n",
       "53  Columbia              PEAKFREAK OUTDRY Trekking Shoe              \n",
       "54  Cole Haan             Men GENERATION ZEROGRAND STITCHLITE         \n",
       "55  J.FONTINI             Men Textured Leather Loafers                \n",
       "56  Hush Puppies          Men Leather Derbys                          \n",
       "57  Clarks                Men Leather Formal Loafers                  \n",
       "58  J.FONTINI             Men Solid Loafers                           \n",
       "59  Saint G               Striped Suede Flatform Heeled Boots         \n",
       "60  Heel & Buckle London  Men Formal Leather Derby                    \n",
       "61  Geox                  Men Printed Slip-On Sneakers                \n",
       "62  Hush Puppies          Men Solid Leather Formal Slip-Ons           \n",
       "63  Hush Puppies          Men Formal Derbys                           \n",
       "64  J.FONTINI             Men Black Leather Loafers                   \n",
       "65  Geox                  Women Leather Pumps                         \n",
       "66  Geox                  Women Solid Leather Pumps                   \n",
       "67  Geox                  Women Solid Leather Pumps                   \n",
       "68  New Balance           Men Fuelcell Running Shoes                  \n",
       "69  J.FONTINI             Men Leather Formal Loafers                  \n",
       "70  Nike                  Men AIRMAX IMPACT 3 Basketball              \n",
       "71  J.FONTINI             Men Leather Formal Loafers                  \n",
       "72  Geox                  Men Leather Loafers                         \n",
       "73  Geox                  Men Leather Driving Shoes                   \n",
       "74  Bugatti               Men Sneakers                                \n",
       "75  DAVINCHI              Men Formal Leather Slip-Ons                 \n",
       "76  J.FONTINI             Men Textured Leather Formal Loafers         \n",
       "77  DAVINCHI              Men Textured Formal Leather Loafers         \n",
       "78  DAVINCHI              Men Solid Leather Formal Derbys             \n",
       "79  Pavers England        Men Leather Driving Shoes                   \n",
       "80  Saint G               Men Leather Chelsea Boots                   \n",
       "81  Cole Haan             Women Sneakers                              \n",
       "82  Geox                  Women Solid Leather Ballerinas              \n",
       "83  Cole Haan             Women Solid Leather Ballerinas              \n",
       "84  Tommy Hilfiger        Men Textured Loafers                        \n",
       "85  Cole Haan             Women Leather Loafers                       \n",
       "86  Saint G               Women Leather Heeled Boots                  \n",
       "87  Saint G               Women Leather Heeled Boots                  \n",
       "88  Saint G               Women Leather Heeled Boots                  \n",
       "89  Pavers England        Men Printed Loafers                         \n",
       "90  Saint G               Women Leather Heeled Boots                  \n",
       "91  Geox                  Men Leather Loafers                         \n",
       "92  Geox                  Men Striped Leather Sneakers                \n",
       "93  Pavers England        Men Textured Leather Driving Shoes          \n",
       "94  Vans                  Men Printed Sneakers                        \n",
       "95  ALDO                  Leather Slim Heels                          \n",
       "96  Vans                  Men Sneakers                                \n",
       "97  Geox                  Leather Platform Sandals                    \n",
       "98  Saint G               Leather Wedge Heeled Boots with Buckles     \n",
       "99  Vans                  Men Perforations Sneakers                   \n",
       "\n",
       "                   BlackShoe-Prices  \n",
       "0   Rs. 7799Rs. 12999(40% OFF)       \n",
       "1   Rs. 10995                        \n",
       "2   Rs. 7495                         \n",
       "3   Rs. 7995                         \n",
       "4   Rs. 7999                         \n",
       "5   Rs. 12999                        \n",
       "6   Rs. 12999                        \n",
       "7   Rs. 10499Rs. 14999(30% OFF)      \n",
       "8   Rs. 9999                         \n",
       "9   Rs. 7999                         \n",
       "10  Rs. 7224Rs. 8499(15% OFF)        \n",
       "11  Rs. 7999                         \n",
       "12  Rs. 8999                         \n",
       "13  Rs. 7799Rs. 12999(40% OFF)       \n",
       "14  Rs. 7999                         \n",
       "15  Rs. 7499Rs. 9999(25% OFF)        \n",
       "16  Rs. 7999                         \n",
       "17  Rs. 8990                         \n",
       "18  Rs. 7999                         \n",
       "19  Rs. 7999                         \n",
       "20  Rs. 9999                         \n",
       "21  Rs. 7599                         \n",
       "22  Rs. 7999                         \n",
       "23  Rs. 7699                         \n",
       "24  Rs. 7739Rs. 8599(10% OFF)        \n",
       "25  Rs. 7799Rs. 12999(40% OFF)       \n",
       "26  Rs. 9265Rs. 10900(15% OFF)       \n",
       "27  Rs. 10500Rs. 10900(Rs. 400 OFF)  \n",
       "28  Rs. 9999                         \n",
       "29  Rs. 7999                         \n",
       "30  Rs. 8500                         \n",
       "31  Rs. 8490                         \n",
       "32  Rs. 9999                         \n",
       "33  Rs. 8399Rs. 11999(30% OFF)       \n",
       "34  Rs. 7999Rs. 9999(20% OFF)        \n",
       "35  Rs. 9999                         \n",
       "36  Rs. 8990                         \n",
       "37  Rs. 11473Rs. 14900(23% OFF)      \n",
       "38  Rs. 8490                         \n",
       "39  Rs. 7999                         \n",
       "40  Rs. 7999                         \n",
       "41  Rs. 7990                         \n",
       "42  Rs. 11470Rs. 13495(15% OFF)      \n",
       "43  Rs. 8925Rs. 10500(15% OFF)       \n",
       "44  Rs. 7869Rs. 12900(39% OFF)       \n",
       "45  Rs. 7565Rs. 8900(15% OFF)        \n",
       "46  Rs. 8499                         \n",
       "47  Rs. 7999                         \n",
       "48  Rs. 7999                         \n",
       "49  Rs. 12999                        \n",
       "50  Rs. 12999                        \n",
       "51  Rs. 8449Rs. 12999(35% OFF)       \n",
       "52  Rs. 9499                         \n",
       "53  Rs. 9999                         \n",
       "54  Rs. 11999                        \n",
       "55  Rs. 7990                         \n",
       "56  Rs. 7999                         \n",
       "57  Rs. 7499                         \n",
       "58  Rs. 8990                         \n",
       "59  Rs. 8415Rs. 9900(15% OFF)        \n",
       "60  Rs. 7990                         \n",
       "61  Rs. 9899Rs. 10999(10% OFF)       \n",
       "62  Rs. 9999                         \n",
       "63  Rs. 9999                         \n",
       "64  Rs. 8490                         \n",
       "65  Rs. 8999                         \n",
       "66  Rs. 7999                         \n",
       "67  Rs. 10990                        \n",
       "68  Rs. 7799Rs. 11999(35% OFF)       \n",
       "69  Rs. 7490                         \n",
       "70  Rs. 7375Rs. 8195(10% OFF)        \n",
       "71  Rs. 7490                         \n",
       "72  Rs. 9999                         \n",
       "73  Rs. 9999                         \n",
       "74  Rs. 8799Rs. 10999(20% OFF)       \n",
       "75  Rs. 8990                         \n",
       "76  Rs. 8990                         \n",
       "77  Rs. 8990                         \n",
       "78  Rs. 9990                         \n",
       "79  Rs. 7499                         \n",
       "80  Rs. 10710Rs. 11900(10% OFF)      \n",
       "81  Rs. 7799Rs. 12999(40% OFF)       \n",
       "82  Rs. 8999                         \n",
       "83  Rs. 9799Rs. 13999(30% OFF)       \n",
       "84  Rs. 8999                         \n",
       "85  Rs. 11899Rs. 16999(30% OFF)      \n",
       "86  Rs. 12325Rs. 14500(15% OFF)      \n",
       "87  Rs. 12325Rs. 14500(15% OFF)      \n",
       "88  Rs. 14025Rs. 16500(15% OFF)      \n",
       "89  Rs. 11999                        \n",
       "90  Rs. 11815Rs. 13900(15% OFF)      \n",
       "91  Rs. 10990                        \n",
       "92  Rs. 9990                         \n",
       "93  Rs. 9999                         \n",
       "94  Rs. 7499                         \n",
       "95  Rs. 8399Rs. 11999(30% OFF)       \n",
       "96  Rs. 7999                         \n",
       "97  Rs. 9999                         \n",
       "98  Rs. 12665Rs. 14900(15% OFF)      \n",
       "99  Rs. 9999                         "
      ]
     },
     "execution_count": 249,
     "metadata": {},
     "output_type": "execute_result"
    }
   ],
   "source": [
    "pd.set_option(\"display.max_rows\", 101)\n",
    "Myntra"
   ]
  },
  {
   "cell_type": "code",
   "execution_count": null,
   "id": "6154a127",
   "metadata": {},
   "outputs": [],
   "source": []
  },
  {
   "cell_type": "code",
   "execution_count": 250,
   "id": "a21dc00f",
   "metadata": {},
   "outputs": [],
   "source": [
    "# (8) Go to webpage https://www.amazon.in/\n",
    "# Enter “Laptop” in the search field and then click the search icon.\n",
    "# Then set CPU Type filter to “Intel Core i7” and “Intel Core i9” as shown in the below image:\n",
    "# After setting the filters scrape first 10 laptops data. You have to scrape 3 attributesfor each laptop:\n",
    "# 1. Title\n",
    "# 2. Ratings\n",
    "# 3. Price\n",
    "# As shown in the below image as the tick marked attributes"
   ]
  },
  {
   "cell_type": "code",
   "execution_count": 261,
   "id": "6aedf42a",
   "metadata": {},
   "outputs": [],
   "source": [
    "import selenium\n",
    "from selenium import webdriver\n",
    "import pandas as pd\n",
    "import warnings\n",
    "warnings.filterwarnings(\"ignore\")"
   ]
  },
  {
   "cell_type": "code",
   "execution_count": 262,
   "id": "fa36c560",
   "metadata": {},
   "outputs": [],
   "source": [
    "driver8 = webdriver.Chrome(r'C:\\Users\\Rick\\OneDrive\\Desktop\\Softwares\\chromedriver.exe')"
   ]
  },
  {
   "cell_type": "code",
   "execution_count": 263,
   "id": "e33c36ed",
   "metadata": {},
   "outputs": [],
   "source": [
    "url8 = 'https://www.amazon.in/'"
   ]
  },
  {
   "cell_type": "code",
   "execution_count": 264,
   "id": "e09106c3",
   "metadata": {},
   "outputs": [],
   "source": [
    "driver8.get(url8)"
   ]
  },
  {
   "cell_type": "code",
   "execution_count": 265,
   "id": "31ffb1d5",
   "metadata": {},
   "outputs": [
    {
     "data": {
      "text/plain": [
       "<selenium.webdriver.remote.webelement.WebElement (session=\"6744ac317b9c1d16107a7ce67771d125\", element=\"823c1d6f-6592-4fe9-b153-e3bed3dafe12\")>"
      ]
     },
     "execution_count": 265,
     "metadata": {},
     "output_type": "execute_result"
    }
   ],
   "source": [
    "# To automate chromedriver to search-bar of SearchProducts looking from multiple Laptops\n",
    "\n",
    "SearchLaptops = driver8.find_element_by_id(\"twotabsearchtextbox\")\n",
    "SearchLaptops"
   ]
  },
  {
   "cell_type": "code",
   "execution_count": 266,
   "id": "d501c30e",
   "metadata": {},
   "outputs": [],
   "source": [
    "# To automate chromedriver to select Laptops on search Bar\n",
    "\n",
    "SearchLaptops.send_keys(\"Laptops\")"
   ]
  },
  {
   "cell_type": "code",
   "execution_count": 267,
   "id": "d52b728e",
   "metadata": {},
   "outputs": [],
   "source": [
    "# To locate the submit key for automation\n",
    "\n",
    "AmazonSearchbutton = driver8.find_element_by_id(\"nav-search-submit-button\")\n",
    "AmazonSearchbutton.click()"
   ]
  },
  {
   "cell_type": "markdown",
   "id": "97df1956",
   "metadata": {},
   "source": [
    "#  To Extract data on i7"
   ]
  },
  {
   "cell_type": "code",
   "execution_count": 268,
   "id": "a8b4a2bc",
   "metadata": {},
   "outputs": [],
   "source": [
    "# To automate chromedriver to CPUFilter using Absolute xpath for i7\n",
    "\n",
    "setCPUfilter1 = driver8.find_element_by_xpath(\"/html/body/div[1]/div[2]/div[1]/div[2]/div/div[3]/span/div[1]/div/div/div[6]/ul[3]/li[11]/span/a/span\")\n",
    "setCPUfilter1.click()"
   ]
  },
  {
   "cell_type": "code",
   "execution_count": 269,
   "id": "2828d8be",
   "metadata": {},
   "outputs": [],
   "source": [
    "# To automate chromedriver to scrape data of i7 Product-Title \n",
    "\n",
    "i7T = driver8.find_elements_by_xpath('//h2[@class=\"a-size-mini a-spacing-none a-color-base s-line-clamp-2\"]')\n"
   ]
  },
  {
   "cell_type": "code",
   "execution_count": 270,
   "id": "c6cf932f",
   "metadata": {},
   "outputs": [],
   "source": [
    "i7Titles = []\n",
    "\n",
    "for i in i7T:\n",
    "    i7Titles.append(i.text)"
   ]
  },
  {
   "cell_type": "code",
   "execution_count": 271,
   "id": "bef4b08b",
   "metadata": {},
   "outputs": [
    {
     "data": {
      "text/plain": [
       "10"
      ]
     },
     "execution_count": 271,
     "metadata": {},
     "output_type": "execute_result"
    }
   ],
   "source": [
    "len(i7Titles[:10])"
   ]
  },
  {
   "cell_type": "code",
   "execution_count": 272,
   "id": "0ed695e6",
   "metadata": {},
   "outputs": [],
   "source": [
    "# To automate chromedriver to scrape data of i7 Product-Ratings \n",
    "\n",
    "i7R = driver8.find_elements_by_xpath('//span[@class=\"a-size-base s-underline-text\"]')\n"
   ]
  },
  {
   "cell_type": "code",
   "execution_count": 273,
   "id": "e6df4ed9",
   "metadata": {},
   "outputs": [],
   "source": [
    "i7Ratings = []\n",
    "\n",
    "for i in i7R:\n",
    "    i7Ratings.append(i.text)"
   ]
  },
  {
   "cell_type": "code",
   "execution_count": 274,
   "id": "bfc42328",
   "metadata": {},
   "outputs": [
    {
     "data": {
      "text/plain": [
       "10"
      ]
     },
     "execution_count": 274,
     "metadata": {},
     "output_type": "execute_result"
    }
   ],
   "source": [
    "len(i7Ratings[:10])"
   ]
  },
  {
   "cell_type": "code",
   "execution_count": 275,
   "id": "eabcf89f",
   "metadata": {},
   "outputs": [],
   "source": [
    "# To automate chromedriver to scrape data of i7 Product-Price \n",
    "\n",
    "i7P = driver8.find_elements_by_xpath('//span[@class=\"a-price-whole\"]')\n"
   ]
  },
  {
   "cell_type": "code",
   "execution_count": 276,
   "id": "20584c0d",
   "metadata": {},
   "outputs": [],
   "source": [
    "i7Price = []\n",
    "\n",
    "for i in i7P:\n",
    "    i7Price.append(i.text)"
   ]
  },
  {
   "cell_type": "code",
   "execution_count": 277,
   "id": "2f52467a",
   "metadata": {},
   "outputs": [
    {
     "data": {
      "text/plain": [
       "10"
      ]
     },
     "execution_count": 277,
     "metadata": {},
     "output_type": "execute_result"
    }
   ],
   "source": [
    "len(i7Price[:10])"
   ]
  },
  {
   "cell_type": "markdown",
   "id": "899fcbaa",
   "metadata": {},
   "source": [
    "# To clear Back"
   ]
  },
  {
   "cell_type": "code",
   "execution_count": 278,
   "id": "89bac76f",
   "metadata": {},
   "outputs": [],
   "source": [
    "# To clear filter\n",
    "\n",
    "clearfilter = driver8.find_element_by_xpath(\"/html/body/div[1]/div[2]/div[1]/div[2]/div/div[3]/span/div[1]/div/div/div[6]/ul[3]/li[1]/span/a/span[2]\")\n",
    "clearfilter.click()"
   ]
  },
  {
   "cell_type": "markdown",
   "id": "bc18cee7",
   "metadata": {},
   "source": [
    "# To Extract data on i9"
   ]
  },
  {
   "cell_type": "code",
   "execution_count": 279,
   "id": "ced288e9",
   "metadata": {},
   "outputs": [],
   "source": [
    "# To automate chromedriver to CPUFilter using Absolute xpath for i9\n",
    "\n",
    "setCPUfilter2 = driver8.find_element_by_xpath(\"/html/body/div[1]/div[2]/div[1]/div[2]/div/div[3]/span/div[1]/div/div/div[6]/ul[3]/li[12]/span/a/div\")\n",
    "setCPUfilter2.click()"
   ]
  },
  {
   "cell_type": "code",
   "execution_count": 280,
   "id": "adc8bdc3",
   "metadata": {},
   "outputs": [],
   "source": [
    "# To automate chromedriver to scrape data of i9 Product-Title \n",
    "\n",
    "i9T = driver8.find_elements_by_xpath('//span[@class=\"a-size-medium a-color-base a-text-normal\"]')\n"
   ]
  },
  {
   "cell_type": "code",
   "execution_count": 281,
   "id": "0cfe5ef1",
   "metadata": {},
   "outputs": [],
   "source": [
    "i9Titles = []\n",
    "\n",
    "for i in i9T:\n",
    "    i9Titles.append(i.text)"
   ]
  },
  {
   "cell_type": "code",
   "execution_count": 282,
   "id": "2162add1",
   "metadata": {},
   "outputs": [
    {
     "data": {
      "text/plain": [
       "10"
      ]
     },
     "execution_count": 282,
     "metadata": {},
     "output_type": "execute_result"
    }
   ],
   "source": [
    "len(i9Titles)"
   ]
  },
  {
   "cell_type": "code",
   "execution_count": 283,
   "id": "0f2dad50",
   "metadata": {},
   "outputs": [],
   "source": [
    "# To automate chromedriver to scrape data of i9 Product-Ratings \n",
    "\n",
    "i9R = driver8.find_elements_by_xpath('//span[@class=\"a-size-base s-underline-text\"]')\n"
   ]
  },
  {
   "cell_type": "code",
   "execution_count": 284,
   "id": "00edce76",
   "metadata": {},
   "outputs": [],
   "source": [
    "i9Ratings = ['NaN', 'NaN', 'NaN', 'NaN', 'NaN', 'NaN', 'NaN', 'NaN', 'NaN', 'NaN']\n",
    "\n",
    "for i in i9R:\n",
    "    i9Ratings.append(i.text)"
   ]
  },
  {
   "cell_type": "code",
   "execution_count": 285,
   "id": "114cd2d0",
   "metadata": {},
   "outputs": [
    {
     "data": {
      "text/plain": [
       "10"
      ]
     },
     "execution_count": 285,
     "metadata": {},
     "output_type": "execute_result"
    }
   ],
   "source": [
    "i9Ratings[0]=i9Ratings[10]\n",
    "i9Ratings[1]=i9Ratings[11]\n",
    "i9Ratings[2]=i9Ratings[12]\n",
    "i9Ratings[7]=i9Ratings[13]\n",
    "i9Ratings.pop(-1)\n",
    "i9Ratings.pop(-1)\n",
    "i9Ratings.pop(-1)\n",
    "i9Ratings.pop(-1)\n",
    "len(i9Ratings) "
   ]
  },
  {
   "cell_type": "code",
   "execution_count": 286,
   "id": "0f262954",
   "metadata": {},
   "outputs": [],
   "source": [
    "# To automate chromedriver to scrape data of i9 Ratings\n",
    "\n",
    "i9P = driver8.find_elements_by_xpath('//span[@class=\"a-price-whole\"]')\n"
   ]
  },
  {
   "cell_type": "code",
   "execution_count": 287,
   "id": "3c4319cc",
   "metadata": {},
   "outputs": [],
   "source": [
    "i9Price = []\n",
    "\n",
    "for i in i9P:\n",
    "    i9Price.append(i.text)"
   ]
  },
  {
   "cell_type": "code",
   "execution_count": 288,
   "id": "69c51351",
   "metadata": {},
   "outputs": [
    {
     "data": {
      "text/plain": [
       "10"
      ]
     },
     "execution_count": 288,
     "metadata": {},
     "output_type": "execute_result"
    }
   ],
   "source": [
    "len(i9Price)"
   ]
  },
  {
   "cell_type": "code",
   "execution_count": 289,
   "id": "71712617",
   "metadata": {},
   "outputs": [],
   "source": [
    "Amazon=pd.DataFrame({})\n",
    "Amazon['Laptop-Title']=i7Titles[:10]+i9Titles\n",
    "Amazon['Laptop-Ratings']=i7Ratings[:10]+i9Ratings\n",
    "Amazon['Laptop-Prices']=i7Price[:10]+i9Price"
   ]
  },
  {
   "cell_type": "code",
   "execution_count": 290,
   "id": "5fdce8ac",
   "metadata": {},
   "outputs": [
    {
     "data": {
      "text/html": [
       "<div>\n",
       "<style scoped>\n",
       "    .dataframe tbody tr th:only-of-type {\n",
       "        vertical-align: middle;\n",
       "    }\n",
       "\n",
       "    .dataframe tbody tr th {\n",
       "        vertical-align: top;\n",
       "    }\n",
       "\n",
       "    .dataframe thead th {\n",
       "        text-align: right;\n",
       "    }\n",
       "</style>\n",
       "<table border=\"1\" class=\"dataframe\">\n",
       "  <thead>\n",
       "    <tr style=\"text-align: right;\">\n",
       "      <th></th>\n",
       "      <th>Laptop-Title</th>\n",
       "      <th>Laptop-Ratings</th>\n",
       "      <th>Laptop-Prices</th>\n",
       "    </tr>\n",
       "  </thead>\n",
       "  <tbody>\n",
       "    <tr>\n",
       "      <th>0</th>\n",
       "      <td>Dell 14 (2021) i5-1135G7, 8GB, 1TB + 256Gb SSD, Win 11 + MS Office'21, Integrated Graphics, 14\" (35.56 cms) FHD Display, Dune Color, Backlit KB (Vostro 3400, D552231WIN9D)</td>\n",
       "      <td>194</td>\n",
       "      <td>64,100</td>\n",
       "    </tr>\n",
       "    <tr>\n",
       "      <th>1</th>\n",
       "      <td>Lenovo IdeaPad 3 11th Gen Intel Core i5 14\" FHD Thin &amp; Light Laptop (16GB/512 GB SSD/Windows 11/Office 2021/Backlit/Fingerprint Reader/2 Yr Warranty/Arctic Grey/1.41Kg), 82H7016KIN</td>\n",
       "      <td>194</td>\n",
       "      <td>60,990</td>\n",
       "    </tr>\n",
       "    <tr>\n",
       "      <th>2</th>\n",
       "      <td>Lenovo IdeaPad 3 11th Gen Intel Core i5 14\" FHD Thin &amp; Light Laptop (16GB/512 GB SSD/Windows 11/Office 2021/Backlit/Fingerprint Reader/2 Yr Warranty/Arctic Grey/1.41Kg), 82H7016KIN</td>\n",
       "      <td>798</td>\n",
       "      <td>60,990</td>\n",
       "    </tr>\n",
       "    <tr>\n",
       "      <th>3</th>\n",
       "      <td>Mi Notebook Ultra 3.2K resolution display Intel Core i5-11300H 11th Gen 15.6-inch(39.62 cm) Thin and Light laptop (16GB/512GB SSD/Iris Xe Graphics/Win 10/MS Office/Backlit KB/Fingerprint sensor/1.7Kg)</td>\n",
       "      <td>7</td>\n",
       "      <td>64,990</td>\n",
       "    </tr>\n",
       "    <tr>\n",
       "      <th>4</th>\n",
       "      <td>MSI Modern 14, Intel i5-10210U, 14\" FHD IPS-Level 60Hz Panel Laptop (8GB/512GB NVMe SSD/Windows 10 Home/Intel UHD Graphics/Carbon Grey/1.3Kg), B10MW-639IN</td>\n",
       "      <td>164</td>\n",
       "      <td>47,990</td>\n",
       "    </tr>\n",
       "    <tr>\n",
       "      <th>5</th>\n",
       "      <td>Lenovo IdeaPad Slim 5 11th Gen Intel Core i5 15.6\"(39.62cm) FHD IPS Thin &amp; Light Laptop (16GB/512GB SSD/Windows 11/MS Office 2021/Backlit Keyboard/Fingerprint Reader/Graphite Grey/1.66Kg), 82FG01H9IN</td>\n",
       "      <td>893</td>\n",
       "      <td>64,965</td>\n",
       "    </tr>\n",
       "    <tr>\n",
       "      <th>6</th>\n",
       "      <td>Mi Notebook Pro QHD+ IPS Anti Glare Display Intel Core i5-11300H 11th Gen 14-inch(35.56 cms) Thin and Light Laptop (16GB/512GB SSD/Iris Xe Graphics/Win 10/Backlit KB/Fingerprint Sensor/1.4 Kg)</td>\n",
       "      <td>12</td>\n",
       "      <td>60,990</td>\n",
       "    </tr>\n",
       "    <tr>\n",
       "      <th>7</th>\n",
       "      <td>ASUS VivoBook 15 (2021) Intel Core i5-1035G1 10th Gen, 15.6\"(39.62cms) FHD Thin and Light Laptop (8GB RAM/512GB + 32GB Optane Memory/Windows 11/Office 2021/Silver/1.8 Kg), X515JA-EJ562WS</td>\n",
       "      <td>26</td>\n",
       "      <td>50,990</td>\n",
       "    </tr>\n",
       "    <tr>\n",
       "      <th>8</th>\n",
       "      <td>Lenovo ThinkBook 15 Intel 11th Gen Core i5 15.6\" (39.62 cm) FHD IPS 300 nits Antiglare 100% sRGB Thin and Light Laptop (8GB/512GB SSD/Windows 10/MS Office/Mineral Grey/1.7 Kg), 20VEA0HGIH</td>\n",
       "      <td>21</td>\n",
       "      <td>59,990</td>\n",
       "    </tr>\n",
       "    <tr>\n",
       "      <th>9</th>\n",
       "      <td>Dell New 14 i5-11320H, 16GB, 512Gb SSD, Win 11 + MS Office'21, Integrated Graphics, 14\" (35.56 cms) FHD Display, Platinum Silver Color, FPR + Backlit KB (Inspiron 5418, D560633WIN9S)</td>\n",
       "      <td>25</td>\n",
       "      <td>65,990</td>\n",
       "    </tr>\n",
       "    <tr>\n",
       "      <th>10</th>\n",
       "      <td>ASUS TUF Gaming F15 (2021), 15.6-inch (39.62 cms) FHD 144Hz, Intel Core i9-11900H 11th Gen, RTX 3060 6GB Graphics Gaming Laptop (16GB RAM/1TB SSD/Office 2019/Windows 10/Gray/2.3 kg), FX566HM-HN097TS</td>\n",
       "      <td>7</td>\n",
       "      <td>1,39,990</td>\n",
       "    </tr>\n",
       "    <tr>\n",
       "      <th>11</th>\n",
       "      <td>ASUS TUF Gaming F15 (2021), 15.6-inch (39.62 cms) FHD 240Hz/3ms, Intel Core i9-11900H 11th Gen, RTX 3060 6GB Graphics Gaming Laptop (16GB/1TB SSD/Office 2019/Windows 10/Black/2.3 kg), FX506HM-AZ099TS</td>\n",
       "      <td>8</td>\n",
       "      <td>1,43,990</td>\n",
       "    </tr>\n",
       "    <tr>\n",
       "      <th>12</th>\n",
       "      <td>ASUS TUF Gaming F15 (2021), 15.6\" (39.62 cms) FHD 240Hz, Intel Core i9-11900H 11th Gen, GeForce RTX 3060 6GB Graphics, Gaming Laptop(16GB/1TB SSD/Office 2019/Windows 10/Gray/2.3 Kg), FX566HM-AZ096TS</td>\n",
       "      <td>7</td>\n",
       "      <td>1,44,990</td>\n",
       "    </tr>\n",
       "    <tr>\n",
       "      <th>13</th>\n",
       "      <td>(Renewed) Dell G7 7500 15.6inch FHD 300 Hz Display Gaming Laptop (10th Gen i9-10885H / 16 GB / 1TB SSD / NVIDIA RTX 2070 8GB Graphics / 1Yr Premium Warranty / Win 10 + MS Office H&amp;S 2019) D560233WIN9B, Black</td>\n",
       "      <td>NaN</td>\n",
       "      <td>2,25,000</td>\n",
       "    </tr>\n",
       "    <tr>\n",
       "      <th>14</th>\n",
       "      <td>(Renewed) DELL XPS 7590 15.6-inch UHD Display Laptop (9th Gen Core i9-9980HK/32GB/1TB SSD/Win 10 + MS Office/4GB Nvidia Graphics), Abyss Grey</td>\n",
       "      <td>NaN</td>\n",
       "      <td>1,75,000</td>\n",
       "    </tr>\n",
       "    <tr>\n",
       "      <th>15</th>\n",
       "      <td>HP ZBOOK Power G8/ Intel core i9-11900H 8 Core/32GB DDR4 3200 RAM/1TB PCIe NVMe TLC SSD /15.6” FHD /Nvidia Quadro T1200 Dedicated Graphics 4GB DDR6 /Windows 10 Pro / 3 Year Warranty</td>\n",
       "      <td>NaN</td>\n",
       "      <td>2,43,000</td>\n",
       "    </tr>\n",
       "    <tr>\n",
       "      <th>16</th>\n",
       "      <td>Dell Precision 5550 || i9 -10885H || 16GB || 1TB NVMe || T2000 4 GB || Win 10 Pro (Free Upgrade Win 11Pro) / 15.6 FHD+ / 3 Year ADP</td>\n",
       "      <td>NaN</td>\n",
       "      <td>2,25,000</td>\n",
       "    </tr>\n",
       "    <tr>\n",
       "      <th>17</th>\n",
       "      <td>HP Zbook - Intel i9, 15 inch(39.6 cm)FHD 400 Nits Display, Thin &amp; Light , Anti-Glare(32GB RAM/1TB M.2 SSD/Nvidia RTX A2000 4GB Graphics/Win10 Pro/IR Camera/ HP Zbook Power G8 Mobile Workstation</td>\n",
       "      <td>1</td>\n",
       "      <td>2,54,563</td>\n",
       "    </tr>\n",
       "    <tr>\n",
       "      <th>18</th>\n",
       "      <td>Z2 G5 Workstation 700W /Core i9-10900 (2.8GHz 10C) /16GB RAM/512GB SSD+1TB SATA/Nvidia RTX 3070 8GB Graphics/DVDRW/Windows 10 Pro/3 Year Warranty</td>\n",
       "      <td>NaN</td>\n",
       "      <td>2,39,000</td>\n",
       "    </tr>\n",
       "    <tr>\n",
       "      <th>19</th>\n",
       "      <td>HP ZBook Power G8/ Intel Core i9-11950H 2.5GHz 8 Core/64GB DDR4/ 2TB PCIe NVMe SSD /15.6” FHD/Nvidia Quadro RTX A2000 Graphics 4GB DDR6/ 1RJ45/ Windows 10 Pro/ 3 Year Warranty from HP</td>\n",
       "      <td>NaN</td>\n",
       "      <td>2,93,000</td>\n",
       "    </tr>\n",
       "  </tbody>\n",
       "</table>\n",
       "</div>"
      ],
      "text/plain": [
       "                                                                                                                                                                                                       Laptop-Title  \\\n",
       "0   Dell 14 (2021) i5-1135G7, 8GB, 1TB + 256Gb SSD, Win 11 + MS Office'21, Integrated Graphics, 14\" (35.56 cms) FHD Display, Dune Color, Backlit KB (Vostro 3400, D552231WIN9D)                                       \n",
       "1   Lenovo IdeaPad 3 11th Gen Intel Core i5 14\" FHD Thin & Light Laptop (16GB/512 GB SSD/Windows 11/Office 2021/Backlit/Fingerprint Reader/2 Yr Warranty/Arctic Grey/1.41Kg), 82H7016KIN                              \n",
       "2   Lenovo IdeaPad 3 11th Gen Intel Core i5 14\" FHD Thin & Light Laptop (16GB/512 GB SSD/Windows 11/Office 2021/Backlit/Fingerprint Reader/2 Yr Warranty/Arctic Grey/1.41Kg), 82H7016KIN                              \n",
       "3   Mi Notebook Ultra 3.2K resolution display Intel Core i5-11300H 11th Gen 15.6-inch(39.62 cm) Thin and Light laptop (16GB/512GB SSD/Iris Xe Graphics/Win 10/MS Office/Backlit KB/Fingerprint sensor/1.7Kg)          \n",
       "4   MSI Modern 14, Intel i5-10210U, 14\" FHD IPS-Level 60Hz Panel Laptop (8GB/512GB NVMe SSD/Windows 10 Home/Intel UHD Graphics/Carbon Grey/1.3Kg), B10MW-639IN                                                        \n",
       "5   Lenovo IdeaPad Slim 5 11th Gen Intel Core i5 15.6\"(39.62cm) FHD IPS Thin & Light Laptop (16GB/512GB SSD/Windows 11/MS Office 2021/Backlit Keyboard/Fingerprint Reader/Graphite Grey/1.66Kg), 82FG01H9IN           \n",
       "6   Mi Notebook Pro QHD+ IPS Anti Glare Display Intel Core i5-11300H 11th Gen 14-inch(35.56 cms) Thin and Light Laptop (16GB/512GB SSD/Iris Xe Graphics/Win 10/Backlit KB/Fingerprint Sensor/1.4 Kg)                  \n",
       "7   ASUS VivoBook 15 (2021) Intel Core i5-1035G1 10th Gen, 15.6\"(39.62cms) FHD Thin and Light Laptop (8GB RAM/512GB + 32GB Optane Memory/Windows 11/Office 2021/Silver/1.8 Kg), X515JA-EJ562WS                        \n",
       "8   Lenovo ThinkBook 15 Intel 11th Gen Core i5 15.6\" (39.62 cm) FHD IPS 300 nits Antiglare 100% sRGB Thin and Light Laptop (8GB/512GB SSD/Windows 10/MS Office/Mineral Grey/1.7 Kg), 20VEA0HGIH                       \n",
       "9   Dell New 14 i5-11320H, 16GB, 512Gb SSD, Win 11 + MS Office'21, Integrated Graphics, 14\" (35.56 cms) FHD Display, Platinum Silver Color, FPR + Backlit KB (Inspiron 5418, D560633WIN9S)                            \n",
       "10  ASUS TUF Gaming F15 (2021), 15.6-inch (39.62 cms) FHD 144Hz, Intel Core i9-11900H 11th Gen, RTX 3060 6GB Graphics Gaming Laptop (16GB RAM/1TB SSD/Office 2019/Windows 10/Gray/2.3 kg), FX566HM-HN097TS            \n",
       "11  ASUS TUF Gaming F15 (2021), 15.6-inch (39.62 cms) FHD 240Hz/3ms, Intel Core i9-11900H 11th Gen, RTX 3060 6GB Graphics Gaming Laptop (16GB/1TB SSD/Office 2019/Windows 10/Black/2.3 kg), FX506HM-AZ099TS           \n",
       "12  ASUS TUF Gaming F15 (2021), 15.6\" (39.62 cms) FHD 240Hz, Intel Core i9-11900H 11th Gen, GeForce RTX 3060 6GB Graphics, Gaming Laptop(16GB/1TB SSD/Office 2019/Windows 10/Gray/2.3 Kg), FX566HM-AZ096TS            \n",
       "13  (Renewed) Dell G7 7500 15.6inch FHD 300 Hz Display Gaming Laptop (10th Gen i9-10885H / 16 GB / 1TB SSD / NVIDIA RTX 2070 8GB Graphics / 1Yr Premium Warranty / Win 10 + MS Office H&S 2019) D560233WIN9B, Black   \n",
       "14  (Renewed) DELL XPS 7590 15.6-inch UHD Display Laptop (9th Gen Core i9-9980HK/32GB/1TB SSD/Win 10 + MS Office/4GB Nvidia Graphics), Abyss Grey                                                                     \n",
       "15  HP ZBOOK Power G8/ Intel core i9-11900H 8 Core/32GB DDR4 3200 RAM/1TB PCIe NVMe TLC SSD /15.6” FHD /Nvidia Quadro T1200 Dedicated Graphics 4GB DDR6 /Windows 10 Pro / 3 Year Warranty                             \n",
       "16  Dell Precision 5550 || i9 -10885H || 16GB || 1TB NVMe || T2000 4 GB || Win 10 Pro (Free Upgrade Win 11Pro) / 15.6 FHD+ / 3 Year ADP                                                                               \n",
       "17  HP Zbook - Intel i9, 15 inch(39.6 cm)FHD 400 Nits Display, Thin & Light , Anti-Glare(32GB RAM/1TB M.2 SSD/Nvidia RTX A2000 4GB Graphics/Win10 Pro/IR Camera/ HP Zbook Power G8 Mobile Workstation                 \n",
       "18  Z2 G5 Workstation 700W /Core i9-10900 (2.8GHz 10C) /16GB RAM/512GB SSD+1TB SATA/Nvidia RTX 3070 8GB Graphics/DVDRW/Windows 10 Pro/3 Year Warranty                                                                 \n",
       "19  HP ZBook Power G8/ Intel Core i9-11950H 2.5GHz 8 Core/64GB DDR4/ 2TB PCIe NVMe SSD /15.6” FHD/Nvidia Quadro RTX A2000 Graphics 4GB DDR6/ 1RJ45/ Windows 10 Pro/ 3 Year Warranty from HP                           \n",
       "\n",
       "   Laptop-Ratings Laptop-Prices  \n",
       "0   194            64,100        \n",
       "1   194            60,990        \n",
       "2   798            60,990        \n",
       "3   7              64,990        \n",
       "4   164            47,990        \n",
       "5   893            64,965        \n",
       "6   12             60,990        \n",
       "7   26             50,990        \n",
       "8   21             59,990        \n",
       "9   25             65,990        \n",
       "10  7              1,39,990      \n",
       "11  8              1,43,990      \n",
       "12  7              1,44,990      \n",
       "13  NaN            2,25,000      \n",
       "14  NaN            1,75,000      \n",
       "15  NaN            2,43,000      \n",
       "16  NaN            2,25,000      \n",
       "17  1              2,54,563      \n",
       "18  NaN            2,39,000      \n",
       "19  NaN            2,93,000      "
      ]
     },
     "execution_count": 290,
     "metadata": {},
     "output_type": "execute_result"
    }
   ],
   "source": [
    "pd.set_option(\"display.max_colwidth\", -1)\n",
    "\n",
    "Amazon"
   ]
  },
  {
   "cell_type": "code",
   "execution_count": null,
   "id": "d2f56073",
   "metadata": {},
   "outputs": [],
   "source": []
  },
  {
   "cell_type": "code",
   "execution_count": 291,
   "id": "ab7533dc",
   "metadata": {},
   "outputs": [],
   "source": [
    "# (9) Write a python program to scrape data for first 10 job results for Data Scientist Designation in Noida location. You have to scrape company name, No. of days ago when job was posted, Rating of the company.\n",
    "# This task will be done in following steps:\n",
    "# 1. First get the webpage https://www.ambitionbox.com/\n",
    "# 2. Click on the Job option as shown in the image\n",
    "# 3. After reaching to the next webpage, In place of “Search by Designations, Companies, Skills” enter “Data Scientist” and click on search button\n",
    "# 4. You will reach to the following web page click on location and in place of “Search location” enter “Noida” and select location “Noida”.\n",
    "# 5. Then scrape the data for the first 10 jobs results you get on the above shown page.\n",
    "# 6. Finally create a dataframe of the scraped data."
   ]
  },
  {
   "cell_type": "code",
   "execution_count": 292,
   "id": "c741be49",
   "metadata": {},
   "outputs": [],
   "source": [
    "import selenium\n",
    "from selenium import webdriver\n",
    "import pandas as pd\n",
    "import warnings\n",
    "warnings.filterwarnings(\"ignore\")\n"
   ]
  },
  {
   "cell_type": "code",
   "execution_count": 293,
   "id": "c38ca8ee",
   "metadata": {},
   "outputs": [],
   "source": [
    "driver9 = webdriver.Chrome(r'C:\\Users\\Rick\\OneDrive\\Desktop\\Softwares\\chromedriver.exe')"
   ]
  },
  {
   "cell_type": "code",
   "execution_count": 294,
   "id": "8df0c1d1",
   "metadata": {},
   "outputs": [],
   "source": [
    "url9 = 'https://www.ambitionbox.com/'"
   ]
  },
  {
   "cell_type": "code",
   "execution_count": 295,
   "id": "91e9e99e",
   "metadata": {},
   "outputs": [],
   "source": [
    "driver9.get(url9)"
   ]
  },
  {
   "cell_type": "code",
   "execution_count": 296,
   "id": "2b3dd5fc",
   "metadata": {},
   "outputs": [],
   "source": [
    "# To automate chromedriver to Job Option using Absolute xpath for Searching Jobs\n",
    "\n",
    "JobOption = driver9.find_element_by_xpath(\"/html/body/div[1]/nav/nav/a[6]\")\n",
    "JobOption.click()"
   ]
  },
  {
   "cell_type": "code",
   "execution_count": 297,
   "id": "6d63ee95",
   "metadata": {},
   "outputs": [
    {
     "data": {
      "text/plain": [
       "<selenium.webdriver.remote.webelement.WebElement (session=\"e6b89c15fb51874bc9c754e65bfbaa1b\", element=\"eb06ee89-beee-4e8c-92c9-9d1ab2850666\")>"
      ]
     },
     "execution_count": 297,
     "metadata": {},
     "output_type": "execute_result"
    }
   ],
   "source": [
    "# To automate chromedriver to Search Designation using Absolute xpath for Searching Jobs\n",
    "\n",
    "SearchOption = driver9.find_element_by_xpath('//input[@class=\"input tt-input\"]')\n",
    "SearchOption"
   ]
  },
  {
   "cell_type": "code",
   "execution_count": 298,
   "id": "0f7d0597",
   "metadata": {},
   "outputs": [],
   "source": [
    "# To automate chromedriver to select Jobtitle as Data Scientist\n",
    "\n",
    "SearchOption.send_keys(\"Data Scientist\")\n",
    "SearchOption.click()"
   ]
  },
  {
   "cell_type": "code",
   "execution_count": 299,
   "id": "6d8e18fc",
   "metadata": {},
   "outputs": [],
   "source": [
    "# To locate the submit key for automation\n",
    "\n",
    "SubmitButton = driver9.find_element_by_class_name(\"ctas-btn-medium\")\n",
    "SubmitButton.click()"
   ]
  },
  {
   "cell_type": "code",
   "execution_count": 300,
   "id": "a3cf3e69",
   "metadata": {},
   "outputs": [],
   "source": [
    "# To automate chromedriver to Search Location using Absolute_path for Searching Location\n",
    "\n",
    "SearchLocation = driver9.find_element_by_xpath(\"/html/body/div/div/div/div[2]/div[2]/div[1]/div/div/div/div[2]/div[1]/i\")\n",
    "SearchLocation.click()"
   ]
  },
  {
   "cell_type": "code",
   "execution_count": 301,
   "id": "c0a528ae",
   "metadata": {},
   "outputs": [],
   "source": [
    "# To automate chromedriver to Search Location on Location Bar using Absolute xpath for Searching Jobs\n",
    "\n",
    "SearchNoida = driver9.find_element_by_xpath('/html/body/div/div/div/div[2]/div[2]/div[1]/div/div/div/div[2]/div[2]/div/div[3]/div[1]/div[1]/div/input')\n",
    "SearchNoida.click()"
   ]
  },
  {
   "cell_type": "markdown",
   "id": "8a3a3b1f",
   "metadata": {},
   "source": [
    "# Extracting Company Name "
   ]
  },
  {
   "cell_type": "code",
   "execution_count": 302,
   "id": "1a9c40a3",
   "metadata": {},
   "outputs": [],
   "source": [
    "# To automate chromedriver to scrape data of job-location\n",
    "\n",
    "NoidaCompany = driver9.find_elements_by_xpath('//p[@class=\"company body-medium\"]')\n"
   ]
  },
  {
   "cell_type": "code",
   "execution_count": 303,
   "id": "c6685cb7",
   "metadata": {},
   "outputs": [],
   "source": [
    "NoidaCompanyName = []\n",
    "\n",
    "for i in NoidaCompany:\n",
    "    NoidaCompanyName.append(i.text.replace('\\n', ''))"
   ]
  },
  {
   "cell_type": "code",
   "execution_count": 304,
   "id": "3d7a3790",
   "metadata": {},
   "outputs": [
    {
     "data": {
      "text/plain": [
       "10"
      ]
     },
     "execution_count": 304,
     "metadata": {},
     "output_type": "execute_result"
    }
   ],
   "source": [
    "len(NoidaCompanyName)"
   ]
  },
  {
   "cell_type": "markdown",
   "id": "4a128526",
   "metadata": {},
   "source": [
    "# Extracting Job Post Data"
   ]
  },
  {
   "cell_type": "code",
   "execution_count": 305,
   "id": "3e3f6b5f",
   "metadata": {},
   "outputs": [],
   "source": [
    "# To automate chromedriver to scrape data of job-location\n",
    "\n",
    "Post = driver9.find_elements_by_xpath('//span[@class=\"body-small-l\"]')"
   ]
  },
  {
   "cell_type": "code",
   "execution_count": 306,
   "id": "37a95766",
   "metadata": {},
   "outputs": [],
   "source": [
    "PostDate = []\n",
    "\n",
    "for i in Post:\n",
    "    PostDate.append(i.text)"
   ]
  },
  {
   "cell_type": "code",
   "execution_count": 307,
   "id": "3ae80fac",
   "metadata": {},
   "outputs": [
    {
     "data": {
      "text/plain": [
       "'via naukri.com'"
      ]
     },
     "execution_count": 307,
     "metadata": {},
     "output_type": "execute_result"
    }
   ],
   "source": [
    "PostDate.pop(1)\n",
    "PostDate.pop(2)\n",
    "PostDate.pop(3)\n",
    "PostDate.pop(4)\n",
    "PostDate.pop(5)\n",
    "PostDate.pop(6)\n",
    "PostDate.pop(7)\n",
    "PostDate.pop(8)\n",
    "PostDate.pop(9)\n",
    "PostDate.pop(10)"
   ]
  },
  {
   "cell_type": "markdown",
   "id": "d0dfa06b",
   "metadata": {},
   "source": [
    "# Extracting Company Ratings"
   ]
  },
  {
   "cell_type": "code",
   "execution_count": 308,
   "id": "2f62e0fd",
   "metadata": {},
   "outputs": [],
   "source": [
    "# To automate chromedriver to scrape data of Company ratins\n",
    "\n",
    "NoidaRatings = driver9.find_elements_by_xpath('//span[@class=\"body-small\"]')"
   ]
  },
  {
   "cell_type": "code",
   "execution_count": 309,
   "id": "1732d3a3",
   "metadata": {},
   "outputs": [],
   "source": [
    "NoidaCompanyRatings = []\n",
    "\n",
    "for i in NoidaRatings:\n",
    "    NoidaCompanyRatings.append(i.text)"
   ]
  },
  {
   "cell_type": "code",
   "execution_count": 310,
   "id": "8714539a",
   "metadata": {},
   "outputs": [
    {
     "data": {
      "text/plain": [
       "10"
      ]
     },
     "execution_count": 310,
     "metadata": {},
     "output_type": "execute_result"
    }
   ],
   "source": [
    "len(NoidaCompanyRatings)"
   ]
  },
  {
   "cell_type": "code",
   "execution_count": 311,
   "id": "bdf63a07",
   "metadata": {},
   "outputs": [],
   "source": [
    "NoidaAmbitionBox=pd.DataFrame({})\n",
    "NoidaAmbitionBox['Companies In Noida']=NoidaCompanyName\n",
    "NoidaAmbitionBox['Posted Date']=PostDate\n",
    "NoidaAmbitionBox['Companies Ratings In Noida']=NoidaCompanyRatings"
   ]
  },
  {
   "cell_type": "code",
   "execution_count": 312,
   "id": "526184c8",
   "metadata": {},
   "outputs": [
    {
     "data": {
      "text/html": [
       "<div>\n",
       "<style scoped>\n",
       "    .dataframe tbody tr th:only-of-type {\n",
       "        vertical-align: middle;\n",
       "    }\n",
       "\n",
       "    .dataframe tbody tr th {\n",
       "        vertical-align: top;\n",
       "    }\n",
       "\n",
       "    .dataframe thead th {\n",
       "        text-align: right;\n",
       "    }\n",
       "</style>\n",
       "<table border=\"1\" class=\"dataframe\">\n",
       "  <thead>\n",
       "    <tr style=\"text-align: right;\">\n",
       "      <th></th>\n",
       "      <th>Companies In Noida</th>\n",
       "      <th>Posted Date</th>\n",
       "      <th>Companies Ratings In Noida</th>\n",
       "    </tr>\n",
       "  </thead>\n",
       "  <tbody>\n",
       "    <tr>\n",
       "      <th>0</th>\n",
       "      <td>Walmart Labs</td>\n",
       "      <td>2d ago</td>\n",
       "      <td>4.1</td>\n",
       "    </tr>\n",
       "    <tr>\n",
       "      <th>1</th>\n",
       "      <td>IBM India Pvt. Limited</td>\n",
       "      <td>2d ago</td>\n",
       "      <td>4.1</td>\n",
       "    </tr>\n",
       "    <tr>\n",
       "      <th>2</th>\n",
       "      <td>IBM India Pvt. Limited</td>\n",
       "      <td>2d ago</td>\n",
       "      <td>4.1</td>\n",
       "    </tr>\n",
       "    <tr>\n",
       "      <th>3</th>\n",
       "      <td>JP Morgan Chase</td>\n",
       "      <td>21hr ago</td>\n",
       "      <td>4.1</td>\n",
       "    </tr>\n",
       "    <tr>\n",
       "      <th>4</th>\n",
       "      <td>IBM India Pvt. Limited</td>\n",
       "      <td>3d ago</td>\n",
       "      <td>4.1</td>\n",
       "    </tr>\n",
       "    <tr>\n",
       "      <th>5</th>\n",
       "      <td>IBM India Pvt. Limited</td>\n",
       "      <td>3d ago</td>\n",
       "      <td>4.1</td>\n",
       "    </tr>\n",
       "    <tr>\n",
       "      <th>6</th>\n",
       "      <td>Intel Technology India Pvt Ltd</td>\n",
       "      <td>5d ago</td>\n",
       "      <td>4.3</td>\n",
       "    </tr>\n",
       "    <tr>\n",
       "      <th>7</th>\n",
       "      <td>IBM India Pvt. Limited</td>\n",
       "      <td>4d ago</td>\n",
       "      <td>4.1</td>\n",
       "    </tr>\n",
       "    <tr>\n",
       "      <th>8</th>\n",
       "      <td>IBM India Pvt. Limited</td>\n",
       "      <td>4d ago</td>\n",
       "      <td>4.1</td>\n",
       "    </tr>\n",
       "    <tr>\n",
       "      <th>9</th>\n",
       "      <td>IBM India Pvt. Limited</td>\n",
       "      <td>4d ago</td>\n",
       "      <td>4.1</td>\n",
       "    </tr>\n",
       "  </tbody>\n",
       "</table>\n",
       "</div>"
      ],
      "text/plain": [
       "               Companies In Noida Posted Date Companies Ratings In Noida\n",
       "0  Walmart Labs                    2d ago      4.1                      \n",
       "1  IBM India Pvt. Limited          2d ago      4.1                      \n",
       "2  IBM India Pvt. Limited          2d ago      4.1                      \n",
       "3  JP Morgan Chase                 21hr ago    4.1                      \n",
       "4  IBM India Pvt. Limited          3d ago      4.1                      \n",
       "5  IBM India Pvt. Limited          3d ago      4.1                      \n",
       "6  Intel Technology India Pvt Ltd  5d ago      4.3                      \n",
       "7  IBM India Pvt. Limited          4d ago      4.1                      \n",
       "8  IBM India Pvt. Limited          4d ago      4.1                      \n",
       "9  IBM India Pvt. Limited          4d ago      4.1                      "
      ]
     },
     "execution_count": 312,
     "metadata": {},
     "output_type": "execute_result"
    }
   ],
   "source": [
    "NoidaAmbitionBox"
   ]
  },
  {
   "cell_type": "code",
   "execution_count": null,
   "id": "49cbcb8b",
   "metadata": {},
   "outputs": [],
   "source": []
  },
  {
   "cell_type": "code",
   "execution_count": 313,
   "id": "6a677c03",
   "metadata": {},
   "outputs": [],
   "source": [
    "# (10) Write a python program to scrape the salary data for Data Scientist designation.\n",
    "# You have to scrape Company name, Number of salaries, Average salary, Minsalary, Max Salary.\n",
    "# The above task will be, done as shown in the below steps:\n",
    "# 1. First get the webpage https://www.ambitionbox.com/\n",
    "# 2. Click on the salaries option as shown in the image.\n",
    "# 3. After reaching to the following webpage, In place of “Search Job Profile” enters “Data Scientist” and then click on “Data Scientist”\n",
    "# You have to scrape the data ticked in the above image.\n",
    "# 4. Scrape the data for the first 10 companies. Scrape the company name, total salary record, average salary, minimum salary, maximum salary, experience required.\n",
    "# 5. Store the data in a dataframe.\n"
   ]
  },
  {
   "cell_type": "code",
   "execution_count": 314,
   "id": "ec84132f",
   "metadata": {},
   "outputs": [],
   "source": [
    "import selenium\n",
    "from selenium import webdriver\n",
    "import pandas as pd\n",
    "import warnings\n",
    "warnings.filterwarnings(\"ignore\")"
   ]
  },
  {
   "cell_type": "code",
   "execution_count": 315,
   "id": "20f0f488",
   "metadata": {},
   "outputs": [],
   "source": [
    "driver10 = webdriver.Chrome(r'C:\\Users\\Rick\\OneDrive\\Desktop\\Softwares\\chromedriver.exe')"
   ]
  },
  {
   "cell_type": "code",
   "execution_count": 316,
   "id": "a9045325",
   "metadata": {},
   "outputs": [],
   "source": [
    "url10 = 'https://www.ambitionbox.com/'"
   ]
  },
  {
   "cell_type": "code",
   "execution_count": 317,
   "id": "fad1ce55",
   "metadata": {},
   "outputs": [],
   "source": [
    "driver10.get(url10)"
   ]
  },
  {
   "cell_type": "code",
   "execution_count": 318,
   "id": "1fa20a38",
   "metadata": {},
   "outputs": [],
   "source": [
    "# To automate chromedriver to Salary Option using Absolute xpath for Searching Salaries\n",
    "\n",
    "SalariesOption = driver10.find_element_by_xpath(\"/html/body/div[1]/nav/nav/a[4]\")\n",
    "SalariesOption.click()"
   ]
  },
  {
   "cell_type": "code",
   "execution_count": 319,
   "id": "2fbf0f5f",
   "metadata": {},
   "outputs": [
    {
     "data": {
      "text/plain": [
       "<selenium.webdriver.remote.webelement.WebElement (session=\"cbad231253f9263c6cb29a343c1b1bc3\", element=\"25efdb3b-6be1-452a-a4ac-ca252db84b2e\")>"
      ]
     },
     "execution_count": 319,
     "metadata": {},
     "output_type": "execute_result"
    }
   ],
   "source": [
    "# To automate chromedriver to Search salaries using Absolute xpath for Searching salaries\n",
    "\n",
    "SearchOption2 = driver10.find_element_by_xpath('//input[@class=\"component-input tt-input\"]')\n",
    "SearchOption2"
   ]
  },
  {
   "cell_type": "code",
   "execution_count": 320,
   "id": "a5dc2fdf",
   "metadata": {},
   "outputs": [],
   "source": [
    "# To automate chromedriver to select Jobtitle as Data Scientist\n",
    "\n",
    "SearchOption2.send_keys(\"Data Scientist\")\n",
    "SearchOption2.click()"
   ]
  },
  {
   "cell_type": "code",
   "execution_count": 321,
   "id": "18a9b257",
   "metadata": {},
   "outputs": [],
   "source": [
    "# To locate the submit key for automation\n",
    "\n",
    "SubmitButton2 = driver10.find_element_by_class_name(\"ctas-btn-medium\")\n",
    "SubmitButton2.click()"
   ]
  },
  {
   "cell_type": "code",
   "execution_count": 322,
   "id": "65817bcc",
   "metadata": {},
   "outputs": [],
   "source": [
    "# To automate chromedriver to select Data Scienctist salaries in India\n",
    "\n",
    "IndianSalariesLink = driver10.find_element_by_xpath('/html/body/section[1]/div/section/div/div/div/div/div/div/div[5]/div[2]/div/div/div[1]/div[1]/div[1]/div[1]/div/a')\n",
    "II = IndianSalariesLink.get_property('href')"
   ]
  },
  {
   "cell_type": "code",
   "execution_count": 323,
   "id": "dd9cc285",
   "metadata": {},
   "outputs": [],
   "source": [
    "driver10.get(II)"
   ]
  },
  {
   "cell_type": "markdown",
   "id": "dcb65154",
   "metadata": {},
   "source": [
    "# Extracting Companies-No of Salaries"
   ]
  },
  {
   "cell_type": "code",
   "execution_count": 324,
   "id": "028b174e",
   "metadata": {},
   "outputs": [],
   "source": [
    "SalariesOption = driver10.find_elements_by_class_name(\"name\")"
   ]
  },
  {
   "cell_type": "code",
   "execution_count": 325,
   "id": "5bb41327",
   "metadata": {},
   "outputs": [],
   "source": [
    "R = []\n",
    "\n",
    "for i in SalariesOption:\n",
    "    R.append(i.text.replace('\\n', ' '))"
   ]
  },
  {
   "cell_type": "code",
   "execution_count": 326,
   "id": "51453c0f",
   "metadata": {},
   "outputs": [
    {
     "data": {
      "text/plain": [
       "'Data Scientist'"
      ]
     },
     "execution_count": 326,
     "metadata": {},
     "output_type": "execute_result"
    }
   ],
   "source": [
    "R.pop(0)"
   ]
  },
  {
   "cell_type": "markdown",
   "id": "bc644bcf",
   "metadata": {},
   "source": [
    "# Extracting Average Salaries"
   ]
  },
  {
   "cell_type": "code",
   "execution_count": 327,
   "id": "0f81a450",
   "metadata": {},
   "outputs": [],
   "source": [
    "SalariesAverage = driver10.find_elements_by_class_name('averageCtc')"
   ]
  },
  {
   "cell_type": "code",
   "execution_count": 328,
   "id": "6e406043",
   "metadata": {},
   "outputs": [],
   "source": [
    "S = []\n",
    "\n",
    "for i in SalariesAverage:\n",
    "    S.append(i.text)"
   ]
  },
  {
   "cell_type": "code",
   "execution_count": 329,
   "id": "56d38d4c",
   "metadata": {},
   "outputs": [
    {
     "name": "stdout",
     "output_type": "stream",
     "text": [
      "Average Salaries\n"
     ]
    }
   ],
   "source": [
    "S.pop(1)\n",
    "S.pop(1)\n",
    "S.pop(1)\n",
    "S.pop(1)\n",
    "S.pop(1)\n",
    "S.pop(1)\n",
    "S.pop(1)\n",
    "S.pop(1)\n",
    "S.pop(0)\n",
    "print(\"Average Salaries\")"
   ]
  },
  {
   "cell_type": "code",
   "execution_count": 330,
   "id": "24ba5f65",
   "metadata": {},
   "outputs": [
    {
     "data": {
      "text/plain": [
       "10"
      ]
     },
     "execution_count": 330,
     "metadata": {},
     "output_type": "execute_result"
    }
   ],
   "source": [
    "len(S)"
   ]
  },
  {
   "cell_type": "markdown",
   "id": "bf49b4fc",
   "metadata": {},
   "source": [
    "# Extracting Min-Max Salaries"
   ]
  },
  {
   "cell_type": "code",
   "execution_count": 331,
   "id": "5784892e",
   "metadata": {},
   "outputs": [],
   "source": [
    "SalariesMin = driver10.find_elements_by_class_name('salary-values')"
   ]
  },
  {
   "cell_type": "code",
   "execution_count": 332,
   "id": "16432185",
   "metadata": {},
   "outputs": [],
   "source": [
    "SM = []\n",
    "\n",
    "for i in SalariesMin:\n",
    "    SM.append(i.text.replace('\\n', '      '))"
   ]
  },
  {
   "cell_type": "code",
   "execution_count": 333,
   "id": "42e29b61",
   "metadata": {},
   "outputs": [
    {
     "name": "stdout",
     "output_type": "stream",
     "text": [
      "Min-Max Salaries\n"
     ]
    }
   ],
   "source": [
    "SM.pop(0)\n",
    "SM.pop(0)\n",
    "SM.pop(0)\n",
    "SM.pop(0)\n",
    "SM.pop(0)\n",
    "SM.pop(0)\n",
    "SM.pop(0)\n",
    "SM.pop(0)\n",
    "SM.pop(0)\n",
    "print(\"Min-Max Salaries\")"
   ]
  },
  {
   "cell_type": "code",
   "execution_count": 334,
   "id": "2b3fe45c",
   "metadata": {},
   "outputs": [
    {
     "data": {
      "text/plain": [
       "10"
      ]
     },
     "execution_count": 334,
     "metadata": {},
     "output_type": "execute_result"
    }
   ],
   "source": [
    "len(SM)"
   ]
  },
  {
   "cell_type": "code",
   "execution_count": 335,
   "id": "09f9c0c5",
   "metadata": {},
   "outputs": [],
   "source": [
    "AmbitionBoxSalaries=pd.DataFrame({})\n",
    "AmbitionBoxSalaries['Company Name']=R\n",
    "AmbitionBoxSalaries['Average Salary']=S\n",
    "AmbitionBoxSalaries['Min-Max Salary']=SM"
   ]
  },
  {
   "cell_type": "code",
   "execution_count": 336,
   "id": "65ceb0f8",
   "metadata": {},
   "outputs": [
    {
     "data": {
      "text/html": [
       "<div>\n",
       "<style scoped>\n",
       "    .dataframe tbody tr th:only-of-type {\n",
       "        vertical-align: middle;\n",
       "    }\n",
       "\n",
       "    .dataframe tbody tr th {\n",
       "        vertical-align: top;\n",
       "    }\n",
       "\n",
       "    .dataframe thead th {\n",
       "        text-align: right;\n",
       "    }\n",
       "</style>\n",
       "<table border=\"1\" class=\"dataframe\">\n",
       "  <thead>\n",
       "    <tr style=\"text-align: right;\">\n",
       "      <th></th>\n",
       "      <th>Company Name</th>\n",
       "      <th>Average Salary</th>\n",
       "      <th>Min-Max Salary</th>\n",
       "    </tr>\n",
       "  </thead>\n",
       "  <tbody>\n",
       "    <tr>\n",
       "      <th>0</th>\n",
       "      <td>TCS (704 Salaries)</td>\n",
       "      <td>₹ 7.5L</td>\n",
       "      <td>₹ 4.5L      ₹ 15.0L</td>\n",
       "    </tr>\n",
       "    <tr>\n",
       "      <th>1</th>\n",
       "      <td>Accenture (423 Salaries)</td>\n",
       "      <td>₹ 12.2L</td>\n",
       "      <td>₹ 5.5L      ₹ 23.0L</td>\n",
       "    </tr>\n",
       "    <tr>\n",
       "      <th>2</th>\n",
       "      <td>IBM (342 Salaries)</td>\n",
       "      <td>₹ 12.8L</td>\n",
       "      <td>₹ 5.1L      ₹ 25.0L</td>\n",
       "    </tr>\n",
       "    <tr>\n",
       "      <th>3</th>\n",
       "      <td>Cognizant (267 Salaries)</td>\n",
       "      <td>₹ 9.4L</td>\n",
       "      <td>₹ 5.0L      ₹ 17.0L</td>\n",
       "    </tr>\n",
       "    <tr>\n",
       "      <th>4</th>\n",
       "      <td>Capgemini (252 Salaries)</td>\n",
       "      <td>₹ 8.4L</td>\n",
       "      <td>₹ 4.6L      ₹ 14.5L</td>\n",
       "    </tr>\n",
       "    <tr>\n",
       "      <th>5</th>\n",
       "      <td>Tech Mahindra (201 Salaries)</td>\n",
       "      <td>₹ 7.8L</td>\n",
       "      <td>₹ 4.1L      ₹ 16.4L</td>\n",
       "    </tr>\n",
       "    <tr>\n",
       "      <th>6</th>\n",
       "      <td>Infosys (191 Salaries)</td>\n",
       "      <td>₹ 8.8L</td>\n",
       "      <td>₹ 4.5L      ₹ 21.0L</td>\n",
       "    </tr>\n",
       "    <tr>\n",
       "      <th>7</th>\n",
       "      <td>Wipro (191 Salaries)</td>\n",
       "      <td>₹ 9.5L</td>\n",
       "      <td>₹ 4.4L      ₹ 18.2L</td>\n",
       "    </tr>\n",
       "    <tr>\n",
       "      <th>8</th>\n",
       "      <td>Fractal Analytics (134 Salaries)</td>\n",
       "      <td>₹ 15.4L</td>\n",
       "      <td>₹ 9.5L      ₹ 22.4L</td>\n",
       "    </tr>\n",
       "    <tr>\n",
       "      <th>9</th>\n",
       "      <td>Deloitte (132 Salaries)</td>\n",
       "      <td>₹ 13.0L</td>\n",
       "      <td>₹ 7.0L      ₹ 24.0L</td>\n",
       "    </tr>\n",
       "  </tbody>\n",
       "</table>\n",
       "</div>"
      ],
      "text/plain": [
       "                       Company Name Average Salary       Min-Max Salary\n",
       "0  TCS (704 Salaries)                ₹ 7.5L         ₹ 4.5L      ₹ 15.0L\n",
       "1  Accenture (423 Salaries)          ₹ 12.2L        ₹ 5.5L      ₹ 23.0L\n",
       "2  IBM (342 Salaries)                ₹ 12.8L        ₹ 5.1L      ₹ 25.0L\n",
       "3  Cognizant (267 Salaries)          ₹ 9.4L         ₹ 5.0L      ₹ 17.0L\n",
       "4  Capgemini (252 Salaries)          ₹ 8.4L         ₹ 4.6L      ₹ 14.5L\n",
       "5  Tech Mahindra (201 Salaries)      ₹ 7.8L         ₹ 4.1L      ₹ 16.4L\n",
       "6  Infosys (191 Salaries)            ₹ 8.8L         ₹ 4.5L      ₹ 21.0L\n",
       "7  Wipro (191 Salaries)              ₹ 9.5L         ₹ 4.4L      ₹ 18.2L\n",
       "8  Fractal Analytics (134 Salaries)  ₹ 15.4L        ₹ 9.5L      ₹ 22.4L\n",
       "9  Deloitte (132 Salaries)           ₹ 13.0L        ₹ 7.0L      ₹ 24.0L"
      ]
     },
     "execution_count": 336,
     "metadata": {},
     "output_type": "execute_result"
    }
   ],
   "source": [
    "AmbitionBoxSalaries"
   ]
  },
  {
   "cell_type": "code",
   "execution_count": null,
   "id": "e876d242",
   "metadata": {},
   "outputs": [],
   "source": []
  },
  {
   "cell_type": "code",
   "execution_count": null,
   "id": "1aa8678e",
   "metadata": {},
   "outputs": [],
   "source": []
  }
 ],
 "metadata": {
  "kernelspec": {
   "display_name": "Python 3",
   "language": "python",
   "name": "python3"
  },
  "language_info": {
   "codemirror_mode": {
    "name": "ipython",
    "version": 3
   },
   "file_extension": ".py",
   "mimetype": "text/x-python",
   "name": "python",
   "nbconvert_exporter": "python",
   "pygments_lexer": "ipython3",
   "version": "3.8.8"
  }
 },
 "nbformat": 4,
 "nbformat_minor": 5
}
