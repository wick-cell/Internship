{
 "cells": [
  {
   "cell_type": "markdown",
   "id": "9847797c",
   "metadata": {},
   "source": [
    "# Rainfall Weather Forecasting is a classification Model"
   ]
  },
  {
   "cell_type": "code",
   "execution_count": 1,
   "id": "3823eafc",
   "metadata": {},
   "outputs": [
    {
     "name": "stdout",
     "output_type": "stream",
     "text": [
      "*******************************************************************************************************************************\n",
      "                                                      Rainfall Weather Forecasting                                                                 \n",
      "*******************************************************************************************************************************\n"
     ]
    }
   ],
   "source": [
    "print(('*'*127))\n",
    "print(\"                                                      Rainfall Weather Forecasting                                                                 \")\n",
    "print(('*'*127))"
   ]
  },
  {
   "cell_type": "code",
   "execution_count": 2,
   "id": "cc2fde5c",
   "metadata": {},
   "outputs": [
    {
     "data": {
      "text/html": [
       "<div>\n",
       "<style scoped>\n",
       "    .dataframe tbody tr th:only-of-type {\n",
       "        vertical-align: middle;\n",
       "    }\n",
       "\n",
       "    .dataframe tbody tr th {\n",
       "        vertical-align: top;\n",
       "    }\n",
       "\n",
       "    .dataframe thead th {\n",
       "        text-align: right;\n",
       "    }\n",
       "</style>\n",
       "<table border=\"1\" class=\"dataframe\">\n",
       "  <thead>\n",
       "    <tr style=\"text-align: right;\">\n",
       "      <th></th>\n",
       "      <th>Date</th>\n",
       "      <th>Location</th>\n",
       "      <th>MinTemp</th>\n",
       "      <th>MaxTemp</th>\n",
       "      <th>Rainfall</th>\n",
       "      <th>Evaporation</th>\n",
       "      <th>Sunshine</th>\n",
       "      <th>WindGustDir</th>\n",
       "      <th>WindGustSpeed</th>\n",
       "      <th>WindDir9am</th>\n",
       "      <th>WindDir3pm</th>\n",
       "      <th>WindSpeed9am</th>\n",
       "      <th>WindSpeed3pm</th>\n",
       "      <th>Humidity9am</th>\n",
       "      <th>Humidity3pm</th>\n",
       "      <th>Pressure9am</th>\n",
       "      <th>Pressure3pm</th>\n",
       "      <th>Cloud9am</th>\n",
       "      <th>Cloud3pm</th>\n",
       "      <th>Temp9am</th>\n",
       "      <th>Temp3pm</th>\n",
       "      <th>RainToday</th>\n",
       "      <th>RainTomorrow</th>\n",
       "    </tr>\n",
       "  </thead>\n",
       "  <tbody>\n",
       "    <tr>\n",
       "      <th>0</th>\n",
       "      <td>2008-12-01</td>\n",
       "      <td>Albury</td>\n",
       "      <td>13.4</td>\n",
       "      <td>22.9</td>\n",
       "      <td>0.6</td>\n",
       "      <td>NaN</td>\n",
       "      <td>NaN</td>\n",
       "      <td>W</td>\n",
       "      <td>44.0</td>\n",
       "      <td>W</td>\n",
       "      <td>WNW</td>\n",
       "      <td>20.0</td>\n",
       "      <td>24.0</td>\n",
       "      <td>71.0</td>\n",
       "      <td>22.0</td>\n",
       "      <td>1007.7</td>\n",
       "      <td>1007.1</td>\n",
       "      <td>8.0</td>\n",
       "      <td>NaN</td>\n",
       "      <td>16.9</td>\n",
       "      <td>21.8</td>\n",
       "      <td>No</td>\n",
       "      <td>No</td>\n",
       "    </tr>\n",
       "    <tr>\n",
       "      <th>1</th>\n",
       "      <td>2008-12-02</td>\n",
       "      <td>Albury</td>\n",
       "      <td>7.4</td>\n",
       "      <td>25.1</td>\n",
       "      <td>0.0</td>\n",
       "      <td>NaN</td>\n",
       "      <td>NaN</td>\n",
       "      <td>WNW</td>\n",
       "      <td>44.0</td>\n",
       "      <td>NNW</td>\n",
       "      <td>WSW</td>\n",
       "      <td>4.0</td>\n",
       "      <td>22.0</td>\n",
       "      <td>44.0</td>\n",
       "      <td>25.0</td>\n",
       "      <td>1010.6</td>\n",
       "      <td>1007.8</td>\n",
       "      <td>NaN</td>\n",
       "      <td>NaN</td>\n",
       "      <td>17.2</td>\n",
       "      <td>24.3</td>\n",
       "      <td>No</td>\n",
       "      <td>No</td>\n",
       "    </tr>\n",
       "    <tr>\n",
       "      <th>2</th>\n",
       "      <td>2008-12-03</td>\n",
       "      <td>Albury</td>\n",
       "      <td>12.9</td>\n",
       "      <td>25.7</td>\n",
       "      <td>0.0</td>\n",
       "      <td>NaN</td>\n",
       "      <td>NaN</td>\n",
       "      <td>WSW</td>\n",
       "      <td>46.0</td>\n",
       "      <td>W</td>\n",
       "      <td>WSW</td>\n",
       "      <td>19.0</td>\n",
       "      <td>26.0</td>\n",
       "      <td>38.0</td>\n",
       "      <td>30.0</td>\n",
       "      <td>1007.6</td>\n",
       "      <td>1008.7</td>\n",
       "      <td>NaN</td>\n",
       "      <td>2.0</td>\n",
       "      <td>21.0</td>\n",
       "      <td>23.2</td>\n",
       "      <td>No</td>\n",
       "      <td>No</td>\n",
       "    </tr>\n",
       "    <tr>\n",
       "      <th>3</th>\n",
       "      <td>2008-12-04</td>\n",
       "      <td>Albury</td>\n",
       "      <td>9.2</td>\n",
       "      <td>28.0</td>\n",
       "      <td>0.0</td>\n",
       "      <td>NaN</td>\n",
       "      <td>NaN</td>\n",
       "      <td>NE</td>\n",
       "      <td>24.0</td>\n",
       "      <td>SE</td>\n",
       "      <td>E</td>\n",
       "      <td>11.0</td>\n",
       "      <td>9.0</td>\n",
       "      <td>45.0</td>\n",
       "      <td>16.0</td>\n",
       "      <td>1017.6</td>\n",
       "      <td>1012.8</td>\n",
       "      <td>NaN</td>\n",
       "      <td>NaN</td>\n",
       "      <td>18.1</td>\n",
       "      <td>26.5</td>\n",
       "      <td>No</td>\n",
       "      <td>No</td>\n",
       "    </tr>\n",
       "    <tr>\n",
       "      <th>4</th>\n",
       "      <td>2008-12-05</td>\n",
       "      <td>Albury</td>\n",
       "      <td>17.5</td>\n",
       "      <td>32.3</td>\n",
       "      <td>1.0</td>\n",
       "      <td>NaN</td>\n",
       "      <td>NaN</td>\n",
       "      <td>W</td>\n",
       "      <td>41.0</td>\n",
       "      <td>ENE</td>\n",
       "      <td>NW</td>\n",
       "      <td>7.0</td>\n",
       "      <td>20.0</td>\n",
       "      <td>82.0</td>\n",
       "      <td>33.0</td>\n",
       "      <td>1010.8</td>\n",
       "      <td>1006.0</td>\n",
       "      <td>7.0</td>\n",
       "      <td>8.0</td>\n",
       "      <td>17.8</td>\n",
       "      <td>29.7</td>\n",
       "      <td>No</td>\n",
       "      <td>No</td>\n",
       "    </tr>\n",
       "    <tr>\n",
       "      <th>...</th>\n",
       "      <td>...</td>\n",
       "      <td>...</td>\n",
       "      <td>...</td>\n",
       "      <td>...</td>\n",
       "      <td>...</td>\n",
       "      <td>...</td>\n",
       "      <td>...</td>\n",
       "      <td>...</td>\n",
       "      <td>...</td>\n",
       "      <td>...</td>\n",
       "      <td>...</td>\n",
       "      <td>...</td>\n",
       "      <td>...</td>\n",
       "      <td>...</td>\n",
       "      <td>...</td>\n",
       "      <td>...</td>\n",
       "      <td>...</td>\n",
       "      <td>...</td>\n",
       "      <td>...</td>\n",
       "      <td>...</td>\n",
       "      <td>...</td>\n",
       "      <td>...</td>\n",
       "      <td>...</td>\n",
       "    </tr>\n",
       "    <tr>\n",
       "      <th>8420</th>\n",
       "      <td>2017-06-21</td>\n",
       "      <td>Uluru</td>\n",
       "      <td>2.8</td>\n",
       "      <td>23.4</td>\n",
       "      <td>0.0</td>\n",
       "      <td>NaN</td>\n",
       "      <td>NaN</td>\n",
       "      <td>E</td>\n",
       "      <td>31.0</td>\n",
       "      <td>SE</td>\n",
       "      <td>ENE</td>\n",
       "      <td>13.0</td>\n",
       "      <td>11.0</td>\n",
       "      <td>51.0</td>\n",
       "      <td>24.0</td>\n",
       "      <td>1024.6</td>\n",
       "      <td>1020.3</td>\n",
       "      <td>NaN</td>\n",
       "      <td>NaN</td>\n",
       "      <td>10.1</td>\n",
       "      <td>22.4</td>\n",
       "      <td>No</td>\n",
       "      <td>No</td>\n",
       "    </tr>\n",
       "    <tr>\n",
       "      <th>8421</th>\n",
       "      <td>2017-06-22</td>\n",
       "      <td>Uluru</td>\n",
       "      <td>3.6</td>\n",
       "      <td>25.3</td>\n",
       "      <td>0.0</td>\n",
       "      <td>NaN</td>\n",
       "      <td>NaN</td>\n",
       "      <td>NNW</td>\n",
       "      <td>22.0</td>\n",
       "      <td>SE</td>\n",
       "      <td>N</td>\n",
       "      <td>13.0</td>\n",
       "      <td>9.0</td>\n",
       "      <td>56.0</td>\n",
       "      <td>21.0</td>\n",
       "      <td>1023.5</td>\n",
       "      <td>1019.1</td>\n",
       "      <td>NaN</td>\n",
       "      <td>NaN</td>\n",
       "      <td>10.9</td>\n",
       "      <td>24.5</td>\n",
       "      <td>No</td>\n",
       "      <td>No</td>\n",
       "    </tr>\n",
       "    <tr>\n",
       "      <th>8422</th>\n",
       "      <td>2017-06-23</td>\n",
       "      <td>Uluru</td>\n",
       "      <td>5.4</td>\n",
       "      <td>26.9</td>\n",
       "      <td>0.0</td>\n",
       "      <td>NaN</td>\n",
       "      <td>NaN</td>\n",
       "      <td>N</td>\n",
       "      <td>37.0</td>\n",
       "      <td>SE</td>\n",
       "      <td>WNW</td>\n",
       "      <td>9.0</td>\n",
       "      <td>9.0</td>\n",
       "      <td>53.0</td>\n",
       "      <td>24.0</td>\n",
       "      <td>1021.0</td>\n",
       "      <td>1016.8</td>\n",
       "      <td>NaN</td>\n",
       "      <td>NaN</td>\n",
       "      <td>12.5</td>\n",
       "      <td>26.1</td>\n",
       "      <td>No</td>\n",
       "      <td>No</td>\n",
       "    </tr>\n",
       "    <tr>\n",
       "      <th>8423</th>\n",
       "      <td>2017-06-24</td>\n",
       "      <td>Uluru</td>\n",
       "      <td>7.8</td>\n",
       "      <td>27.0</td>\n",
       "      <td>0.0</td>\n",
       "      <td>NaN</td>\n",
       "      <td>NaN</td>\n",
       "      <td>SE</td>\n",
       "      <td>28.0</td>\n",
       "      <td>SSE</td>\n",
       "      <td>N</td>\n",
       "      <td>13.0</td>\n",
       "      <td>7.0</td>\n",
       "      <td>51.0</td>\n",
       "      <td>24.0</td>\n",
       "      <td>1019.4</td>\n",
       "      <td>1016.5</td>\n",
       "      <td>3.0</td>\n",
       "      <td>2.0</td>\n",
       "      <td>15.1</td>\n",
       "      <td>26.0</td>\n",
       "      <td>No</td>\n",
       "      <td>No</td>\n",
       "    </tr>\n",
       "    <tr>\n",
       "      <th>8424</th>\n",
       "      <td>2017-06-25</td>\n",
       "      <td>Uluru</td>\n",
       "      <td>14.9</td>\n",
       "      <td>NaN</td>\n",
       "      <td>0.0</td>\n",
       "      <td>NaN</td>\n",
       "      <td>NaN</td>\n",
       "      <td>NaN</td>\n",
       "      <td>NaN</td>\n",
       "      <td>ESE</td>\n",
       "      <td>ESE</td>\n",
       "      <td>17.0</td>\n",
       "      <td>17.0</td>\n",
       "      <td>62.0</td>\n",
       "      <td>36.0</td>\n",
       "      <td>1020.2</td>\n",
       "      <td>1017.9</td>\n",
       "      <td>8.0</td>\n",
       "      <td>8.0</td>\n",
       "      <td>15.0</td>\n",
       "      <td>20.9</td>\n",
       "      <td>No</td>\n",
       "      <td>NaN</td>\n",
       "    </tr>\n",
       "  </tbody>\n",
       "</table>\n",
       "<p>8425 rows × 23 columns</p>\n",
       "</div>"
      ],
      "text/plain": [
       "            Date Location  MinTemp  MaxTemp  Rainfall  Evaporation  Sunshine  \\\n",
       "0     2008-12-01   Albury     13.4     22.9       0.6          NaN       NaN   \n",
       "1     2008-12-02   Albury      7.4     25.1       0.0          NaN       NaN   \n",
       "2     2008-12-03   Albury     12.9     25.7       0.0          NaN       NaN   \n",
       "3     2008-12-04   Albury      9.2     28.0       0.0          NaN       NaN   \n",
       "4     2008-12-05   Albury     17.5     32.3       1.0          NaN       NaN   \n",
       "...          ...      ...      ...      ...       ...          ...       ...   \n",
       "8420  2017-06-21    Uluru      2.8     23.4       0.0          NaN       NaN   \n",
       "8421  2017-06-22    Uluru      3.6     25.3       0.0          NaN       NaN   \n",
       "8422  2017-06-23    Uluru      5.4     26.9       0.0          NaN       NaN   \n",
       "8423  2017-06-24    Uluru      7.8     27.0       0.0          NaN       NaN   \n",
       "8424  2017-06-25    Uluru     14.9      NaN       0.0          NaN       NaN   \n",
       "\n",
       "     WindGustDir  WindGustSpeed WindDir9am WindDir3pm  WindSpeed9am  \\\n",
       "0              W           44.0          W        WNW          20.0   \n",
       "1            WNW           44.0        NNW        WSW           4.0   \n",
       "2            WSW           46.0          W        WSW          19.0   \n",
       "3             NE           24.0         SE          E          11.0   \n",
       "4              W           41.0        ENE         NW           7.0   \n",
       "...          ...            ...        ...        ...           ...   \n",
       "8420           E           31.0         SE        ENE          13.0   \n",
       "8421         NNW           22.0         SE          N          13.0   \n",
       "8422           N           37.0         SE        WNW           9.0   \n",
       "8423          SE           28.0        SSE          N          13.0   \n",
       "8424         NaN            NaN        ESE        ESE          17.0   \n",
       "\n",
       "      WindSpeed3pm  Humidity9am  Humidity3pm  Pressure9am  Pressure3pm  \\\n",
       "0             24.0         71.0         22.0       1007.7       1007.1   \n",
       "1             22.0         44.0         25.0       1010.6       1007.8   \n",
       "2             26.0         38.0         30.0       1007.6       1008.7   \n",
       "3              9.0         45.0         16.0       1017.6       1012.8   \n",
       "4             20.0         82.0         33.0       1010.8       1006.0   \n",
       "...            ...          ...          ...          ...          ...   \n",
       "8420          11.0         51.0         24.0       1024.6       1020.3   \n",
       "8421           9.0         56.0         21.0       1023.5       1019.1   \n",
       "8422           9.0         53.0         24.0       1021.0       1016.8   \n",
       "8423           7.0         51.0         24.0       1019.4       1016.5   \n",
       "8424          17.0         62.0         36.0       1020.2       1017.9   \n",
       "\n",
       "      Cloud9am  Cloud3pm  Temp9am  Temp3pm RainToday RainTomorrow  \n",
       "0          8.0       NaN     16.9     21.8        No           No  \n",
       "1          NaN       NaN     17.2     24.3        No           No  \n",
       "2          NaN       2.0     21.0     23.2        No           No  \n",
       "3          NaN       NaN     18.1     26.5        No           No  \n",
       "4          7.0       8.0     17.8     29.7        No           No  \n",
       "...        ...       ...      ...      ...       ...          ...  \n",
       "8420       NaN       NaN     10.1     22.4        No           No  \n",
       "8421       NaN       NaN     10.9     24.5        No           No  \n",
       "8422       NaN       NaN     12.5     26.1        No           No  \n",
       "8423       3.0       2.0     15.1     26.0        No           No  \n",
       "8424       8.0       8.0     15.0     20.9        No          NaN  \n",
       "\n",
       "[8425 rows x 23 columns]"
      ]
     },
     "execution_count": 2,
     "metadata": {},
     "output_type": "execute_result"
    }
   ],
   "source": [
    "import pandas as pd\n",
    "import numpy as np\n",
    "import seaborn as sn\n",
    "\n",
    "\n",
    "from matplotlib import pyplot as plt\n",
    "import warnings\n",
    "warnings.filterwarnings('ignore')\n",
    "\n",
    "df=pd.read_csv(\"https://raw.githubusercontent.com/dsrscientist/dataset3/main/weatherAUS.csv\")\n",
    "\n",
    "pd.set_option('display.max_rows', 80)\n",
    "pd.set_option('display.max_columns', 24)\n",
    "\n",
    "\n",
    "df"
   ]
  },
  {
   "cell_type": "code",
   "execution_count": 3,
   "id": "bef78500",
   "metadata": {},
   "outputs": [
    {
     "data": {
      "text/plain": [
       "(8425, 23)"
      ]
     },
     "execution_count": 3,
     "metadata": {},
     "output_type": "execute_result"
    }
   ],
   "source": [
    "df.shape"
   ]
  },
  {
   "cell_type": "markdown",
   "id": "14ed12f8",
   "metadata": {},
   "source": [
    "* Here we that there is 8425 Rows and 23 Columns for this Dataset"
   ]
  },
  {
   "cell_type": "code",
   "execution_count": 4,
   "id": "f3962ba0",
   "metadata": {},
   "outputs": [
    {
     "data": {
      "text/plain": [
       "Date              object\n",
       "Location          object\n",
       "MinTemp          float64\n",
       "MaxTemp          float64\n",
       "Rainfall         float64\n",
       "Evaporation      float64\n",
       "Sunshine         float64\n",
       "WindGustDir       object\n",
       "WindGustSpeed    float64\n",
       "WindDir9am        object\n",
       "WindDir3pm        object\n",
       "WindSpeed9am     float64\n",
       "WindSpeed3pm     float64\n",
       "Humidity9am      float64\n",
       "Humidity3pm      float64\n",
       "Pressure9am      float64\n",
       "Pressure3pm      float64\n",
       "Cloud9am         float64\n",
       "Cloud3pm         float64\n",
       "Temp9am          float64\n",
       "Temp3pm          float64\n",
       "RainToday         object\n",
       "RainTomorrow      object\n",
       "dtype: object"
      ]
     },
     "execution_count": 4,
     "metadata": {},
     "output_type": "execute_result"
    }
   ],
   "source": [
    "df.dtypes"
   ]
  },
  {
   "cell_type": "markdown",
   "id": "7daa7aab",
   "metadata": {},
   "source": [
    "* Here we observe that majority of the Columns are of float-type and RainTomorrow is our Target variable"
   ]
  },
  {
   "cell_type": "code",
   "execution_count": 5,
   "id": "bac11568",
   "metadata": {},
   "outputs": [
    {
     "data": {
      "text/plain": [
       "Date                0\n",
       "Location            0\n",
       "MinTemp            75\n",
       "MaxTemp            60\n",
       "Rainfall          240\n",
       "Evaporation      3512\n",
       "Sunshine         3994\n",
       "WindGustDir       991\n",
       "WindGustSpeed     991\n",
       "WindDir9am        829\n",
       "WindDir3pm        308\n",
       "WindSpeed9am       76\n",
       "WindSpeed3pm      107\n",
       "Humidity9am        59\n",
       "Humidity3pm       102\n",
       "Pressure9am      1309\n",
       "Pressure3pm      1312\n",
       "Cloud9am         2421\n",
       "Cloud3pm         2455\n",
       "Temp9am            56\n",
       "Temp3pm            96\n",
       "RainToday         240\n",
       "RainTomorrow      239\n",
       "dtype: int64"
      ]
     },
     "execution_count": 5,
     "metadata": {},
     "output_type": "execute_result"
    }
   ],
   "source": [
    "df.isnull().sum()"
   ]
  },
  {
   "cell_type": "markdown",
   "id": "fed8ef4b",
   "metadata": {},
   "source": [
    "* Since here we find many missing values missing value treatment is required"
   ]
  },
  {
   "cell_type": "code",
   "execution_count": null,
   "id": "c9ca6a15",
   "metadata": {},
   "outputs": [],
   "source": []
  },
  {
   "cell_type": "code",
   "execution_count": null,
   "id": "ec308df0",
   "metadata": {},
   "outputs": [],
   "source": []
  },
  {
   "cell_type": "code",
   "execution_count": null,
   "id": "bf9daf63",
   "metadata": {},
   "outputs": [],
   "source": []
  },
  {
   "cell_type": "code",
   "execution_count": null,
   "id": "f2cbaa06",
   "metadata": {},
   "outputs": [],
   "source": []
  },
  {
   "cell_type": "code",
   "execution_count": null,
   "id": "ac8e475c",
   "metadata": {},
   "outputs": [],
   "source": []
  },
  {
   "cell_type": "code",
   "execution_count": 6,
   "id": "92d01859",
   "metadata": {},
   "outputs": [
    {
     "data": {
      "text/plain": [
       "Melbourne       1622\n",
       "Williamtown     1230\n",
       "PerthAirport    1204\n",
       "Albury           907\n",
       "Newcastle        822\n",
       "CoffsHarbour     611\n",
       "Brisbane         579\n",
       "Penrith          482\n",
       "Wollongong       474\n",
       "Darwin           250\n",
       "Adelaide         205\n",
       "Uluru             39\n",
       "Name: Location, dtype: int64"
      ]
     },
     "execution_count": 6,
     "metadata": {},
     "output_type": "execute_result"
    }
   ],
   "source": [
    "df['Location'].value_counts()"
   ]
  },
  {
   "cell_type": "code",
   "execution_count": 7,
   "id": "54339898",
   "metadata": {},
   "outputs": [
    {
     "data": {
      "text/plain": [
       "N      713\n",
       "SSE    578\n",
       "S      577\n",
       "SW     572\n",
       "E      557\n",
       "WNW    531\n",
       "W      507\n",
       "WSW    504\n",
       "SE     484\n",
       "ENE    415\n",
       "SSW    396\n",
       "NW     383\n",
       "NE     353\n",
       "NNE    343\n",
       "ESE    302\n",
       "NNW    219\n",
       "Name: WindGustDir, dtype: int64"
      ]
     },
     "execution_count": 7,
     "metadata": {},
     "output_type": "execute_result"
    }
   ],
   "source": [
    "df['WindGustDir'].value_counts()"
   ]
  },
  {
   "cell_type": "code",
   "execution_count": 8,
   "id": "be8afe14",
   "metadata": {},
   "outputs": [
    {
     "data": {
      "text/plain": [
       "N      906\n",
       "SW     704\n",
       "NW     625\n",
       "WSW    543\n",
       "SE     505\n",
       "WNW    480\n",
       "SSW    467\n",
       "ENE    433\n",
       "NNE    430\n",
       "W      414\n",
       "NE     409\n",
       "S      402\n",
       "E      380\n",
       "SSE    365\n",
       "NNW    280\n",
       "ESE    253\n",
       "Name: WindDir9am, dtype: int64"
      ]
     },
     "execution_count": 8,
     "metadata": {},
     "output_type": "execute_result"
    }
   ],
   "source": [
    "df['WindDir9am'].value_counts()"
   ]
  },
  {
   "cell_type": "code",
   "execution_count": 9,
   "id": "5e180503",
   "metadata": {},
   "outputs": [
    {
     "data": {
      "text/plain": [
       "SE     813\n",
       "S      742\n",
       "SSE    623\n",
       "WSW    580\n",
       "NE     544\n",
       "N      524\n",
       "SW     494\n",
       "WNW    487\n",
       "NW     468\n",
       "W      462\n",
       "ESE    462\n",
       "E      460\n",
       "ENE    417\n",
       "SSW    370\n",
       "NNE    365\n",
       "NNW    306\n",
       "Name: WindDir3pm, dtype: int64"
      ]
     },
     "execution_count": 9,
     "metadata": {},
     "output_type": "execute_result"
    }
   ],
   "source": [
    "df['WindDir3pm'].value_counts()"
   ]
  },
  {
   "cell_type": "code",
   "execution_count": 10,
   "id": "18241d7a",
   "metadata": {},
   "outputs": [
    {
     "data": {
      "text/plain": [
       "No     6195\n",
       "Yes    1990\n",
       "Name: RainToday, dtype: int64"
      ]
     },
     "execution_count": 10,
     "metadata": {},
     "output_type": "execute_result"
    }
   ],
   "source": [
    "df['RainToday'].value_counts()"
   ]
  },
  {
   "cell_type": "code",
   "execution_count": 11,
   "id": "8e84e625",
   "metadata": {},
   "outputs": [
    {
     "data": {
      "text/plain": [
       "No     6195\n",
       "Yes    1991\n",
       "Name: RainTomorrow, dtype: int64"
      ]
     },
     "execution_count": 11,
     "metadata": {},
     "output_type": "execute_result"
    }
   ],
   "source": [
    "df['RainTomorrow'].value_counts()"
   ]
  },
  {
   "cell_type": "code",
   "execution_count": null,
   "id": "a8bf787f",
   "metadata": {},
   "outputs": [],
   "source": []
  },
  {
   "cell_type": "code",
   "execution_count": null,
   "id": "a308215a",
   "metadata": {},
   "outputs": [],
   "source": []
  },
  {
   "cell_type": "code",
   "execution_count": null,
   "id": "3aa56a69",
   "metadata": {},
   "outputs": [],
   "source": []
  },
  {
   "cell_type": "code",
   "execution_count": null,
   "id": "27a0f58c",
   "metadata": {},
   "outputs": [],
   "source": []
  },
  {
   "cell_type": "code",
   "execution_count": null,
   "id": "f05bd25c",
   "metadata": {},
   "outputs": [],
   "source": []
  },
  {
   "cell_type": "code",
   "execution_count": null,
   "id": "9687a8f2",
   "metadata": {},
   "outputs": [],
   "source": []
  },
  {
   "cell_type": "markdown",
   "id": "bcc09437",
   "metadata": {},
   "source": [
    "# Data Cleaning"
   ]
  },
  {
   "cell_type": "markdown",
   "id": "e9d70f87",
   "metadata": {},
   "source": [
    "# Label Encoding"
   ]
  },
  {
   "cell_type": "code",
   "execution_count": 12,
   "id": "2ad2ea6e",
   "metadata": {},
   "outputs": [],
   "source": [
    "from sklearn.preprocessing import LabelEncoder\n",
    "\n",
    "lb=LabelEncoder()\n",
    "\n",
    "\n",
    "df[\"RainTomorrow\"] = lb.fit_transform(df[\"RainTomorrow\"])"
   ]
  },
  {
   "cell_type": "code",
   "execution_count": 13,
   "id": "320241b8",
   "metadata": {},
   "outputs": [],
   "source": [
    "from sklearn.preprocessing import OrdinalEncoder\n",
    "\n",
    "oe=OrdinalEncoder()\n",
    "\n",
    "for i in df.columns:\n",
    "    if df[i].dtypes==\"object\":\n",
    "        df[i]=oe.fit_transform(df[i].values.reshape(-1,1))"
   ]
  },
  {
   "cell_type": "markdown",
   "id": "56a5c3da",
   "metadata": {},
   "source": [
    "# Missing Value Treatment"
   ]
  },
  {
   "cell_type": "code",
   "execution_count": 14,
   "id": "acdc7d2f",
   "metadata": {},
   "outputs": [],
   "source": [
    "df['RainTomorrow']=df['RainTomorrow'].fillna(np.mean(df['RainTomorrow'])) \n",
    "df['RainToday']=df['RainToday'].fillna(np.mean(df['RainToday'])) \n",
    "df['Temp3pm']=df['Temp3pm'].fillna(np.mean(df['Temp3pm'])) \n",
    "df['Temp9am']=df['Temp9am'].fillna(np.mean(df['Temp9am']))\n",
    "df['Cloud3pm']=df['Cloud3pm'].fillna(np.mean(df['Cloud3pm']))\n",
    "df['Cloud9am']=df['Cloud9am'].fillna(np.mean(df['Cloud9am']))\n",
    "df['Pressure3pm']=df['Pressure3pm'].fillna(np.mean(df['Pressure3pm']))\n",
    "df['Pressure9am']=df['Pressure9am'].fillna(np.mean(df['Pressure9am']))\n",
    "df['Humidity3pm']=df['Humidity3pm'].fillna(np.mean(df['Humidity3pm']))\n",
    "df['Humidity9am']=df['Humidity9am'].fillna(np.mean(df['Humidity9am']))\n",
    "df['WindSpeed3pm']=df['WindSpeed3pm'].fillna(np.mean(df['WindSpeed3pm']))\n",
    "df['WindSpeed9am']=df['WindSpeed9am'].fillna(np.mean(df['WindSpeed9am']))\n",
    "df['WindDir3pm']=df['WindDir3pm'].fillna(np.mean(df['WindDir3pm']))\n",
    "df['WindDir9am']=df['WindDir9am'].fillna(np.mean(df['WindDir9am']))\n",
    "df['WindGustSpeed']=df['WindGustSpeed'].fillna(np.mean(df['WindGustSpeed']))\n",
    "df['WindGustDir']=df['WindGustDir'].fillna(np.mean(df['WindGustDir']))\n",
    "df['Sunshine']=df['Sunshine'].fillna(np.mean(df['Sunshine']))\n",
    "df['Evaporation']=df['Evaporation'].fillna(np.mean(df['Evaporation']))\n",
    "df['Rainfall']=df['Rainfall'].fillna(np.mean(df['Rainfall']))\n",
    "df['MaxTemp']=df['MaxTemp'].fillna(np.mean(df['MaxTemp']))\n",
    "df['MinTemp']=df['MinTemp'].fillna(np.mean(df['MinTemp']))"
   ]
  },
  {
   "cell_type": "markdown",
   "id": "e8abd9da",
   "metadata": {},
   "source": [
    "# Checking VIF ( Variance Inflation Factor )"
   ]
  },
  {
   "cell_type": "code",
   "execution_count": 15,
   "id": "4d9580e0",
   "metadata": {},
   "outputs": [
    {
     "data": {
      "text/html": [
       "<div>\n",
       "<style scoped>\n",
       "    .dataframe tbody tr th:only-of-type {\n",
       "        vertical-align: middle;\n",
       "    }\n",
       "\n",
       "    .dataframe tbody tr th {\n",
       "        vertical-align: top;\n",
       "    }\n",
       "\n",
       "    .dataframe thead th {\n",
       "        text-align: right;\n",
       "    }\n",
       "</style>\n",
       "<table border=\"1\" class=\"dataframe\">\n",
       "  <thead>\n",
       "    <tr style=\"text-align: right;\">\n",
       "      <th></th>\n",
       "      <th>Date</th>\n",
       "      <th>Location</th>\n",
       "      <th>MinTemp</th>\n",
       "      <th>MaxTemp</th>\n",
       "      <th>Rainfall</th>\n",
       "      <th>Evaporation</th>\n",
       "      <th>Sunshine</th>\n",
       "      <th>WindGustDir</th>\n",
       "      <th>WindGustSpeed</th>\n",
       "      <th>WindDir9am</th>\n",
       "      <th>WindDir3pm</th>\n",
       "      <th>WindSpeed9am</th>\n",
       "      <th>WindSpeed3pm</th>\n",
       "      <th>Humidity9am</th>\n",
       "      <th>Humidity3pm</th>\n",
       "      <th>Pressure9am</th>\n",
       "      <th>Pressure3pm</th>\n",
       "      <th>Cloud9am</th>\n",
       "      <th>Cloud3pm</th>\n",
       "      <th>Temp9am</th>\n",
       "      <th>Temp3pm</th>\n",
       "      <th>RainToday</th>\n",
       "    </tr>\n",
       "  </thead>\n",
       "  <tbody>\n",
       "    <tr>\n",
       "      <th>0</th>\n",
       "      <td>0.0</td>\n",
       "      <td>1.0</td>\n",
       "      <td>13.4</td>\n",
       "      <td>22.9</td>\n",
       "      <td>0.6</td>\n",
       "      <td>5.389395</td>\n",
       "      <td>7.632205</td>\n",
       "      <td>13.0</td>\n",
       "      <td>44.0</td>\n",
       "      <td>13.0</td>\n",
       "      <td>14.0</td>\n",
       "      <td>20.0</td>\n",
       "      <td>24.0</td>\n",
       "      <td>71.0</td>\n",
       "      <td>22.0</td>\n",
       "      <td>1007.7</td>\n",
       "      <td>1007.1</td>\n",
       "      <td>8.000000</td>\n",
       "      <td>4.503183</td>\n",
       "      <td>16.9</td>\n",
       "      <td>21.8</td>\n",
       "      <td>0.0</td>\n",
       "    </tr>\n",
       "    <tr>\n",
       "      <th>1</th>\n",
       "      <td>1.0</td>\n",
       "      <td>1.0</td>\n",
       "      <td>7.4</td>\n",
       "      <td>25.1</td>\n",
       "      <td>0.0</td>\n",
       "      <td>5.389395</td>\n",
       "      <td>7.632205</td>\n",
       "      <td>14.0</td>\n",
       "      <td>44.0</td>\n",
       "      <td>6.0</td>\n",
       "      <td>15.0</td>\n",
       "      <td>4.0</td>\n",
       "      <td>22.0</td>\n",
       "      <td>44.0</td>\n",
       "      <td>25.0</td>\n",
       "      <td>1010.6</td>\n",
       "      <td>1007.8</td>\n",
       "      <td>4.566622</td>\n",
       "      <td>4.503183</td>\n",
       "      <td>17.2</td>\n",
       "      <td>24.3</td>\n",
       "      <td>0.0</td>\n",
       "    </tr>\n",
       "    <tr>\n",
       "      <th>2</th>\n",
       "      <td>2.0</td>\n",
       "      <td>1.0</td>\n",
       "      <td>12.9</td>\n",
       "      <td>25.7</td>\n",
       "      <td>0.0</td>\n",
       "      <td>5.389395</td>\n",
       "      <td>7.632205</td>\n",
       "      <td>15.0</td>\n",
       "      <td>46.0</td>\n",
       "      <td>13.0</td>\n",
       "      <td>15.0</td>\n",
       "      <td>19.0</td>\n",
       "      <td>26.0</td>\n",
       "      <td>38.0</td>\n",
       "      <td>30.0</td>\n",
       "      <td>1007.6</td>\n",
       "      <td>1008.7</td>\n",
       "      <td>4.566622</td>\n",
       "      <td>2.000000</td>\n",
       "      <td>21.0</td>\n",
       "      <td>23.2</td>\n",
       "      <td>0.0</td>\n",
       "    </tr>\n",
       "    <tr>\n",
       "      <th>3</th>\n",
       "      <td>3.0</td>\n",
       "      <td>1.0</td>\n",
       "      <td>9.2</td>\n",
       "      <td>28.0</td>\n",
       "      <td>0.0</td>\n",
       "      <td>5.389395</td>\n",
       "      <td>7.632205</td>\n",
       "      <td>4.0</td>\n",
       "      <td>24.0</td>\n",
       "      <td>9.0</td>\n",
       "      <td>0.0</td>\n",
       "      <td>11.0</td>\n",
       "      <td>9.0</td>\n",
       "      <td>45.0</td>\n",
       "      <td>16.0</td>\n",
       "      <td>1017.6</td>\n",
       "      <td>1012.8</td>\n",
       "      <td>4.566622</td>\n",
       "      <td>4.503183</td>\n",
       "      <td>18.1</td>\n",
       "      <td>26.5</td>\n",
       "      <td>0.0</td>\n",
       "    </tr>\n",
       "    <tr>\n",
       "      <th>4</th>\n",
       "      <td>4.0</td>\n",
       "      <td>1.0</td>\n",
       "      <td>17.5</td>\n",
       "      <td>32.3</td>\n",
       "      <td>1.0</td>\n",
       "      <td>5.389395</td>\n",
       "      <td>7.632205</td>\n",
       "      <td>13.0</td>\n",
       "      <td>41.0</td>\n",
       "      <td>1.0</td>\n",
       "      <td>7.0</td>\n",
       "      <td>7.0</td>\n",
       "      <td>20.0</td>\n",
       "      <td>82.0</td>\n",
       "      <td>33.0</td>\n",
       "      <td>1010.8</td>\n",
       "      <td>1006.0</td>\n",
       "      <td>7.000000</td>\n",
       "      <td>8.000000</td>\n",
       "      <td>17.8</td>\n",
       "      <td>29.7</td>\n",
       "      <td>0.0</td>\n",
       "    </tr>\n",
       "  </tbody>\n",
       "</table>\n",
       "</div>"
      ],
      "text/plain": [
       "   Date  Location  MinTemp  MaxTemp  Rainfall  Evaporation  Sunshine  \\\n",
       "0   0.0       1.0     13.4     22.9       0.6     5.389395  7.632205   \n",
       "1   1.0       1.0      7.4     25.1       0.0     5.389395  7.632205   \n",
       "2   2.0       1.0     12.9     25.7       0.0     5.389395  7.632205   \n",
       "3   3.0       1.0      9.2     28.0       0.0     5.389395  7.632205   \n",
       "4   4.0       1.0     17.5     32.3       1.0     5.389395  7.632205   \n",
       "\n",
       "   WindGustDir  WindGustSpeed  WindDir9am  WindDir3pm  WindSpeed9am  \\\n",
       "0         13.0           44.0        13.0        14.0          20.0   \n",
       "1         14.0           44.0         6.0        15.0           4.0   \n",
       "2         15.0           46.0        13.0        15.0          19.0   \n",
       "3          4.0           24.0         9.0         0.0          11.0   \n",
       "4         13.0           41.0         1.0         7.0           7.0   \n",
       "\n",
       "   WindSpeed3pm  Humidity9am  Humidity3pm  Pressure9am  Pressure3pm  Cloud9am  \\\n",
       "0          24.0         71.0         22.0       1007.7       1007.1  8.000000   \n",
       "1          22.0         44.0         25.0       1010.6       1007.8  4.566622   \n",
       "2          26.0         38.0         30.0       1007.6       1008.7  4.566622   \n",
       "3           9.0         45.0         16.0       1017.6       1012.8  4.566622   \n",
       "4          20.0         82.0         33.0       1010.8       1006.0  7.000000   \n",
       "\n",
       "   Cloud3pm  Temp9am  Temp3pm  RainToday  \n",
       "0  4.503183     16.9     21.8        0.0  \n",
       "1  4.503183     17.2     24.3        0.0  \n",
       "2  2.000000     21.0     23.2        0.0  \n",
       "3  4.503183     18.1     26.5        0.0  \n",
       "4  8.000000     17.8     29.7        0.0  "
      ]
     },
     "execution_count": 15,
     "metadata": {},
     "output_type": "execute_result"
    }
   ],
   "source": [
    "from statsmodels.stats.outliers_influence import variance_inflation_factor\n",
    "\n",
    "def calculate_vif(df):\n",
    "    vif=pd.DataFrame()\n",
    "    vif[\"F\"] = df.columns\n",
    "    vif[\"VIF_Value\"] = [variance_inflation_factor(df.values, i)for i in range(df.shape[1])]\n",
    "    return(vif)\n",
    "\n",
    "F=df.iloc[:,:-1]\n",
    "F.head()"
   ]
  },
  {
   "cell_type": "code",
   "execution_count": 16,
   "id": "4d0ef467",
   "metadata": {},
   "outputs": [
    {
     "data": {
      "text/html": [
       "<div>\n",
       "<style scoped>\n",
       "    .dataframe tbody tr th:only-of-type {\n",
       "        vertical-align: middle;\n",
       "    }\n",
       "\n",
       "    .dataframe tbody tr th {\n",
       "        vertical-align: top;\n",
       "    }\n",
       "\n",
       "    .dataframe thead th {\n",
       "        text-align: right;\n",
       "    }\n",
       "</style>\n",
       "<table border=\"1\" class=\"dataframe\">\n",
       "  <thead>\n",
       "    <tr style=\"text-align: right;\">\n",
       "      <th></th>\n",
       "      <th>F</th>\n",
       "      <th>VIF_Value</th>\n",
       "    </tr>\n",
       "  </thead>\n",
       "  <tbody>\n",
       "    <tr>\n",
       "      <th>0</th>\n",
       "      <td>Date</td>\n",
       "      <td>4.865781</td>\n",
       "    </tr>\n",
       "    <tr>\n",
       "      <th>1</th>\n",
       "      <td>Location</td>\n",
       "      <td>6.645995</td>\n",
       "    </tr>\n",
       "    <tr>\n",
       "      <th>2</th>\n",
       "      <td>MinTemp</td>\n",
       "      <td>58.020192</td>\n",
       "    </tr>\n",
       "    <tr>\n",
       "      <th>3</th>\n",
       "      <td>MaxTemp</td>\n",
       "      <td>425.913732</td>\n",
       "    </tr>\n",
       "    <tr>\n",
       "      <th>4</th>\n",
       "      <td>Rainfall</td>\n",
       "      <td>1.411976</td>\n",
       "    </tr>\n",
       "    <tr>\n",
       "      <th>5</th>\n",
       "      <td>Evaporation</td>\n",
       "      <td>3.557625</td>\n",
       "    </tr>\n",
       "    <tr>\n",
       "      <th>6</th>\n",
       "      <td>Sunshine</td>\n",
       "      <td>15.181350</td>\n",
       "    </tr>\n",
       "    <tr>\n",
       "      <th>7</th>\n",
       "      <td>WindGustDir</td>\n",
       "      <td>6.672797</td>\n",
       "    </tr>\n",
       "    <tr>\n",
       "      <th>8</th>\n",
       "      <td>WindGustSpeed</td>\n",
       "      <td>20.529045</td>\n",
       "    </tr>\n",
       "    <tr>\n",
       "      <th>9</th>\n",
       "      <td>WindDir9am</td>\n",
       "      <td>5.584596</td>\n",
       "    </tr>\n",
       "    <tr>\n",
       "      <th>10</th>\n",
       "      <td>WindDir3pm</td>\n",
       "      <td>6.244429</td>\n",
       "    </tr>\n",
       "    <tr>\n",
       "      <th>11</th>\n",
       "      <td>WindSpeed9am</td>\n",
       "      <td>5.940234</td>\n",
       "    </tr>\n",
       "    <tr>\n",
       "      <th>12</th>\n",
       "      <td>WindSpeed3pm</td>\n",
       "      <td>9.058065</td>\n",
       "    </tr>\n",
       "    <tr>\n",
       "      <th>13</th>\n",
       "      <td>Humidity9am</td>\n",
       "      <td>69.367641</td>\n",
       "    </tr>\n",
       "    <tr>\n",
       "      <th>14</th>\n",
       "      <td>Humidity3pm</td>\n",
       "      <td>48.749835</td>\n",
       "    </tr>\n",
       "    <tr>\n",
       "      <th>15</th>\n",
       "      <td>Pressure9am</td>\n",
       "      <td>520373.476256</td>\n",
       "    </tr>\n",
       "    <tr>\n",
       "      <th>16</th>\n",
       "      <td>Pressure3pm</td>\n",
       "      <td>519719.805880</td>\n",
       "    </tr>\n",
       "    <tr>\n",
       "      <th>17</th>\n",
       "      <td>Cloud9am</td>\n",
       "      <td>8.687462</td>\n",
       "    </tr>\n",
       "    <tr>\n",
       "      <th>18</th>\n",
       "      <td>Cloud3pm</td>\n",
       "      <td>8.804039</td>\n",
       "    </tr>\n",
       "    <tr>\n",
       "      <th>19</th>\n",
       "      <td>Temp9am</td>\n",
       "      <td>189.505266</td>\n",
       "    </tr>\n",
       "    <tr>\n",
       "      <th>20</th>\n",
       "      <td>Temp3pm</td>\n",
       "      <td>500.968073</td>\n",
       "    </tr>\n",
       "    <tr>\n",
       "      <th>21</th>\n",
       "      <td>RainToday</td>\n",
       "      <td>2.111252</td>\n",
       "    </tr>\n",
       "  </tbody>\n",
       "</table>\n",
       "</div>"
      ],
      "text/plain": [
       "                F      VIF_Value\n",
       "0            Date       4.865781\n",
       "1        Location       6.645995\n",
       "2         MinTemp      58.020192\n",
       "3         MaxTemp     425.913732\n",
       "4        Rainfall       1.411976\n",
       "5     Evaporation       3.557625\n",
       "6        Sunshine      15.181350\n",
       "7     WindGustDir       6.672797\n",
       "8   WindGustSpeed      20.529045\n",
       "9      WindDir9am       5.584596\n",
       "10     WindDir3pm       6.244429\n",
       "11   WindSpeed9am       5.940234\n",
       "12   WindSpeed3pm       9.058065\n",
       "13    Humidity9am      69.367641\n",
       "14    Humidity3pm      48.749835\n",
       "15    Pressure9am  520373.476256\n",
       "16    Pressure3pm  519719.805880\n",
       "17       Cloud9am       8.687462\n",
       "18       Cloud3pm       8.804039\n",
       "19        Temp9am     189.505266\n",
       "20        Temp3pm     500.968073\n",
       "21      RainToday       2.111252"
      ]
     },
     "execution_count": 16,
     "metadata": {},
     "output_type": "execute_result"
    }
   ],
   "source": [
    "calculate_vif(F)"
   ]
  },
  {
   "cell_type": "markdown",
   "id": "092d79e4",
   "metadata": {},
   "source": [
    "* Here we observe that Pressure3pm, Pressure9am, MaxTemp, Temp3pm have High Correlation and Must be checked for Correlation"
   ]
  },
  {
   "cell_type": "code",
   "execution_count": 17,
   "id": "030f6f41",
   "metadata": {},
   "outputs": [
    {
     "data": {
      "text/html": [
       "<div>\n",
       "<style scoped>\n",
       "    .dataframe tbody tr th:only-of-type {\n",
       "        vertical-align: middle;\n",
       "    }\n",
       "\n",
       "    .dataframe tbody tr th {\n",
       "        vertical-align: top;\n",
       "    }\n",
       "\n",
       "    .dataframe thead th {\n",
       "        text-align: right;\n",
       "    }\n",
       "</style>\n",
       "<table border=\"1\" class=\"dataframe\">\n",
       "  <thead>\n",
       "    <tr style=\"text-align: right;\">\n",
       "      <th></th>\n",
       "      <th>Date</th>\n",
       "      <th>Location</th>\n",
       "      <th>MinTemp</th>\n",
       "      <th>MaxTemp</th>\n",
       "      <th>Rainfall</th>\n",
       "      <th>Evaporation</th>\n",
       "      <th>Sunshine</th>\n",
       "      <th>WindGustDir</th>\n",
       "      <th>WindGustSpeed</th>\n",
       "      <th>WindDir9am</th>\n",
       "      <th>WindDir3pm</th>\n",
       "      <th>WindSpeed9am</th>\n",
       "      <th>WindSpeed3pm</th>\n",
       "      <th>Humidity9am</th>\n",
       "      <th>Humidity3pm</th>\n",
       "      <th>Pressure9am</th>\n",
       "      <th>Pressure3pm</th>\n",
       "      <th>Cloud9am</th>\n",
       "      <th>Cloud3pm</th>\n",
       "      <th>Temp9am</th>\n",
       "      <th>Temp3pm</th>\n",
       "      <th>RainToday</th>\n",
       "      <th>RainTomorrow</th>\n",
       "    </tr>\n",
       "  </thead>\n",
       "  <tbody>\n",
       "    <tr>\n",
       "      <th>Date</th>\n",
       "      <td>1.000000</td>\n",
       "      <td>0.475037</td>\n",
       "      <td>0.016931</td>\n",
       "      <td>0.102409</td>\n",
       "      <td>0.004945</td>\n",
       "      <td>0.153853</td>\n",
       "      <td>0.065101</td>\n",
       "      <td>0.002610</td>\n",
       "      <td>-0.037361</td>\n",
       "      <td>0.024279</td>\n",
       "      <td>-0.009079</td>\n",
       "      <td>-0.083943</td>\n",
       "      <td>-0.046362</td>\n",
       "      <td>0.086328</td>\n",
       "      <td>-0.038345</td>\n",
       "      <td>0.030809</td>\n",
       "      <td>0.013545</td>\n",
       "      <td>0.005237</td>\n",
       "      <td>-0.010572</td>\n",
       "      <td>0.070703</td>\n",
       "      <td>0.113734</td>\n",
       "      <td>-0.006325</td>\n",
       "      <td>0.027384</td>\n",
       "    </tr>\n",
       "    <tr>\n",
       "      <th>Location</th>\n",
       "      <td>0.475037</td>\n",
       "      <td>1.000000</td>\n",
       "      <td>0.116531</td>\n",
       "      <td>0.064268</td>\n",
       "      <td>0.007693</td>\n",
       "      <td>0.143519</td>\n",
       "      <td>0.057817</td>\n",
       "      <td>-0.021180</td>\n",
       "      <td>0.231396</td>\n",
       "      <td>-0.050449</td>\n",
       "      <td>-0.028042</td>\n",
       "      <td>0.221378</td>\n",
       "      <td>0.231801</td>\n",
       "      <td>0.005662</td>\n",
       "      <td>0.055790</td>\n",
       "      <td>-0.032261</td>\n",
       "      <td>-0.020574</td>\n",
       "      <td>0.038019</td>\n",
       "      <td>0.017561</td>\n",
       "      <td>0.118051</td>\n",
       "      <td>0.060570</td>\n",
       "      <td>0.007068</td>\n",
       "      <td>0.028247</td>\n",
       "    </tr>\n",
       "    <tr>\n",
       "      <th>MinTemp</th>\n",
       "      <td>0.016931</td>\n",
       "      <td>0.116531</td>\n",
       "      <td>1.000000</td>\n",
       "      <td>0.717522</td>\n",
       "      <td>0.087684</td>\n",
       "      <td>0.254965</td>\n",
       "      <td>0.056184</td>\n",
       "      <td>-0.156861</td>\n",
       "      <td>0.230058</td>\n",
       "      <td>-0.088101</td>\n",
       "      <td>-0.144033</td>\n",
       "      <td>0.136872</td>\n",
       "      <td>0.178349</td>\n",
       "      <td>-0.130731</td>\n",
       "      <td>0.079048</td>\n",
       "      <td>-0.429432</td>\n",
       "      <td>-0.422991</td>\n",
       "      <td>0.091604</td>\n",
       "      <td>0.038414</td>\n",
       "      <td>0.887119</td>\n",
       "      <td>0.685520</td>\n",
       "      <td>0.069043</td>\n",
       "      <td>0.107930</td>\n",
       "    </tr>\n",
       "    <tr>\n",
       "      <th>MaxTemp</th>\n",
       "      <td>0.102409</td>\n",
       "      <td>0.064268</td>\n",
       "      <td>0.717522</td>\n",
       "      <td>1.000000</td>\n",
       "      <td>-0.087451</td>\n",
       "      <td>0.322405</td>\n",
       "      <td>0.378403</td>\n",
       "      <td>-0.236762</td>\n",
       "      <td>0.139998</td>\n",
       "      <td>-0.245924</td>\n",
       "      <td>-0.177394</td>\n",
       "      <td>0.013314</td>\n",
       "      <td>0.088172</td>\n",
       "      <td>-0.390976</td>\n",
       "      <td>-0.421879</td>\n",
       "      <td>-0.325721</td>\n",
       "      <td>-0.403258</td>\n",
       "      <td>-0.253968</td>\n",
       "      <td>-0.250132</td>\n",
       "      <td>0.866039</td>\n",
       "      <td>0.974506</td>\n",
       "      <td>-0.225172</td>\n",
       "      <td>-0.115563</td>\n",
       "    </tr>\n",
       "    <tr>\n",
       "      <th>Rainfall</th>\n",
       "      <td>0.004945</td>\n",
       "      <td>0.007693</td>\n",
       "      <td>0.087684</td>\n",
       "      <td>-0.087451</td>\n",
       "      <td>1.000000</td>\n",
       "      <td>0.023517</td>\n",
       "      <td>-0.169432</td>\n",
       "      <td>0.049958</td>\n",
       "      <td>0.086000</td>\n",
       "      <td>0.095107</td>\n",
       "      <td>0.037966</td>\n",
       "      <td>0.050631</td>\n",
       "      <td>0.024791</td>\n",
       "      <td>0.228800</td>\n",
       "      <td>0.235444</td>\n",
       "      <td>-0.072668</td>\n",
       "      <td>-0.033649</td>\n",
       "      <td>0.185444</td>\n",
       "      <td>0.150760</td>\n",
       "      <td>-0.007083</td>\n",
       "      <td>-0.090687</td>\n",
       "      <td>0.463211</td>\n",
       "      <td>0.183200</td>\n",
       "    </tr>\n",
       "    <tr>\n",
       "      <th>Evaporation</th>\n",
       "      <td>0.153853</td>\n",
       "      <td>0.143519</td>\n",
       "      <td>0.254965</td>\n",
       "      <td>0.322405</td>\n",
       "      <td>0.023517</td>\n",
       "      <td>1.000000</td>\n",
       "      <td>0.226001</td>\n",
       "      <td>-0.072234</td>\n",
       "      <td>0.136371</td>\n",
       "      <td>-0.058219</td>\n",
       "      <td>-0.047889</td>\n",
       "      <td>0.104294</td>\n",
       "      <td>0.101126</td>\n",
       "      <td>-0.213108</td>\n",
       "      <td>-0.161661</td>\n",
       "      <td>-0.177786</td>\n",
       "      <td>-0.189558</td>\n",
       "      <td>-0.062283</td>\n",
       "      <td>-0.108022</td>\n",
       "      <td>0.305264</td>\n",
       "      <td>0.315109</td>\n",
       "      <td>-0.091700</td>\n",
       "      <td>-0.061642</td>\n",
       "    </tr>\n",
       "    <tr>\n",
       "      <th>Sunshine</th>\n",
       "      <td>0.065101</td>\n",
       "      <td>0.057817</td>\n",
       "      <td>0.056184</td>\n",
       "      <td>0.378403</td>\n",
       "      <td>-0.169432</td>\n",
       "      <td>0.226001</td>\n",
       "      <td>1.000000</td>\n",
       "      <td>-0.109562</td>\n",
       "      <td>-0.013778</td>\n",
       "      <td>-0.083901</td>\n",
       "      <td>-0.067804</td>\n",
       "      <td>-0.018069</td>\n",
       "      <td>0.030145</td>\n",
       "      <td>-0.360831</td>\n",
       "      <td>-0.440268</td>\n",
       "      <td>0.021887</td>\n",
       "      <td>-0.035863</td>\n",
       "      <td>-0.533391</td>\n",
       "      <td>-0.547304</td>\n",
       "      <td>0.250640</td>\n",
       "      <td>0.395324</td>\n",
       "      <td>-0.239821</td>\n",
       "      <td>-0.311567</td>\n",
       "    </tr>\n",
       "    <tr>\n",
       "      <th>WindGustDir</th>\n",
       "      <td>0.002610</td>\n",
       "      <td>-0.021180</td>\n",
       "      <td>-0.156861</td>\n",
       "      <td>-0.236762</td>\n",
       "      <td>0.049958</td>\n",
       "      <td>-0.072234</td>\n",
       "      <td>-0.109562</td>\n",
       "      <td>1.000000</td>\n",
       "      <td>0.017559</td>\n",
       "      <td>0.404709</td>\n",
       "      <td>0.542701</td>\n",
       "      <td>-0.050563</td>\n",
       "      <td>0.044635</td>\n",
       "      <td>0.068504</td>\n",
       "      <td>0.079594</td>\n",
       "      <td>-0.119318</td>\n",
       "      <td>-0.031475</td>\n",
       "      <td>0.108390</td>\n",
       "      <td>0.088982</td>\n",
       "      <td>-0.187304</td>\n",
       "      <td>-0.250847</td>\n",
       "      <td>0.135286</td>\n",
       "      <td>0.057037</td>\n",
       "    </tr>\n",
       "    <tr>\n",
       "      <th>WindGustSpeed</th>\n",
       "      <td>-0.037361</td>\n",
       "      <td>0.231396</td>\n",
       "      <td>0.230058</td>\n",
       "      <td>0.139998</td>\n",
       "      <td>0.086000</td>\n",
       "      <td>0.136371</td>\n",
       "      <td>-0.013778</td>\n",
       "      <td>0.017559</td>\n",
       "      <td>1.000000</td>\n",
       "      <td>-0.124473</td>\n",
       "      <td>0.073409</td>\n",
       "      <td>0.600198</td>\n",
       "      <td>0.634939</td>\n",
       "      <td>-0.269593</td>\n",
       "      <td>-0.091860</td>\n",
       "      <td>-0.407139</td>\n",
       "      <td>-0.372651</td>\n",
       "      <td>0.023313</td>\n",
       "      <td>0.078631</td>\n",
       "      <td>0.202298</td>\n",
       "      <td>0.102199</td>\n",
       "      <td>0.082540</td>\n",
       "      <td>0.189829</td>\n",
       "    </tr>\n",
       "    <tr>\n",
       "      <th>WindDir9am</th>\n",
       "      <td>0.024279</td>\n",
       "      <td>-0.050449</td>\n",
       "      <td>-0.088101</td>\n",
       "      <td>-0.245924</td>\n",
       "      <td>0.095107</td>\n",
       "      <td>-0.058219</td>\n",
       "      <td>-0.083901</td>\n",
       "      <td>0.404709</td>\n",
       "      <td>-0.124473</td>\n",
       "      <td>1.000000</td>\n",
       "      <td>0.266336</td>\n",
       "      <td>-0.075314</td>\n",
       "      <td>-0.034768</td>\n",
       "      <td>0.102930</td>\n",
       "      <td>0.151840</td>\n",
       "      <td>0.010917</td>\n",
       "      <td>0.097374</td>\n",
       "      <td>0.114581</td>\n",
       "      <td>0.068183</td>\n",
       "      <td>-0.156612</td>\n",
       "      <td>-0.250499</td>\n",
       "      <td>0.167754</td>\n",
       "      <td>0.031804</td>\n",
       "    </tr>\n",
       "    <tr>\n",
       "      <th>WindDir3pm</th>\n",
       "      <td>-0.009079</td>\n",
       "      <td>-0.028042</td>\n",
       "      <td>-0.144033</td>\n",
       "      <td>-0.177394</td>\n",
       "      <td>0.037966</td>\n",
       "      <td>-0.047889</td>\n",
       "      <td>-0.067804</td>\n",
       "      <td>0.542701</td>\n",
       "      <td>0.073409</td>\n",
       "      <td>0.266336</td>\n",
       "      <td>1.000000</td>\n",
       "      <td>0.034125</td>\n",
       "      <td>0.081542</td>\n",
       "      <td>-0.016673</td>\n",
       "      <td>-0.017021</td>\n",
       "      <td>-0.136652</td>\n",
       "      <td>-0.043466</td>\n",
       "      <td>0.075310</td>\n",
       "      <td>0.051331</td>\n",
       "      <td>-0.160987</td>\n",
       "      <td>-0.191650</td>\n",
       "      <td>0.100285</td>\n",
       "      <td>0.009724</td>\n",
       "    </tr>\n",
       "    <tr>\n",
       "      <th>WindSpeed9am</th>\n",
       "      <td>-0.083943</td>\n",
       "      <td>0.221378</td>\n",
       "      <td>0.136872</td>\n",
       "      <td>0.013314</td>\n",
       "      <td>0.050631</td>\n",
       "      <td>0.104294</td>\n",
       "      <td>-0.018069</td>\n",
       "      <td>-0.050563</td>\n",
       "      <td>0.600198</td>\n",
       "      <td>-0.075314</td>\n",
       "      <td>0.034125</td>\n",
       "      <td>1.000000</td>\n",
       "      <td>0.560660</td>\n",
       "      <td>-0.358391</td>\n",
       "      <td>-0.110587</td>\n",
       "      <td>-0.174679</td>\n",
       "      <td>-0.138454</td>\n",
       "      <td>-0.000549</td>\n",
       "      <td>0.058198</td>\n",
       "      <td>0.109798</td>\n",
       "      <td>-0.002606</td>\n",
       "      <td>0.039431</td>\n",
       "      <td>0.078929</td>\n",
       "    </tr>\n",
       "    <tr>\n",
       "      <th>WindSpeed3pm</th>\n",
       "      <td>-0.046362</td>\n",
       "      <td>0.231801</td>\n",
       "      <td>0.178349</td>\n",
       "      <td>0.088172</td>\n",
       "      <td>0.024791</td>\n",
       "      <td>0.101126</td>\n",
       "      <td>0.030145</td>\n",
       "      <td>0.044635</td>\n",
       "      <td>0.634939</td>\n",
       "      <td>-0.034768</td>\n",
       "      <td>0.081542</td>\n",
       "      <td>0.560660</td>\n",
       "      <td>1.000000</td>\n",
       "      <td>-0.250953</td>\n",
       "      <td>-0.091004</td>\n",
       "      <td>-0.251697</td>\n",
       "      <td>-0.207544</td>\n",
       "      <td>0.005061</td>\n",
       "      <td>0.003295</td>\n",
       "      <td>0.184188</td>\n",
       "      <td>0.066087</td>\n",
       "      <td>0.021918</td>\n",
       "      <td>0.066805</td>\n",
       "    </tr>\n",
       "    <tr>\n",
       "      <th>Humidity9am</th>\n",
       "      <td>0.086328</td>\n",
       "      <td>0.005662</td>\n",
       "      <td>-0.130731</td>\n",
       "      <td>-0.390976</td>\n",
       "      <td>0.228800</td>\n",
       "      <td>-0.213108</td>\n",
       "      <td>-0.360831</td>\n",
       "      <td>0.068504</td>\n",
       "      <td>-0.269593</td>\n",
       "      <td>0.102930</td>\n",
       "      <td>-0.016673</td>\n",
       "      <td>-0.358391</td>\n",
       "      <td>-0.250953</td>\n",
       "      <td>1.000000</td>\n",
       "      <td>0.633291</td>\n",
       "      <td>0.142374</td>\n",
       "      <td>0.173415</td>\n",
       "      <td>0.404742</td>\n",
       "      <td>0.296862</td>\n",
       "      <td>-0.378344</td>\n",
       "      <td>-0.382401</td>\n",
       "      <td>0.377768</td>\n",
       "      <td>0.242353</td>\n",
       "    </tr>\n",
       "    <tr>\n",
       "      <th>Humidity3pm</th>\n",
       "      <td>-0.038345</td>\n",
       "      <td>0.055790</td>\n",
       "      <td>0.079048</td>\n",
       "      <td>-0.421879</td>\n",
       "      <td>0.235444</td>\n",
       "      <td>-0.161661</td>\n",
       "      <td>-0.440268</td>\n",
       "      <td>0.079594</td>\n",
       "      <td>-0.091860</td>\n",
       "      <td>0.151840</td>\n",
       "      <td>-0.017021</td>\n",
       "      <td>-0.110587</td>\n",
       "      <td>-0.091004</td>\n",
       "      <td>0.633291</td>\n",
       "      <td>1.000000</td>\n",
       "      <td>0.001629</td>\n",
       "      <td>0.070369</td>\n",
       "      <td>0.424348</td>\n",
       "      <td>0.439965</td>\n",
       "      <td>-0.130414</td>\n",
       "      <td>-0.491485</td>\n",
       "      <td>0.361418</td>\n",
       "      <td>0.382622</td>\n",
       "    </tr>\n",
       "    <tr>\n",
       "      <th>Pressure9am</th>\n",
       "      <td>0.030809</td>\n",
       "      <td>-0.032261</td>\n",
       "      <td>-0.429432</td>\n",
       "      <td>-0.325721</td>\n",
       "      <td>-0.072668</td>\n",
       "      <td>-0.177786</td>\n",
       "      <td>0.021887</td>\n",
       "      <td>-0.119318</td>\n",
       "      <td>-0.407139</td>\n",
       "      <td>0.010917</td>\n",
       "      <td>-0.136652</td>\n",
       "      <td>-0.174679</td>\n",
       "      <td>-0.251697</td>\n",
       "      <td>0.142374</td>\n",
       "      <td>0.001629</td>\n",
       "      <td>1.000000</td>\n",
       "      <td>0.961428</td>\n",
       "      <td>-0.070820</td>\n",
       "      <td>-0.082645</td>\n",
       "      <td>-0.410849</td>\n",
       "      <td>-0.283412</td>\n",
       "      <td>-0.111209</td>\n",
       "      <td>-0.172273</td>\n",
       "    </tr>\n",
       "    <tr>\n",
       "      <th>Pressure3pm</th>\n",
       "      <td>0.013545</td>\n",
       "      <td>-0.020574</td>\n",
       "      <td>-0.422991</td>\n",
       "      <td>-0.403258</td>\n",
       "      <td>-0.033649</td>\n",
       "      <td>-0.189558</td>\n",
       "      <td>-0.035863</td>\n",
       "      <td>-0.031475</td>\n",
       "      <td>-0.372651</td>\n",
       "      <td>0.097374</td>\n",
       "      <td>-0.043466</td>\n",
       "      <td>-0.138454</td>\n",
       "      <td>-0.207544</td>\n",
       "      <td>0.173415</td>\n",
       "      <td>0.070369</td>\n",
       "      <td>0.961428</td>\n",
       "      <td>1.000000</td>\n",
       "      <td>-0.012409</td>\n",
       "      <td>-0.028748</td>\n",
       "      <td>-0.439378</td>\n",
       "      <td>-0.369953</td>\n",
       "      <td>-0.039116</td>\n",
       "      <td>-0.147072</td>\n",
       "    </tr>\n",
       "    <tr>\n",
       "      <th>Cloud9am</th>\n",
       "      <td>0.005237</td>\n",
       "      <td>0.038019</td>\n",
       "      <td>0.091604</td>\n",
       "      <td>-0.253968</td>\n",
       "      <td>0.185444</td>\n",
       "      <td>-0.062283</td>\n",
       "      <td>-0.533391</td>\n",
       "      <td>0.108390</td>\n",
       "      <td>0.023313</td>\n",
       "      <td>0.114581</td>\n",
       "      <td>0.075310</td>\n",
       "      <td>-0.000549</td>\n",
       "      <td>0.005061</td>\n",
       "      <td>0.404742</td>\n",
       "      <td>0.424348</td>\n",
       "      <td>-0.070820</td>\n",
       "      <td>-0.012409</td>\n",
       "      <td>1.000000</td>\n",
       "      <td>0.574943</td>\n",
       "      <td>-0.135486</td>\n",
       "      <td>-0.268824</td>\n",
       "      <td>0.287810</td>\n",
       "      <td>0.273900</td>\n",
       "    </tr>\n",
       "    <tr>\n",
       "      <th>Cloud3pm</th>\n",
       "      <td>-0.010572</td>\n",
       "      <td>0.017561</td>\n",
       "      <td>0.038414</td>\n",
       "      <td>-0.250132</td>\n",
       "      <td>0.150760</td>\n",
       "      <td>-0.108022</td>\n",
       "      <td>-0.547304</td>\n",
       "      <td>0.088982</td>\n",
       "      <td>0.078631</td>\n",
       "      <td>0.068183</td>\n",
       "      <td>0.051331</td>\n",
       "      <td>0.058198</td>\n",
       "      <td>0.003295</td>\n",
       "      <td>0.296862</td>\n",
       "      <td>0.439965</td>\n",
       "      <td>-0.082645</td>\n",
       "      <td>-0.028748</td>\n",
       "      <td>0.574943</td>\n",
       "      <td>1.000000</td>\n",
       "      <td>-0.125926</td>\n",
       "      <td>-0.291707</td>\n",
       "      <td>0.247378</td>\n",
       "      <td>0.308316</td>\n",
       "    </tr>\n",
       "    <tr>\n",
       "      <th>Temp9am</th>\n",
       "      <td>0.070703</td>\n",
       "      <td>0.118051</td>\n",
       "      <td>0.887119</td>\n",
       "      <td>0.866039</td>\n",
       "      <td>-0.007083</td>\n",
       "      <td>0.305264</td>\n",
       "      <td>0.250640</td>\n",
       "      <td>-0.187304</td>\n",
       "      <td>0.202298</td>\n",
       "      <td>-0.156612</td>\n",
       "      <td>-0.160987</td>\n",
       "      <td>0.109798</td>\n",
       "      <td>0.184188</td>\n",
       "      <td>-0.378344</td>\n",
       "      <td>-0.130414</td>\n",
       "      <td>-0.410849</td>\n",
       "      <td>-0.439378</td>\n",
       "      <td>-0.135486</td>\n",
       "      <td>-0.125926</td>\n",
       "      <td>1.000000</td>\n",
       "      <td>0.834165</td>\n",
       "      <td>-0.097193</td>\n",
       "      <td>-0.007740</td>\n",
       "    </tr>\n",
       "    <tr>\n",
       "      <th>Temp3pm</th>\n",
       "      <td>0.113734</td>\n",
       "      <td>0.060570</td>\n",
       "      <td>0.685520</td>\n",
       "      <td>0.974506</td>\n",
       "      <td>-0.090687</td>\n",
       "      <td>0.315109</td>\n",
       "      <td>0.395324</td>\n",
       "      <td>-0.250847</td>\n",
       "      <td>0.102199</td>\n",
       "      <td>-0.250499</td>\n",
       "      <td>-0.191650</td>\n",
       "      <td>-0.002606</td>\n",
       "      <td>0.066087</td>\n",
       "      <td>-0.382401</td>\n",
       "      <td>-0.491485</td>\n",
       "      <td>-0.283412</td>\n",
       "      <td>-0.369953</td>\n",
       "      <td>-0.268824</td>\n",
       "      <td>-0.291707</td>\n",
       "      <td>0.834165</td>\n",
       "      <td>1.000000</td>\n",
       "      <td>-0.235397</td>\n",
       "      <td>-0.152832</td>\n",
       "    </tr>\n",
       "    <tr>\n",
       "      <th>RainToday</th>\n",
       "      <td>-0.006325</td>\n",
       "      <td>0.007068</td>\n",
       "      <td>0.069043</td>\n",
       "      <td>-0.225172</td>\n",
       "      <td>0.463211</td>\n",
       "      <td>-0.091700</td>\n",
       "      <td>-0.239821</td>\n",
       "      <td>0.135286</td>\n",
       "      <td>0.082540</td>\n",
       "      <td>0.167754</td>\n",
       "      <td>0.100285</td>\n",
       "      <td>0.039431</td>\n",
       "      <td>0.021918</td>\n",
       "      <td>0.377768</td>\n",
       "      <td>0.361418</td>\n",
       "      <td>-0.111209</td>\n",
       "      <td>-0.039116</td>\n",
       "      <td>0.287810</td>\n",
       "      <td>0.247378</td>\n",
       "      <td>-0.097193</td>\n",
       "      <td>-0.235397</td>\n",
       "      <td>1.000000</td>\n",
       "      <td>0.267038</td>\n",
       "    </tr>\n",
       "    <tr>\n",
       "      <th>RainTomorrow</th>\n",
       "      <td>0.027384</td>\n",
       "      <td>0.028247</td>\n",
       "      <td>0.107930</td>\n",
       "      <td>-0.115563</td>\n",
       "      <td>0.183200</td>\n",
       "      <td>-0.061642</td>\n",
       "      <td>-0.311567</td>\n",
       "      <td>0.057037</td>\n",
       "      <td>0.189829</td>\n",
       "      <td>0.031804</td>\n",
       "      <td>0.009724</td>\n",
       "      <td>0.078929</td>\n",
       "      <td>0.066805</td>\n",
       "      <td>0.242353</td>\n",
       "      <td>0.382622</td>\n",
       "      <td>-0.172273</td>\n",
       "      <td>-0.147072</td>\n",
       "      <td>0.273900</td>\n",
       "      <td>0.308316</td>\n",
       "      <td>-0.007740</td>\n",
       "      <td>-0.152832</td>\n",
       "      <td>0.267038</td>\n",
       "      <td>1.000000</td>\n",
       "    </tr>\n",
       "  </tbody>\n",
       "</table>\n",
       "</div>"
      ],
      "text/plain": [
       "                   Date  Location   MinTemp   MaxTemp  Rainfall  Evaporation  \\\n",
       "Date           1.000000  0.475037  0.016931  0.102409  0.004945     0.153853   \n",
       "Location       0.475037  1.000000  0.116531  0.064268  0.007693     0.143519   \n",
       "MinTemp        0.016931  0.116531  1.000000  0.717522  0.087684     0.254965   \n",
       "MaxTemp        0.102409  0.064268  0.717522  1.000000 -0.087451     0.322405   \n",
       "Rainfall       0.004945  0.007693  0.087684 -0.087451  1.000000     0.023517   \n",
       "Evaporation    0.153853  0.143519  0.254965  0.322405  0.023517     1.000000   \n",
       "Sunshine       0.065101  0.057817  0.056184  0.378403 -0.169432     0.226001   \n",
       "WindGustDir    0.002610 -0.021180 -0.156861 -0.236762  0.049958    -0.072234   \n",
       "WindGustSpeed -0.037361  0.231396  0.230058  0.139998  0.086000     0.136371   \n",
       "WindDir9am     0.024279 -0.050449 -0.088101 -0.245924  0.095107    -0.058219   \n",
       "WindDir3pm    -0.009079 -0.028042 -0.144033 -0.177394  0.037966    -0.047889   \n",
       "WindSpeed9am  -0.083943  0.221378  0.136872  0.013314  0.050631     0.104294   \n",
       "WindSpeed3pm  -0.046362  0.231801  0.178349  0.088172  0.024791     0.101126   \n",
       "Humidity9am    0.086328  0.005662 -0.130731 -0.390976  0.228800    -0.213108   \n",
       "Humidity3pm   -0.038345  0.055790  0.079048 -0.421879  0.235444    -0.161661   \n",
       "Pressure9am    0.030809 -0.032261 -0.429432 -0.325721 -0.072668    -0.177786   \n",
       "Pressure3pm    0.013545 -0.020574 -0.422991 -0.403258 -0.033649    -0.189558   \n",
       "Cloud9am       0.005237  0.038019  0.091604 -0.253968  0.185444    -0.062283   \n",
       "Cloud3pm      -0.010572  0.017561  0.038414 -0.250132  0.150760    -0.108022   \n",
       "Temp9am        0.070703  0.118051  0.887119  0.866039 -0.007083     0.305264   \n",
       "Temp3pm        0.113734  0.060570  0.685520  0.974506 -0.090687     0.315109   \n",
       "RainToday     -0.006325  0.007068  0.069043 -0.225172  0.463211    -0.091700   \n",
       "RainTomorrow   0.027384  0.028247  0.107930 -0.115563  0.183200    -0.061642   \n",
       "\n",
       "               Sunshine  WindGustDir  WindGustSpeed  WindDir9am  WindDir3pm  \\\n",
       "Date           0.065101     0.002610      -0.037361    0.024279   -0.009079   \n",
       "Location       0.057817    -0.021180       0.231396   -0.050449   -0.028042   \n",
       "MinTemp        0.056184    -0.156861       0.230058   -0.088101   -0.144033   \n",
       "MaxTemp        0.378403    -0.236762       0.139998   -0.245924   -0.177394   \n",
       "Rainfall      -0.169432     0.049958       0.086000    0.095107    0.037966   \n",
       "Evaporation    0.226001    -0.072234       0.136371   -0.058219   -0.047889   \n",
       "Sunshine       1.000000    -0.109562      -0.013778   -0.083901   -0.067804   \n",
       "WindGustDir   -0.109562     1.000000       0.017559    0.404709    0.542701   \n",
       "WindGustSpeed -0.013778     0.017559       1.000000   -0.124473    0.073409   \n",
       "WindDir9am    -0.083901     0.404709      -0.124473    1.000000    0.266336   \n",
       "WindDir3pm    -0.067804     0.542701       0.073409    0.266336    1.000000   \n",
       "WindSpeed9am  -0.018069    -0.050563       0.600198   -0.075314    0.034125   \n",
       "WindSpeed3pm   0.030145     0.044635       0.634939   -0.034768    0.081542   \n",
       "Humidity9am   -0.360831     0.068504      -0.269593    0.102930   -0.016673   \n",
       "Humidity3pm   -0.440268     0.079594      -0.091860    0.151840   -0.017021   \n",
       "Pressure9am    0.021887    -0.119318      -0.407139    0.010917   -0.136652   \n",
       "Pressure3pm   -0.035863    -0.031475      -0.372651    0.097374   -0.043466   \n",
       "Cloud9am      -0.533391     0.108390       0.023313    0.114581    0.075310   \n",
       "Cloud3pm      -0.547304     0.088982       0.078631    0.068183    0.051331   \n",
       "Temp9am        0.250640    -0.187304       0.202298   -0.156612   -0.160987   \n",
       "Temp3pm        0.395324    -0.250847       0.102199   -0.250499   -0.191650   \n",
       "RainToday     -0.239821     0.135286       0.082540    0.167754    0.100285   \n",
       "RainTomorrow  -0.311567     0.057037       0.189829    0.031804    0.009724   \n",
       "\n",
       "               WindSpeed9am  WindSpeed3pm  Humidity9am  Humidity3pm  \\\n",
       "Date              -0.083943     -0.046362     0.086328    -0.038345   \n",
       "Location           0.221378      0.231801     0.005662     0.055790   \n",
       "MinTemp            0.136872      0.178349    -0.130731     0.079048   \n",
       "MaxTemp            0.013314      0.088172    -0.390976    -0.421879   \n",
       "Rainfall           0.050631      0.024791     0.228800     0.235444   \n",
       "Evaporation        0.104294      0.101126    -0.213108    -0.161661   \n",
       "Sunshine          -0.018069      0.030145    -0.360831    -0.440268   \n",
       "WindGustDir       -0.050563      0.044635     0.068504     0.079594   \n",
       "WindGustSpeed      0.600198      0.634939    -0.269593    -0.091860   \n",
       "WindDir9am        -0.075314     -0.034768     0.102930     0.151840   \n",
       "WindDir3pm         0.034125      0.081542    -0.016673    -0.017021   \n",
       "WindSpeed9am       1.000000      0.560660    -0.358391    -0.110587   \n",
       "WindSpeed3pm       0.560660      1.000000    -0.250953    -0.091004   \n",
       "Humidity9am       -0.358391     -0.250953     1.000000     0.633291   \n",
       "Humidity3pm       -0.110587     -0.091004     0.633291     1.000000   \n",
       "Pressure9am       -0.174679     -0.251697     0.142374     0.001629   \n",
       "Pressure3pm       -0.138454     -0.207544     0.173415     0.070369   \n",
       "Cloud9am          -0.000549      0.005061     0.404742     0.424348   \n",
       "Cloud3pm           0.058198      0.003295     0.296862     0.439965   \n",
       "Temp9am            0.109798      0.184188    -0.378344    -0.130414   \n",
       "Temp3pm           -0.002606      0.066087    -0.382401    -0.491485   \n",
       "RainToday          0.039431      0.021918     0.377768     0.361418   \n",
       "RainTomorrow       0.078929      0.066805     0.242353     0.382622   \n",
       "\n",
       "               Pressure9am  Pressure3pm  Cloud9am  Cloud3pm   Temp9am  \\\n",
       "Date              0.030809     0.013545  0.005237 -0.010572  0.070703   \n",
       "Location         -0.032261    -0.020574  0.038019  0.017561  0.118051   \n",
       "MinTemp          -0.429432    -0.422991  0.091604  0.038414  0.887119   \n",
       "MaxTemp          -0.325721    -0.403258 -0.253968 -0.250132  0.866039   \n",
       "Rainfall         -0.072668    -0.033649  0.185444  0.150760 -0.007083   \n",
       "Evaporation      -0.177786    -0.189558 -0.062283 -0.108022  0.305264   \n",
       "Sunshine          0.021887    -0.035863 -0.533391 -0.547304  0.250640   \n",
       "WindGustDir      -0.119318    -0.031475  0.108390  0.088982 -0.187304   \n",
       "WindGustSpeed    -0.407139    -0.372651  0.023313  0.078631  0.202298   \n",
       "WindDir9am        0.010917     0.097374  0.114581  0.068183 -0.156612   \n",
       "WindDir3pm       -0.136652    -0.043466  0.075310  0.051331 -0.160987   \n",
       "WindSpeed9am     -0.174679    -0.138454 -0.000549  0.058198  0.109798   \n",
       "WindSpeed3pm     -0.251697    -0.207544  0.005061  0.003295  0.184188   \n",
       "Humidity9am       0.142374     0.173415  0.404742  0.296862 -0.378344   \n",
       "Humidity3pm       0.001629     0.070369  0.424348  0.439965 -0.130414   \n",
       "Pressure9am       1.000000     0.961428 -0.070820 -0.082645 -0.410849   \n",
       "Pressure3pm       0.961428     1.000000 -0.012409 -0.028748 -0.439378   \n",
       "Cloud9am         -0.070820    -0.012409  1.000000  0.574943 -0.135486   \n",
       "Cloud3pm         -0.082645    -0.028748  0.574943  1.000000 -0.125926   \n",
       "Temp9am          -0.410849    -0.439378 -0.135486 -0.125926  1.000000   \n",
       "Temp3pm          -0.283412    -0.369953 -0.268824 -0.291707  0.834165   \n",
       "RainToday        -0.111209    -0.039116  0.287810  0.247378 -0.097193   \n",
       "RainTomorrow     -0.172273    -0.147072  0.273900  0.308316 -0.007740   \n",
       "\n",
       "                Temp3pm  RainToday  RainTomorrow  \n",
       "Date           0.113734  -0.006325      0.027384  \n",
       "Location       0.060570   0.007068      0.028247  \n",
       "MinTemp        0.685520   0.069043      0.107930  \n",
       "MaxTemp        0.974506  -0.225172     -0.115563  \n",
       "Rainfall      -0.090687   0.463211      0.183200  \n",
       "Evaporation    0.315109  -0.091700     -0.061642  \n",
       "Sunshine       0.395324  -0.239821     -0.311567  \n",
       "WindGustDir   -0.250847   0.135286      0.057037  \n",
       "WindGustSpeed  0.102199   0.082540      0.189829  \n",
       "WindDir9am    -0.250499   0.167754      0.031804  \n",
       "WindDir3pm    -0.191650   0.100285      0.009724  \n",
       "WindSpeed9am  -0.002606   0.039431      0.078929  \n",
       "WindSpeed3pm   0.066087   0.021918      0.066805  \n",
       "Humidity9am   -0.382401   0.377768      0.242353  \n",
       "Humidity3pm   -0.491485   0.361418      0.382622  \n",
       "Pressure9am   -0.283412  -0.111209     -0.172273  \n",
       "Pressure3pm   -0.369953  -0.039116     -0.147072  \n",
       "Cloud9am      -0.268824   0.287810      0.273900  \n",
       "Cloud3pm      -0.291707   0.247378      0.308316  \n",
       "Temp9am        0.834165  -0.097193     -0.007740  \n",
       "Temp3pm        1.000000  -0.235397     -0.152832  \n",
       "RainToday     -0.235397   1.000000      0.267038  \n",
       "RainTomorrow  -0.152832   0.267038      1.000000  "
      ]
     },
     "execution_count": 17,
     "metadata": {},
     "output_type": "execute_result"
    }
   ],
   "source": [
    "df.corr()"
   ]
  },
  {
   "cell_type": "markdown",
   "id": "dc78032f",
   "metadata": {},
   "source": [
    "* Since Pressure9am\t, Pressure3pm have very high correlation values we remove them and between Temp3pm and Maxtemp we remove Temp3pm because Maxtemp has better correlation with target column also since we remove Temp3pm and Temp 9am too has high variance we remove it\n"
   ]
  },
  {
   "cell_type": "code",
   "execution_count": 18,
   "id": "7c231545",
   "metadata": {},
   "outputs": [],
   "source": [
    "df.drop(columns=['Pressure9am', 'Pressure3pm', 'Temp3pm', 'Temp9am'],axis=1,inplace=True)"
   ]
  },
  {
   "cell_type": "markdown",
   "id": "66c2dab8",
   "metadata": {},
   "source": [
    "# Outlier Check and Removal"
   ]
  },
  {
   "cell_type": "code",
   "execution_count": 19,
   "id": "d61d17d3",
   "metadata": {},
   "outputs": [],
   "source": [
    "df1 = df[['Date', 'Location', 'MinTemp', 'MaxTemp', 'Rainfall', 'Evaporation', 'Sunshine']]"
   ]
  },
  {
   "cell_type": "code",
   "execution_count": 20,
   "id": "fb0da9bc",
   "metadata": {},
   "outputs": [],
   "source": [
    "df2 = df[['Cloud9am', 'Cloud3pm', 'RainToday', 'RainTomorrow','WindGustDir', 'WindGustSpeed']]"
   ]
  },
  {
   "cell_type": "code",
   "execution_count": 21,
   "id": "724ca776",
   "metadata": {},
   "outputs": [],
   "source": [
    "df3 = df[['WindDir9am', 'WindDir3pm', 'WindSpeed9am', 'WindSpeed3pm', 'Humidity9am', 'Humidity3pm']]"
   ]
  },
  {
   "cell_type": "code",
   "execution_count": 22,
   "id": "3d245481",
   "metadata": {},
   "outputs": [
    {
     "data": {
      "image/png": "[encoded data removed]",
      "text/plain": [
       "<Figure size 1440x1080 with 7 Axes>"
      ]
     },
     "metadata": {
      "needs_background": "light"
     },
     "output_type": "display_data"
    }
   ],
   "source": [
    "Columns = df1.columns.values\n",
    "ncolumns = 20\n",
    "nrows = 10\n",
    "plt.figure(figsize=[20,15])\n",
    "for i in range(0, len(Columns)):\n",
    "    plt.subplot(nrows,ncolumns,i+1)\n",
    "    sn.boxplot(df1[Columns[i]], color='green', orient='H', palette='Oranges_r')\n",
    "    plt.tight_layout()"
   ]
  },
  {
   "cell_type": "code",
   "execution_count": 23,
   "id": "ecea2aef",
   "metadata": {},
   "outputs": [
    {
     "data": {
      "image/png": "[encoded data removed]",
      "text/plain": [
       "<Figure size 1440x1080 with 6 Axes>"
      ]
     },
     "metadata": {
      "needs_background": "light"
     },
     "output_type": "display_data"
    }
   ],
   "source": [
    "Columns = df2.columns.values\n",
    "ncolumns = 20\n",
    "nrows = 10\n",
    "plt.figure(figsize=[20,15])\n",
    "for i in range(0, len(Columns)):\n",
    "    plt.subplot(nrows,ncolumns,i+1)\n",
    "    sn.boxplot(df2[Columns[i]], color='green', orient='H', palette='Oranges_r')\n",
    "    plt.tight_layout()"
   ]
  },
  {
   "cell_type": "code",
   "execution_count": 24,
   "id": "8e5d963a",
   "metadata": {},
   "outputs": [
    {
     "data": {
      "image/png": "[encoded data removed]",
      "text/plain": [
       "<Figure size 1440x1080 with 6 Axes>"
      ]
     },
     "metadata": {
      "needs_background": "light"
     },
     "output_type": "display_data"
    }
   ],
   "source": [
    "Columns = df3.columns.values\n",
    "ncolumns = 20\n",
    "nrows = 10\n",
    "plt.figure(figsize=[20,15])\n",
    "for i in range(0, len(Columns)):\n",
    "    plt.subplot(nrows,ncolumns,i+1)\n",
    "    sn.boxplot(df3[Columns[i]], color='green', orient='H', palette='Oranges_r')\n",
    "    plt.tight_layout()"
   ]
  },
  {
   "cell_type": "code",
   "execution_count": 25,
   "id": "753b6db1",
   "metadata": {},
   "outputs": [
    {
     "data": {
      "text/plain": [
       "(8425, 19)"
      ]
     },
     "execution_count": 25,
     "metadata": {},
     "output_type": "execute_result"
    }
   ],
   "source": [
    "from scipy.stats import zscore\n",
    "import numpy as np\n",
    "Z = np.abs(zscore(df))\n",
    "Z.shape"
   ]
  },
  {
   "cell_type": "code",
   "execution_count": 26,
   "id": "9debc05f",
   "metadata": {},
   "outputs": [
    {
     "name": "stdout",
     "output_type": "stream",
     "text": [
      "(array([  14,   44,   52,   52,   60,   61,   62,   62,   68,  123,  267,\n",
      "        283,  381,  381,  407,  431,  435,  437,  443,  452,  455,  462,\n",
      "        464,  563,  611,  699,  713,  770,  796,  797,  802,  928,  928,\n",
      "        935,  949,  979,  980,  980,  980, 1008, 1009, 1011, 1138, 1148,\n",
      "       1149, 1151, 1189, 1202, 1203, 1237, 1241, 1264, 1265, 1357, 1411,\n",
      "       1412, 1413, 1479, 1480, 1481, 1513, 1535, 1587, 1644, 1661, 1665,\n",
      "       1673, 1680, 1774, 1811, 1812, 1813, 1814, 1815, 1816, 1817, 1819,\n",
      "       1873, 1898, 1903, 1945, 2016, 2028, 2043, 2063, 2068, 2074, 2108,\n",
      "       2116, 2163, 2164, 2165, 2166, 2186, 2198, 2199, 2201, 2219, 2219,\n",
      "       2230, 2231, 2265, 2429, 2459, 2488, 2500, 2505, 2505, 2527, 2541,\n",
      "       2593, 2676, 2677, 2678, 2735, 2824, 2825, 2827, 2835, 2838, 2839,\n",
      "       2845, 2846, 2847, 2849, 2849, 2855, 2863, 2869, 2877, 2883, 2890,\n",
      "       2891, 2897, 2898, 2900, 2901, 2905, 2909, 2911, 2919, 2925, 2933,\n",
      "       2939, 2947, 2953, 2961, 2967, 2971, 2972, 2973, 2975, 2989, 3003,\n",
      "       3006, 3007, 3051, 3066, 3067, 3067, 3067, 3068, 3070, 3082, 3082,\n",
      "       3082, 3089, 3089, 3099, 3099, 3101, 3141, 3150, 3153, 3157, 3164,\n",
      "       3172, 3172, 3178, 3185, 3206, 3210, 3211, 3212, 3213, 3221, 3227,\n",
      "       3229, 3230, 3231, 3232, 3233, 3234, 3234, 3235, 3236, 3237, 3238,\n",
      "       3239, 3240, 3241, 3242, 3243, 3244, 3245, 3246, 3248, 3248, 3252,\n",
      "       3253, 3254, 3256, 3257, 3258, 3260, 3278, 3291, 3302, 3350, 3419,\n",
      "       3421, 3430, 3437, 3438, 3449, 3449, 3450, 3458, 3471, 3491, 3557,\n",
      "       3571, 3602, 3603, 3607, 3613, 3617, 3621, 3676, 3677, 3679, 3687,\n",
      "       3690, 3691, 3697, 3698, 3699, 3701, 3701, 3707, 3715, 3721, 3729,\n",
      "       3735, 3742, 3743, 3749, 3750, 3752, 3753, 3757, 3761, 3763, 3771,\n",
      "       3777, 3785, 3791, 3799, 3805, 3813, 3819, 3823, 3824, 3825, 3827,\n",
      "       3841, 3855, 3858, 3859, 3903, 3918, 3919, 3919, 3919, 3920, 3922,\n",
      "       3934, 3934, 3934, 3941, 3941, 3951, 3951, 3953, 3993, 4002, 4005,\n",
      "       4009, 4016, 4024, 4024, 4030, 4037, 4058, 4062, 4063, 4064, 4065,\n",
      "       4073, 4079, 4081, 4082, 4083, 4084, 4085, 4086, 4086, 4087, 4088,\n",
      "       4089, 4090, 4091, 4092, 4093, 4094, 4095, 4096, 4097, 4098, 4100,\n",
      "       4100, 4104, 4105, 4106, 4108, 4109, 4110, 4112, 4130, 4143, 4154,\n",
      "       4202, 4271, 4273, 4282, 4289, 4290, 4301, 4301, 4302, 4310, 4323,\n",
      "       4343, 4409, 4423, 4454, 4455, 4459, 4465, 4469, 4473, 4535, 4566,\n",
      "       4568, 4618, 4619, 4638, 4650, 4657, 4672, 4673, 4731, 4775, 4798,\n",
      "       4833, 4833, 4837, 4843, 4854, 4855, 4859, 4886, 4892, 4911, 4918,\n",
      "       4934, 4956, 4979, 5007, 5008, 5010, 5014, 5015, 5021, 5022, 5026,\n",
      "       5027, 5038, 5096, 5097, 5101, 5103, 5104, 5105, 5110, 5111, 5131,\n",
      "       5132, 5133, 5145, 5146, 5149, 5155, 5159, 5160, 5166, 5167, 5179,\n",
      "       5180, 5181, 5188, 5188, 5201, 5202, 5204, 5204, 5207, 5207, 5211,\n",
      "       5212, 5212, 5213, 5214, 5215, 5216, 5222, 5223, 5229, 5230, 5235,\n",
      "       5236, 5237, 5243, 5243, 5244, 5246, 5250, 5251, 5252, 5257, 5258,\n",
      "       5264, 5264, 5265, 5268, 5271, 5272, 5274, 5275, 5285, 5286, 5288,\n",
      "       5299, 5300, 5301, 5301, 5302, 5307, 5314, 5314, 5318, 5320, 5321,\n",
      "       5323, 5324, 5324, 5333, 5334, 5335, 5346, 5377, 5379, 5429, 5430,\n",
      "       5449, 5461, 5468, 5483, 5484, 5542, 5586, 5609, 5644, 5644, 5648,\n",
      "       5654, 5665, 5666, 5670, 5697, 5703, 5722, 5729, 5745, 5767, 5790,\n",
      "       5818, 5819, 5821, 5825, 5826, 5832, 5833, 5837, 5838, 5849, 5907,\n",
      "       5908, 5912, 5914, 5915, 5916, 5921, 5922, 5942, 5943, 5944, 5956,\n",
      "       5957, 5960, 5966, 5970, 5971, 5977, 5978, 5990, 5991, 5992, 5999,\n",
      "       5999, 6012, 6013, 6015, 6015, 6018, 6018, 6022, 6023, 6023, 6024,\n",
      "       6025, 6026, 6027, 6033, 6034, 6040, 6041, 6046, 6047, 6048, 6054,\n",
      "       6054, 6055, 6057, 6061, 6062, 6063, 6068, 6069, 6075, 6075, 6076,\n",
      "       6079, 6082, 6083, 6085, 6086, 6096, 6097, 6099, 6110, 6111, 6112,\n",
      "       6112, 6113, 6118, 6125, 6125, 6129, 6131, 6132, 6134, 6135, 6135,\n",
      "       6144, 6145, 6146, 6149, 6182, 6202, 6257, 6294, 6431, 6441, 6480,\n",
      "       6481, 6489, 6495, 6520, 6583, 6584, 6848, 6848, 6849, 6860, 6862,\n",
      "       6863, 6876, 6880, 6880, 6883, 6886, 6903, 6904, 6908, 6909, 6915,\n",
      "       6918, 6925, 6930, 6933, 6934, 6960, 6960, 7111, 7162, 7169, 7282,\n",
      "       7303, 7366, 7402, 7462, 7565, 7575, 7602, 7633, 7633, 7827, 7857,\n",
      "       7872, 7983, 7984, 7984, 8100, 8136, 8144, 8145, 8145, 8185, 8424],\n",
      "      dtype=int64), array([18,  3,  8, 12,  3,  3,  3,  8,  3,  8,  8, 18,  8, 12,  3,  4, 18,\n",
      "       18, 18, 18, 18,  4, 18,  8, 18,  4,  4,  4,  4,  4,  4,  4, 18,  4,\n",
      "        4,  4,  4,  8, 11,  4,  4,  4,  4,  4,  4,  4, 12,  4,  4,  4,  4,\n",
      "        4,  4,  4,  4,  4,  4,  4,  4,  4,  4, 11, 12, 12,  4, 12,  4,  4,\n",
      "        4, 18, 18, 18, 18, 18, 18, 18,  4,  4, 12, 11, 11, 11, 12, 12,  4,\n",
      "       18, 11,  4,  4, 18, 18, 18, 18, 11, 18, 18,  4, 11, 12, 12,  4,  4,\n",
      "        4, 18,  4,  8,  8, 18,  3,  4,  4,  4,  4, 18,  4, 18, 18,  5,  5,\n",
      "       18, 18, 18, 18, 18,  4,  5,  5,  5,  5,  5,  5,  4,  5,  5,  4,  4,\n",
      "        4,  5,  4,  5,  5,  5,  5,  5,  5,  5,  5,  5, 18, 18, 18,  5,  5,\n",
      "        4, 18, 18,  4,  8,  8, 11, 12, 11,  8,  8, 11, 12,  8, 11,  8, 12,\n",
      "        5, 12,  5, 12,  5,  5,  5, 12,  5,  5,  5, 18, 18, 12,  5,  5,  5,\n",
      "       18, 18, 18, 18, 18,  8, 18, 18, 18, 18, 18, 18, 18, 18, 18, 18, 18,\n",
      "       18, 18,  4,  5, 18, 18, 18, 18, 18, 18,  5,  3,  3,  3,  4,  4,  4,\n",
      "        4, 18, 18,  4,  8,  8, 12, 12,  8, 11,  4,  8,  8,  4, 18, 12,  4,\n",
      "       18, 18,  5,  5, 18, 18, 18, 18, 18,  4,  5,  5,  5,  5,  5,  5,  4,\n",
      "        5,  5,  4,  4,  4,  5,  4,  5,  5,  5,  5,  5,  5,  5,  5,  5, 18,\n",
      "       18, 18,  5,  5,  4, 18, 18,  4,  8,  8, 11, 12, 11,  8,  8, 11, 12,\n",
      "        8, 11,  8, 12,  5, 12,  5, 12,  5,  5,  5, 12,  5,  5,  5, 18, 18,\n",
      "       12,  5,  5,  5, 18, 18, 18, 18, 18,  8, 18, 18, 18, 18, 18, 18, 18,\n",
      "       18, 18, 18, 18, 18, 18,  4,  5, 18, 18, 18, 18, 18, 18,  5,  3,  3,\n",
      "        3,  4,  4,  4,  4, 18, 18,  4,  8,  8, 12, 12,  8, 11,  4,  8,  8,\n",
      "        4, 18, 12,  4, 11,  8,  4,  3,  5, 11,  4, 11,  8,  4, 11,  8, 12,\n",
      "        8, 11,  8, 12, 12,  8, 11, 12, 11,  4, 11, 11, 11, 11, 18, 18,  4,\n",
      "       18, 18, 18, 18, 18, 18, 11, 18, 18, 18, 18, 18, 18, 18, 18, 18, 18,\n",
      "       18, 18, 18, 18, 11, 18, 18, 18, 18, 11, 18, 18,  8, 11, 11, 12,  8,\n",
      "       11, 11, 12, 11, 11, 12, 11,  4, 18, 18, 18, 18, 18, 18, 11, 18, 18,\n",
      "       11, 18, 18, 18, 18, 18, 11, 18, 18,  8, 18, 18, 18, 18, 18,  4, 11,\n",
      "       18, 18,  4, 18, 18,  8, 18, 18, 11, 11, 18, 11, 18, 18, 11,  5, 11,\n",
      "       18, 18, 18, 11,  8,  4,  3,  5, 11,  4, 11,  8,  4, 11,  8, 12,  8,\n",
      "       11,  8, 12, 12,  8, 11, 12, 11,  4, 11, 11, 11, 11, 18, 18,  4, 18,\n",
      "       18, 18, 18, 18, 18, 11, 18, 18, 18, 18, 18, 18, 18, 18, 18, 18, 18,\n",
      "       18, 18, 18, 11, 18, 18, 18, 18, 11, 18, 18,  8, 11, 11, 12,  8, 11,\n",
      "       11, 12, 11, 11, 12, 11,  4, 18, 18, 18, 18, 18, 18, 11, 18, 18, 11,\n",
      "       18, 18, 18, 18, 18, 11, 18, 18,  8, 18, 18, 18, 18, 18,  4, 11, 18,\n",
      "       18,  4, 18, 18,  8, 18, 18, 11, 11, 18, 11, 18, 18, 11,  5, 11, 18,\n",
      "       18, 18,  4,  4, 18, 18, 18, 18,  4,  4,  4,  4, 18,  4,  4,  4,  8,\n",
      "       13,  5, 13,  5, 13,  5, 13, 18,  5, 13, 13,  5, 18, 18, 18,  5,  5,\n",
      "        5, 13, 13,  5,  8,  4, 12,  4,  4,  8, 13, 13,  8,  8, 13, 13,  8,\n",
      "       12,  4,  4,  8,  3,  3, 13,  4,  4,  4,  4,  8,  4, 18],\n",
      "      dtype=int64))\n"
     ]
    }
   ],
   "source": [
    "threshold = 3\n",
    "print(np.where(Z>3))\n",
    "new_df = df[(Z<3).all(axis=1)]"
   ]
  },
  {
   "cell_type": "code",
   "execution_count": 27,
   "id": "caa3ffae",
   "metadata": {},
   "outputs": [
    {
     "data": {
      "text/plain": [
       "(7821, 19)"
      ]
     },
     "execution_count": 27,
     "metadata": {},
     "output_type": "execute_result"
    }
   ],
   "source": [
    "new_df.shape"
   ]
  },
  {
   "cell_type": "markdown",
   "id": "f8920673",
   "metadata": {},
   "source": [
    "# DataLoss %"
   ]
  },
  {
   "cell_type": "code",
   "execution_count": 28,
   "id": "19d65f8f",
   "metadata": {},
   "outputs": [],
   "source": [
    "Loss = (8425/7821)/8425*100"
   ]
  },
  {
   "cell_type": "code",
   "execution_count": 29,
   "id": "0e1bf1a7",
   "metadata": {},
   "outputs": [
    {
     "data": {
      "text/plain": [
       "0.012786088735455826"
      ]
     },
     "execution_count": 29,
     "metadata": {},
     "output_type": "execute_result"
    }
   ],
   "source": [
    "Loss"
   ]
  },
  {
   "cell_type": "markdown",
   "id": "5300e894",
   "metadata": {},
   "source": [
    "* Here we observe a Datasloss of 0.01% after the Outlier check adnd removal"
   ]
  },
  {
   "cell_type": "code",
   "execution_count": null,
   "id": "ebdc1ffb",
   "metadata": {},
   "outputs": [],
   "source": []
  },
  {
   "cell_type": "code",
   "execution_count": null,
   "id": "cecf8aef",
   "metadata": {},
   "outputs": [],
   "source": []
  },
  {
   "cell_type": "code",
   "execution_count": null,
   "id": "28bdee42",
   "metadata": {},
   "outputs": [],
   "source": []
  },
  {
   "cell_type": "code",
   "execution_count": null,
   "id": "d40cdea8",
   "metadata": {},
   "outputs": [],
   "source": []
  },
  {
   "cell_type": "code",
   "execution_count": null,
   "id": "0a09b5ed",
   "metadata": {},
   "outputs": [],
   "source": []
  },
  {
   "cell_type": "code",
   "execution_count": 30,
   "id": "2e6ac796",
   "metadata": {},
   "outputs": [
    {
     "data": {
      "text/plain": [
       "5.0     1406\n",
       "8.0     1183\n",
       "10.0    1036\n",
       "1.0      879\n",
       "6.0      782\n",
       "3.0      584\n",
       "2.0      565\n",
       "7.0      470\n",
       "11.0     444\n",
       "4.0      246\n",
       "0.0      188\n",
       "9.0       38\n",
       "Name: Location, dtype: int64"
      ]
     },
     "execution_count": 30,
     "metadata": {},
     "output_type": "execute_result"
    }
   ],
   "source": [
    "new_df['Location'].value_counts()"
   ]
  },
  {
   "cell_type": "code",
   "execution_count": 31,
   "id": "d8b89dbe",
   "metadata": {},
   "outputs": [
    {
     "data": {
      "text/plain": [
       "7.780065     908\n",
       "3.000000     628\n",
       "10.000000    542\n",
       "12.000000    538\n",
       "0.000000     534\n",
       "8.000000     527\n",
       "14.000000    481\n",
       "13.000000    479\n",
       "15.000000    470\n",
       "9.000000     451\n",
       "1.000000     389\n",
       "11.000000    374\n",
       "4.000000     337\n",
       "7.000000     335\n",
       "5.000000     326\n",
       "2.000000     287\n",
       "6.000000     215\n",
       "Name: WindGustDir, dtype: int64"
      ]
     },
     "execution_count": 31,
     "metadata": {},
     "output_type": "execute_result"
    }
   ],
   "source": [
    "new_df['WindGustDir'].value_counts()"
   ]
  },
  {
   "cell_type": "code",
   "execution_count": 32,
   "id": "9ebb55b9",
   "metadata": {},
   "outputs": [
    {
     "data": {
      "text/plain": [
       "7.733149     793\n",
       "3.000000     778\n",
       "12.000000    656\n",
       "7.000000     578\n",
       "9.000000     482\n",
       "15.000000    480\n",
       "11.000000    440\n",
       "14.000000    428\n",
       "1.000000     423\n",
       "5.000000     404\n",
       "13.000000    394\n",
       "4.000000     388\n",
       "8.000000     371\n",
       "0.000000     362\n",
       "10.000000    352\n",
       "6.000000     256\n",
       "2.000000     236\n",
       "Name: WindDir9am, dtype: int64"
      ]
     },
     "execution_count": 32,
     "metadata": {},
     "output_type": "execute_result"
    }
   ],
   "source": [
    "new_df['WindDir9am'].value_counts()"
   ]
  },
  {
   "cell_type": "code",
   "execution_count": 33,
   "id": "5cad8fc8",
   "metadata": {},
   "outputs": [
    {
     "data": {
      "text/plain": [
       "9.000000     773\n",
       "8.000000     684\n",
       "10.000000    588\n",
       "15.000000    535\n",
       "4.000000     528\n",
       "12.000000    469\n",
       "3.000000     459\n",
       "14.000000    439\n",
       "2.000000     431\n",
       "13.000000    430\n",
       "0.000000     427\n",
       "7.000000     423\n",
       "1.000000     387\n",
       "5.000000     349\n",
       "11.000000    334\n",
       "6.000000     285\n",
       "7.765307     280\n",
       "Name: WindDir3pm, dtype: int64"
      ]
     },
     "execution_count": 33,
     "metadata": {},
     "output_type": "execute_result"
    }
   ],
   "source": [
    "new_df['WindDir3pm'].value_counts()"
   ]
  },
  {
   "cell_type": "code",
   "execution_count": 34,
   "id": "1db080a8",
   "metadata": {},
   "outputs": [
    {
     "data": {
      "text/plain": [
       "0.000000    5919\n",
       "1.000000    1799\n",
       "0.243128     103\n",
       "Name: RainToday, dtype: int64"
      ]
     },
     "execution_count": 34,
     "metadata": {},
     "output_type": "execute_result"
    }
   ],
   "source": [
    "new_df['RainToday'].value_counts()"
   ]
  },
  {
   "cell_type": "code",
   "execution_count": 35,
   "id": "1cf1432c",
   "metadata": {},
   "outputs": [
    {
     "data": {
      "text/plain": [
       "0    5982\n",
       "1    1839\n",
       "Name: RainTomorrow, dtype: int64"
      ]
     },
     "execution_count": 35,
     "metadata": {},
     "output_type": "execute_result"
    }
   ],
   "source": [
    "new_df['RainTomorrow'].value_counts()"
   ]
  },
  {
   "cell_type": "code",
   "execution_count": null,
   "id": "a8684375",
   "metadata": {},
   "outputs": [],
   "source": []
  },
  {
   "cell_type": "code",
   "execution_count": null,
   "id": "7355a97c",
   "metadata": {},
   "outputs": [],
   "source": []
  },
  {
   "cell_type": "code",
   "execution_count": null,
   "id": "a378da68",
   "metadata": {},
   "outputs": [],
   "source": []
  },
  {
   "cell_type": "code",
   "execution_count": null,
   "id": "65ac9d13",
   "metadata": {},
   "outputs": [],
   "source": []
  },
  {
   "cell_type": "code",
   "execution_count": null,
   "id": "c36b7179",
   "metadata": {},
   "outputs": [],
   "source": []
  },
  {
   "cell_type": "code",
   "execution_count": null,
   "id": "df6e2afa",
   "metadata": {},
   "outputs": [],
   "source": []
  },
  {
   "cell_type": "markdown",
   "id": "33038c14",
   "metadata": {},
   "source": [
    "# EDA"
   ]
  },
  {
   "cell_type": "markdown",
   "id": "ab3d3fbc",
   "metadata": {},
   "source": [
    "# Univariate Analysis"
   ]
  },
  {
   "cell_type": "code",
   "execution_count": 36,
   "id": "3a896258",
   "metadata": {},
   "outputs": [
    {
     "data": {
      "text/plain": [
       "<AxesSubplot:xlabel='Date', ylabel='Density'>"
      ]
     },
     "execution_count": 36,
     "metadata": {},
     "output_type": "execute_result"
    },
    {
     "data": {
      "image/png": "[encoded data removed]",
      "text/plain": [
       "<Figure size 432x288 with 1 Axes>"
      ]
     },
     "metadata": {
      "needs_background": "light"
     },
     "output_type": "display_data"
    }
   ],
   "source": [
    "sn.distplot(new_df[\"Date\"], hist_kws={'alpha':1}, color='g')"
   ]
  },
  {
   "cell_type": "markdown",
   "id": "f11167b4",
   "metadata": {},
   "source": [
    "* Here we observe a good  distribution of data"
   ]
  },
  {
   "cell_type": "code",
   "execution_count": 37,
   "id": "1efa3f2c",
   "metadata": {},
   "outputs": [
    {
     "data": {
      "text/plain": [
       "<AxesSubplot:xlabel='Location', ylabel='Density'>"
      ]
     },
     "execution_count": 37,
     "metadata": {},
     "output_type": "execute_result"
    },
    {
     "data": {
      "image/png": "[encoded data removed]",
      "text/plain": [
       "<Figure size 432x288 with 1 Axes>"
      ]
     },
     "metadata": {
      "needs_background": "light"
     },
     "output_type": "display_data"
    }
   ],
   "source": [
    "sn.distplot(new_df[\"Location\"], hist_kws={'alpha':1}, color='g')"
   ]
  },
  {
   "cell_type": "markdown",
   "id": "902adebb",
   "metadata": {},
   "source": [
    "* Here we observe a good negative distribution of data"
   ]
  },
  {
   "cell_type": "code",
   "execution_count": 38,
   "id": "d63a93b0",
   "metadata": {},
   "outputs": [
    {
     "data": {
      "text/plain": [
       "<AxesSubplot:xlabel='MinTemp', ylabel='Density'>"
      ]
     },
     "execution_count": 38,
     "metadata": {},
     "output_type": "execute_result"
    },
    {
     "data": {
      "image/png": "[encoded data removed]",
      "text/plain": [
       "<Figure size 432x288 with 1 Axes>"
      ]
     },
     "metadata": {
      "needs_background": "light"
     },
     "output_type": "display_data"
    }
   ],
   "source": [
    "sn.distplot(new_df[\"MinTemp\"], hist_kws={'alpha':1}, color='g')"
   ]
  },
  {
   "cell_type": "markdown",
   "id": "a4cf04cf",
   "metadata": {},
   "source": [
    "* Here we observe a good negative distribution of data"
   ]
  },
  {
   "cell_type": "code",
   "execution_count": 39,
   "id": "3de78e7d",
   "metadata": {},
   "outputs": [
    {
     "data": {
      "text/plain": [
       "<AxesSubplot:xlabel='MaxTemp', ylabel='Density'>"
      ]
     },
     "execution_count": 39,
     "metadata": {},
     "output_type": "execute_result"
    },
    {
     "data": {
      "image/png": "[encoded data removed]",
      "text/plain": [
       "<Figure size 432x288 with 1 Axes>"
      ]
     },
     "metadata": {
      "needs_background": "light"
     },
     "output_type": "display_data"
    }
   ],
   "source": [
    "sn.distplot(new_df[\"MaxTemp\"], hist_kws={'alpha':1}, color='g')"
   ]
  },
  {
   "cell_type": "markdown",
   "id": "7fdd38d4",
   "metadata": {},
   "source": [
    "* Here we observe a good  distribution of data"
   ]
  },
  {
   "cell_type": "code",
   "execution_count": 40,
   "id": "8b7e257d",
   "metadata": {},
   "outputs": [
    {
     "data": {
      "text/plain": [
       "<AxesSubplot:xlabel='Rainfall', ylabel='Density'>"
      ]
     },
     "execution_count": 40,
     "metadata": {},
     "output_type": "execute_result"
    },
    {
     "data": {
      "image/png": "[encoded data removed]",
      "text/plain": [
       "<Figure size 432x288 with 1 Axes>"
      ]
     },
     "metadata": {
      "needs_background": "light"
     },
     "output_type": "display_data"
    }
   ],
   "source": [
    "sn.distplot(new_df[\"Rainfall\"], hist_kws={'alpha':1}, color='g')"
   ]
  },
  {
   "cell_type": "markdown",
   "id": "2a7ffdd8",
   "metadata": {},
   "source": [
    "* Here we observe highly skewed  distribution of data"
   ]
  },
  {
   "cell_type": "code",
   "execution_count": 41,
   "id": "48586984",
   "metadata": {},
   "outputs": [
    {
     "data": {
      "text/plain": [
       "<AxesSubplot:xlabel='Evaporation', ylabel='Density'>"
      ]
     },
     "execution_count": 41,
     "metadata": {},
     "output_type": "execute_result"
    },
    {
     "data": {
      "image/png": "[encoded data removed]",
      "text/plain": [
       "<Figure size 432x288 with 1 Axes>"
      ]
     },
     "metadata": {
      "needs_background": "light"
     },
     "output_type": "display_data"
    }
   ],
   "source": [
    "sn.distplot(new_df[\"Evaporation\"], hist_kws={'alpha':1}, color='g')"
   ]
  },
  {
   "cell_type": "markdown",
   "id": "e7151b68",
   "metadata": {},
   "source": [
    "* Here we observe moderately skewed  distribution of data"
   ]
  },
  {
   "cell_type": "code",
   "execution_count": 42,
   "id": "e5e43f64",
   "metadata": {},
   "outputs": [
    {
     "data": {
      "text/plain": [
       "<AxesSubplot:xlabel='Sunshine', ylabel='Density'>"
      ]
     },
     "execution_count": 42,
     "metadata": {},
     "output_type": "execute_result"
    },
    {
     "data": {
      "image/png": "[encoded data removed]",
      "text/plain": [
       "<Figure size 432x288 with 1 Axes>"
      ]
     },
     "metadata": {
      "needs_background": "light"
     },
     "output_type": "display_data"
    }
   ],
   "source": [
    "sn.distplot(new_df[\"Sunshine\"], hist_kws={'alpha':1}, color='g')"
   ]
  },
  {
   "cell_type": "markdown",
   "id": "384ae380",
   "metadata": {},
   "source": [
    "* Here we observe moderately skewed  negative distribution of data"
   ]
  },
  {
   "cell_type": "code",
   "execution_count": 43,
   "id": "d202378c",
   "metadata": {},
   "outputs": [
    {
     "data": {
      "text/plain": [
       "<AxesSubplot:xlabel='WindGustDir', ylabel='Density'>"
      ]
     },
     "execution_count": 43,
     "metadata": {},
     "output_type": "execute_result"
    },
    {
     "data": {
      "image/png": "[encoded data removed]",
      "text/plain": [
       "<Figure size 432x288 with 1 Axes>"
      ]
     },
     "metadata": {
      "needs_background": "light"
     },
     "output_type": "display_data"
    }
   ],
   "source": [
    "sn.distplot(new_df[\"WindGustDir\"], hist_kws={'alpha':1}, color='g')"
   ]
  },
  {
   "cell_type": "markdown",
   "id": "8add12ab",
   "metadata": {},
   "source": [
    "* Here we observe a good negative distribution of data"
   ]
  },
  {
   "cell_type": "code",
   "execution_count": 44,
   "id": "9d45d8d6",
   "metadata": {},
   "outputs": [
    {
     "data": {
      "text/plain": [
       "<AxesSubplot:xlabel='WindGustSpeed', ylabel='Density'>"
      ]
     },
     "execution_count": 44,
     "metadata": {},
     "output_type": "execute_result"
    },
    {
     "data": {
      "image/png": "[encoded data removed]",
      "text/plain": [
       "<Figure size 432x288 with 1 Axes>"
      ]
     },
     "metadata": {
      "needs_background": "light"
     },
     "output_type": "display_data"
    }
   ],
   "source": [
    "sn.distplot(new_df[\"WindGustSpeed\"], hist_kws={'alpha':1}, color='g')"
   ]
  },
  {
   "cell_type": "markdown",
   "id": "fbb74e12",
   "metadata": {},
   "source": [
    "* Here we observe a good  distribution of data"
   ]
  },
  {
   "cell_type": "code",
   "execution_count": 45,
   "id": "5b261cd4",
   "metadata": {},
   "outputs": [
    {
     "data": {
      "text/plain": [
       "<AxesSubplot:xlabel='WindSpeed9am', ylabel='Density'>"
      ]
     },
     "execution_count": 45,
     "metadata": {},
     "output_type": "execute_result"
    },
    {
     "data": {
      "image/png": "[encoded data removed]",
      "text/plain": [
       "<Figure size 432x288 with 1 Axes>"
      ]
     },
     "metadata": {
      "needs_background": "light"
     },
     "output_type": "display_data"
    }
   ],
   "source": [
    "sn.distplot(new_df[\"WindSpeed9am\"], hist_kws={'alpha':1}, color='g')"
   ]
  },
  {
   "cell_type": "markdown",
   "id": "dceeb2c8",
   "metadata": {},
   "source": [
    "* Here we observe moderately skewed  distribution of data"
   ]
  },
  {
   "cell_type": "code",
   "execution_count": 46,
   "id": "7a73d59a",
   "metadata": {},
   "outputs": [
    {
     "data": {
      "text/plain": [
       "<AxesSubplot:xlabel='WindSpeed3pm', ylabel='Density'>"
      ]
     },
     "execution_count": 46,
     "metadata": {},
     "output_type": "execute_result"
    },
    {
     "data": {
      "image/png": "[encoded data removed]",
      "text/plain": [
       "<Figure size 432x288 with 1 Axes>"
      ]
     },
     "metadata": {
      "needs_background": "light"
     },
     "output_type": "display_data"
    }
   ],
   "source": [
    "sn.distplot(new_df[\"WindSpeed3pm\"], hist_kws={'alpha':1}, color='g')"
   ]
  },
  {
   "cell_type": "markdown",
   "id": "181fa1e3",
   "metadata": {},
   "source": [
    "* Here we observe a good  distribution of data"
   ]
  },
  {
   "cell_type": "code",
   "execution_count": 47,
   "id": "ed7cd05c",
   "metadata": {},
   "outputs": [
    {
     "data": {
      "text/plain": [
       "<AxesSubplot:xlabel='Humidity9am', ylabel='Density'>"
      ]
     },
     "execution_count": 47,
     "metadata": {},
     "output_type": "execute_result"
    },
    {
     "data": {
      "image/png": "[encoded data removed]",
      "text/plain": [
       "<Figure size 432x288 with 1 Axes>"
      ]
     },
     "metadata": {
      "needs_background": "light"
     },
     "output_type": "display_data"
    }
   ],
   "source": [
    "sn.distplot(new_df[\"Humidity9am\"], hist_kws={'alpha':1}, color='g')"
   ]
  },
  {
   "cell_type": "markdown",
   "id": "c48a7009",
   "metadata": {},
   "source": [
    "* Here we observe a good negative distribution of data"
   ]
  },
  {
   "cell_type": "code",
   "execution_count": 48,
   "id": "91e2f670",
   "metadata": {},
   "outputs": [
    {
     "data": {
      "text/plain": [
       "<AxesSubplot:xlabel='Humidity3pm', ylabel='Density'>"
      ]
     },
     "execution_count": 48,
     "metadata": {},
     "output_type": "execute_result"
    },
    {
     "data": {
      "image/png": "[encoded data removed]",
      "text/plain": [
       "<Figure size 432x288 with 1 Axes>"
      ]
     },
     "metadata": {
      "needs_background": "light"
     },
     "output_type": "display_data"
    }
   ],
   "source": [
    "sn.distplot(new_df[\"Humidity3pm\"], hist_kws={'alpha':1}, color='g')"
   ]
  },
  {
   "cell_type": "markdown",
   "id": "d09295fe",
   "metadata": {},
   "source": [
    "* Here we observe a good  distribution of data"
   ]
  },
  {
   "cell_type": "code",
   "execution_count": 49,
   "id": "54aab329",
   "metadata": {},
   "outputs": [
    {
     "data": {
      "text/plain": [
       "<AxesSubplot:xlabel='Cloud9am', ylabel='Density'>"
      ]
     },
     "execution_count": 49,
     "metadata": {},
     "output_type": "execute_result"
    },
    {
     "data": {
      "image/png": "[encoded data removed]",
      "text/plain": [
       "<Figure size 432x288 with 1 Axes>"
      ]
     },
     "metadata": {
      "needs_background": "light"
     },
     "output_type": "display_data"
    }
   ],
   "source": [
    "sn.distplot(new_df[\"Cloud9am\"], hist_kws={'alpha':1}, color='g')"
   ]
  },
  {
   "cell_type": "markdown",
   "id": "b7d19315",
   "metadata": {},
   "source": [
    "* Here we observe a good negative distribution of data"
   ]
  },
  {
   "cell_type": "code",
   "execution_count": 50,
   "id": "1b88a90a",
   "metadata": {},
   "outputs": [
    {
     "data": {
      "text/plain": [
       "<AxesSubplot:xlabel='Cloud3pm', ylabel='Density'>"
      ]
     },
     "execution_count": 50,
     "metadata": {},
     "output_type": "execute_result"
    },
    {
     "data": {
      "image/png": "[encoded data removed]",
      "text/plain": [
       "<Figure size 432x288 with 1 Axes>"
      ]
     },
     "metadata": {
      "needs_background": "light"
     },
     "output_type": "display_data"
    }
   ],
   "source": [
    "sn.distplot(new_df[\"Cloud3pm\"], hist_kws={'alpha':1}, color='g')"
   ]
  },
  {
   "cell_type": "markdown",
   "id": "f88dc88a",
   "metadata": {},
   "source": [
    "* Here we observe a good negative distribution of data"
   ]
  },
  {
   "cell_type": "code",
   "execution_count": 51,
   "id": "c088b736",
   "metadata": {},
   "outputs": [
    {
     "data": {
      "text/plain": [
       "<AxesSubplot:xlabel='RainToday', ylabel='Density'>"
      ]
     },
     "execution_count": 51,
     "metadata": {},
     "output_type": "execute_result"
    },
    {
     "data": {
      "image/png": "[encoded data removed]",
      "text/plain": [
       "<Figure size 432x288 with 1 Axes>"
      ]
     },
     "metadata": {
      "needs_background": "light"
     },
     "output_type": "display_data"
    }
   ],
   "source": [
    "sn.distplot(new_df[\"RainToday\"], hist_kws={'alpha':1}, color='g')"
   ]
  },
  {
   "cell_type": "markdown",
   "id": "f06b4a61",
   "metadata": {},
   "source": [
    "* Here we observe highly skewed  distribution of data"
   ]
  },
  {
   "cell_type": "code",
   "execution_count": 52,
   "id": "ad65df85",
   "metadata": {},
   "outputs": [
    {
     "data": {
      "text/plain": [
       "<AxesSubplot:xlabel='RainTomorrow', ylabel='Density'>"
      ]
     },
     "execution_count": 52,
     "metadata": {},
     "output_type": "execute_result"
    },
    {
     "data": {
      "image/png": "[encoded data removed]",
      "text/plain": [
       "<Figure size 432x288 with 1 Axes>"
      ]
     },
     "metadata": {
      "needs_background": "light"
     },
     "output_type": "display_data"
    }
   ],
   "source": [
    "sn.distplot(new_df[\"RainTomorrow\"], hist_kws={'alpha':1}, color='r', rug=True, rug_kws={\"color\": \"b\", \"alpha\": 0.5, \"linewidth\": 3, \"height\":0.2})"
   ]
  },
  {
   "cell_type": "markdown",
   "id": "263db55a",
   "metadata": {},
   "source": [
    "* Here we observe highly skewed  distribution of data"
   ]
  },
  {
   "cell_type": "markdown",
   "id": "bab1ba8e",
   "metadata": {},
   "source": [
    "# Scatterplot"
   ]
  },
  {
   "cell_type": "code",
   "execution_count": 53,
   "id": "f6ffd08c",
   "metadata": {},
   "outputs": [
    {
     "data": {
      "image/png": "[encoded data removed]",
      "text/plain": [
       "<Figure size 1080x360 with 1 Axes>"
      ]
     },
     "metadata": {
      "needs_background": "light"
     },
     "output_type": "display_data"
    }
   ],
   "source": [
    "plt.figure(figsize=[15,5])\n",
    "\n",
    "plt.title('SCATTERPLOT FOR RainTomorrow AND Date')\n",
    "\n",
    "sn.scatterplot(new_df['RainTomorrow'], new_df['Date'], size=20, marker =\"*\", edgecolor =\"red\", alpha=1);"
   ]
  },
  {
   "cell_type": "markdown",
   "id": "56ebfc6e",
   "metadata": {},
   "source": [
    "* Here we observe almost equal scattered data for both RainTomorrow report for all customerID Data"
   ]
  },
  {
   "cell_type": "code",
   "execution_count": 54,
   "id": "ca8c7227",
   "metadata": {},
   "outputs": [
    {
     "data": {
      "image/png": "[encoded data removed]",
      "text/plain": [
       "<Figure size 1080x360 with 1 Axes>"
      ]
     },
     "metadata": {
      "needs_background": "light"
     },
     "output_type": "display_data"
    }
   ],
   "source": [
    "plt.figure(figsize=[15,5])\n",
    "\n",
    "plt.title('SCATTERPLOT FOR RainTomorrow AND Location')\n",
    "\n",
    "sn.scatterplot(new_df['RainTomorrow'], new_df['Location'], size=20, marker =\"*\", edgecolor =\"red\", alpha=1);"
   ]
  },
  {
   "cell_type": "markdown",
   "id": "4268fec8",
   "metadata": {},
   "source": [
    "* Here we observe slightly scattered data for No RainTomorrow report for all customerID Data"
   ]
  },
  {
   "cell_type": "code",
   "execution_count": 55,
   "id": "4945f200",
   "metadata": {},
   "outputs": [
    {
     "data": {
      "image/png": "[encoded data removed]",
      "text/plain": [
       "<Figure size 1080x360 with 1 Axes>"
      ]
     },
     "metadata": {
      "needs_background": "light"
     },
     "output_type": "display_data"
    }
   ],
   "source": [
    "plt.figure(figsize=[15,5])\n",
    "\n",
    "plt.title('SCATTERPLOT FOR RainTomorrow AND MinTemp')\n",
    "\n",
    "sn.scatterplot(new_df['RainTomorrow'], new_df['MinTemp'], size=20, marker =\"*\", edgecolor =\"red\", alpha=1);"
   ]
  },
  {
   "cell_type": "markdown",
   "id": "d8a05926",
   "metadata": {},
   "source": [
    "* Here we observe slightly scattered data for No RainTomorrow report for all MinTemp Data"
   ]
  },
  {
   "cell_type": "code",
   "execution_count": 56,
   "id": "85c011c5",
   "metadata": {},
   "outputs": [
    {
     "data": {
      "image/png": "[encoded data removed]",
      "text/plain": [
       "<Figure size 1080x360 with 1 Axes>"
      ]
     },
     "metadata": {
      "needs_background": "light"
     },
     "output_type": "display_data"
    }
   ],
   "source": [
    "plt.figure(figsize=[15,5])\n",
    "\n",
    "plt.title('SCATTERPLOT FOR RainTomorrow AND MaxTemp')\n",
    "\n",
    "sn.scatterplot(new_df['RainTomorrow'], new_df['MaxTemp'], size=20, marker =\"*\", edgecolor =\"red\", alpha=1);"
   ]
  },
  {
   "cell_type": "markdown",
   "id": "9122b00b",
   "metadata": {},
   "source": [
    "* Here we observe slightly scattered data for No RainTomorrow report for all MaxTemp Data"
   ]
  },
  {
   "cell_type": "code",
   "execution_count": 57,
   "id": "69322300",
   "metadata": {},
   "outputs": [
    {
     "data": {
      "image/png": "[encoded data removed]",
      "text/plain": [
       "<Figure size 1080x360 with 1 Axes>"
      ]
     },
     "metadata": {
      "needs_background": "light"
     },
     "output_type": "display_data"
    }
   ],
   "source": [
    "plt.figure(figsize=[15,5])\n",
    "\n",
    "plt.title('SCATTERPLOT FOR RainTomorrow AND Rainfall')\n",
    "\n",
    "sn.scatterplot(new_df['RainTomorrow'], new_df['Rainfall'], size=20, marker =\"*\", edgecolor =\"red\", alpha=1);"
   ]
  },
  {
   "cell_type": "markdown",
   "id": "d16d3b16",
   "metadata": {},
   "source": [
    "* Here we observe slightly scattered data for Yes RainTomorrow report for all Rainfall Data"
   ]
  },
  {
   "cell_type": "code",
   "execution_count": 58,
   "id": "0f9c65f9",
   "metadata": {},
   "outputs": [
    {
     "data": {
      "image/png": "[encoded data removed]",
      "text/plain": [
       "<Figure size 1080x360 with 1 Axes>"
      ]
     },
     "metadata": {
      "needs_background": "light"
     },
     "output_type": "display_data"
    }
   ],
   "source": [
    "plt.figure(figsize=[15,5])\n",
    "\n",
    "plt.title('SCATTERPLOT FOR RainTomorrow AND Evaporation')\n",
    "\n",
    "sn.scatterplot(new_df['RainTomorrow'], new_df['Evaporation'], size=20, marker =\"*\", edgecolor =\"red\", alpha=1);"
   ]
  },
  {
   "cell_type": "markdown",
   "id": "f183f28a",
   "metadata": {},
   "source": [
    "* Here we observe slightly scattered data for No RainTomorrow report for all Evaporation Data"
   ]
  },
  {
   "cell_type": "code",
   "execution_count": 59,
   "id": "a7517d74",
   "metadata": {},
   "outputs": [
    {
     "data": {
      "image/png": "[encoded data removed]",
      "text/plain": [
       "<Figure size 1080x360 with 1 Axes>"
      ]
     },
     "metadata": {
      "needs_background": "light"
     },
     "output_type": "display_data"
    }
   ],
   "source": [
    "plt.figure(figsize=[15,5])\n",
    "\n",
    "plt.title('SCATTERPLOT FOR RainTomorrow AND Sunshine')\n",
    "\n",
    "sn.scatterplot(new_df['RainTomorrow'], new_df['Sunshine'], size=20, marker =\"*\", edgecolor =\"red\", alpha=1);"
   ]
  },
  {
   "cell_type": "markdown",
   "id": "2a0a103f",
   "metadata": {},
   "source": [
    "* Here we observe slightly scattered data for No RainTomorrow report for all Sunshine Data"
   ]
  },
  {
   "cell_type": "code",
   "execution_count": 60,
   "id": "422f9d38",
   "metadata": {},
   "outputs": [
    {
     "data": {
      "image/png": "[encoded data removed]",
      "text/plain": [
       "<Figure size 1080x360 with 1 Axes>"
      ]
     },
     "metadata": {
      "needs_background": "light"
     },
     "output_type": "display_data"
    }
   ],
   "source": [
    "plt.figure(figsize=[15,5])\n",
    "\n",
    "plt.title('SCATTERPLOT FOR RainTomorrow AND WindGustDir')\n",
    "\n",
    "sn.scatterplot(new_df['RainTomorrow'], new_df['WindGustDir'], size=20, marker =\"*\", edgecolor =\"red\", alpha=1);"
   ]
  },
  {
   "cell_type": "markdown",
   "id": "70179eac",
   "metadata": {},
   "source": [
    "* Here we observe equal scattered data for both RainTomorrow report for all WindGustDir Data"
   ]
  },
  {
   "cell_type": "code",
   "execution_count": 61,
   "id": "772eada2",
   "metadata": {},
   "outputs": [
    {
     "data": {
      "image/png": "[encoded data removed]",
      "text/plain": [
       "<Figure size 1080x360 with 1 Axes>"
      ]
     },
     "metadata": {
      "needs_background": "light"
     },
     "output_type": "display_data"
    }
   ],
   "source": [
    "plt.figure(figsize=[15,5])\n",
    "\n",
    "plt.title('SCATTERPLOT FOR RainTomorrow AND WindGustSpeed')\n",
    "\n",
    "sn.scatterplot(new_df['RainTomorrow'], new_df['WindGustSpeed'], size=20, marker =\"*\", edgecolor =\"red\", alpha=1);"
   ]
  },
  {
   "cell_type": "markdown",
   "id": "ed4080ea",
   "metadata": {},
   "source": [
    "* Here we observe equal scattered data for both RainTomorrow report for all WindGustSpeed Data"
   ]
  },
  {
   "cell_type": "code",
   "execution_count": 62,
   "id": "d99c17a2",
   "metadata": {},
   "outputs": [
    {
     "data": {
      "image/png": "[encoded data removed]",
      "text/plain": [
       "<Figure size 1080x360 with 1 Axes>"
      ]
     },
     "metadata": {
      "needs_background": "light"
     },
     "output_type": "display_data"
    }
   ],
   "source": [
    "plt.figure(figsize=[15,5])\n",
    "\n",
    "plt.title('SCATTERPLOT FOR RainTomorrow AND WindDir9am')\n",
    "\n",
    "sn.scatterplot(new_df['RainTomorrow'], new_df['WindDir9am'], size=20, marker =\"*\", edgecolor =\"red\", alpha=1);"
   ]
  },
  {
   "cell_type": "markdown",
   "id": "ccfee827",
   "metadata": {},
   "source": [
    "* Here we observe equal scattered data for both RainTomorrow report for all WindDir9am Data"
   ]
  },
  {
   "cell_type": "code",
   "execution_count": 63,
   "id": "8bd6031d",
   "metadata": {},
   "outputs": [
    {
     "data": {
      "image/png": "[encoded data removed]",
      "text/plain": [
       "<Figure size 1080x360 with 1 Axes>"
      ]
     },
     "metadata": {
      "needs_background": "light"
     },
     "output_type": "display_data"
    }
   ],
   "source": [
    "plt.figure(figsize=[15,5])\n",
    "\n",
    "plt.title('SCATTERPLOT FOR RainTomorrow AND WindDir3pm')\n",
    "\n",
    "sn.scatterplot(new_df['RainTomorrow'], new_df['WindDir3pm'], size=20, marker =\"*\", edgecolor =\"red\", alpha=1);"
   ]
  },
  {
   "cell_type": "markdown",
   "id": "26c9e3b2",
   "metadata": {},
   "source": [
    "* Here we observe equal scattered data for both RainTomorrow report for all WindDir3pm Data"
   ]
  },
  {
   "cell_type": "code",
   "execution_count": 64,
   "id": "d7325c39",
   "metadata": {},
   "outputs": [
    {
     "data": {
      "image/png": "[encoded data removed]",
      "text/plain": [
       "<Figure size 1080x360 with 1 Axes>"
      ]
     },
     "metadata": {
      "needs_background": "light"
     },
     "output_type": "display_data"
    }
   ],
   "source": [
    "plt.figure(figsize=[15,5])\n",
    "\n",
    "plt.title('SCATTERPLOT FOR RainTomorrow AND Humidity9am')\n",
    "\n",
    "sn.scatterplot(new_df['RainTomorrow'], new_df['Humidity9am'], size=20, marker =\"*\", edgecolor =\"red\", alpha=1);"
   ]
  },
  {
   "cell_type": "markdown",
   "id": "faf81f5e",
   "metadata": {},
   "source": [
    "* Here we observe slightly scattered data for No RainTomorrow report for all Humidity9am Data"
   ]
  },
  {
   "cell_type": "code",
   "execution_count": 65,
   "id": "ae3e7faa",
   "metadata": {},
   "outputs": [
    {
     "data": {
      "image/png": "[encoded data removed]",
      "text/plain": [
       "<Figure size 1080x360 with 1 Axes>"
      ]
     },
     "metadata": {
      "needs_background": "light"
     },
     "output_type": "display_data"
    }
   ],
   "source": [
    "plt.figure(figsize=[15,5])\n",
    "\n",
    "plt.title('SCATTERPLOT FOR RainTomorrow AND Humidity3pm')\n",
    "\n",
    "sn.scatterplot(new_df['RainTomorrow'], new_df['Humidity3pm'], size=20, marker =\"*\", edgecolor =\"red\", alpha=1);"
   ]
  },
  {
   "cell_type": "markdown",
   "id": "7e8777c2",
   "metadata": {},
   "source": [
    "* Here we observe slightly scattered data for No RainTomorrow report for all Humidity3pm Data"
   ]
  },
  {
   "cell_type": "code",
   "execution_count": 66,
   "id": "2525b990",
   "metadata": {},
   "outputs": [
    {
     "data": {
      "image/png": "[encoded data removed]",
      "text/plain": [
       "<Figure size 1080x360 with 1 Axes>"
      ]
     },
     "metadata": {
      "needs_background": "light"
     },
     "output_type": "display_data"
    }
   ],
   "source": [
    "plt.figure(figsize=[15,5])\n",
    "\n",
    "plt.title('SCATTERPLOT FOR RainTomorrow AND Cloud9am')\n",
    "\n",
    "sn.scatterplot(new_df['RainTomorrow'], new_df['Cloud9am'], size=20, marker =\"*\", edgecolor =\"red\", alpha=1);"
   ]
  },
  {
   "cell_type": "markdown",
   "id": "604c7845",
   "metadata": {},
   "source": [
    "* Here we observe slightly scattered data for No RainTomorrow report for all Cloud9am Data"
   ]
  },
  {
   "cell_type": "code",
   "execution_count": 67,
   "id": "e5ff3dc7",
   "metadata": {},
   "outputs": [
    {
     "data": {
      "image/png": "[encoded data removed]",
      "text/plain": [
       "<Figure size 1080x360 with 1 Axes>"
      ]
     },
     "metadata": {
      "needs_background": "light"
     },
     "output_type": "display_data"
    }
   ],
   "source": [
    "plt.figure(figsize=[15,5])\n",
    "\n",
    "plt.title('SCATTERPLOT FOR RainTomorrow AND Cloud3pm')\n",
    "\n",
    "sn.scatterplot(new_df['RainTomorrow'], new_df['Cloud3pm'], size=20, marker =\"*\", edgecolor =\"red\", alpha=1);"
   ]
  },
  {
   "cell_type": "markdown",
   "id": "42603c50",
   "metadata": {},
   "source": [
    "* Here we observe slightly scattered data for No RainTomorrow report for all Cloud3pm Data"
   ]
  },
  {
   "cell_type": "code",
   "execution_count": 68,
   "id": "4187c5e5",
   "metadata": {},
   "outputs": [
    {
     "data": {
      "image/png": "[encoded data removed]",
      "text/plain": [
       "<Figure size 1080x360 with 1 Axes>"
      ]
     },
     "metadata": {
      "needs_background": "light"
     },
     "output_type": "display_data"
    }
   ],
   "source": [
    "plt.figure(figsize=[15,5])\n",
    "\n",
    "plt.title('SCATTERPLOT FOR RainTomorrow AND RainToday')\n",
    "\n",
    "sn.scatterplot(new_df['RainTomorrow'], new_df['RainToday'], size=20, marker =\"*\", edgecolor =\"red\", alpha=1);"
   ]
  },
  {
   "cell_type": "markdown",
   "id": "5219e8ad",
   "metadata": {},
   "source": [
    "* Here we observe equal scattered data for both RainTomorrow report for all RainToday Data"
   ]
  },
  {
   "cell_type": "code",
   "execution_count": null,
   "id": "9b3ab8cb",
   "metadata": {},
   "outputs": [],
   "source": []
  },
  {
   "cell_type": "code",
   "execution_count": null,
   "id": "fe1f9112",
   "metadata": {},
   "outputs": [],
   "source": []
  }
 ],
 "metadata": {
  "kernelspec": {
   "display_name": "Python 3",
   "language": "python",
   "name": "python3"
  },
  "language_info": {
   "codemirror_mode": {
    "name": "ipython",
    "version": 3
   },
   "file_extension": ".py",
   "mimetype": "text/x-python",
   "name": "python",
   "nbconvert_exporter": "python",
   "pygments_lexer": "ipython3",
   "version": "3.8.8"
  }
 },
 "nbformat": 4,
 "nbformat_minor": 5
}
