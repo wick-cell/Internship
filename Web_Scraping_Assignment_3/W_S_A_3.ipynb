{
 "cells": [
  {
   "cell_type": "code",
   "execution_count": null,
   "id": "a1b3c2be",
   "metadata": {},
   "outputs": [],
   "source": [
    "# (1) Write a python program which searches all the product under a particular product from www.amazon.in.\n",
    "# The product to be searched will be taken as input from user. For e.g. If user input is ‘guitar’. Then search\n",
    "# for guitars.\n"
   ]
  },
  {
   "cell_type": "code",
   "execution_count": null,
   "id": "b8181284",
   "metadata": {},
   "outputs": [],
   "source": [
    "import selenium\n",
    "from selenium import webdriver\n",
    "import pandas as pd\n",
    "import warnings\n",
    "warnings.filterwarnings(\"ignore\")\n",
    "import time"
   ]
  },
  {
   "cell_type": "code",
   "execution_count": null,
   "id": "62614f4e",
   "metadata": {},
   "outputs": [],
   "source": [
    "driver1 = webdriver.Chrome(r'C:\\Users\\Rick\\OneDrive\\Desktop\\Softwares\\chromedriver.exe')\n",
    "time.sleep(5)"
   ]
  },
  {
   "cell_type": "code",
   "execution_count": null,
   "id": "c11d6cd8",
   "metadata": {},
   "outputs": [],
   "source": [
    "url1 = 'https://www.amazon.in/'\n",
    "time.sleep(5)"
   ]
  },
  {
   "cell_type": "code",
   "execution_count": null,
   "id": "bb044ba7",
   "metadata": {},
   "outputs": [],
   "source": [
    "driver1.get(url1)\n",
    "time.sleep(5)"
   ]
  },
  {
   "cell_type": "code",
   "execution_count": null,
   "id": "c05ea767",
   "metadata": {},
   "outputs": [],
   "source": [
    "# To automate chromedriver to search-bar of Product Search looking from particular product\n",
    "Searchdesignation = driver1.find_element_by_id(\"twotabsearchtextbox\")\n",
    "Searchdesignation\n",
    "time.sleep(5)"
   ]
  },
  {
   "cell_type": "code",
   "execution_count": null,
   "id": "552d8edf",
   "metadata": {},
   "outputs": [],
   "source": [
    "Searchdesignation.send_keys(\"Guitars\")\n",
    "time.sleep(5)"
   ]
  },
  {
   "cell_type": "code",
   "execution_count": null,
   "id": "d793059b",
   "metadata": {},
   "outputs": [],
   "source": [
    "# To locate the submit key for automation\n",
    "Searchbutton = driver1.find_element_by_id(\"nav-search-submit-button\")\n",
    "Searchbutton.click()\n",
    "time.sleep(5)"
   ]
  },
  {
   "cell_type": "code",
   "execution_count": null,
   "id": "85cfe87a",
   "metadata": {},
   "outputs": [],
   "source": [
    "# (2) In the above question, now scrape the following details of each product listed in first 3 pages of your\n",
    "# search results and save it in a data frame and csv. In case if any product has less than 3 pages in search\n",
    "# results then scrape all the products available under that product name. Details to be scraped are: \"Brand\n",
    "# Name\", \"Name of the Product\", \"Price\", \"Return/Exchange\", \"Expected Delivery\", \"Availability\" and\n",
    "# “Product URL”. In case, if any of the details are missing for any of the product then replace it by “-“."
   ]
  },
  {
   "cell_type": "code",
   "execution_count": null,
   "id": "03aff4e7",
   "metadata": {},
   "outputs": [],
   "source": [
    "P1URL = driver1.find_elements_by_xpath('//a[@class=\"a-link-normal s-no-outline\"]')\n",
    "time.sleep(5)"
   ]
  },
  {
   "cell_type": "code",
   "execution_count": null,
   "id": "8eca77bd",
   "metadata": {},
   "outputs": [],
   "source": [
    "product_urls = []\n",
    "\n",
    "for i in P1URL:\n",
    "     product_urls.append(i.get_attribute(\"href\")) \n",
    "time.sleep(5)"
   ]
  },
  {
   "cell_type": "code",
   "execution_count": null,
   "id": "f5bc251a",
   "metadata": {},
   "outputs": [],
   "source": [
    "P1B = []\n",
    "P1P = []\n",
    "P1RE = []\n",
    "P1ED = []\n",
    "P1AV = []\n",
    "\n",
    "\n",
    "\n",
    "for i in product_urls:\n",
    "    driver1.get(i)\n",
    "    try:\n",
    "        ProductBrands = driver1.find_element_by_xpath('//*[@id=\"productTitle\"]')\n",
    "        P1B.append(ProductBrands.text)\n",
    "    except:\n",
    "        P1B.append('-')\n",
    "    try:\n",
    "        ProductPrice = driver1.find_element_by_xpath('//*[@id=\"corePrice_feature_div\"]/div/span/span[2]/span[2]')\n",
    "        P1P.append(ProductPrice.text)\n",
    "    except:\n",
    "        try:\n",
    "            ProductPrice2 = driver1.find_element_by_xpath('//*[@id=\"corePrice_desktop\"]/div/table/tbody/tr[2]/td[2]/span[1]')\n",
    "            P1P.append(ProductPrice2.text)\n",
    "        except:\n",
    "            P1P.append('-')\n",
    "    try:\n",
    "        ProductReturnExchange = driver1.find_element_by_xpath('//*[@id=\"RETURNS_POLICY\"]/span/div[2]/a')\n",
    "        P1RE.append(ProductReturnExchange.text)\n",
    "    except:\n",
    "        P1RE.append('-')\n",
    "    try:\n",
    "        ProductExpectedDelivery = driver1.find_element_by_xpath('//*[@id=\"mir-layout-DELIVERY_BLOCK-slot-DELIVERY_MESSAGE\"]')\n",
    "        P1ED.append(ProductExpectedDelivery.text)\n",
    "    except:\n",
    "        P1ED.append('-')\n",
    "    try:\n",
    "        ProductAvailability = driver1.find_element_by_xpath('//*[@id=\"availability\"]/span')\n",
    "        P1AV.append(ProductAvailability.text)\n",
    "    except:\n",
    "        P1AV.append('-')\n",
    "        "
   ]
  },
  {
   "cell_type": "code",
   "execution_count": null,
   "id": "2f087f6f",
   "metadata": {},
   "outputs": [],
   "source": [
    "Amazon=pd.DataFrame({})\n",
    "Amazon['Brand and Name of the Product']=P1B\n",
    "Amazon['Price']=P1P\n",
    "Amazon['Return/Exchange']=P1RE\n",
    "Amazon['Expected Delivery']=P1ED\n",
    "Amazon['Availability']=P1AV\n",
    "Amazon['Product URL']=product_urls\n",
    "Amazon"
   ]
  },
  {
   "cell_type": "code",
   "execution_count": null,
   "id": "39941946",
   "metadata": {},
   "outputs": [],
   "source": [
    "# (3) Write a python program to access the search bar and search button on images.google.com and scrape 10\n",
    "# images each for keywords ‘fruits’, ‘cars’ and ‘Machine Learning’, ‘Guitar’, ‘Cakes’"
   ]
  },
  {
   "cell_type": "code",
   "execution_count": null,
   "id": "04c37bc3",
   "metadata": {},
   "outputs": [],
   "source": [
    "import selenium\n",
    "from selenium import webdriver\n",
    "import pandas as pd\n",
    "import warnings\n",
    "warnings.filterwarnings(\"ignore\")\n",
    "import time"
   ]
  },
  {
   "cell_type": "code",
   "execution_count": null,
   "id": "68b25624",
   "metadata": {},
   "outputs": [],
   "source": [
    "driver3 = webdriver.Chrome(r'C:\\Users\\Rick\\OneDrive\\Desktop\\Softwares\\chromedriver.exe')\n",
    "time.sleep(5)"
   ]
  },
  {
   "cell_type": "code",
   "execution_count": null,
   "id": "f8170a0c",
   "metadata": {},
   "outputs": [],
   "source": [
    "url3 = 'https://www.google.co.in/'\n",
    "time.sleep(5)"
   ]
  },
  {
   "cell_type": "code",
   "execution_count": null,
   "id": "12c0fd6d",
   "metadata": {},
   "outputs": [],
   "source": [
    "driver3.get(url3)\n",
    "time.sleep(5)"
   ]
  },
  {
   "cell_type": "code",
   "execution_count": null,
   "id": "175ae704",
   "metadata": {},
   "outputs": [],
   "source": [
    "# To automate chromedriver to search-bar of google Images\n",
    "\n",
    "googleimages = driver3.find_element_by_xpath('/html/body/div[1]/div[1]/div/div/div/div[1]/div/div[2]/a').click()\n",
    "time.sleep(5)"
   ]
  },
  {
   "cell_type": "code",
   "execution_count": null,
   "id": "7fc9aa4a",
   "metadata": {},
   "outputs": [],
   "source": [
    "# To automate chromedriver to search-bar of google Images\n",
    "\n",
    "googleimgsearch = driver3.find_element_by_xpath('/html/body/div[1]/div[3]/form/div[1]/div[1]/div[1]/div/div[2]/input')\n",
    "googleimgsearch.send_keys(\"fruits\")"
   ]
  },
  {
   "cell_type": "code",
   "execution_count": null,
   "id": "96c38460",
   "metadata": {},
   "outputs": [],
   "source": [
    "# To automate chrome driver on images section \n",
    "\n",
    "googleimages = driver3.find_element_by_xpath('/html/body/div[1]/div[3]/form/div[1]/div[1]/div[1]/button/div/span')\n",
    "googleimages.click()\n",
    "time.sleep(5)"
   ]
  },
  {
   "cell_type": "code",
   "execution_count": null,
   "id": "fa6151a6",
   "metadata": {},
   "outputs": [],
   "source": [
    "# To find all the images link\n",
    "\n",
    "FruitsImages = driver3.find_elements_by_tag_name('a')\n",
    "time.sleep(5)"
   ]
  },
  {
   "cell_type": "code",
   "execution_count": null,
   "id": "3ec06b73",
   "metadata": {},
   "outputs": [],
   "source": [
    "product_urls = []\n",
    "\n",
    "for i in FruitsImages:\n",
    "     product_urls.append(i.get_attribute(\"href\")) \n",
    "time.sleep(5)"
   ]
  },
  {
   "cell_type": "code",
   "execution_count": null,
   "id": "3740e2e0",
   "metadata": {},
   "outputs": [],
   "source": [
    "# To locate the submit button again\n",
    "\n",
    "googlesearch2 = driver3.find_element_by_xpath('//input[@class=\"og3lId\"]')\n",
    "time.sleep(5)"
   ]
  },
  {
   "cell_type": "code",
   "execution_count": null,
   "id": "c2fba2e0",
   "metadata": {},
   "outputs": [],
   "source": [
    "# To clear the search bar\n",
    "\n",
    "googlesearch2.clear()\n",
    "time.sleep(5)"
   ]
  },
  {
   "cell_type": "code",
   "execution_count": null,
   "id": "add978aa",
   "metadata": {},
   "outputs": [],
   "source": [
    "googlesearch2.send_keys(\"cars\")"
   ]
  },
  {
   "cell_type": "code",
   "execution_count": null,
   "id": "56087595",
   "metadata": {},
   "outputs": [],
   "source": [
    "# To locate Submit button for Cars\n",
    "\n",
    "Search2 = driver3.find_element_by_xpath('//*[@id=\"BIqFsb\"]')\n",
    "Search2.click()\n",
    "\n",
    "time.sleep(5)"
   ]
  },
  {
   "cell_type": "code",
   "execution_count": null,
   "id": "29920a10",
   "metadata": {},
   "outputs": [],
   "source": [
    "# To find all the images link\n",
    "\n",
    "MclarenP1images = driver3.find_elements_by_tag_name('a')\n",
    "time.sleep(5)"
   ]
  },
  {
   "cell_type": "code",
   "execution_count": null,
   "id": "49e2b35d",
   "metadata": {},
   "outputs": [],
   "source": [
    "cars_urls = []\n",
    "\n",
    "for i in MclarenP1images:\n",
    "     cars_urls.append(i.get_attribute(\"href\")) \n",
    "time.sleep(5)"
   ]
  },
  {
   "cell_type": "code",
   "execution_count": null,
   "id": "56f85dc0",
   "metadata": {},
   "outputs": [],
   "source": [
    "# To locate the submit button again\n",
    "\n",
    "googlesearch3 = driver3.find_element_by_xpath('//input[@class=\"og3lId\"]')\n",
    "time.sleep(5)"
   ]
  },
  {
   "cell_type": "code",
   "execution_count": null,
   "id": "9954e531",
   "metadata": {},
   "outputs": [],
   "source": [
    "# To clear the search bar\n",
    "\n",
    "googlesearch3.clear()\n",
    "time.sleep(5)"
   ]
  },
  {
   "cell_type": "code",
   "execution_count": null,
   "id": "a141c583",
   "metadata": {},
   "outputs": [],
   "source": [
    "googlesearch3.send_keys(\"Machine Learning\")"
   ]
  },
  {
   "cell_type": "code",
   "execution_count": null,
   "id": "a05e8fcf",
   "metadata": {},
   "outputs": [],
   "source": [
    "# To locate Submit button for Cars\n",
    "\n",
    "Search3 = driver3.find_element_by_xpath('//*[@id=\"BIqFsb\"]')\n",
    "Search3.click()\n",
    "time.sleep(5)"
   ]
  },
  {
   "cell_type": "code",
   "execution_count": null,
   "id": "b3caf5f2",
   "metadata": {},
   "outputs": [],
   "source": [
    "# To find all the images link\n",
    "\n",
    "MLlinks = driver3.find_elements_by_tag_name('a')\n",
    "time.sleep(5)"
   ]
  },
  {
   "cell_type": "code",
   "execution_count": null,
   "id": "8142a204",
   "metadata": {},
   "outputs": [],
   "source": [
    "ML_urls = []\n",
    "\n",
    "for i in MLlinks:\n",
    "     ML_urls.append(i.get_attribute(\"href\")) \n",
    "time.sleep(5)"
   ]
  },
  {
   "cell_type": "code",
   "execution_count": null,
   "id": "ea83fedc",
   "metadata": {},
   "outputs": [],
   "source": [
    "# To locate the submit button again\n",
    "\n",
    "googlesearch4 = driver3.find_element_by_xpath('//input[@class=\"og3lId\"]')\n",
    "time.sleep(5)"
   ]
  },
  {
   "cell_type": "code",
   "execution_count": null,
   "id": "5a1f4cf1",
   "metadata": {},
   "outputs": [],
   "source": [
    "googlesearch4.send_keys(\"Guitar\")"
   ]
  },
  {
   "cell_type": "code",
   "execution_count": null,
   "id": "1683edcd",
   "metadata": {},
   "outputs": [],
   "source": [
    "# To locate Submit button for Cars\n",
    "\n",
    "Search4 = driver3.find_element_by_xpath('//*[@id=\"BIqFsb\"]')\n",
    "Search4.click()\n",
    "time.sleep(5)"
   ]
  },
  {
   "cell_type": "code",
   "execution_count": null,
   "id": "d1266cb6",
   "metadata": {},
   "outputs": [],
   "source": [
    "# To find all the images link\n",
    "\n",
    "GuitarLinks = driver3.find_elements_by_tag_name('a')\n",
    "time.sleep(5)"
   ]
  },
  {
   "cell_type": "code",
   "execution_count": null,
   "id": "1db43c21",
   "metadata": {},
   "outputs": [],
   "source": [
    "Guitar_urls = []\n",
    "\n",
    "for i in GuitarLinks:\n",
    "     Guitar_urls.append(i.get_attribute(\"href\")) \n",
    "time.sleep(5)"
   ]
  },
  {
   "cell_type": "code",
   "execution_count": null,
   "id": "40ef4cce",
   "metadata": {},
   "outputs": [],
   "source": [
    "# To locate the submit button again\n",
    "\n",
    "googlesearch5 = driver3.find_element_by_xpath('//input[@class=\"og3lId\"]')\n",
    "time.sleep(5)"
   ]
  },
  {
   "cell_type": "code",
   "execution_count": null,
   "id": "8378b875",
   "metadata": {},
   "outputs": [],
   "source": [
    "# To clear the search bar\n",
    "\n",
    "googlesearch5.clear()\n",
    "time.sleep(5)"
   ]
  },
  {
   "cell_type": "code",
   "execution_count": null,
   "id": "6927ac0b",
   "metadata": {},
   "outputs": [],
   "source": [
    "googlesearch5.send_keys(\"Cakes\")"
   ]
  },
  {
   "cell_type": "code",
   "execution_count": null,
   "id": "2a7b5e5e",
   "metadata": {},
   "outputs": [],
   "source": [
    "# To locate Submit button for Cars\n",
    "\n",
    "Search5 = driver3.find_element_by_xpath('//*[@id=\"BIqFsb\"]')\n",
    "Search5.click()\n",
    "time.sleep(5)"
   ]
  },
  {
   "cell_type": "code",
   "execution_count": null,
   "id": "6785b67b",
   "metadata": {},
   "outputs": [],
   "source": [
    "# To find all the images link\n",
    "\n",
    "CakeLinks = driver3.find_elements_by_tag_name('a')\n",
    "time.sleep(5)"
   ]
  },
  {
   "cell_type": "code",
   "execution_count": null,
   "id": "485b0edd",
   "metadata": {},
   "outputs": [],
   "source": [
    "Cake_urls = []\n",
    "\n",
    "for i in CakeLinks:\n",
    "     Cake_urls.append(i.get_attribute(\"href\")) \n",
    "time.sleep(5)"
   ]
  },
  {
   "cell_type": "code",
   "execution_count": null,
   "id": "73e2ea1d",
   "metadata": {},
   "outputs": [],
   "source": [
    "Images=pd.DataFrame({})\n",
    "Images['Fruits-Images']=product_urls[:11]\n",
    "Images['Cars-Images']=cars_urls[:11]\n",
    "Images['Machine-Learning-Images']=ML_urls[:11]\n",
    "Images['Guitar-Images']=Guitar_urls[:11]\n",
    "Images['Cakes-Images']=Cake_urls[:11]\n",
    "\n",
    "Images"
   ]
  },
  {
   "cell_type": "code",
   "execution_count": null,
   "id": "6fa5fa39",
   "metadata": {},
   "outputs": [],
   "source": [
    "# (4) Write a python program to search for a smartphone(e.g.: Oneplus Nord, pixel 4A, etc.) on\n",
    "# www.flipkart.com and scrape following details for all the search results displayed on 1st page. Details to be\n",
    "# scraped: “Brand Name”, “Smartphone name”, “Colour”, “RAM”, “Storage(ROM)”, “Primary Camera”,\n",
    "# “Secondary Camera”, “Display Size”, “Battery Capacity”, “Price”, “Product URL”. Incase if any of the\n",
    "# details is missing then replace it by “- “. Save your results in a dataframe and CSV."
   ]
  },
  {
   "cell_type": "code",
   "execution_count": null,
   "id": "9647cf6a",
   "metadata": {},
   "outputs": [],
   "source": [
    "import selenium\n",
    "from selenium import webdriver\n",
    "import pandas as pd\n",
    "import warnings\n",
    "warnings.filterwarnings(\"ignore\")\n",
    "import time\n",
    "from selenium.common.exceptions import NoSuchElementException "
   ]
  },
  {
   "cell_type": "code",
   "execution_count": null,
   "id": "cc29a8fc",
   "metadata": {},
   "outputs": [],
   "source": [
    "driver4 = webdriver.Chrome(r'C:\\Users\\Rick\\OneDrive\\Desktop\\Softwares\\chromedriver.exe')\n",
    "time.sleep(5)"
   ]
  },
  {
   "cell_type": "code",
   "execution_count": null,
   "id": "0e03c35a",
   "metadata": {},
   "outputs": [],
   "source": [
    "url4 = 'https://www.flipkart.com/'\n",
    "time.sleep(5)"
   ]
  },
  {
   "cell_type": "code",
   "execution_count": null,
   "id": "d5b52db4",
   "metadata": {},
   "outputs": [],
   "source": [
    "driver4.get(url4)\n",
    "time.sleep(5)"
   ]
  },
  {
   "cell_type": "code",
   "execution_count": null,
   "id": "ba6d8c23",
   "metadata": {},
   "outputs": [],
   "source": [
    "# To automate chrome driver on Exit button\n",
    "\n",
    "xbutton = driver4.find_element_by_xpath('/html/body/div[2]/div/div/button').click()"
   ]
  },
  {
   "cell_type": "code",
   "execution_count": null,
   "id": "90c44c20",
   "metadata": {},
   "outputs": [],
   "source": [
    "# To automate chrome driver on Search bar\n",
    "\n",
    "searchbar = driver4.find_element_by_xpath('//*[@id=\"container\"]/div/div[1]/div[1]/div[2]/div[2]/form/div/div/input')"
   ]
  },
  {
   "cell_type": "code",
   "execution_count": null,
   "id": "098674c4",
   "metadata": {},
   "outputs": [],
   "source": [
    "# To search for smartphones\n",
    "\n",
    "searchbar.send_keys(\"smartphone\")"
   ]
  },
  {
   "cell_type": "code",
   "execution_count": null,
   "id": "e1d8af66",
   "metadata": {},
   "outputs": [],
   "source": [
    "# To automate driver on submit button\n",
    "\n",
    "searchphones = driver4.find_element_by_xpath('//*[@id=\"container\"]/div/div[1]/div[1]/div[2]/div[2]/form/div/button').click()\n"
   ]
  },
  {
   "cell_type": "code",
   "execution_count": null,
   "id": "f79d2b49",
   "metadata": {},
   "outputs": [],
   "source": [
    "# To find all URL\n",
    "\n",
    "PhoneURLS = driver4.find_elements_by_xpath('//a[@class=\"_1fQZEK\"]')"
   ]
  },
  {
   "cell_type": "code",
   "execution_count": null,
   "id": "4581a1d4",
   "metadata": {},
   "outputs": [],
   "source": [
    "all_URL = []\n",
    "\n",
    "for i in PhoneURLS:\n",
    "     all_URL.append(i.get_attribute(\"href\")) "
   ]
  },
  {
   "cell_type": "code",
   "execution_count": null,
   "id": "cf8503cd",
   "metadata": {},
   "outputs": [],
   "source": [
    "Brand = []\n",
    "color = []\n",
    "RAMandROM = []\n",
    "Camera = []\n",
    "Display = []\n",
    "Battery = []\n",
    "Price = []\n",
    "\n",
    "for i in all_URL:\n",
    "    driver4.get(i)\n",
    "    try:\n",
    "        Brandandsmartphones = driver4.find_element_by_class_name('B_NuCI')\n",
    "        Brand.append(Brandandsmartphones.text)\n",
    "    except:\n",
    "        Brand.append('-')\n",
    "    try:\n",
    "        Smartphonecolor = driver4.find_element_by_class_name('_2C41yO')\n",
    "        color.append(Brandandsmartphones.text)\n",
    "    except:\n",
    "        color.append('-')\n",
    "    try:\n",
    "        RAMROM = driver4.find_element_by_xpath('/html/body/div[1]/div/div[3]/div[1]/div[2]/div[8]/div[1]/div/div[2]/ul/li[1]')\n",
    "        RAMandROM.append(RAMROM.text)\n",
    "    except:\n",
    "        RAMandROM.append('-')\n",
    "    try:\n",
    "        AllCameras = driver4.find_element_by_xpath('/html/body/div[1]/div/div[3]/div[1]/div[2]/div[8]/div[1]/div/div[2]/ul/li[3]')\n",
    "        Camera.append(AllCameras.text)\n",
    "    except:\n",
    "        Camera.append('-')\n",
    "    try:\n",
    "        DisplaySize = driver4.find_element_by_xpath('/html/body/div[1]/div/div[3]/div[1]/div[2]/div[8]/div[1]/div/div[2]/ul/li[2]')\n",
    "        Display.append(DisplaySize.text)\n",
    "    except:\n",
    "        Display.append('-')\n",
    "    try:\n",
    "        BatteryCapacity = driver4.find_element_by_xpath('/html/body/div[1]/div/div[3]/div[1]/div[2]/div[8]/div[1]/div/div[2]/ul/li[4]')\n",
    "        Battery.append(BatteryCapacity.text)\n",
    "    except:\n",
    "        Battery.append('-')\n",
    "    try:\n",
    "        ProductPrice = driver4.find_element_by_xpath('/html/body/div[1]/div/div[3]/div[1]/div[2]/div[2]/div/div[4]/div[1]/div/div[1]')\n",
    "        Price.append(ProductPrice.text)\n",
    "    except:\n",
    "        Price.append('-')\n",
    "    "
   ]
  },
  {
   "cell_type": "code",
   "execution_count": null,
   "id": "004d1651",
   "metadata": {},
   "outputs": [],
   "source": [
    "Flipkart=pd.DataFrame({})\n",
    "Flipkart['Brand and Name of the Product']=Brand\n",
    "Flipkart['Color']=color\n",
    "Flipkart['RAM and ROM']=RAMandROM\n",
    "Flipkart['Camera Specifications']=Camera\n",
    "Flipkart['Display Size']=Display\n",
    "Flipkart['Battery Specifications']=Battery\n",
    "Flipkart['Price']=Price\n",
    "Flipkart['ProductURL']=all_URL\n",
    "Flipkart"
   ]
  },
  {
   "cell_type": "code",
   "execution_count": null,
   "id": "02a451bb",
   "metadata": {},
   "outputs": [],
   "source": [
    "# (5) Write a program to scrap geospatial coordinates (latitude, longitude) of a city searched on google\n",
    "# maps"
   ]
  },
  {
   "cell_type": "code",
   "execution_count": null,
   "id": "e6810983",
   "metadata": {},
   "outputs": [],
   "source": [
    "import selenium\n",
    "from selenium import webdriver\n",
    "import pandas as pd\n",
    "import warnings\n",
    "warnings.filterwarnings(\"ignore\")\n",
    "import time"
   ]
  },
  {
   "cell_type": "code",
   "execution_count": null,
   "id": "9e90ed63",
   "metadata": {},
   "outputs": [],
   "source": [
    "driver5 = webdriver.Chrome(r'C:\\Users\\Rick\\OneDrive\\Desktop\\Softwares\\chromedriver.exe')\n",
    "time.sleep(5)"
   ]
  },
  {
   "cell_type": "code",
   "execution_count": null,
   "id": "e4c3c987",
   "metadata": {},
   "outputs": [],
   "source": [
    "url5 = 'https://www.google.com/maps/'\n",
    "time.sleep(5)"
   ]
  },
  {
   "cell_type": "code",
   "execution_count": null,
   "id": "0eff7c29",
   "metadata": {},
   "outputs": [],
   "source": [
    "driver5.get(url5)\n",
    "time.sleep(5)"
   ]
  },
  {
   "cell_type": "code",
   "execution_count": null,
   "id": "1db4f09f",
   "metadata": {},
   "outputs": [],
   "source": [
    "# To automate webdriver onto Google search maps\n",
    "\n",
    "Mapsearch = driver5.find_element_by_xpath('/html/body/div[3]/div[9]/div[3]/div[1]/div[1]/div[1]/div[2]/form/div/div[3]/div/input[1]')"
   ]
  },
  {
   "cell_type": "code",
   "execution_count": null,
   "id": "e526128d",
   "metadata": {},
   "outputs": [],
   "source": [
    "Mapsearch.send_keys(\"Bengaluru\")"
   ]
  },
  {
   "cell_type": "code",
   "execution_count": null,
   "id": "49f8cd66",
   "metadata": {},
   "outputs": [],
   "source": [
    "# To Automate chrome driver to the Submit button\n",
    "\n",
    "Mapsubmit = driver5.find_element_by_xpath('/html/body/div[3]/div[9]/div[3]/div[1]/div[1]/div[1]/div[2]/div[1]/button').click()"
   ]
  },
  {
   "cell_type": "code",
   "execution_count": null,
   "id": "ed79b77b",
   "metadata": {},
   "outputs": [],
   "source": [
    "pp = driver5.find_element_by_xpath('/html/head/meta[10]')"
   ]
  },
  {
   "cell_type": "code",
   "execution_count": null,
   "id": "de811afb",
   "metadata": {},
   "outputs": [],
   "source": [
    "LaL = pp.get_attribute('content')"
   ]
  },
  {
   "cell_type": "code",
   "execution_count": null,
   "id": "1fde83f9",
   "metadata": {},
   "outputs": [],
   "source": [
    "LatandLon = LaL.split('?center=')[1].split('&zoom=')[0].split('%2C')"
   ]
  },
  {
   "cell_type": "code",
   "execution_count": null,
   "id": "cd4c1753",
   "metadata": {},
   "outputs": [],
   "source": [
    "LatandLon"
   ]
  },
  {
   "cell_type": "code",
   "execution_count": null,
   "id": "7043838b",
   "metadata": {},
   "outputs": [],
   "source": [
    "MapsLaL=pd.DataFrame({})\n",
    "MapsLaL['Latitude',\n",
    "         'Longitude']=LatandLon\n",
    "MapsLaL"
   ]
  },
  {
   "cell_type": "code",
   "execution_count": null,
   "id": "fee8842e",
   "metadata": {},
   "outputs": [],
   "source": [
    "# (6) Write a program to scrap details of all the funding deals for second quarter (i.e Jan 21 – March 21)\n",
    "# from trak.in"
   ]
  },
  {
   "cell_type": "code",
   "execution_count": null,
   "id": "2026d6e9",
   "metadata": {},
   "outputs": [],
   "source": [
    "import selenium\n",
    "from selenium import webdriver\n",
    "import pandas as pd\n",
    "import warnings\n",
    "warnings.filterwarnings(\"ignore\")\n",
    "import time"
   ]
  },
  {
   "cell_type": "code",
   "execution_count": null,
   "id": "5e3ece17",
   "metadata": {},
   "outputs": [],
   "source": [
    "driver6 = webdriver.Chrome(r'C:\\Users\\Rick\\OneDrive\\Desktop\\Softwares\\chromedriver.exe')\n",
    "time.sleep(5)"
   ]
  },
  {
   "cell_type": "code",
   "execution_count": null,
   "id": "b666e487",
   "metadata": {},
   "outputs": [],
   "source": [
    "url6 = 'https://trak.in/india-startup-funding-investment-2015/'\n",
    "time.sleep(5)"
   ]
  },
  {
   "cell_type": "code",
   "execution_count": null,
   "id": "b5a3525c",
   "metadata": {},
   "outputs": [],
   "source": [
    "driver6.get(url6)\n",
    "time.sleep(5)"
   ]
  },
  {
   "cell_type": "code",
   "execution_count": null,
   "id": "d09bf51e",
   "metadata": {},
   "outputs": [],
   "source": [
    "# To fetch all Funding all Dates\n",
    "\n",
    "Dates = driver6.find_elements_by_xpath('//td[@class=\"column-2\"]')"
   ]
  },
  {
   "cell_type": "code",
   "execution_count": null,
   "id": "2f51369d",
   "metadata": {},
   "outputs": [],
   "source": [
    "AllDates = []\n",
    "\n",
    "for i in Dates:\n",
    "    AllDates.append(i.text)"
   ]
  },
  {
   "cell_type": "code",
   "execution_count": null,
   "id": "87f329b8",
   "metadata": {},
   "outputs": [],
   "source": [
    "# To fetch all Funding Start Up Names\n",
    "\n",
    "Startup = driver6.find_elements_by_xpath('//td[@class=\"column-3\"]')"
   ]
  },
  {
   "cell_type": "code",
   "execution_count": null,
   "id": "d0957024",
   "metadata": {},
   "outputs": [],
   "source": [
    "AllStartupsLinks = []\n",
    "\n",
    "for i in Startup:\n",
    "     AllStartupsLinks.append(i.text)"
   ]
  },
  {
   "cell_type": "code",
   "execution_count": null,
   "id": "dd0df16d",
   "metadata": {},
   "outputs": [],
   "source": [
    "# To fetch all Funding all Industries\n",
    "\n",
    "Industries = driver6.find_elements_by_xpath('//td[@class=\"column-4\"]')"
   ]
  },
  {
   "cell_type": "code",
   "execution_count": null,
   "id": "f8f6a12b",
   "metadata": {},
   "outputs": [],
   "source": [
    "AllIndustries = []\n",
    "\n",
    "for i in Industries:\n",
    "     AllIndustries.append(i.text)"
   ]
  },
  {
   "cell_type": "code",
   "execution_count": null,
   "id": "319cdbf7",
   "metadata": {},
   "outputs": [],
   "source": [
    "# To fetch all Funding all sub-vertical\n",
    "\n",
    "verticals = driver6.find_elements_by_xpath('//td[@class=\"column-5\"]')"
   ]
  },
  {
   "cell_type": "code",
   "execution_count": null,
   "id": "89772e81",
   "metadata": {},
   "outputs": [],
   "source": [
    "Allverticals = []\n",
    "\n",
    "for i in verticals:\n",
    "     Allverticals.append(i.text)"
   ]
  },
  {
   "cell_type": "code",
   "execution_count": null,
   "id": "f019529d",
   "metadata": {},
   "outputs": [],
   "source": [
    "# To fetch all Funding all city\n",
    "\n",
    "Cities = driver6.find_elements_by_xpath('//td[@class=\"column-6\"]')"
   ]
  },
  {
   "cell_type": "code",
   "execution_count": null,
   "id": "af03ede4",
   "metadata": {},
   "outputs": [],
   "source": [
    "AllCities = []\n",
    "\n",
    "for i in Cities:\n",
    "     AllCities.append(i.text)"
   ]
  },
  {
   "cell_type": "code",
   "execution_count": null,
   "id": "4ca286ab",
   "metadata": {},
   "outputs": [],
   "source": [
    "# To fetch all Funding all Investor Name\n",
    "\n",
    "Investor = driver6.find_elements_by_xpath('//td[@class=\"column-7\"]')"
   ]
  },
  {
   "cell_type": "code",
   "execution_count": null,
   "id": "a9d8928e",
   "metadata": {},
   "outputs": [],
   "source": [
    "AllInvestors = []\n",
    "\n",
    "for i in Investor:\n",
    "     AllInvestors.append(i.text)"
   ]
  },
  {
   "cell_type": "code",
   "execution_count": null,
   "id": "5b22fb0b",
   "metadata": {},
   "outputs": [],
   "source": [
    "# To fetch all Funding all Investor Type\n",
    "\n",
    "InvestType = driver6.find_elements_by_xpath('//td[@class=\"column-8\"]')"
   ]
  },
  {
   "cell_type": "code",
   "execution_count": null,
   "id": "03b507a0",
   "metadata": {},
   "outputs": [],
   "source": [
    "AllInvesttypes = []\n",
    "\n",
    "for i in InvestType:\n",
    "     AllInvesttypes.append(i.text)"
   ]
  },
  {
   "cell_type": "code",
   "execution_count": null,
   "id": "ecea2808",
   "metadata": {},
   "outputs": [],
   "source": [
    "# To fetch all Funding all Investor Amount in USD\n",
    "\n",
    "InvestAmount = driver6.find_elements_by_xpath('//td[@class=\"column-9\"]')"
   ]
  },
  {
   "cell_type": "code",
   "execution_count": null,
   "id": "2d2c58fe",
   "metadata": {},
   "outputs": [],
   "source": [
    "AllInvestAmount = []\n",
    "\n",
    "for i in InvestAmount:\n",
    "     AllInvestAmount.append(i.text)"
   ]
  },
  {
   "cell_type": "code",
   "execution_count": null,
   "id": "bad9363d",
   "metadata": {},
   "outputs": [],
   "source": [
    "# To Load all the Data according to the Month 2021\n",
    "\n",
    "January2021=pd.DataFrame({})\n",
    "January2021['January Dates']=AllDates[21:29]\n",
    "January2021['January Startups']=AllStartupsLinks[21:29]\n",
    "January2021['January Industries']=AllIndustries[21:29]\n",
    "January2021['January Verticals']=Allverticals[21:29]\n",
    "January2021['January Cities']=AllCities[21:29]\n",
    "January2021['January Investors']=AllInvestors[21:29]\n",
    "January2021['January Investment Types']=AllInvesttypes[21:29]\n",
    "January2021['January Investment Amounts']=AllInvestAmount[21:29]\n",
    "\n",
    "\n",
    "\n",
    "February2021=pd.DataFrame({})\n",
    "February2021['February Dates']=AllDates[12:19]\n",
    "February2021['February Startups']=AllStartupsLinks[12:19]\n",
    "February2021['February Industries']=AllIndustries[12:19]\n",
    "February2021['February Verticals']=Allverticals[12:19]\n",
    "February2021['February Cities']=AllCities[12:19]\n",
    "February2021['February Investors']=AllInvestors[12:19]\n",
    "February2021['February Investment Types']=AllInvesttypes[12:19]\n",
    "February2021['February Investment Amounts']=AllInvestAmount[12:19]\n",
    "\n",
    "\n",
    "\n",
    "March2021=pd.DataFrame({})\n",
    "March2021['March Dates']=AllDates[5:12]\n",
    "March2021['March Startups']=AllStartupsLinks[5:12]\n",
    "March2021['March Industries']=AllIndustries[5:12]\n",
    "March2021['March Verticals']=Allverticals[5:12]\n",
    "March2021['March Cities']=AllCities[5:12]\n",
    "March2021['March Investors']=AllInvestors[5:12]\n",
    "March2021['March Investment Types']=AllInvesttypes[5:12]\n",
    "March2021['March Investment Amounts']=AllInvestAmount[5:12]\n"
   ]
  },
  {
   "cell_type": "markdown",
   "id": "1b5e740a",
   "metadata": {},
   "source": [
    "# January2021"
   ]
  },
  {
   "cell_type": "code",
   "execution_count": null,
   "id": "77d11a79",
   "metadata": {},
   "outputs": [],
   "source": [
    "January2021"
   ]
  },
  {
   "cell_type": "markdown",
   "id": "146370b6",
   "metadata": {},
   "source": [
    "# February2021"
   ]
  },
  {
   "cell_type": "code",
   "execution_count": null,
   "id": "4a3cdf8c",
   "metadata": {},
   "outputs": [],
   "source": [
    "February2021"
   ]
  },
  {
   "cell_type": "markdown",
   "id": "a53905e7",
   "metadata": {},
   "source": [
    "# March2021"
   ]
  },
  {
   "cell_type": "code",
   "execution_count": null,
   "id": "9223c585",
   "metadata": {},
   "outputs": [],
   "source": [
    "March2021"
   ]
  },
  {
   "cell_type": "code",
   "execution_count": null,
   "id": "68f30b27",
   "metadata": {},
   "outputs": [],
   "source": [
    "# (8) Write a python program to scrape the details for all billionaires from www.forbes.com. Details to be\n",
    "# scrapped: “Rank”, “Name”, “Net worth”, “Age”, “Citizenship”, “Source”, “Industry”."
   ]
  },
  {
   "cell_type": "code",
   "execution_count": null,
   "id": "2e427562",
   "metadata": {},
   "outputs": [],
   "source": [
    "import selenium\n",
    "from selenium import webdriver\n",
    "import pandas as pd\n",
    "import warnings\n",
    "warnings.filterwarnings(\"ignore\")\n",
    "import time"
   ]
  },
  {
   "cell_type": "code",
   "execution_count": null,
   "id": "f9caee19",
   "metadata": {},
   "outputs": [],
   "source": [
    "driver8 = webdriver.Chrome(r'C:\\Users\\Rick\\OneDrive\\Desktop\\Softwares\\chromedriver.exe')\n",
    "time.sleep(5)"
   ]
  },
  {
   "cell_type": "code",
   "execution_count": null,
   "id": "ea58839e",
   "metadata": {},
   "outputs": [],
   "source": [
    "url8 = 'https://www.forbes.com/?sh=414a6e002254'\n",
    "time.sleep(5)"
   ]
  },
  {
   "cell_type": "code",
   "execution_count": null,
   "id": "2ad2bce7",
   "metadata": {},
   "outputs": [],
   "source": [
    "driver8.get(url8)\n",
    "time.sleep(5)"
   ]
  },
  {
   "cell_type": "code",
   "execution_count": null,
   "id": "53e13487",
   "metadata": {},
   "outputs": [],
   "source": [
    "# To navigate the Driver towards menu Bar\n",
    "\n",
    "driver8.find_element_by_xpath('/html/body/div[1]/header/nav/div[1]/button[1]').click()"
   ]
  },
  {
   "cell_type": "code",
   "execution_count": null,
   "id": "517ceddc",
   "metadata": {},
   "outputs": [],
   "source": [
    "# To navigate the Driver towards Billionare class\n",
    "\n",
    "driver8.find_element_by_xpath('/html/body/div[1]/header/nav/div[3]/ul/li[1]').click()"
   ]
  },
  {
   "cell_type": "code",
   "execution_count": null,
   "id": "9aed2e20",
   "metadata": {},
   "outputs": [],
   "source": [
    "# To navigate driver towards All Billionaries\n",
    "\n",
    "driver8.find_element_by_xpath('/html/body/div[1]/header/nav/div[3]/ul/li[1]/div[2]/ul/li[2]/a').click()"
   ]
  },
  {
   "cell_type": "code",
   "execution_count": null,
   "id": "59e95f01",
   "metadata": {},
   "outputs": [],
   "source": [
    "# To get the list of all Ranks\n",
    "\n",
    "Ranks = driver8.find_elements_by_xpath('//div[@class=\"rank\"]')"
   ]
  },
  {
   "cell_type": "code",
   "execution_count": null,
   "id": "8e164d9e",
   "metadata": {},
   "outputs": [],
   "source": [
    "AllRanks = []\n",
    "\n",
    "for i in Ranks:\n",
    "    AllRanks.append(i.text)"
   ]
  },
  {
   "cell_type": "code",
   "execution_count": null,
   "id": "b7d190bd",
   "metadata": {},
   "outputs": [],
   "source": [
    "# To get the list of all Ranks\n",
    "\n",
    "Names = driver8.find_elements_by_xpath('//div[@class=\"personName\"]')"
   ]
  },
  {
   "cell_type": "code",
   "execution_count": null,
   "id": "c0c1b080",
   "metadata": {},
   "outputs": [],
   "source": [
    "AllNames = []\n",
    "\n",
    "for i in Names:\n",
    "    AllNames.append(i.text)"
   ]
  },
  {
   "cell_type": "code",
   "execution_count": null,
   "id": "1eb8e1f8",
   "metadata": {},
   "outputs": [],
   "source": [
    "# To get the list of all Networth\n",
    "\n",
    "Networth = driver8.find_elements_by_xpath('//div[@class=\"netWorth\"]')"
   ]
  },
  {
   "cell_type": "code",
   "execution_count": null,
   "id": "b0507e9d",
   "metadata": {},
   "outputs": [],
   "source": [
    "AllNetworth = []\n",
    "\n",
    "for i in Networth:\n",
    "    AllNetworth.append(i.text)"
   ]
  },
  {
   "cell_type": "code",
   "execution_count": null,
   "id": "294c9767",
   "metadata": {},
   "outputs": [],
   "source": [
    "# To get the list of all Origins\n",
    "\n",
    "Origins = driver8.find_elements_by_xpath('//div[@class=\"countryOfCitizenship\"]')"
   ]
  },
  {
   "cell_type": "code",
   "execution_count": null,
   "id": "9c66dbd4",
   "metadata": {},
   "outputs": [],
   "source": [
    "AllOrigins = []\n",
    "\n",
    "for i in Origins:\n",
    "    AllOrigins.append(i.text)"
   ]
  },
  {
   "cell_type": "code",
   "execution_count": null,
   "id": "9d74be86",
   "metadata": {},
   "outputs": [],
   "source": [
    "# To get the list of all CompanySource\n",
    "\n",
    "CompanySource = driver8.find_elements_by_xpath('//div[@class=\"source-column\"]')"
   ]
  },
  {
   "cell_type": "code",
   "execution_count": null,
   "id": "ccf1d418",
   "metadata": {},
   "outputs": [],
   "source": [
    "AllCompanySource = []\n",
    "\n",
    "for i in CompanySource:\n",
    "    AllCompanySource.append(i.text)"
   ]
  },
  {
   "cell_type": "code",
   "execution_count": null,
   "id": "cc07b120",
   "metadata": {},
   "outputs": [],
   "source": [
    "Billionaries=pd.DataFrame({})\n",
    "Billionaries['Billionare Ranks']=AllRanks\n",
    "Billionaries['Billionare Names']=AllNames\n",
    "Billionaries['Billionare Networth']=AllNetworth\n",
    "Billionaries['Billionare Origins']=AllOrigins\n",
    "Billionaries['Billionare ComapnySource']=AllCompanySource"
   ]
  },
  {
   "cell_type": "code",
   "execution_count": null,
   "id": "bf05bac1",
   "metadata": {},
   "outputs": [],
   "source": [
    "pd.set_option(\"display.max_colwidth\", -1)\n",
    "pd.set_option(\"display.max_rows\", 200)\n",
    "Billionaries"
   ]
  },
  {
   "cell_type": "code",
   "execution_count": null,
   "id": "7ab90105",
   "metadata": {},
   "outputs": [],
   "source": [
    "# (9) Write a program to extract at least 500 Comments, Comment upvote and time when comment was posted\n",
    "# from any YouTube Video."
   ]
  },
  {
   "cell_type": "code",
   "execution_count": null,
   "id": "3c49313e",
   "metadata": {},
   "outputs": [],
   "source": [
    "import selenium\n",
    "from selenium import webdriver\n",
    "import pandas as pd\n",
    "import warnings\n",
    "warnings.filterwarnings(\"ignore\")\n",
    "import time"
   ]
  },
  {
   "cell_type": "code",
   "execution_count": null,
   "id": "6634b9a4",
   "metadata": {},
   "outputs": [],
   "source": [
    "driver9 = webdriver.Chrome(r'C:\\Users\\Rick\\OneDrive\\Desktop\\Softwares\\chromedriver.exe')\n",
    "time.sleep(5)"
   ]
  },
  {
   "cell_type": "code",
   "execution_count": null,
   "id": "f942415f",
   "metadata": {},
   "outputs": [],
   "source": [
    "url9 = 'https://www.youtube.com/watch?v=93ASUImTedo&list=RD93ASUImTedo&start_radio=1'\n",
    "time.sleep(5)"
   ]
  },
  {
   "cell_type": "code",
   "execution_count": null,
   "id": "a37bf36b",
   "metadata": {},
   "outputs": [],
   "source": [
    "driver9.get(url9)\n",
    "time.sleep(5)"
   ]
  },
  {
   "cell_type": "code",
   "execution_count": null,
   "id": "ebeca4a4",
   "metadata": {},
   "outputs": [],
   "source": [
    "# To Maximise window\n",
    "\n",
    "driver9.maximize_window()"
   ]
  },
  {
   "cell_type": "code",
   "execution_count": null,
   "id": "dda7df0f",
   "metadata": {},
   "outputs": [],
   "source": [
    "driver9.execute_script(\"window.scrollBy(0, 100)\")\n",
    "driver9.execute_script(\"window.scrollBy(0, 200)\")\n",
    "driver9.execute_script(\"window.scrollBy(0, 300)\")\n",
    "driver9.execute_script(\"window.scrollBy(0, 400)\")\n",
    "driver9.execute_script(\"window.scrollBy(0, 500)\")\n",
    "driver9.execute_script(\"window.scrollBy(0, 600)\")\n",
    "driver9.execute_script(\"window.scrollBy(0, 600)\")\n",
    "driver9.execute_script(\"window.scrollBy(0, 600)\")\n",
    "driver9.execute_script(\"window.scrollBy(0, 600)\")\n",
    "driver9.execute_script(\"window.scrollBy(0, 600)\")\n",
    "driver9.execute_script(\"window.scrollBy(0, 600)\")\n",
    "driver9.execute_script(\"window.scrollBy(0, 600)\")\n",
    "driver9.execute_script(\"window.scrollBy(0, 600)\")\n",
    "driver9.execute_script(\"window.scrollBy(0, 600)\")\n",
    "driver9.execute_script(\"window.scrollBy(0, 600)\")\n",
    "driver9.execute_script(\"window.scrollBy(0, 600)\")\n",
    "driver9.execute_script(\"window.scrollBy(0, 600)\")\n",
    "driver9.execute_script(\"window.scrollBy(0, 600)\")\n",
    "driver9.execute_script(\"window.scrollBy(0, 600)\")\n",
    "driver9.execute_script(\"window.scrollBy(0, 600)\")\n",
    "driver9.execute_script(\"window.scrollBy(0, 600)\")\n",
    "driver9.execute_script(\"window.scrollBy(0, 600)\")\n",
    "driver9.execute_script(\"window.scrollBy(0, 600)\")\n",
    "driver9.execute_script(\"window.scrollBy(0, 600)\")\n",
    "driver9.execute_script(\"window.scrollBy(0, 600)\")\n",
    "driver9.execute_script(\"window.scrollBy(0, 600)\")\n",
    "driver9.execute_script(\"window.scrollBy(0, 600)\")\n",
    "driver9.execute_script(\"window.scrollBy(0, 600)\")\n",
    "driver9.execute_script(\"window.scrollBy(0, 600)\")\n",
    "driver9.execute_script(\"window.scrollBy(0, 600)\")\n",
    "driver9.execute_script(\"window.scrollBy(0, 600)\")\n",
    "driver9.execute_script(\"window.scrollBy(0, 600)\")\n",
    "driver9.execute_script(\"window.scrollBy(0, 600)\")\n",
    "driver9.execute_script(\"window.scrollBy(0, 600)\")\n",
    "driver9.execute_script(\"window.scrollBy(0, 600)\")\n",
    "driver9.execute_script(\"window.scrollBy(0, 600)\")\n",
    "driver9.execute_script(\"window.scrollBy(0, 600)\")\n",
    "driver9.execute_script(\"window.scrollBy(0, 600)\")\n",
    "driver9.execute_script(\"window.scrollBy(0, 600)\")\n",
    "driver9.execute_script(\"window.scrollBy(0, 600)\")\n",
    "driver9.execute_script(\"window.scrollBy(0, 600)\")\n",
    "driver9.execute_script(\"window.scrollBy(0, 600)\")\n",
    "driver9.execute_script(\"window.scrollBy(0, 600)\")\n",
    "driver9.execute_script(\"window.scrollBy(0, 600)\")\n",
    "driver9.execute_script(\"window.scrollBy(0, 600)\")\n",
    "driver9.execute_script(\"window.scrollBy(0, 600)\")\n",
    "driver9.execute_script(\"window.scrollBy(0, 600)\")\n",
    "driver9.execute_script(\"window.scrollBy(0, 600)\")\n",
    "driver9.execute_script(\"window.scrollBy(0, 600)\")\n",
    "driver9.execute_script(\"window.scrollBy(0, 600)\")\n",
    "driver9.execute_script(\"window.scrollBy(0, 600)\")\n",
    "driver9.execute_script(\"window.scrollBy(0, 600)\")\n",
    "driver9.execute_script(\"window.scrollBy(0, 600)\")\n",
    "driver9.execute_script(\"window.scrollBy(0, 600)\")\n",
    "driver9.execute_script(\"window.scrollBy(0, 600)\")\n",
    "driver9.execute_script(\"window.scrollBy(0, 600)\")\n",
    "driver9.execute_script(\"window.scrollBy(0, 600)\")\n",
    "driver9.execute_script(\"window.scrollBy(0, 600)\")\n",
    "driver9.execute_script(\"window.scrollBy(0, 600)\")\n",
    "driver9.execute_script(\"window.scrollBy(0, 600)\")\n",
    "driver9.execute_script(\"window.scrollBy(0, 600)\")\n",
    "driver9.execute_script(\"window.scrollBy(0, 600)\")\n",
    "driver9.execute_script(\"window.scrollBy(0, 600)\")\n",
    "driver9.execute_script(\"window.scrollBy(0, 600)\")\n",
    "driver9.execute_script(\"window.scrollBy(0, 600)\")\n",
    "driver9.execute_script(\"window.scrollBy(0, 600)\")\n",
    "driver9.execute_script(\"window.scrollBy(0, 600)\")\n",
    "driver9.execute_script(\"window.scrollBy(0, 600)\")\n",
    "driver9.execute_script(\"window.scrollBy(0, 600)\")\n",
    "driver9.execute_script(\"window.scrollBy(0, 600)\")\n",
    "driver9.execute_script(\"window.scrollBy(0, 600)\")\n",
    "driver9.execute_script(\"window.scrollBy(0, 600)\")\n",
    "driver9.execute_script(\"window.scrollBy(0, 600)\")\n",
    "driver9.execute_script(\"window.scrollBy(0, 600)\")\n",
    "driver9.execute_script(\"window.scrollBy(0, 600)\")\n",
    "driver9.execute_script(\"window.scrollBy(0, 600)\")\n",
    "driver9.execute_script(\"window.scrollBy(0, 600)\")\n",
    "driver9.execute_script(\"window.scrollBy(0, 600)\")\n",
    "driver9.execute_script(\"window.scrollBy(0, 600)\")\n",
    "driver9.execute_script(\"window.scrollBy(0, 600)\")\n",
    "driver9.execute_script(\"window.scrollBy(0, 600)\")\n",
    "driver9.execute_script(\"window.scrollBy(0, 600)\")\n",
    "driver9.execute_script(\"window.scrollBy(0, 600)\")\n",
    "driver9.execute_script(\"window.scrollBy(0, 600)\")\n",
    "driver9.execute_script(\"window.scrollBy(0, 600)\")\n",
    "driver9.execute_script(\"window.scrollBy(0, 600)\")\n",
    "driver9.execute_script(\"window.scrollBy(0, 600)\")\n",
    "driver9.execute_script(\"window.scrollBy(0, 600)\")\n",
    "driver9.execute_script(\"window.scrollBy(0, 600)\")\n",
    "driver9.execute_script(\"window.scrollBy(0, 600)\")\n",
    "driver9.execute_script(\"window.scrollBy(0, 600)\")\n",
    "driver9.execute_script(\"window.scrollBy(0, 600)\")\n",
    "driver9.execute_script(\"window.scrollBy(0, 600)\")\n",
    "driver9.execute_script(\"window.scrollBy(0, 600)\")\n",
    "driver9.execute_script(\"window.scrollBy(0, 600)\")\n",
    "driver9.execute_script(\"window.scrollBy(0, 600)\")\n",
    "driver9.execute_script(\"window.scrollBy(0, 600)\")\n",
    "driver9.execute_script(\"window.scrollBy(0, 600)\")\n",
    "driver9.execute_script(\"window.scrollBy(0, 600)\")\n",
    "driver9.execute_script(\"window.scrollBy(0, 600)\")\n",
    "driver9.execute_script(\"window.scrollBy(0, 600)\")\n",
    "driver9.execute_script(\"window.scrollBy(0, 600)\")\n",
    "driver9.execute_script(\"window.scrollBy(0, 600)\")\n",
    "driver9.execute_script(\"window.scrollBy(0, 600)\")\n",
    "driver9.execute_script(\"window.scrollBy(0, 600)\")\n",
    "driver9.execute_script(\"window.scrollBy(0, 600)\")\n",
    "driver9.execute_script(\"window.scrollBy(0, 600)\")\n",
    "driver9.execute_script(\"window.scrollBy(0, 600)\")\n",
    "driver9.execute_script(\"window.scrollBy(0, 600)\")\n",
    "driver9.execute_script(\"window.scrollBy(0, 600)\")\n",
    "driver9.execute_script(\"window.scrollBy(0, 600)\")\n",
    "driver9.execute_script(\"window.scrollBy(0, 600)\")\n",
    "driver9.execute_script(\"window.scrollBy(0, 600)\")\n",
    "driver9.execute_script(\"window.scrollBy(0, 600)\")\n",
    "driver9.execute_script(\"window.scrollBy(0, 600)\")\n",
    "driver9.execute_script(\"window.scrollBy(0, 600)\")\n",
    "driver9.execute_script(\"window.scrollBy(0, 600)\")\n",
    "driver9.execute_script(\"window.scrollBy(0, 600)\")\n",
    "driver9.execute_script(\"window.scrollBy(0, 600)\")\n",
    "driver9.execute_script(\"window.scrollBy(0, 600)\")\n",
    "driver9.execute_script(\"window.scrollBy(0, 600)\")\n",
    "driver9.execute_script(\"window.scrollBy(0, 600)\")\n",
    "driver9.execute_script(\"window.scrollBy(0, 600)\")\n",
    "driver9.execute_script(\"window.scrollBy(0, 600)\")\n",
    "driver9.execute_script(\"window.scrollBy(0, 600)\")\n",
    "driver9.execute_script(\"window.scrollBy(0, 600)\")\n",
    "driver9.execute_script(\"window.scrollBy(0, 600)\")\n",
    "driver9.execute_script(\"window.scrollBy(0, 600)\")\n",
    "driver9.execute_script(\"window.scrollBy(0, 600)\")\n",
    "driver9.execute_script(\"window.scrollBy(0, 600)\")\n",
    "driver9.execute_script(\"window.scrollBy(0, 600)\")\n",
    "driver9.execute_script(\"window.scrollBy(0, 600)\")\n",
    "driver9.execute_script(\"window.scrollBy(0, 600)\")\n",
    "driver9.execute_script(\"window.scrollBy(0, 600)\")\n",
    "driver9.execute_script(\"window.scrollBy(0, 600)\")\n",
    "driver9.execute_script(\"window.scrollBy(0, 600)\")\n",
    "driver9.execute_script(\"window.scrollBy(0, 600)\")\n",
    "driver9.execute_script(\"window.scrollBy(0, 600)\")\n",
    "driver9.execute_script(\"window.scrollBy(0, 600)\")\n",
    "driver9.execute_script(\"window.scrollBy(0, 600)\")\n",
    "driver9.execute_script(\"window.scrollBy(0, 600)\")\n",
    "driver9.execute_script(\"window.scrollBy(0, 600)\")\n",
    "driver9.execute_script(\"window.scrollBy(0, 600)\")\n",
    "driver9.execute_script(\"window.scrollBy(0, 600)\")\n",
    "driver9.execute_script(\"window.scrollBy(0, 600)\")\n",
    "driver9.execute_script(\"window.scrollBy(0, 600)\")\n",
    "driver9.execute_script(\"window.scrollBy(0, 600)\")\n",
    "driver9.execute_script(\"window.scrollBy(0, 600)\")\n",
    "driver9.execute_script(\"window.scrollBy(0, 600)\")\n",
    "driver9.execute_script(\"window.scrollBy(0, 600)\")\n",
    "driver9.execute_script(\"window.scrollBy(0, 600)\")\n",
    "driver9.execute_script(\"window.scrollBy(0, 600)\")\n",
    "driver9.execute_script(\"window.scrollBy(0, 600)\")\n",
    "driver9.execute_script(\"window.scrollBy(0, 600)\")\n",
    "driver9.execute_script(\"window.scrollBy(0, 600)\")\n",
    "driver9.execute_script(\"window.scrollBy(0, 600)\")\n",
    "driver9.execute_script(\"window.scrollBy(0, 600)\")\n",
    "driver9.execute_script(\"window.scrollBy(0, 600)\")\n",
    "driver9.execute_script(\"window.scrollBy(0, 600)\")\n",
    "driver9.execute_script(\"window.scrollBy(0, 600)\")\n",
    "driver9.execute_script(\"window.scrollBy(0, 600)\")\n",
    "driver9.execute_script(\"window.scrollBy(0, 600)\")\n",
    "driver9.execute_script(\"window.scrollBy(0, 600)\")\n",
    "driver9.execute_script(\"window.scrollBy(0, 600)\")\n",
    "driver9.execute_script(\"window.scrollBy(0, 600)\")\n",
    "driver9.execute_script(\"window.scrollBy(0, 600)\")\n",
    "driver9.execute_script(\"window.scrollBy(0, 600)\")\n",
    "driver9.execute_script(\"window.scrollBy(0, 600)\")\n",
    "driver9.execute_script(\"window.scrollBy(0, 600)\")\n",
    "driver9.execute_script(\"window.scrollBy(0, 600)\")\n",
    "driver9.execute_script(\"window.scrollBy(0, 600)\")\n",
    "driver9.execute_script(\"window.scrollBy(0, 600)\")\n",
    "driver9.execute_script(\"window.scrollBy(0, 600)\")\n",
    "driver9.execute_script(\"window.scrollBy(0, 600)\")\n",
    "driver9.execute_script(\"window.scrollBy(0, 600)\")\n",
    "driver9.execute_script(\"window.scrollBy(0, 600)\")\n",
    "driver9.execute_script(\"window.scrollBy(0, 600)\")\n",
    "driver9.execute_script(\"window.scrollBy(0, 600)\")\n",
    "driver9.execute_script(\"window.scrollBy(0, 600)\")\n",
    "driver9.execute_script(\"window.scrollBy(0, 600)\")\n",
    "driver9.execute_script(\"window.scrollBy(0, 600)\")\n",
    "driver9.execute_script(\"window.scrollBy(0, 600)\")\n",
    "driver9.execute_script(\"window.scrollBy(0, 600)\")\n",
    "driver9.execute_script(\"window.scrollBy(0, 600)\")\n",
    "driver9.execute_script(\"window.scrollBy(0, 600)\")\n",
    "driver9.execute_script(\"window.scrollBy(0, 600)\")\n",
    "driver9.execute_script(\"window.scrollBy(0, 600)\")\n",
    "driver9.execute_script(\"window.scrollBy(0, 600)\")\n",
    "driver9.execute_script(\"window.scrollBy(0, 600)\")\n",
    "driver9.execute_script(\"window.scrollBy(0, 600)\")\n",
    "driver9.execute_script(\"window.scrollBy(0, 600)\")\n",
    "driver9.execute_script(\"window.scrollBy(0, 600)\")\n",
    "driver9.execute_script(\"window.scrollBy(0, 600)\")\n",
    "driver9.execute_script(\"window.scrollBy(0, 600)\")\n",
    "driver9.execute_script(\"window.scrollBy(0, 600)\")\n",
    "driver9.execute_script(\"window.scrollBy(0, 600)\")\n",
    "driver9.execute_script(\"window.scrollBy(0, 600)\")\n",
    "driver9.execute_script(\"window.scrollBy(0, 600)\")\n",
    "driver9.execute_script(\"window.scrollBy(0, 600)\")\n",
    "driver9.execute_script(\"window.scrollBy(0, 600)\")\n",
    "driver9.execute_script(\"window.scrollBy(0, 600)\")\n",
    "driver9.execute_script(\"window.scrollBy(0, 600)\")\n",
    "driver9.execute_script(\"window.scrollBy(0, 600)\")\n",
    "driver9.execute_script(\"window.scrollBy(0, 600)\")\n",
    "driver9.execute_script(\"window.scrollBy(0, 600)\")\n",
    "driver9.execute_script(\"window.scrollBy(0, 600)\")\n",
    "driver9.execute_script(\"window.scrollBy(0, 600)\")\n",
    "driver9.execute_script(\"window.scrollBy(0, 600)\")\n",
    "driver9.execute_script(\"window.scrollBy(0, 600)\")\n",
    "driver9.execute_script(\"window.scrollBy(0, 600)\")\n",
    "driver9.execute_script(\"window.scrollBy(0, 600)\")\n",
    "driver9.execute_script(\"window.scrollBy(0, 600)\")\n",
    "driver9.execute_script(\"window.scrollBy(0, 600)\")\n",
    "driver9.execute_script(\"window.scrollBy(0, 600)\")\n",
    "driver9.execute_script(\"window.scrollBy(0, 600)\")\n",
    "driver9.execute_script(\"window.scrollBy(0, 600)\")\n",
    "driver9.execute_script(\"window.scrollBy(0, 600)\")\n",
    "driver9.execute_script(\"window.scrollBy(0, 600)\")\n",
    "driver9.execute_script(\"window.scrollBy(0, 600)\")\n",
    "driver9.execute_script(\"window.scrollBy(0, 600)\")\n",
    "driver9.execute_script(\"window.scrollBy(0, 600)\")\n",
    "driver9.execute_script(\"window.scrollBy(0, 600)\")\n",
    "driver9.execute_script(\"window.scrollBy(0, 600)\")\n",
    "driver9.execute_script(\"window.scrollBy(0, 600)\")\n",
    "driver9.execute_script(\"window.scrollBy(0, 600)\")\n",
    "driver9.execute_script(\"window.scrollBy(0, 600)\")\n",
    "driver9.execute_script(\"window.scrollBy(0, 600)\")\n",
    "driver9.execute_script(\"window.scrollBy(0, 600)\")\n",
    "driver9.execute_script(\"window.scrollBy(0, 600)\")\n",
    "driver9.execute_script(\"window.scrollBy(0, 600)\")\n",
    "driver9.execute_script(\"window.scrollBy(0, 600)\")\n",
    "driver9.execute_script(\"window.scrollBy(0, 600)\")\n",
    "driver9.execute_script(\"window.scrollBy(0, 600)\")\n",
    "driver9.execute_script(\"window.scrollBy(0, 600)\")\n",
    "driver9.execute_script(\"window.scrollBy(0, 600)\")\n",
    "driver9.execute_script(\"window.scrollBy(0, 600)\")\n",
    "driver9.execute_script(\"window.scrollBy(0, 600)\")\n",
    "driver9.execute_script(\"window.scrollBy(0, 600)\")\n",
    "driver9.execute_script(\"window.scrollBy(0, 600)\")\n",
    "driver9.execute_script(\"window.scrollBy(0, 600)\")\n",
    "driver9.execute_script(\"window.scrollBy(0, 600)\")\n",
    "driver9.execute_script(\"window.scrollBy(0, 600)\")\n",
    "driver9.execute_script(\"window.scrollBy(0, 600)\")\n",
    "driver9.execute_script(\"window.scrollBy(0, 600)\")\n",
    "driver9.execute_script(\"window.scrollBy(0, 600)\")\n",
    "driver9.execute_script(\"window.scrollBy(0, 600)\")\n",
    "driver9.execute_script(\"window.scrollBy(0, 600)\")\n",
    "driver9.execute_script(\"window.scrollBy(0, 600)\")\n",
    "driver9.execute_script(\"window.scrollBy(0, 600)\")\n",
    "driver9.execute_script(\"window.scrollBy(0, 600)\")\n",
    "driver9.execute_script(\"window.scrollBy(0, 600)\")\n",
    "driver9.execute_script(\"window.scrollBy(0, 600)\")\n",
    "driver9.execute_script(\"window.scrollBy(0, 600)\")\n",
    "driver9.execute_script(\"window.scrollBy(0, 600)\")\n",
    "driver9.execute_script(\"window.scrollBy(0, 100)\")\n",
    "driver9.execute_script(\"window.scrollBy(0, 200)\")\n",
    "driver9.execute_script(\"window.scrollBy(0, 300)\")\n",
    "driver9.execute_script(\"window.scrollBy(0, 400)\")\n",
    "driver9.execute_script(\"window.scrollBy(0, 500)\")\n",
    "driver9.execute_script(\"window.scrollBy(0, 600)\")\n",
    "driver9.execute_script(\"window.scrollBy(0, 600)\")\n",
    "driver9.execute_script(\"window.scrollBy(0, 600)\")\n",
    "driver9.execute_script(\"window.scrollBy(0, 600)\")\n",
    "driver9.execute_script(\"window.scrollBy(0, 600)\")\n",
    "driver9.execute_script(\"window.scrollBy(0, 600)\")\n",
    "driver9.execute_script(\"window.scrollBy(0, 600)\")\n",
    "driver9.execute_script(\"window.scrollBy(0, 600)\")\n",
    "driver9.execute_script(\"window.scrollBy(0, 600)\")\n",
    "driver9.execute_script(\"window.scrollBy(0, 600)\")\n",
    "driver9.execute_script(\"window.scrollBy(0, 600)\")\n",
    "driver9.execute_script(\"window.scrollBy(0, 600)\")\n",
    "driver9.execute_script(\"window.scrollBy(0, 600)\")\n",
    "driver9.execute_script(\"window.scrollBy(0, 600)\")\n",
    "driver9.execute_script(\"window.scrollBy(0, 600)\")\n",
    "driver9.execute_script(\"window.scrollBy(0, 600)\")\n",
    "driver9.execute_script(\"window.scrollBy(0, 600)\")\n",
    "driver9.execute_script(\"window.scrollBy(0, 600)\")\n",
    "driver9.execute_script(\"window.scrollBy(0, 600)\")\n",
    "driver9.execute_script(\"window.scrollBy(0, 600)\")\n",
    "driver9.execute_script(\"window.scrollBy(0, 600)\")\n",
    "driver9.execute_script(\"window.scrollBy(0, 600)\")\n",
    "driver9.execute_script(\"window.scrollBy(0, 600)\")\n",
    "driver9.execute_script(\"window.scrollBy(0, 600)\")\n",
    "driver9.execute_script(\"window.scrollBy(0, 600)\")\n",
    "driver9.execute_script(\"window.scrollBy(0, 600)\")\n",
    "driver9.execute_script(\"window.scrollBy(0, 600)\")\n",
    "driver9.execute_script(\"window.scrollBy(0, 600)\")\n",
    "driver9.execute_script(\"window.scrollBy(0, 600)\")\n",
    "driver9.execute_script(\"window.scrollBy(0, 600)\")\n",
    "driver9.execute_script(\"window.scrollBy(0, 600)\")\n",
    "driver9.execute_script(\"window.scrollBy(0, 600)\")\n",
    "driver9.execute_script(\"window.scrollBy(0, 600)\")\n",
    "driver9.execute_script(\"window.scrollBy(0, 600)\")\n",
    "driver9.execute_script(\"window.scrollBy(0, 600)\")\n",
    "driver9.execute_script(\"window.scrollBy(0, 600)\")\n",
    "driver9.execute_script(\"window.scrollBy(0, 600)\")\n",
    "driver9.execute_script(\"window.scrollBy(0, 600)\")\n",
    "driver9.execute_script(\"window.scrollBy(0, 600)\")\n",
    "driver9.execute_script(\"window.scrollBy(0, 600)\")\n",
    "driver9.execute_script(\"window.scrollBy(0, 600)\")\n",
    "driver9.execute_script(\"window.scrollBy(0, 600)\")\n",
    "driver9.execute_script(\"window.scrollBy(0, 600)\")\n",
    "driver9.execute_script(\"window.scrollBy(0, 600)\")\n",
    "driver9.execute_script(\"window.scrollBy(0, 600)\")\n",
    "driver9.execute_script(\"window.scrollBy(0, 600)\")\n",
    "driver9.execute_script(\"window.scrollBy(0, 600)\")\n",
    "driver9.execute_script(\"window.scrollBy(0, 600)\")"
   ]
  },
  {
   "cell_type": "code",
   "execution_count": null,
   "id": "52ae9447",
   "metadata": {},
   "outputs": [],
   "source": [
    "# To get the comments \n",
    "\n",
    "comments = driver9.find_elements_by_class_name('style-scope ytd-comment-renderer')"
   ]
  },
  {
   "cell_type": "code",
   "execution_count": null,
   "id": "676811b1",
   "metadata": {},
   "outputs": [],
   "source": [
    "AllcommentsandReplies = []\n",
    "\n",
    "for i in comments:\n",
    "    AllcommentsandReplies.append(i.text.replace(\"\\n\", \" \"))\n",
    "    \n",
    "len(AllcommentsandReplies)"
   ]
  },
  {
   "cell_type": "code",
   "execution_count": null,
   "id": "f3835f1c",
   "metadata": {},
   "outputs": [],
   "source": [
    "# To get the comment upvote\n",
    "\n",
    "commentuovote = driver9.find_elements_by_xpath('//*[@id=\"vote-count-middle\"]')"
   ]
  },
  {
   "cell_type": "code",
   "execution_count": null,
   "id": "d4d75193",
   "metadata": {},
   "outputs": [],
   "source": [
    "Allcommentupvotes = []\n",
    "\n",
    "for i in commentuovote:\n",
    "    Allcommentupvotes.append(i.text.replace(\"\\n\", \" \"))\n",
    "    \n",
    "len(Allcommentupvotes)"
   ]
  },
  {
   "cell_type": "code",
   "execution_count": null,
   "id": "212f2c65",
   "metadata": {},
   "outputs": [],
   "source": [
    "# To get the Posted Time\n",
    "\n",
    "PostedTime = driver9.find_elements_by_xpath('//*[@id=\"header-author\"]/yt-formatted-string/a')"
   ]
  },
  {
   "cell_type": "code",
   "execution_count": null,
   "id": "6b8862f5",
   "metadata": {},
   "outputs": [],
   "source": [
    "AllPostedTime = []\n",
    "\n",
    "for i in PostedTime:\n",
    "    AllPostedTime.append(i.text.replace(\"\\n\", \" \"))\n",
    "    \n",
    "len(AllPostedTime)"
   ]
  },
  {
   "cell_type": "code",
   "execution_count": null,
   "id": "f905b2b5",
   "metadata": {},
   "outputs": [],
   "source": [
    "pd.set_option(\"display.max_rows\", 400)\n",
    "\n",
    "Youtube=pd.DataFrame({})\n",
    "Youtube['Comments']=AllcommentsandReplies\n",
    "Youtube['Comment Upvotes']=Allcommentupvotes\n",
    "Youtube['Posted Time']=AllPostedTime\n",
    "Youtube"
   ]
  },
  {
   "cell_type": "code",
   "execution_count": 157,
   "id": "d8aa26df",
   "metadata": {},
   "outputs": [],
   "source": [
    "# (10) Write a python program to scrape a data for all available Hostels from https://www.hostelworld.com/ in\n",
    "# “London” location. You have to scrape hostel name, distance from city centre, ratings, total reviews,\n",
    "# overall reviews, privates from price, dorms from price, facilities and property description"
   ]
  },
  {
   "cell_type": "code",
   "execution_count": 158,
   "id": "5c13e188",
   "metadata": {},
   "outputs": [],
   "source": [
    "import selenium\n",
    "from selenium import webdriver\n",
    "import pandas as pd\n",
    "import warnings\n",
    "warnings.filterwarnings(\"ignore\")\n",
    "import time"
   ]
  },
  {
   "cell_type": "code",
   "execution_count": 159,
   "id": "374eff6d",
   "metadata": {},
   "outputs": [],
   "source": [
    "driver10 = webdriver.Chrome(r'C:\\Users\\Rick\\OneDrive\\Desktop\\Softwares\\chromedriver.exe')\n",
    "time.sleep(15)"
   ]
  },
  {
   "cell_type": "code",
   "execution_count": 160,
   "id": "76a27f26",
   "metadata": {},
   "outputs": [],
   "source": [
    "url10 = 'https://www.hostelworld.com/find/keywordsuggestions?search_keywords=&date_from=2022-03-13&date_to=2022-03-16&number_of_guests=1'\n",
    "time.sleep(15)"
   ]
  },
  {
   "cell_type": "code",
   "execution_count": 161,
   "id": "9ad2d389",
   "metadata": {},
   "outputs": [],
   "source": [
    "driver10.get(url10)\n",
    "time.sleep(5)"
   ]
  },
  {
   "cell_type": "code",
   "execution_count": 162,
   "id": "8d66bf2a",
   "metadata": {},
   "outputs": [],
   "source": [
    "Findlocation = driver10.find_element_by_xpath('//*[@id=\"home-search-keywords\"]')\n",
    "time.sleep(15)"
   ]
  },
  {
   "cell_type": "code",
   "execution_count": 163,
   "id": "2a2cd740",
   "metadata": {},
   "outputs": [],
   "source": [
    "Findlocation.send_keys(\"Rome\")\n",
    "time.sleep(5)"
   ]
  },
  {
   "cell_type": "code",
   "execution_count": 164,
   "id": "c3cbebbc",
   "metadata": {},
   "outputs": [],
   "source": [
    "SearchButton = driver10.find_element_by_xpath('//*[@id=\"top-search\"]/div/div[2]/button').click()\n",
    "time.sleep(15)"
   ]
  },
  {
   "cell_type": "code",
   "execution_count": 165,
   "id": "d5dd1e0a",
   "metadata": {},
   "outputs": [],
   "source": [
    "# To find all hostel Names \n",
    "Hostel = driver10.find_elements_by_xpath('//h2[@class=\"title title-6\"]')"
   ]
  },
  {
   "cell_type": "code",
   "execution_count": 166,
   "id": "d6cc83ed",
   "metadata": {},
   "outputs": [],
   "source": [
    "AllHostels = []\n",
    "\n",
    "for i in Hostel:\n",
    "    AllHostels.append(i.text)"
   ]
  },
  {
   "cell_type": "code",
   "execution_count": 167,
   "id": "36380024",
   "metadata": {},
   "outputs": [
    {
     "data": {
      "text/plain": [
       "['YellowSquare Rome',\n",
       " 'Alessandro Palace & Bar',\n",
       " 'Palladini Hostel Rome',\n",
       " 'Funny Palace Rome',\n",
       " 'Ostello Bello Roma Colosseo',\n",
       " 'The RomeHello Hostel',\n",
       " 'The Beehive',\n",
       " 'Generator Rome',\n",
       " 'Freedom Traveller',\n",
       " 'New Generation Hostel Rome Center',\n",
       " 'Free Hostels Roma',\n",
       " 'Mosaic Hostel',\n",
       " 'Hostel Trastevere',\n",
       " 'Hostel Lodi',\n",
       " 'Hostel Beautiful 2',\n",
       " 'Hotel Texas',\n",
       " 'Român Holidays',\n",
       " 'Zidan Guest House',\n",
       " 'Aurora Bed and Breakfast',\n",
       " 'Hostel Mosaic Central',\n",
       " 'Rome Experience',\n",
       " \"Bar Dell'Artista Accommodation\",\n",
       " 'MEININGER Roma Termini',\n",
       " 'San Lorenzo',\n",
       " 'Residenza Laterano',\n",
       " 'Sandy Hostel',\n",
       " 'Hostel Beauty',\n",
       " 'Roma Gondola Srls',\n",
       " 'Walter Rooms',\n",
       " 'Roma Scout Center']"
      ]
     },
     "execution_count": 167,
     "metadata": {},
     "output_type": "execute_result"
    }
   ],
   "source": [
    "AllHostels"
   ]
  },
  {
   "cell_type": "code",
   "execution_count": 168,
   "id": "00592461",
   "metadata": {},
   "outputs": [],
   "source": [
    "# To find all Distance \n",
    "Distance = driver10.find_elements_by_xpath('//span[@class=\"description\"]')"
   ]
  },
  {
   "cell_type": "code",
   "execution_count": 169,
   "id": "1958848c",
   "metadata": {},
   "outputs": [],
   "source": [
    "AllDistance = []\n",
    "\n",
    "for i in Distance:\n",
    "    AllDistance.append(i.text)"
   ]
  },
  {
   "cell_type": "code",
   "execution_count": 170,
   "id": "e8fc0024",
   "metadata": {},
   "outputs": [
    {
     "data": {
      "text/plain": [
       "30"
      ]
     },
     "execution_count": 170,
     "metadata": {},
     "output_type": "execute_result"
    }
   ],
   "source": [
    "len(AllDistance)"
   ]
  },
  {
   "cell_type": "code",
   "execution_count": 171,
   "id": "a43a6d72",
   "metadata": {},
   "outputs": [],
   "source": [
    "# To find all ratings\n",
    "\n",
    "Ratings = driver10.find_elements_by_xpath('//div[@class=\"score orange big\"]')\n",
    "Ratings2 = driver10.find_elements_by_xpath('//div[@class=\"score gray big\"]')"
   ]
  },
  {
   "cell_type": "code",
   "execution_count": null,
   "id": "40fec58c",
   "metadata": {},
   "outputs": [],
   "source": []
  },
  {
   "cell_type": "code",
   "execution_count": 172,
   "id": "9d0b8dc6",
   "metadata": {},
   "outputs": [
    {
     "data": {
      "text/plain": [
       "['8.9',\n",
       " '8.3',\n",
       " '8.3',\n",
       " '8.1',\n",
       " '9.7',\n",
       " '9.7',\n",
       " '9.3',\n",
       " '8.4',\n",
       " '7.8',\n",
       " '8.4',\n",
       " '9.3',\n",
       " '8.0',\n",
       " '7.8',\n",
       " '8.4',\n",
       " '6.7',\n",
       " '8.8',\n",
       " '8.5',\n",
       " '7.7',\n",
       " '7.9',\n",
       " '8.9',\n",
       " '9.8',\n",
       " '9.4',\n",
       " '6.2',\n",
       " '9.0',\n",
       " '8.8',\n",
       " '6.2',\n",
       " '8.9']"
      ]
     },
     "execution_count": 172,
     "metadata": {},
     "output_type": "execute_result"
    }
   ],
   "source": [
    "AllRatings"
   ]
  },
  {
   "cell_type": "code",
   "execution_count": 196,
   "id": "8fe77768",
   "metadata": {},
   "outputs": [],
   "source": [
    "# To fina all total reviews \n",
    "\n",
    "Reviews = driver10.find_elements_by_xpath('//div[@class=\"reviews\"]')"
   ]
  },
  {
   "cell_type": "code",
   "execution_count": 197,
   "id": "fdd2eb8a",
   "metadata": {},
   "outputs": [],
   "source": [
    "AllReviews = []\n",
    "\n",
    "for i in Reviews:\n",
    "    AllReviews.append(i.text)"
   ]
  },
  {
   "cell_type": "code",
   "execution_count": 213,
   "id": "c317ade5",
   "metadata": {},
   "outputs": [],
   "source": [
    "# To find all Privates\n",
    "\n",
    "Privates = driver10.find_elements_by_xpath('//div[@class=\"price title-5\"]')"
   ]
  },
  {
   "cell_type": "code",
   "execution_count": 214,
   "id": "e87f2ebd",
   "metadata": {},
   "outputs": [],
   "source": [
    "AllPrivates = []\n",
    "\n",
    "for i in Privates:\n",
    "    AllPrivates.append(i.text.split(','))"
   ]
  },
  {
   "cell_type": "code",
   "execution_count": 217,
   "id": "5a08b6a3",
   "metadata": {},
   "outputs": [
    {
     "data": {
      "text/plain": [
       "[['Rs8576.07 Rs7718'],\n",
       " ['Rs2059'],\n",
       " ['Rs1769.74 Rs1487'],\n",
       " ['Rs1418.49 Rs1348'],\n",
       " ['Rs3986.1 Rs3707'],\n",
       " ['Rs2013.81 Rs1873'],\n",
       " ['Rs4399.6 Rs3960'],\n",
       " ['Rs8754'],\n",
       " ['Rs3449'],\n",
       " ['Rs8457.97 Rs7612'],\n",
       " ['Rs2537.77 Rs2284'],\n",
       " ['Rs4153'],\n",
       " ['Rs1238'],\n",
       " ['Rs5727'],\n",
       " ['Rs1586'],\n",
       " ['Rs6796.58 Rs6117'],\n",
       " ['Rs2416.57 Rs2175'],\n",
       " ['Rs4531.05 Rs4305'],\n",
       " ['Rs1622.23 Rs1541'],\n",
       " ['Rs13985'],\n",
       " ['Rs1762'],\n",
       " ['Rs4755'],\n",
       " ['Rs965'],\n",
       " ['Rs3902'],\n",
       " ['Rs1405'],\n",
       " ['Rs4475'],\n",
       " ['Rs4475'],\n",
       " ['Rs1557'],\n",
       " ['Rs1208'],\n",
       " ['Rs4613.2 Rs4383'],\n",
       " ['Rs4889'],\n",
       " ['Rs908'],\n",
       " ['Rs6293'],\n",
       " ['Rs2937'],\n",
       " ['Rs6797'],\n",
       " ['Rs29983'],\n",
       " ['Rs3595'],\n",
       " ['Rs6293'],\n",
       " ['Rs2937'],\n",
       " ['Rs2643'],\n",
       " ['Rs1358'],\n",
       " ['Rs1259'],\n",
       " ['Rs3041'],\n",
       " ['Rs871'],\n",
       " ['Rs7855'],\n",
       " ['Rs1897']]"
      ]
     },
     "execution_count": 217,
     "metadata": {},
     "output_type": "execute_result"
    }
   ],
   "source": [
    "AllPrivates"
   ]
  }
 ],
 "metadata": {
  "kernelspec": {
   "display_name": "Python 3",
   "language": "python",
   "name": "python3"
  },
  "language_info": {
   "codemirror_mode": {
    "name": "ipython",
    "version": 3
   },
   "file_extension": ".py",
   "mimetype": "text/x-python",
   "name": "python",
   "nbconvert_exporter": "python",
   "pygments_lexer": "ipython3",
   "version": "3.8.8"
  }
 },
 "nbformat": 4,
 "nbformat_minor": 5
}
